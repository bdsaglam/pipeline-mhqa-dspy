{
 "cells": [
  {
   "cell_type": "code",
   "execution_count": 2,
   "metadata": {},
   "outputs": [],
   "source": [
    "import random\n",
    "import textwrap\n",
    "import pandas as pd "
   ]
  },
  {
   "cell_type": "code",
   "execution_count": 3,
   "metadata": {},
   "outputs": [
    {
     "name": "stdout",
     "output_type": "stream",
     "text": [
      "7405\n"
     ]
    },
    {
     "data": {
      "text/html": [
       "<div>\n",
       "<style scoped>\n",
       "    .dataframe tbody tr th:only-of-type {\n",
       "        vertical-align: middle;\n",
       "    }\n",
       "\n",
       "    .dataframe tbody tr th {\n",
       "        vertical-align: top;\n",
       "    }\n",
       "\n",
       "    .dataframe thead th {\n",
       "        text-align: right;\n",
       "    }\n",
       "</style>\n",
       "<table border=\"1\" class=\"dataframe\">\n",
       "  <thead>\n",
       "    <tr style=\"text-align: right;\">\n",
       "      <th></th>\n",
       "      <th>id</th>\n",
       "      <th>question</th>\n",
       "      <th>question_decomposition</th>\n",
       "      <th>context</th>\n",
       "      <th>answer</th>\n",
       "      <th>answers</th>\n",
       "      <th>predicted_triples</th>\n",
       "      <th>predicted_answer</th>\n",
       "      <th>score</th>\n",
       "      <th>n_hops</th>\n",
       "      <th>exact_match</th>\n",
       "      <th>f1</th>\n",
       "      <th>fuzzy_match</th>\n",
       "    </tr>\n",
       "  </thead>\n",
       "  <tbody>\n",
       "    <tr>\n",
       "      <th>0</th>\n",
       "      <td>5a8b57f25542995d1e6f1371</td>\n",
       "      <td>Were Scott Derrickson and Ed Wood of the same ...</td>\n",
       "      <td>[{'answer': '', 'id': 0, 'paragraph_support_id...</td>\n",
       "      <td># Scott Derrickson\\nScott Derrickson (born Jul...</td>\n",
       "      <td>yes</td>\n",
       "      <td>[yes]</td>\n",
       "      <td>Scott Derrickson, nationality, American\\nEd Wo...</td>\n",
       "      <td>Yes</td>\n",
       "      <td>1.000000</td>\n",
       "      <td>2</td>\n",
       "      <td>1</td>\n",
       "      <td>1.000000</td>\n",
       "      <td>0</td>\n",
       "    </tr>\n",
       "    <tr>\n",
       "      <th>1</th>\n",
       "      <td>5a8c7595554299585d9e36b6</td>\n",
       "      <td>What government position was held by the woman...</td>\n",
       "      <td>[{'answer': '', 'id': 0, 'paragraph_support_id...</td>\n",
       "      <td># Shirley Temple\\nShirley Temple Black (April ...</td>\n",
       "      <td>Chief of Protocol</td>\n",
       "      <td>[Chief of Protocol]</td>\n",
       "      <td>Shirley Temple, portrayed, Corliss Archer\\nShi...</td>\n",
       "      <td>United States ambassador and Chief of Protocol...</td>\n",
       "      <td>0.461538</td>\n",
       "      <td>3</td>\n",
       "      <td>0</td>\n",
       "      <td>0.461538</td>\n",
       "      <td>0</td>\n",
       "    </tr>\n",
       "    <tr>\n",
       "      <th>2</th>\n",
       "      <td>5a85ea095542994775f606a8</td>\n",
       "      <td>What science fantasy young adult series, told ...</td>\n",
       "      <td>[{'answer': '', 'id': 0, 'paragraph_support_id...</td>\n",
       "      <td># The Hork-Bajir Chronicles\\nThe Hork-Bajir Ch...</td>\n",
       "      <td>Animorphs</td>\n",
       "      <td>[Animorphs]</td>\n",
       "      <td>Animorphs, written by, K. A. Applegate\\nThe Ho...</td>\n",
       "      <td>Animorphs</td>\n",
       "      <td>1.000000</td>\n",
       "      <td>5</td>\n",
       "      <td>1</td>\n",
       "      <td>1.000000</td>\n",
       "      <td>1</td>\n",
       "    </tr>\n",
       "    <tr>\n",
       "      <th>3</th>\n",
       "      <td>5adbf0a255429947ff17385a</td>\n",
       "      <td>Are the Laleli Mosque and Esma Sultan Mansion ...</td>\n",
       "      <td>[{'answer': '', 'id': 0, 'paragraph_support_id...</td>\n",
       "      <td># Laleli Mosque\\nThe Laleli Mosque (Turkish: \"...</td>\n",
       "      <td>no</td>\n",
       "      <td>[no]</td>\n",
       "      <td>Laleli Mosque, located_in, Fatih\\nEsma Sultan ...</td>\n",
       "      <td>No</td>\n",
       "      <td>1.000000</td>\n",
       "      <td>2</td>\n",
       "      <td>1</td>\n",
       "      <td>1.000000</td>\n",
       "      <td>0</td>\n",
       "    </tr>\n",
       "    <tr>\n",
       "      <th>4</th>\n",
       "      <td>5a8e3ea95542995a26add48d</td>\n",
       "      <td>The director of the romantic comedy \"Big Stone...</td>\n",
       "      <td>[{'answer': '', 'id': 0, 'paragraph_support_id...</td>\n",
       "      <td># Adriana Trigiani\\nAdriana Trigiani is an Ita...</td>\n",
       "      <td>Greenwich Village, New York City</td>\n",
       "      <td>[Greenwich Village, New York City]</td>\n",
       "      <td>Adriana Trigiani, based in, Greenwich Village\\...</td>\n",
       "      <td>New York City</td>\n",
       "      <td>0.750000</td>\n",
       "      <td>2</td>\n",
       "      <td>0</td>\n",
       "      <td>0.750000</td>\n",
       "      <td>0</td>\n",
       "    </tr>\n",
       "  </tbody>\n",
       "</table>\n",
       "</div>"
      ],
      "text/plain": [
       "                         id  \\\n",
       "0  5a8b57f25542995d1e6f1371   \n",
       "1  5a8c7595554299585d9e36b6   \n",
       "2  5a85ea095542994775f606a8   \n",
       "3  5adbf0a255429947ff17385a   \n",
       "4  5a8e3ea95542995a26add48d   \n",
       "\n",
       "                                            question  \\\n",
       "0  Were Scott Derrickson and Ed Wood of the same ...   \n",
       "1  What government position was held by the woman...   \n",
       "2  What science fantasy young adult series, told ...   \n",
       "3  Are the Laleli Mosque and Esma Sultan Mansion ...   \n",
       "4  The director of the romantic comedy \"Big Stone...   \n",
       "\n",
       "                              question_decomposition  \\\n",
       "0  [{'answer': '', 'id': 0, 'paragraph_support_id...   \n",
       "1  [{'answer': '', 'id': 0, 'paragraph_support_id...   \n",
       "2  [{'answer': '', 'id': 0, 'paragraph_support_id...   \n",
       "3  [{'answer': '', 'id': 0, 'paragraph_support_id...   \n",
       "4  [{'answer': '', 'id': 0, 'paragraph_support_id...   \n",
       "\n",
       "                                             context  \\\n",
       "0  # Scott Derrickson\\nScott Derrickson (born Jul...   \n",
       "1  # Shirley Temple\\nShirley Temple Black (April ...   \n",
       "2  # The Hork-Bajir Chronicles\\nThe Hork-Bajir Ch...   \n",
       "3  # Laleli Mosque\\nThe Laleli Mosque (Turkish: \"...   \n",
       "4  # Adriana Trigiani\\nAdriana Trigiani is an Ita...   \n",
       "\n",
       "                             answer                             answers  \\\n",
       "0                               yes                               [yes]   \n",
       "1                 Chief of Protocol                 [Chief of Protocol]   \n",
       "2                         Animorphs                         [Animorphs]   \n",
       "3                                no                                [no]   \n",
       "4  Greenwich Village, New York City  [Greenwich Village, New York City]   \n",
       "\n",
       "                                   predicted_triples  \\\n",
       "0  Scott Derrickson, nationality, American\\nEd Wo...   \n",
       "1  Shirley Temple, portrayed, Corliss Archer\\nShi...   \n",
       "2  Animorphs, written by, K. A. Applegate\\nThe Ho...   \n",
       "3  Laleli Mosque, located_in, Fatih\\nEsma Sultan ...   \n",
       "4  Adriana Trigiani, based in, Greenwich Village\\...   \n",
       "\n",
       "                                    predicted_answer     score  n_hops  \\\n",
       "0                                                Yes  1.000000       2   \n",
       "1  United States ambassador and Chief of Protocol...  0.461538       3   \n",
       "2                                          Animorphs  1.000000       5   \n",
       "3                                                 No  1.000000       2   \n",
       "4                                      New York City  0.750000       2   \n",
       "\n",
       "   exact_match        f1  fuzzy_match  \n",
       "0            1  1.000000            0  \n",
       "1            0  0.461538            0  \n",
       "2            1  1.000000            1  \n",
       "3            1  1.000000            0  \n",
       "4            0  0.750000            0  "
      ]
     },
     "execution_count": 3,
     "metadata": {},
     "output_type": "execute_result"
    }
   ],
   "source": [
    "df = pd.read_json('hotpotqa-cte-inspect.jsonl', lines=True)\n",
    "print(len(df))\n",
    "df.head()"
   ]
  },
  {
   "cell_type": "code",
   "execution_count": 7,
   "metadata": {},
   "outputs": [
    {
     "name": "stdout",
     "output_type": "stream",
     "text": [
      "1920 5485 7405\n",
      "0.741\n"
     ]
    }
   ],
   "source": [
    "success_mask = df['f1'] > 0.7\n",
    "fail_df = df[~success_mask]\n",
    "success_df = df[success_mask]\n",
    "print(len(fail_df), len(success_df), len(df))\n",
    "print(\"{:.3f}\".format(len(success_df)/len(df)))"
   ]
  },
  {
   "cell_type": "code",
   "execution_count": 75,
   "metadata": {},
   "outputs": [
    {
     "data": {
      "text/html": [
       "<div>\n",
       "<style scoped>\n",
       "    .dataframe tbody tr th:only-of-type {\n",
       "        vertical-align: middle;\n",
       "    }\n",
       "\n",
       "    .dataframe tbody tr th {\n",
       "        vertical-align: top;\n",
       "    }\n",
       "\n",
       "    .dataframe thead tr th {\n",
       "        text-align: left;\n",
       "    }\n",
       "\n",
       "    .dataframe thead tr:last-of-type th {\n",
       "        text-align: right;\n",
       "    }\n",
       "</style>\n",
       "<table border=\"1\" class=\"dataframe\">\n",
       "  <thead>\n",
       "    <tr>\n",
       "      <th></th>\n",
       "      <th colspan=\"2\" halign=\"left\">exact_match</th>\n",
       "      <th colspan=\"2\" halign=\"left\">f1</th>\n",
       "    </tr>\n",
       "    <tr>\n",
       "      <th></th>\n",
       "      <th>mean</th>\n",
       "      <th>count</th>\n",
       "      <th>mean</th>\n",
       "      <th>count</th>\n",
       "    </tr>\n",
       "    <tr>\n",
       "      <th>n_hops</th>\n",
       "      <th></th>\n",
       "      <th></th>\n",
       "      <th></th>\n",
       "      <th></th>\n",
       "    </tr>\n",
       "  </thead>\n",
       "  <tbody>\n",
       "    <tr>\n",
       "      <th>2</th>\n",
       "      <td>0.666733</td>\n",
       "      <td>4990</td>\n",
       "      <td>0.815248</td>\n",
       "      <td>4990</td>\n",
       "    </tr>\n",
       "    <tr>\n",
       "      <th>3</th>\n",
       "      <td>0.643179</td>\n",
       "      <td>1774</td>\n",
       "      <td>0.810292</td>\n",
       "      <td>1774</td>\n",
       "    </tr>\n",
       "    <tr>\n",
       "      <th>4</th>\n",
       "      <td>0.698324</td>\n",
       "      <td>537</td>\n",
       "      <td>0.844756</td>\n",
       "      <td>537</td>\n",
       "    </tr>\n",
       "    <tr>\n",
       "      <th>5</th>\n",
       "      <td>0.775000</td>\n",
       "      <td>80</td>\n",
       "      <td>0.885774</td>\n",
       "      <td>80</td>\n",
       "    </tr>\n",
       "    <tr>\n",
       "      <th>6</th>\n",
       "      <td>0.642857</td>\n",
       "      <td>14</td>\n",
       "      <td>0.840476</td>\n",
       "      <td>14</td>\n",
       "    </tr>\n",
       "    <tr>\n",
       "      <th>7</th>\n",
       "      <td>0.444444</td>\n",
       "      <td>9</td>\n",
       "      <td>0.776720</td>\n",
       "      <td>9</td>\n",
       "    </tr>\n",
       "    <tr>\n",
       "      <th>8</th>\n",
       "      <td>1.000000</td>\n",
       "      <td>1</td>\n",
       "      <td>1.000000</td>\n",
       "      <td>1</td>\n",
       "    </tr>\n",
       "  </tbody>\n",
       "</table>\n",
       "</div>"
      ],
      "text/plain": [
       "       exact_match              f1      \n",
       "              mean count      mean count\n",
       "n_hops                                  \n",
       "2         0.666733  4990  0.815248  4990\n",
       "3         0.643179  1774  0.810292  1774\n",
       "4         0.698324   537  0.844756   537\n",
       "5         0.775000    80  0.885774    80\n",
       "6         0.642857    14  0.840476    14\n",
       "7         0.444444     9  0.776720     9\n",
       "8         1.000000     1  1.000000     1"
      ]
     },
     "execution_count": 75,
     "metadata": {},
     "output_type": "execute_result"
    }
   ],
   "source": [
    "df.groupby('n_hops')[['exact_match', 'f1']].agg(['mean', 'count'])"
   ]
  },
  {
   "cell_type": "code",
   "execution_count": 121,
   "metadata": {},
   "outputs": [],
   "source": [
    "def fixedwidth(text):\n",
    "    return \"\\n\".join(textwrap.wrap(text, width=80, replace_whitespace=False))\n",
    "\n",
    "def format_row(row):\n",
    "    output = []\n",
    "    output.append(f\"{row['id']} - {row['n_hops']} hops\")\n",
    "    output.append(\"=\"*80)\n",
    "    output.append(fixedwidth(row['context']))\n",
    "    output.append(\"=\"*80)\n",
    "    output.append(\"Q: \" + row['question'])\n",
    "    output.append(\"Reference Answers: \" + str(row['answers']))\n",
    "    output.append(\"Predicted Answer: \" + row['predicted_answer'])\n",
    "    output.append(\"\")\n",
    "    output.append(\"# Predicted Triples\")\n",
    "    output.append(row['predicted_triples'])\n",
    "    output.append(\"\")\n",
    "    output.append(\"# Scores\")\n",
    "    output.append(\"EM: {:.3f}\".format(row['exact_match']))\n",
    "    output.append(\"F1: {:.3f}\".format(row['f1']))\n",
    "    return \"\\n\".join(output)\n",
    "\n",
    "def present_row(row):\n",
    "    print(format_row(row))"
   ]
  },
  {
   "cell_type": "code",
   "execution_count": 122,
   "metadata": {},
   "outputs": [
    {
     "name": "stdout",
     "output_type": "stream",
     "text": [
      "5a8b57f25542995d1e6f1371 - 2 hops\n",
      "================================================================================\n",
      "# Scott Derrickson\n",
      "Scott Derrickson (born July 16, 1966) is an American\n",
      "director, screenwriter and producer.  He lives in Los Angeles, California.  He\n",
      "is best known for directing horror films such as \"Sinister\", \"The Exorcism of\n",
      "Emily Rose\", and \"Deliver Us From Evil\", as well as the 2016 Marvel Cinematic\n",
      "Universe installment, \"Doctor Strange.\"\n",
      "\n",
      "# Ed Wood\n",
      "Edward Davis Wood Jr.\n",
      "(October 10, 1924 – December 10, 1978) was an American filmmaker, actor, writer,\n",
      "producer, and director.\n",
      "================================================================================\n",
      "Q: Were Scott Derrickson and Ed Wood of the same nationality?\n",
      "Reference Answers: ['yes']\n",
      "Predicted Answer: Yes\n",
      "\n",
      "# Predicted Triples\n",
      "Scott Derrickson, nationality, American\n",
      "Ed Wood, nationality, American\n",
      "\n",
      "# Scores\n",
      "EM: 1.000\n",
      "F1: 1.000\n"
     ]
    }
   ],
   "source": [
    "i = 0\n",
    "row = df.iloc[i]\n",
    "present_row(row)"
   ]
  },
  {
   "cell_type": "code",
   "execution_count": 123,
   "metadata": {},
   "outputs": [
    {
     "name": "stdout",
     "output_type": "stream",
     "text": [
      "5ae6050f55429929b0807a5e - 2 hops\n",
      "================================================================================\n",
      "# Jim Cummings\n",
      "James Jonah Cummings (born November 3, 1952) is an American voice\n",
      "actor and singer, who has appeared in almost 400 roles.  He is known for voicing\n",
      "the title character from \"Darkwing Duck\", Dr. Robotnik from \"Sonic the\n",
      "Hedgehog\", and Pete.  His other characters include Winnie the Pooh, Tigger, and\n",
      "the Tasmanian Devil.  He has performed in numerous Disney and DreamWorks\n",
      "animations including \"Aladdin\", \"The Lion King\", \"Balto\", \"Antz\", \"The Road to\n",
      "El Dorado\", \"Shrek\", and \"The Princess and the Frog\".  He has also provided\n",
      "voice-over work for video games, such as \"Icewind Dale\", \"Fallout\", \"\",\n",
      "\"Baldur's Gate\", \"Mass Effect 2\", \"\", \"\", \"\", and \"Splatterhouse\".\n",
      "\n",
      "# A Rather\n",
      "Blustery Day\n",
      "\"A Rather Blustery Day\" is a whimsical song from the Walt Disney\n",
      "musical film featurette, \"Winnie the Pooh and the Blustery Day\".  It was written\n",
      "by Robert & Richard Sherman and sung by Jim Cummings as \"Pooh\".\n",
      "================================================================================\n",
      "Q: This singer of A Rather Blustery Day also voiced what hedgehog?\n",
      "Reference Answers: ['Sonic']\n",
      "Predicted Answer: Sonic the Hedgehog\n",
      "\n",
      "# Predicted Triples\n",
      "Jim Cummings, voiced, Dr. Robotnik\n",
      "Jim Cummings, voiced, Sonic the Hedgehog\n",
      "Jim Cummings, sang, A Rather Blustery Day\n",
      "\n",
      "# Scores\n",
      "EM: 0.000\n",
      "F1: 0.667\n"
     ]
    }
   ],
   "source": [
    "i = 3\n",
    "row = fail_df.iloc[i]\n",
    "present_row(row)"
   ]
  },
  {
   "cell_type": "code",
   "execution_count": 124,
   "metadata": {},
   "outputs": [],
   "source": [
    "inspect_df = fail_df.copy().sort_values('f1')"
   ]
  },
  {
   "cell_type": "code",
   "execution_count": 125,
   "metadata": {},
   "outputs": [
    {
     "data": {
      "application/vnd.jupyter.widget-view+json": {
       "model_id": "e6bdbb26dff9422295f7851a74c39a45",
       "version_major": 2,
       "version_minor": 0
      },
      "text/plain": [
       "HBox(children=(Button(description='Previous', style=ButtonStyle()), IntText(value=0, description='Index:'), Bu…"
      ]
     },
     "metadata": {},
     "output_type": "display_data"
    },
    {
     "data": {
      "application/vnd.jupyter.widget-view+json": {
       "model_id": "677ec6caf7eb47ba9425fb7b65a8dae0",
       "version_major": 2,
       "version_minor": 0
      },
      "text/plain": [
       "Output()"
      ]
     },
     "metadata": {},
     "output_type": "display_data"
    }
   ],
   "source": [
    "from ipywidgets import widgets, HBox\n",
    "\n",
    "def create_browse_app(df):\n",
    "    def browse_failed(i=0):\n",
    "        row = df.iloc[i]\n",
    "        present_row(row)\n",
    "\n",
    "    index = widgets.IntText(value=0, description='Index:')\n",
    "    left_button = widgets.Button(description='Previous')\n",
    "    right_button = widgets.Button(description='Next')\n",
    "\n",
    "    def on_left_button_clicked(b):\n",
    "        if index.value > 0:\n",
    "            index.value -= 1\n",
    "\n",
    "    def on_right_button_clicked(b):\n",
    "        if index.value < len(df) - 1:\n",
    "            index.value += 1\n",
    "\n",
    "    left_button.on_click(on_left_button_clicked)\n",
    "    right_button.on_click(on_right_button_clicked)\n",
    "\n",
    "    ui = HBox([left_button, index, right_button])\n",
    "    out = widgets.interactive_output(browse_failed, {'i': index})\n",
    "\n",
    "    display(ui, out)\n",
    "\n",
    "# Usage\n",
    "create_browse_app(inspect_df)"
   ]
  },
  {
   "cell_type": "code",
   "execution_count": 127,
   "metadata": {},
   "outputs": [
    {
     "data": {
      "text/plain": [
       "count    7405.000000\n",
       "mean        2.627414\n",
       "std         0.652369\n",
       "min         1.000000\n",
       "25%         2.000000\n",
       "50%         3.000000\n",
       "75%         3.000000\n",
       "max        11.000000\n",
       "Name: n_triplets, dtype: float64"
      ]
     },
     "execution_count": 127,
     "metadata": {},
     "output_type": "execute_result"
    }
   ],
   "source": [
    "df['triplets'] = df['predicted_triples'].map(str.splitlines)\n",
    "df['n_triplets'] = df['triplets'].map(len)\n",
    "df['n_triplets'].describe()"
   ]
  },
  {
   "cell_type": "code",
   "execution_count": 128,
   "metadata": {},
   "outputs": [
    {
     "data": {
      "text/html": [
       "<div>\n",
       "<style scoped>\n",
       "    .dataframe tbody tr th:only-of-type {\n",
       "        vertical-align: middle;\n",
       "    }\n",
       "\n",
       "    .dataframe tbody tr th {\n",
       "        vertical-align: top;\n",
       "    }\n",
       "\n",
       "    .dataframe thead th {\n",
       "        text-align: right;\n",
       "    }\n",
       "</style>\n",
       "<table border=\"1\" class=\"dataframe\">\n",
       "  <thead>\n",
       "    <tr style=\"text-align: right;\">\n",
       "      <th></th>\n",
       "      <th>score</th>\n",
       "      <th>n_hops</th>\n",
       "      <th>exact_match</th>\n",
       "      <th>f1</th>\n",
       "      <th>fuzzy_match</th>\n",
       "      <th>n_triplets</th>\n",
       "    </tr>\n",
       "  </thead>\n",
       "  <tbody>\n",
       "    <tr>\n",
       "      <th>count</th>\n",
       "      <td>1240.000000</td>\n",
       "      <td>1240.000000</td>\n",
       "      <td>1240.000000</td>\n",
       "      <td>1240.000000</td>\n",
       "      <td>1240.000000</td>\n",
       "      <td>1240.000000</td>\n",
       "    </tr>\n",
       "    <tr>\n",
       "      <th>mean</th>\n",
       "      <td>0.838866</td>\n",
       "      <td>3.584677</td>\n",
       "      <td>0.687097</td>\n",
       "      <td>0.838866</td>\n",
       "      <td>0.766129</td>\n",
       "      <td>2.330645</td>\n",
       "    </tr>\n",
       "    <tr>\n",
       "      <th>std</th>\n",
       "      <td>0.295809</td>\n",
       "      <td>0.751167</td>\n",
       "      <td>0.463862</td>\n",
       "      <td>0.295809</td>\n",
       "      <td>0.423462</td>\n",
       "      <td>0.546790</td>\n",
       "    </tr>\n",
       "    <tr>\n",
       "      <th>min</th>\n",
       "      <td>0.000000</td>\n",
       "      <td>2.000000</td>\n",
       "      <td>0.000000</td>\n",
       "      <td>0.000000</td>\n",
       "      <td>0.000000</td>\n",
       "      <td>1.000000</td>\n",
       "    </tr>\n",
       "    <tr>\n",
       "      <th>25%</th>\n",
       "      <td>0.800000</td>\n",
       "      <td>3.000000</td>\n",
       "      <td>0.000000</td>\n",
       "      <td>0.800000</td>\n",
       "      <td>1.000000</td>\n",
       "      <td>2.000000</td>\n",
       "    </tr>\n",
       "    <tr>\n",
       "      <th>50%</th>\n",
       "      <td>1.000000</td>\n",
       "      <td>3.000000</td>\n",
       "      <td>1.000000</td>\n",
       "      <td>1.000000</td>\n",
       "      <td>1.000000</td>\n",
       "      <td>2.000000</td>\n",
       "    </tr>\n",
       "    <tr>\n",
       "      <th>75%</th>\n",
       "      <td>1.000000</td>\n",
       "      <td>4.000000</td>\n",
       "      <td>1.000000</td>\n",
       "      <td>1.000000</td>\n",
       "      <td>1.000000</td>\n",
       "      <td>3.000000</td>\n",
       "    </tr>\n",
       "    <tr>\n",
       "      <th>max</th>\n",
       "      <td>1.000000</td>\n",
       "      <td>8.000000</td>\n",
       "      <td>1.000000</td>\n",
       "      <td>1.000000</td>\n",
       "      <td>1.000000</td>\n",
       "      <td>5.000000</td>\n",
       "    </tr>\n",
       "  </tbody>\n",
       "</table>\n",
       "</div>"
      ],
      "text/plain": [
       "             score       n_hops  exact_match           f1  fuzzy_match  \\\n",
       "count  1240.000000  1240.000000  1240.000000  1240.000000  1240.000000   \n",
       "mean      0.838866     3.584677     0.687097     0.838866     0.766129   \n",
       "std       0.295809     0.751167     0.463862     0.295809     0.423462   \n",
       "min       0.000000     2.000000     0.000000     0.000000     0.000000   \n",
       "25%       0.800000     3.000000     0.000000     0.800000     1.000000   \n",
       "50%       1.000000     3.000000     1.000000     1.000000     1.000000   \n",
       "75%       1.000000     4.000000     1.000000     1.000000     1.000000   \n",
       "max       1.000000     8.000000     1.000000     1.000000     1.000000   \n",
       "\n",
       "        n_triplets  \n",
       "count  1240.000000  \n",
       "mean      2.330645  \n",
       "std       0.546790  \n",
       "min       1.000000  \n",
       "25%       2.000000  \n",
       "50%       2.000000  \n",
       "75%       3.000000  \n",
       "max       5.000000  "
      ]
     },
     "execution_count": 128,
     "metadata": {},
     "output_type": "execute_result"
    }
   ],
   "source": [
    "poor_triplets_mask = df['n_triplets'] < df['n_hops']\n",
    "df[poor_triplets_mask].describe()"
   ]
  },
  {
   "cell_type": "code",
   "execution_count": 129,
   "metadata": {},
   "outputs": [
    {
     "data": {
      "text/plain": [
       "957"
      ]
     },
     "execution_count": 129,
     "metadata": {},
     "output_type": "execute_result"
    }
   ],
   "source": [
    "surprise_success_df = df[poor_triplets_mask&success_mask]\n",
    "len(surprise_success_df)"
   ]
  },
  {
   "cell_type": "code",
   "execution_count": 131,
   "metadata": {},
   "outputs": [
    {
     "data": {
      "application/vnd.jupyter.widget-view+json": {
       "model_id": "8988cb4b7e7c4d87bed138929f46d44a",
       "version_major": 2,
       "version_minor": 0
      },
      "text/plain": [
       "HBox(children=(Button(description='Previous', style=ButtonStyle()), IntText(value=0, description='Index:'), Bu…"
      ]
     },
     "metadata": {},
     "output_type": "display_data"
    },
    {
     "data": {
      "application/vnd.jupyter.widget-view+json": {
       "model_id": "d7f525a7d2614a7eb4abb2dc1013fe10",
       "version_major": 2,
       "version_minor": 0
      },
      "text/plain": [
       "Output()"
      ]
     },
     "metadata": {},
     "output_type": "display_data"
    }
   ],
   "source": [
    "create_browse_app(surprise_success_df)"
   ]
  },
  {
   "cell_type": "code",
   "execution_count": null,
   "metadata": {},
   "outputs": [],
   "source": []
  }
 ],
 "metadata": {
  "kernelspec": {
   "display_name": "baris",
   "language": "python",
   "name": "python3"
  },
  "language_info": {
   "codemirror_mode": {
    "name": "ipython",
    "version": 3
   },
   "file_extension": ".py",
   "mimetype": "text/x-python",
   "name": "python",
   "nbconvert_exporter": "python",
   "pygments_lexer": "ipython3",
   "version": "3.10.14"
  }
 },
 "nbformat": 4,
 "nbformat_minor": 2
}
