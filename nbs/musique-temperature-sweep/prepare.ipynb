{
 "cells": [
  {
   "cell_type": "code",
   "execution_count": 1,
   "metadata": {},
   "outputs": [],
   "source": [
    "import json\n",
    "from pathlib import Path\n",
    "import pandas as pd "
   ]
  },
  {
   "cell_type": "code",
   "execution_count": 2,
   "metadata": {},
   "outputs": [
    {
     "name": "stdout",
     "output_type": "stream",
     "text": [
      "114 experiments\n"
     ]
    },
    {
     "data": {
      "text/plain": [
       "{'commit': 'workspace',\n",
       " 'id': 'workspace',\n",
       " 'name': None,\n",
       " 'params': {'train': {'dataset': {'path': 'bdsaglam/musique-mini',\n",
       "    'name': 'answerable',\n",
       "    'split': 'train'},\n",
       "   'optimizer': 'noop'},\n",
       "  'evaluation': {'dataset': {'path': 'bdsaglam/musique',\n",
       "    'name': 'answerable',\n",
       "    'split': 'validation'}},\n",
       "  'qa': {'model': 'llama-3-70b-tgi',\n",
       "   'temperature': 0.1,\n",
       "   'technique': 'standard'},\n",
       "  'run': 1},\n",
       " 'metrics': {}}"
      ]
     },
     "execution_count": 2,
     "metadata": {},
     "output_type": "execute_result"
    }
   ],
   "source": [
    "from bellem.dvc.experiment import load_experiments\n",
    "\n",
    "filepaths = list(Path(\"../../tmp/musique-temperature-sweep/\").glob(\"*.json\"))\n",
    "experiments = [exp for fp in filepaths for exp in load_experiments(fp)]\n",
    "print(f\"{len(experiments)} experiments\")\n",
    "experiments[0]"
   ]
  },
  {
   "cell_type": "code",
   "execution_count": 3,
   "metadata": {},
   "outputs": [
    {
     "name": "stdout",
     "output_type": "stream",
     "text": [
      "66 experiments after preprocessing\n"
     ]
    }
   ],
   "source": [
    "df = pd.json_normalize(experiments).drop(columns=[\"commit\"])\n",
    "mask = (\n",
    "    (df[\"params.evaluation.dataset.path\"] == \"bdsaglam/musique\")\n",
    "    & (df[\"params.qa.temperature\"] > 0.0)\n",
    "    & (df[\"params.qa.temperature\"] < 1.0)\n",
    ")\n",
    "\n",
    "df = df.loc[mask].copy()\n",
    "df.drop(columns=[col for col in df.columns if \"fuzzy\" in col], inplace=True)\n",
    "\n",
    "param_cols = [col for col in df.columns if col.startswith(\"params.\")]\n",
    "metric_cols = [col for col in df.columns if col.startswith(\"metrics.\")]\n",
    "df.dropna(subset=param_cols + metric_cols, inplace=True, how=\"any\")\n",
    "df.drop_duplicates(subset=param_cols, inplace=True)\n",
    "\n",
    "print(f\"{len(df)} experiments after preprocessing\")"
   ]
  },
  {
   "cell_type": "code",
   "execution_count": 4,
   "metadata": {},
   "outputs": [
    {
     "data": {
      "text/html": [
       "<div>\n",
       "<style scoped>\n",
       "    .dataframe tbody tr th:only-of-type {\n",
       "        vertical-align: middle;\n",
       "    }\n",
       "\n",
       "    .dataframe tbody tr th {\n",
       "        vertical-align: top;\n",
       "    }\n",
       "\n",
       "    .dataframe thead th {\n",
       "        text-align: right;\n",
       "    }\n",
       "</style>\n",
       "<table border=\"1\" class=\"dataframe\">\n",
       "  <thead>\n",
       "    <tr style=\"text-align: right;\">\n",
       "      <th></th>\n",
       "      <th>params.train.dataset.path</th>\n",
       "      <th>params.train.dataset.name</th>\n",
       "      <th>params.train.dataset.split</th>\n",
       "      <th>params.train.optimizer</th>\n",
       "      <th>params.evaluation.dataset.path</th>\n",
       "      <th>params.evaluation.dataset.name</th>\n",
       "      <th>params.evaluation.dataset.split</th>\n",
       "      <th>params.qa.model</th>\n",
       "      <th>params.qa.temperature</th>\n",
       "      <th>params.qa.technique</th>\n",
       "      <th>params.run</th>\n",
       "    </tr>\n",
       "  </thead>\n",
       "  <tbody>\n",
       "  </tbody>\n",
       "</table>\n",
       "</div>"
      ],
      "text/plain": [
       "Empty DataFrame\n",
       "Columns: [params.train.dataset.path, params.train.dataset.name, params.train.dataset.split, params.train.optimizer, params.evaluation.dataset.path, params.evaluation.dataset.name, params.evaluation.dataset.split, params.qa.model, params.qa.temperature, params.qa.technique, params.run]\n",
       "Index: []"
      ]
     },
     "execution_count": 4,
     "metadata": {},
     "output_type": "execute_result"
    }
   ],
   "source": [
    "def sorted_tuple(x):\n",
    "    return tuple(sorted(x))\n",
    "\n",
    "run_counts = (\n",
    "    df.groupby(param_cols[:-1])[\n",
    "        \"params.run\"\n",
    "    ]\n",
    "    .aggregate(sorted_tuple)\n",
    "    .reset_index()\n",
    ")\n",
    "run_counts.loc[run_counts[\"params.run\"].map(len) != 6]"
   ]
  },
  {
   "cell_type": "code",
   "execution_count": 5,
   "metadata": {},
   "outputs": [
    {
     "name": "stdout",
     "output_type": "stream",
     "text": [
      "- params.train.dataset.path\n",
      "\tbdsaglam/musique-mini\n",
      "- params.train.dataset.name\n",
      "\tanswerable\n",
      "- params.train.dataset.split\n",
      "\ttrain\n",
      "- params.train.optimizer\n",
      "\tbfsrs-medium\n",
      "- params.evaluation.dataset.path\n",
      "\tbdsaglam/musique\n",
      "- params.evaluation.dataset.name\n",
      "\tanswerable\n",
      "- params.evaluation.dataset.split\n",
      "\tvalidation\n",
      "- params.qa.model\n",
      "\tllama-3-70b-tgi\n",
      "- params.qa.temperature\n",
      "\t0.1\n",
      "\t0.5\n",
      "\t0.7\n",
      "- params.qa.technique\n",
      "\tccot\n",
      "\tcot\n",
      "\tcte\n",
      "\tstandard\n",
      "- params.run\n",
      "\t(1, 2, 3, 4, 5, 6)\n"
     ]
    }
   ],
   "source": [
    "for col in run_counts.columns:\n",
    "    print(f\"- {col}\")\n",
    "    for value in run_counts[col].unique():\n",
    "        print(f\"\\t{value}\")"
   ]
  },
  {
   "cell_type": "code",
   "execution_count": 6,
   "metadata": {},
   "outputs": [],
   "source": [
    "df.to_json('results.jsonl', orient='records', lines=True)"
   ]
  },
  {
   "cell_type": "code",
   "execution_count": null,
   "metadata": {},
   "outputs": [],
   "source": []
  }
 ],
 "metadata": {
  "kernelspec": {
   "display_name": "thesis",
   "language": "python",
   "name": "python3"
  },
  "language_info": {
   "codemirror_mode": {
    "name": "ipython",
    "version": 3
   },
   "file_extension": ".py",
   "mimetype": "text/x-python",
   "name": "python",
   "nbconvert_exporter": "python",
   "pygments_lexer": "ipython3",
   "version": "3.10.16"
  }
 },
 "nbformat": 4,
 "nbformat_minor": 2
}
