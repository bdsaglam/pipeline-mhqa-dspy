{
 "cells": [
  {
   "cell_type": "code",
   "execution_count": 13,
   "metadata": {},
   "outputs": [],
   "source": [
    "import itertools\n",
    "import json\n",
    "from pathlib import Path\n",
    "\n",
    "import pandas as pd"
   ]
  },
  {
   "cell_type": "code",
   "execution_count": 14,
   "metadata": {},
   "outputs": [],
   "source": [
    "def product_experiment_configs(params_record):\n",
    "    # Generate all possible combinations of parameters\n",
    "    keys = params_record.keys()\n",
    "    values = params_record.values()\n",
    "    for instance in itertools.product(*values):\n",
    "        yield dict(zip(keys, instance))"
   ]
  },
  {
   "cell_type": "code",
   "execution_count": 15,
   "metadata": {},
   "outputs": [
    {
     "name": "stdout",
     "output_type": "stream",
     "text": [
      "36 experiment configurations\n"
     ]
    }
   ],
   "source": [
    "params_space = {\n",
    "    \"params.train.dataset.path\": [\"bdsaglam/musique-mini\"],\n",
    "    \"params.train.dataset.split\": [\"train\"],\n",
    "    \"params.train.optimizer\": [\"bfsrs-medium\"],\n",
    "    # \"params.train.ensemble\": [\"no\", \"yes\"],\n",
    "    \"params.train.ensemble\": [\"no\"],\n",
    "    \"params.evaluation.dataset.path\": [\"bdsaglam/musique\"],\n",
    "    \"params.evaluation.dataset.split\": [\"validation\"],\n",
    "    \"params.qa.model\": [\"llama-3-70b-tgi\"],\n",
    "    \"params.qa.temperature\": [0.1, 0.5, 0.7],\n",
    "    \"params.qa.technique\": [\"standard\", \"cot\", \"ccot\", \"cte\"],\n",
    "    \"params.run\": [1,2,3],\n",
    "}\n",
    "\n",
    "exp_configs = [\n",
    "    exp_config\n",
    "    for exp_config in product_experiment_configs(params_space)\n",
    "]\n",
    "print(f\"{len(exp_configs)} experiment configurations\")"
   ]
  },
  {
   "cell_type": "code",
   "execution_count": 16,
   "metadata": {},
   "outputs": [
    {
     "data": {
      "text/plain": [
       "dict_keys(['params.train.dataset.path', 'params.train.dataset.split', 'params.train.optimizer', 'params.train.ensemble', 'params.evaluation.dataset.path', 'params.evaluation.dataset.split', 'params.qa.model', 'params.qa.temperature', 'params.qa.technique', 'params.run'])"
      ]
     },
     "execution_count": 16,
     "metadata": {},
     "output_type": "execute_result"
    }
   ],
   "source": [
    "target_params = exp_configs[0].keys()\n",
    "target_params"
   ]
  },
  {
   "cell_type": "code",
   "execution_count": 17,
   "metadata": {},
   "outputs": [
    {
     "name": "stdout",
     "output_type": "stream",
     "text": [
      "69 experiments\n"
     ]
    },
    {
     "data": {
      "text/plain": [
       "{'id': 'fd86cf5845c0ae8b1da87da91b5e35877f714143',\n",
       " 'name': 'rowdy-bice',\n",
       " 'params.train.dataset.path': 'bdsaglam/musique-mini',\n",
       " 'params.train.dataset.name': 'answerable',\n",
       " 'params.train.dataset.split': 'train',\n",
       " 'params.train.optimizer': 'bfsrs-medium',\n",
       " 'params.train.ensemble': 'no',\n",
       " 'params.evaluation.dataset.path': 'bdsaglam/musique',\n",
       " 'params.evaluation.dataset.name': 'answerable',\n",
       " 'params.evaluation.dataset.split': 'validation',\n",
       " 'params.qa.model': 'llama-3-70b-tgi',\n",
       " 'params.qa.temperature': 0.7,\n",
       " 'params.qa.technique': 'cte',\n",
       " 'params.run': 3,\n",
       " 'metrics.exact_match': 0.636326024,\n",
       " 'metrics.f1': 0.7539929068,\n",
       " 'metrics.2hops.exact_match': 0.6557507987,\n",
       " 'metrics.2hops.f1': 0.7749648609,\n",
       " 'metrics.3hops.exact_match': 0.6355263158,\n",
       " 'metrics.3hops.f1': 0.7574978268,\n",
       " 'metrics.4hops.exact_match': 0.5777777778,\n",
       " 'metrics.4hops.f1': 0.6825839543}"
      ]
     },
     "execution_count": 17,
     "metadata": {},
     "output_type": "execute_result"
    }
   ],
   "source": [
    "results_path = Path(\"results.jsonl\")\n",
    "if results_path.exists():\n",
    "    with open(results_path) as f:\n",
    "        experiments = [json.loads(line) for line in f]\n",
    "else:\n",
    "    experiments = []\n",
    "\n",
    "print(f\"{len(experiments)} experiments\")\n",
    "next(iter(experiments), None)"
   ]
  },
  {
   "cell_type": "code",
   "execution_count": 18,
   "metadata": {},
   "outputs": [
    {
     "name": "stdout",
     "output_type": "stream",
     "text": [
      "69 experiments after preprocessing\n"
     ]
    }
   ],
   "source": [
    "df = pd.DataFrame(experiments)\n",
    "\n",
    "param_cols = [col for col in df.columns if col.startswith(\"params.\")]\n",
    "metric_cols = [col for col in df.columns if col.startswith(\"metrics.\")]\n",
    "\n",
    "df.dropna(subset=param_cols, inplace=True, how=\"any\")\n",
    "df.drop_duplicates(subset=param_cols, inplace=True)\n",
    "\n",
    "print(f\"{len(df)} experiments after preprocessing\")"
   ]
  },
  {
   "cell_type": "code",
   "execution_count": 19,
   "metadata": {},
   "outputs": [
    {
     "data": {
      "text/plain": [
       "{'params.train.dataset.path': 'bdsaglam/musique-mini',\n",
       " 'params.train.dataset.split': 'train',\n",
       " 'params.train.optimizer': 'bfsrs-medium',\n",
       " 'params.train.ensemble': 'no',\n",
       " 'params.evaluation.dataset.path': 'bdsaglam/musique',\n",
       " 'params.evaluation.dataset.split': 'validation',\n",
       " 'params.qa.model': 'llama-3-70b-tgi',\n",
       " 'params.qa.temperature': 0.7,\n",
       " 'params.qa.technique': 'cte',\n",
       " 'params.run': 3}"
      ]
     },
     "execution_count": 19,
     "metadata": {},
     "output_type": "execute_result"
    }
   ],
   "source": [
    "existing_configs = df[target_params].to_dict(orient=\"records\")\n",
    "existing_configs[0]"
   ]
  },
  {
   "cell_type": "code",
   "execution_count": 20,
   "metadata": {},
   "outputs": [
    {
     "data": {
      "text/plain": [
       "['params.train.dataset.path',\n",
       " 'params.train.dataset.split',\n",
       " 'params.train.optimizer',\n",
       " 'params.train.ensemble',\n",
       " 'params.evaluation.dataset.path',\n",
       " 'params.evaluation.dataset.split',\n",
       " 'params.qa.model',\n",
       " 'params.qa.temperature',\n",
       " 'params.qa.technique']"
      ]
     },
     "execution_count": 20,
     "metadata": {},
     "output_type": "execute_result"
    }
   ],
   "source": [
    "target_params = list(params_space.keys())\n",
    "target_params.remove(\"params.run\")\n",
    "target_params"
   ]
  },
  {
   "cell_type": "code",
   "execution_count": 21,
   "metadata": {},
   "outputs": [
    {
     "data": {
      "text/html": [
       "<div>\n",
       "<style scoped>\n",
       "    .dataframe tbody tr th:only-of-type {\n",
       "        vertical-align: middle;\n",
       "    }\n",
       "\n",
       "    .dataframe tbody tr th {\n",
       "        vertical-align: top;\n",
       "    }\n",
       "\n",
       "    .dataframe thead th {\n",
       "        text-align: right;\n",
       "    }\n",
       "</style>\n",
       "<table border=\"1\" class=\"dataframe\">\n",
       "  <thead>\n",
       "    <tr style=\"text-align: right;\">\n",
       "      <th></th>\n",
       "      <th>params.train.dataset.path</th>\n",
       "      <th>params.train.dataset.split</th>\n",
       "      <th>params.train.optimizer</th>\n",
       "      <th>params.train.ensemble</th>\n",
       "      <th>params.evaluation.dataset.path</th>\n",
       "      <th>params.evaluation.dataset.split</th>\n",
       "      <th>params.qa.model</th>\n",
       "      <th>params.qa.temperature</th>\n",
       "      <th>params.qa.technique</th>\n",
       "      <th>params.run</th>\n",
       "    </tr>\n",
       "  </thead>\n",
       "  <tbody>\n",
       "    <tr>\n",
       "      <th>0</th>\n",
       "      <td>bdsaglam/musique-mini</td>\n",
       "      <td>train</td>\n",
       "      <td>bfsrs-medium</td>\n",
       "      <td>no</td>\n",
       "      <td>bdsaglam/musique</td>\n",
       "      <td>validation</td>\n",
       "      <td>llama-3-70b-tgi</td>\n",
       "      <td>0.1</td>\n",
       "      <td>ccot</td>\n",
       "      <td>(6, 5, 2, 1, 4, 3)</td>\n",
       "    </tr>\n",
       "    <tr>\n",
       "      <th>1</th>\n",
       "      <td>bdsaglam/musique-mini</td>\n",
       "      <td>train</td>\n",
       "      <td>bfsrs-medium</td>\n",
       "      <td>no</td>\n",
       "      <td>bdsaglam/musique</td>\n",
       "      <td>validation</td>\n",
       "      <td>llama-3-70b-tgi</td>\n",
       "      <td>0.1</td>\n",
       "      <td>cot</td>\n",
       "      <td>(2, 3, 1, 6, 5, 4)</td>\n",
       "    </tr>\n",
       "    <tr>\n",
       "      <th>2</th>\n",
       "      <td>bdsaglam/musique-mini</td>\n",
       "      <td>train</td>\n",
       "      <td>bfsrs-medium</td>\n",
       "      <td>no</td>\n",
       "      <td>bdsaglam/musique</td>\n",
       "      <td>validation</td>\n",
       "      <td>llama-3-70b-tgi</td>\n",
       "      <td>0.1</td>\n",
       "      <td>cte</td>\n",
       "      <td>(3, 2, 1, 6, 5, 4)</td>\n",
       "    </tr>\n",
       "    <tr>\n",
       "      <th>3</th>\n",
       "      <td>bdsaglam/musique-mini</td>\n",
       "      <td>train</td>\n",
       "      <td>bfsrs-medium</td>\n",
       "      <td>no</td>\n",
       "      <td>bdsaglam/musique</td>\n",
       "      <td>validation</td>\n",
       "      <td>llama-3-70b-tgi</td>\n",
       "      <td>0.1</td>\n",
       "      <td>standard</td>\n",
       "      <td>(1, 2, 3, 6, 4, 5)</td>\n",
       "    </tr>\n",
       "    <tr>\n",
       "      <th>4</th>\n",
       "      <td>bdsaglam/musique-mini</td>\n",
       "      <td>train</td>\n",
       "      <td>bfsrs-medium</td>\n",
       "      <td>no</td>\n",
       "      <td>bdsaglam/musique</td>\n",
       "      <td>validation</td>\n",
       "      <td>llama-3-70b-tgi</td>\n",
       "      <td>0.5</td>\n",
       "      <td>ccot</td>\n",
       "      <td>(6, 4, 3, 5, 1, 2)</td>\n",
       "    </tr>\n",
       "    <tr>\n",
       "      <th>5</th>\n",
       "      <td>bdsaglam/musique-mini</td>\n",
       "      <td>train</td>\n",
       "      <td>bfsrs-medium</td>\n",
       "      <td>no</td>\n",
       "      <td>bdsaglam/musique</td>\n",
       "      <td>validation</td>\n",
       "      <td>llama-3-70b-tgi</td>\n",
       "      <td>0.5</td>\n",
       "      <td>cot</td>\n",
       "      <td>(3, 2, 1, 6, 5, 4)</td>\n",
       "    </tr>\n",
       "    <tr>\n",
       "      <th>6</th>\n",
       "      <td>bdsaglam/musique-mini</td>\n",
       "      <td>train</td>\n",
       "      <td>bfsrs-medium</td>\n",
       "      <td>no</td>\n",
       "      <td>bdsaglam/musique</td>\n",
       "      <td>validation</td>\n",
       "      <td>llama-3-70b-tgi</td>\n",
       "      <td>0.5</td>\n",
       "      <td>cte</td>\n",
       "      <td>(3, 2, 1, 6, 5, 4)</td>\n",
       "    </tr>\n",
       "    <tr>\n",
       "      <th>7</th>\n",
       "      <td>bdsaglam/musique-mini</td>\n",
       "      <td>train</td>\n",
       "      <td>bfsrs-medium</td>\n",
       "      <td>no</td>\n",
       "      <td>bdsaglam/musique</td>\n",
       "      <td>validation</td>\n",
       "      <td>llama-3-70b-tgi</td>\n",
       "      <td>0.5</td>\n",
       "      <td>standard</td>\n",
       "      <td>(3, 2, 1, 5, 6, 4)</td>\n",
       "    </tr>\n",
       "    <tr>\n",
       "      <th>8</th>\n",
       "      <td>bdsaglam/musique-mini</td>\n",
       "      <td>train</td>\n",
       "      <td>bfsrs-medium</td>\n",
       "      <td>no</td>\n",
       "      <td>bdsaglam/musique</td>\n",
       "      <td>validation</td>\n",
       "      <td>llama-3-70b-tgi</td>\n",
       "      <td>0.7</td>\n",
       "      <td>cot</td>\n",
       "      <td>(3, 2, 1, 6, 5, 4)</td>\n",
       "    </tr>\n",
       "    <tr>\n",
       "      <th>9</th>\n",
       "      <td>bdsaglam/musique-mini</td>\n",
       "      <td>train</td>\n",
       "      <td>bfsrs-medium</td>\n",
       "      <td>no</td>\n",
       "      <td>bdsaglam/musique</td>\n",
       "      <td>validation</td>\n",
       "      <td>llama-3-70b-tgi</td>\n",
       "      <td>0.7</td>\n",
       "      <td>cte</td>\n",
       "      <td>(3, 2, 1, 6, 5, 4)</td>\n",
       "    </tr>\n",
       "    <tr>\n",
       "      <th>10</th>\n",
       "      <td>bdsaglam/musique-mini</td>\n",
       "      <td>train</td>\n",
       "      <td>bfsrs-medium</td>\n",
       "      <td>no</td>\n",
       "      <td>bdsaglam/musique</td>\n",
       "      <td>validation</td>\n",
       "      <td>llama-3-70b-tgi</td>\n",
       "      <td>0.7</td>\n",
       "      <td>standard</td>\n",
       "      <td>(3, 2, 1, 6, 5, 4)</td>\n",
       "    </tr>\n",
       "  </tbody>\n",
       "</table>\n",
       "</div>"
      ],
      "text/plain": [
       "   params.train.dataset.path params.train.dataset.split  \\\n",
       "0      bdsaglam/musique-mini                      train   \n",
       "1      bdsaglam/musique-mini                      train   \n",
       "2      bdsaglam/musique-mini                      train   \n",
       "3      bdsaglam/musique-mini                      train   \n",
       "4      bdsaglam/musique-mini                      train   \n",
       "5      bdsaglam/musique-mini                      train   \n",
       "6      bdsaglam/musique-mini                      train   \n",
       "7      bdsaglam/musique-mini                      train   \n",
       "8      bdsaglam/musique-mini                      train   \n",
       "9      bdsaglam/musique-mini                      train   \n",
       "10     bdsaglam/musique-mini                      train   \n",
       "\n",
       "   params.train.optimizer params.train.ensemble  \\\n",
       "0            bfsrs-medium                    no   \n",
       "1            bfsrs-medium                    no   \n",
       "2            bfsrs-medium                    no   \n",
       "3            bfsrs-medium                    no   \n",
       "4            bfsrs-medium                    no   \n",
       "5            bfsrs-medium                    no   \n",
       "6            bfsrs-medium                    no   \n",
       "7            bfsrs-medium                    no   \n",
       "8            bfsrs-medium                    no   \n",
       "9            bfsrs-medium                    no   \n",
       "10           bfsrs-medium                    no   \n",
       "\n",
       "   params.evaluation.dataset.path params.evaluation.dataset.split  \\\n",
       "0                bdsaglam/musique                      validation   \n",
       "1                bdsaglam/musique                      validation   \n",
       "2                bdsaglam/musique                      validation   \n",
       "3                bdsaglam/musique                      validation   \n",
       "4                bdsaglam/musique                      validation   \n",
       "5                bdsaglam/musique                      validation   \n",
       "6                bdsaglam/musique                      validation   \n",
       "7                bdsaglam/musique                      validation   \n",
       "8                bdsaglam/musique                      validation   \n",
       "9                bdsaglam/musique                      validation   \n",
       "10               bdsaglam/musique                      validation   \n",
       "\n",
       "    params.qa.model  params.qa.temperature params.qa.technique  \\\n",
       "0   llama-3-70b-tgi                    0.1                ccot   \n",
       "1   llama-3-70b-tgi                    0.1                 cot   \n",
       "2   llama-3-70b-tgi                    0.1                 cte   \n",
       "3   llama-3-70b-tgi                    0.1            standard   \n",
       "4   llama-3-70b-tgi                    0.5                ccot   \n",
       "5   llama-3-70b-tgi                    0.5                 cot   \n",
       "6   llama-3-70b-tgi                    0.5                 cte   \n",
       "7   llama-3-70b-tgi                    0.5            standard   \n",
       "8   llama-3-70b-tgi                    0.7                 cot   \n",
       "9   llama-3-70b-tgi                    0.7                 cte   \n",
       "10  llama-3-70b-tgi                    0.7            standard   \n",
       "\n",
       "            params.run  \n",
       "0   (6, 5, 2, 1, 4, 3)  \n",
       "1   (2, 3, 1, 6, 5, 4)  \n",
       "2   (3, 2, 1, 6, 5, 4)  \n",
       "3   (1, 2, 3, 6, 4, 5)  \n",
       "4   (6, 4, 3, 5, 1, 2)  \n",
       "5   (3, 2, 1, 6, 5, 4)  \n",
       "6   (3, 2, 1, 6, 5, 4)  \n",
       "7   (3, 2, 1, 5, 6, 4)  \n",
       "8   (3, 2, 1, 6, 5, 4)  \n",
       "9   (3, 2, 1, 6, 5, 4)  \n",
       "10  (3, 2, 1, 6, 5, 4)  "
      ]
     },
     "execution_count": 21,
     "metadata": {},
     "output_type": "execute_result"
    }
   ],
   "source": [
    "run_counts = df.groupby(target_params)[\"params.run\"].aggregate(tuple).reset_index()\n",
    "mask = run_counts[\"params.run\"].map(len) != 3\n",
    "run_counts.loc[mask]"
   ]
  },
  {
   "cell_type": "code",
   "execution_count": 22,
   "metadata": {},
   "outputs": [
    {
     "name": "stdout",
     "output_type": "stream",
     "text": [
      "3 missing configurations\n"
     ]
    },
    {
     "data": {
      "text/plain": [
       "{'params.evaluation.dataset.path': 'bdsaglam/musique',\n",
       " 'params.evaluation.dataset.split': 'validation',\n",
       " 'params.qa.model': 'llama-3-70b-tgi',\n",
       " 'params.qa.technique': 'ccot',\n",
       " 'params.qa.temperature': 0.7,\n",
       " 'params.run': 3,\n",
       " 'params.train.dataset.path': 'bdsaglam/musique-mini',\n",
       " 'params.train.dataset.split': 'train',\n",
       " 'params.train.ensemble': 'no',\n",
       " 'params.train.optimizer': 'bfsrs-medium'}"
      ]
     },
     "execution_count": 22,
     "metadata": {},
     "output_type": "execute_result"
    }
   ],
   "source": [
    "# find the missing configurations\n",
    "missing_configs = [\n",
    "    dict(kv)\n",
    "    for kv in list(\n",
    "        {tuple(sorted(config.items())) for config in exp_configs}\n",
    "        - {tuple(sorted(config.items())) for config in existing_configs}\n",
    "    )\n",
    "]\n",
    "print(f\"{len(missing_configs)} missing configurations\")\n",
    "next(iter(missing_configs), None)\n"
   ]
  },
  {
   "cell_type": "code",
   "execution_count": 23,
   "metadata": {},
   "outputs": [],
   "source": [
    "def make_command(exp_config):\n",
    "    run = exp_config[\"params.run\"]\n",
    "    lines = [\"dvc exp run --queue\", f\"-S run={run}\"]\n",
    "    for target_param in target_params:\n",
    "        arg_name = target_param.split(\".\", 1)[-1]\n",
    "        arg_value = exp_config[target_param]\n",
    "        lines.append(f\"-S {arg_name}='{arg_value}'\")\n",
    "\n",
    "    command = \" \\\\\\n    \".join(lines)\n",
    "    return command"
   ]
  },
  {
   "cell_type": "code",
   "execution_count": 24,
   "metadata": {},
   "outputs": [],
   "source": [
    "with open(\"run.sh\", \"w\") as f:\n",
    "    f.write(\"#!/bin/sh\\n\")\n",
    "    for exp_config in missing_configs:\n",
    "        f.write(make_command(exp_config))\n",
    "        f.write(\"\\n\\n\")"
   ]
  },
  {
   "cell_type": "code",
   "execution_count": null,
   "metadata": {},
   "outputs": [],
   "source": []
  }
 ],
 "metadata": {
  "kernelspec": {
   "display_name": "thesis",
   "language": "python",
   "name": "python3"
  },
  "language_info": {
   "codemirror_mode": {
    "name": "ipython",
    "version": 3
   },
   "file_extension": ".py",
   "mimetype": "text/x-python",
   "name": "python",
   "nbconvert_exporter": "python",
   "pygments_lexer": "ipython3",
   "version": "3.10.16"
  }
 },
 "nbformat": 4,
 "nbformat_minor": 2
}
