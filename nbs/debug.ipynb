{
 "cells": [
  {
   "cell_type": "code",
   "execution_count": 2,
   "metadata": {},
   "outputs": [
    {
     "name": "stderr",
     "output_type": "stream",
     "text": [
      "/home/baris/repos/pipeline-mhqa-dspy/.venv/lib/python3.11/site-packages/pydantic/_internal/_config.py:345: UserWarning: Valid config keys have changed in V2:\n",
      "* 'fields' has been removed\n",
      "  warnings.warn(message, UserWarning)\n"
     ]
    }
   ],
   "source": [
    "import json\n",
    "import os\n",
    "from copy import deepcopy\n",
    "from pathlib import Path\n",
    "\n",
    "import dspy\n",
    "import pandas as pd\n",
    "import typer\n",
    "import weave\n",
    "from dotenv import load_dotenv\n",
    "from dspy.evaluate import Evaluate\n",
    "from dspy.teleprompt.ensemble import Ensemble\n",
    "from rich.console import Console\n",
    "\n",
    "from mhqa.agent import make_decomposing_agent, make_simple_agent\n",
    "from mhqa.evaluation import (\n",
    "    aggregate_scores,\n",
    "    compute_scores,\n",
    "    compute_scores_dataframe,\n",
    ")\n",
    "from mhqa.multihop import make_multihop_program\n",
    "from mhqa.qa import make_qa_program\n",
    "from mhqa.search import make_retriever\n",
    "from mhqa.utils import configure_lm, dynamic_import, set_seed\n",
    "import weave\n",
    "\n",
    "print = Console(stderr=True).print\n",
    "\n",
    "load_dotenv()\n",
    "\n",
    "set_seed(89)"
   ]
  },
  {
   "cell_type": "code",
   "execution_count": 3,
   "metadata": {},
   "outputs": [
    {
     "name": "stdout",
     "output_type": "stream",
     "text": [
      "Logged in as Weights & Biases user: bdsaglam.\n",
      "View Weave data at https://wandb.ai/bdsaglam/mhqa-dspy-debug/weave\n"
     ]
    }
   ],
   "source": [
    "weave.init(project_name=\"mhqa-dspy-debug\")\n",
    "\n",
    "\n",
    "def preprocess_examples(examples: list[dspy.Example], technique: str):\n",
    "    if \"agent\" in technique or \"multihop\" in technique:\n",
    "        return [example.with_inputs(\"docs\", \"question\") for example in examples]\n",
    "    else:\n",
    "        return [example.with_inputs(\"context\", \"question\") for example in examples]\n",
    "\n",
    "\n",
    "def make_program(technique: str, retriever_name: str, top_k: int):\n",
    "    retriever = make_retriever(retriever_name, top_k=top_k)\n",
    "    if technique == \"agent-simple\":\n",
    "        return make_simple_agent(retriever)\n",
    "    elif technique == \"agent-decompose\":\n",
    "        return make_decomposing_agent(retriever)\n",
    "    elif technique == \"multihop-decompose\":\n",
    "        return make_multihop_program(retriever)\n",
    "    else:\n",
    "        return make_qa_program(technique)\n",
    "\n",
    "\n",
    "@weave.op()\n",
    "def evaluate_answer(example, pred, trace=None):\n",
    "    scores = compute_scores(pred.answer, example.answers)\n",
    "    return scores[\"f1\"]\n",
    "\n",
    "\n",
    "def make_optimizer(optimizer_config: dict):\n",
    "    cls = dynamic_import(\"dspy.teleprompt\", optimizer_config[\"class\"])\n",
    "    kwargs = deepcopy(optimizer_config[\"params\"])\n",
    "    if optimizer_config[\"with_metric\"]:\n",
    "        kwargs[\"metric\"] = evaluate_answer\n",
    "    return cls(**kwargs)\n",
    "\n",
    "\n",
    "def preprocess_result(result):\n",
    "    example, pred, score = result\n",
    "    predictions = {f\"predicted_{k}\": v for k, v in dict(pred).items()}\n",
    "    return {**dict(example), **predictions, \"score\": float(score)}\n",
    "\n",
    "\n",
    "def make_results_dataframe(results):\n",
    "    dataf = pd.json_normalize([preprocess_result(result) for result in results])\n",
    "    dataf[\"n_hops\"] = dataf[\"question_decomposition\"].apply(len)\n",
    "    dataf[\"predicted_answer\"] = dataf[\"predicted_answer\"].fillna(\"No Answer\")\n",
    "    return compute_scores_dataframe(dataf)\n",
    "\n",
    "\n"
   ]
  },
  {
   "cell_type": "code",
   "execution_count": 6,
   "metadata": {},
   "outputs": [],
   "source": [
    "# Hardcoded values based on params.yaml\n",
    "\n",
    "# Create necessary Python objects with hardcoded values\n",
    "dataset_path = \"bdsaglam/musique-sweep\"\n",
    "dataset_name = \"answerable\"\n",
    "dataset_split = \"train\"\n",
    "\n",
    "optimizer = \"noop\"\n",
    "ensemble = \"no\"\n",
    "\n",
    "evaluation_dataset_path = \"bdsaglam/musique-sweep\"\n",
    "evaluation_dataset_name = \"answerable\"\n",
    "evaluation_dataset_split = \"validation\"\n",
    "\n",
    "retriever = \"t5\"\n",
    "top_k = 3\n",
    "\n",
    "model = \"llama-3.3-70b\"\n",
    "temperature = 0.1\n",
    "technique = \"multihop-decompose\"\n",
    "\n",
    "load_from = \"UNSET\"\n",
    "out = Path(\"output_directory\")  # Placeholder for output directory"
   ]
  },
  {
   "cell_type": "code",
   "execution_count": 5,
   "metadata": {},
   "outputs": [
    {
     "data": {
      "text/html": [
       "<pre style=\"white-space:pre;overflow-x:auto;line-height:normal;font-family:Menlo,'DejaVu Sans Mono',consolas,'Courier New',monospace\">Loaded <span style=\"color: #008080; text-decoration-color: #008080; font-weight: bold\">10</span> examples\n",
       "</pre>\n"
      ],
      "text/plain": [
       "Loaded \u001b[1;36m10\u001b[0m examples\n"
      ]
     },
     "metadata": {},
     "output_type": "display_data"
    },
    {
     "name": "stdout",
     "output_type": "stream",
     "text": [
      "Loading default t5 model for language en\n",
      "Default Model: unicamp-dl/InRanker-base\n",
      "Loading T5Ranker model unicamp-dl/InRanker-base (this message can be suppressed by setting verbose=0)\n",
      "No device set\n",
      "Using device cpu\n",
      "No dtype set\n",
      "Using dtype torch.float32\n",
      "Loading model unicamp-dl/InRanker-base, this might take a while...\n",
      "Using device cpu.\n",
      "Using dtype torch.float32.\n"
     ]
    },
    {
     "name": "stderr",
     "output_type": "stream",
     "text": [
      "You are using the default legacy behaviour of the <class 'transformers.models.t5.tokenization_t5.T5Tokenizer'>. This is expected, and simply means that the `legacy` (previous) behavior will be used so nothing changes for you. If you want to use the new behaviour, set `legacy=False`. This should only be set if you understand what it means, and thoroughly read the reason why this was added as explained in https://github.com/huggingface/transformers/pull/24565\n"
     ]
    },
    {
     "name": "stdout",
     "output_type": "stream",
     "text": [
      "T5 true token set to ▁true\n",
      "T5 false token set to ▁false\n",
      "Returning normalised scores...\n",
      "Inputs template set to Query: {query} Document: {text} Relevant:\n",
      "  0%|          | 0/10 [00:00<?, ?it/s]"
     ]
    },
    {
     "data": {
      "application/vnd.jupyter.widget-view+json": {
       "model_id": "12cbf97b8a79435baf6cddd168f5484c",
       "version_major": 2,
       "version_minor": 0
      },
      "text/plain": [
       "Scoring...:   0%|          | 0/1 [00:00<?, ?it/s]"
      ]
     },
     "metadata": {},
     "output_type": "display_data"
    },
    {
     "name": "stderr",
     "output_type": "stream",
     "text": [
      "Passing a tuple of `past_key_values` is deprecated and will be removed in Transformers v4.48.0. You should pass an instance of `EncoderDecoderCache` instead, e.g. `past_key_values=EncoderDecoderCache.from_legacy_cache(past_key_values)`.\n"
     ]
    },
    {
     "data": {
      "application/vnd.jupyter.widget-view+json": {
       "model_id": "81b660dcc5f5474da45f2e0ce6aa2de5",
       "version_major": 2,
       "version_minor": 0
      },
      "text/plain": [
       "Scoring...:   0%|          | 0/1 [00:00<?, ?it/s]"
      ]
     },
     "metadata": {},
     "output_type": "display_data"
    },
    {
     "name": "stdout",
     "output_type": "stream",
     "text": [
      "🍩 https://wandb.ai/bdsaglam/mhqa-dspy-debug/r/call/0194fde1-498f-7132-8adb-1dd58c437154\n",
      "🍩 https://wandb.ai/bdsaglam/mhqa-dspy-debug/r/call/0194fde1-60ec-7ed3-a525-7bbf45936cc6\n",
      "Average Metric: 1.00 / 10 (10.0%):  10%|█         | 1/10 [00:05<00:53,  5.99s/it]"
     ]
    },
    {
     "data": {
      "application/vnd.jupyter.widget-view+json": {
       "model_id": "83a068f17ea3463690bcb3f08a6056c1",
       "version_major": 2,
       "version_minor": 0
      },
      "text/plain": [
       "Scoring...:   0%|          | 0/1 [00:00<?, ?it/s]"
      ]
     },
     "metadata": {},
     "output_type": "display_data"
    },
    {
     "data": {
      "application/vnd.jupyter.widget-view+json": {
       "model_id": "1c38ecb00eac48a0aa133630d5760bd1",
       "version_major": 2,
       "version_minor": 0
      },
      "text/plain": [
       "Scoring...:   0%|          | 0/1 [00:00<?, ?it/s]"
      ]
     },
     "metadata": {},
     "output_type": "display_data"
    },
    {
     "data": {
      "application/vnd.jupyter.widget-view+json": {
       "model_id": "059496fc9e354707bd87581c8dcf59b4",
       "version_major": 2,
       "version_minor": 0
      },
      "text/plain": [
       "Scoring...:   0%|          | 0/1 [00:00<?, ?it/s]"
      ]
     },
     "metadata": {},
     "output_type": "display_data"
    },
    {
     "name": "stdout",
     "output_type": "stream",
     "text": [
      "🍩 https://wandb.ai/bdsaglam/mhqa-dspy-debug/r/call/0194fde1-60fa-7403-9a57-356ca48a80af\n",
      "🍩 https://wandb.ai/bdsaglam/mhqa-dspy-debug/r/call/0194fde1-8f69-7f83-905f-9d21178cbaf8\n",
      "Average Metric: 1.00 / 10 (10.0%):  20%|██        | 2/10 [00:17<01:15,  9.47s/it]"
     ]
    },
    {
     "data": {
      "application/vnd.jupyter.widget-view+json": {
       "model_id": "4c7cd4c5264842f0b03850da3214e8dc",
       "version_major": 2,
       "version_minor": 0
      },
      "text/plain": [
       "Scoring...:   0%|          | 0/1 [00:00<?, ?it/s]"
      ]
     },
     "metadata": {},
     "output_type": "display_data"
    },
    {
     "data": {
      "application/vnd.jupyter.widget-view+json": {
       "model_id": "1cc9a2e046514511b040fa490c919357",
       "version_major": 2,
       "version_minor": 0
      },
      "text/plain": [
       "Scoring...:   0%|          | 0/1 [00:00<?, ?it/s]"
      ]
     },
     "metadata": {},
     "output_type": "display_data"
    },
    {
     "data": {
      "application/vnd.jupyter.widget-view+json": {
       "model_id": "a7c2bcac0f984659b75fe37b3014479d",
       "version_major": 2,
       "version_minor": 0
      },
      "text/plain": [
       "Scoring...:   0%|          | 0/1 [00:00<?, ?it/s]"
      ]
     },
     "metadata": {},
     "output_type": "display_data"
    },
    {
     "name": "stdout",
     "output_type": "stream",
     "text": [
      "🍩 https://wandb.ai/bdsaglam/mhqa-dspy-debug/r/call/0194fde1-8f71-7200-b6c5-7a8ae94ef3a0\n",
      "🍩 https://wandb.ai/bdsaglam/mhqa-dspy-debug/r/call/0194fde1-b6fd-7eb3-8272-c12c38824c2f\n",
      "Average Metric: 1.00 / 10 (10.0%):  30%|███       | 3/10 [00:28<01:08,  9.77s/it]"
     ]
    },
    {
     "data": {
      "application/vnd.jupyter.widget-view+json": {
       "model_id": "6001afcd23514b248d2e2eb926a8fe5c",
       "version_major": 2,
       "version_minor": 0
      },
      "text/plain": [
       "Scoring...:   0%|          | 0/1 [00:00<?, ?it/s]"
      ]
     },
     "metadata": {},
     "output_type": "display_data"
    },
    {
     "data": {
      "application/vnd.jupyter.widget-view+json": {
       "model_id": "14d80dfeb2e741feba9f5bebbde37fae",
       "version_major": 2,
       "version_minor": 0
      },
      "text/plain": [
       "Scoring...:   0%|          | 0/1 [00:00<?, ?it/s]"
      ]
     },
     "metadata": {},
     "output_type": "display_data"
    },
    {
     "name": "stdout",
     "output_type": "stream",
     "text": [
      "🍩 https://wandb.ai/bdsaglam/mhqa-dspy-debug/r/call/0194fde1-b707-78b0-9b4f-e5be40e3c4b5\n",
      "🍩 https://wandb.ai/bdsaglam/mhqa-dspy-debug/r/call/0194fde1-ced4-7212-a3ba-4f6a9166fba1\n",
      "Average Metric: 1.00 / 10 (10.0%):  40%|████      | 4/10 [00:34<00:49,  8.32s/it]"
     ]
    },
    {
     "data": {
      "application/vnd.jupyter.widget-view+json": {
       "model_id": "e7258128a35c4f8da0b9ab67cabbc184",
       "version_major": 2,
       "version_minor": 0
      },
      "text/plain": [
       "Scoring...:   0%|          | 0/1 [00:00<?, ?it/s]"
      ]
     },
     "metadata": {},
     "output_type": "display_data"
    },
    {
     "data": {
      "application/vnd.jupyter.widget-view+json": {
       "model_id": "d8c244dfffd84a469b0c83ada7681866",
       "version_major": 2,
       "version_minor": 0
      },
      "text/plain": [
       "Scoring...:   0%|          | 0/1 [00:00<?, ?it/s]"
      ]
     },
     "metadata": {},
     "output_type": "display_data"
    },
    {
     "data": {
      "application/vnd.jupyter.widget-view+json": {
       "model_id": "530aaab286b748849300847ff8fa9dea",
       "version_major": 2,
       "version_minor": 0
      },
      "text/plain": [
       "Scoring...:   0%|          | 0/1 [00:00<?, ?it/s]"
      ]
     },
     "metadata": {},
     "output_type": "display_data"
    },
    {
     "name": "stdout",
     "output_type": "stream",
     "text": [
      "🍩 https://wandb.ai/bdsaglam/mhqa-dspy-debug/r/call/0194fde1-ced9-7601-a2d6-7243210119c9\n",
      "🍩 https://wandb.ai/bdsaglam/mhqa-dspy-debug/r/call/0194fde1-f65c-7372-8a47-90e77c1b9f62\n",
      "Average Metric: 1.18 / 10 (11.8%):  50%|█████     | 5/10 [00:44<00:44,  8.97s/it]"
     ]
    },
    {
     "data": {
      "application/vnd.jupyter.widget-view+json": {
       "model_id": "d639d60965c34472b59af6b2b06d865b",
       "version_major": 2,
       "version_minor": 0
      },
      "text/plain": [
       "Scoring...:   0%|          | 0/1 [00:00<?, ?it/s]"
      ]
     },
     "metadata": {},
     "output_type": "display_data"
    },
    {
     "data": {
      "application/vnd.jupyter.widget-view+json": {
       "model_id": "61192f546c9a4e2cb56f85347c811b27",
       "version_major": 2,
       "version_minor": 0
      },
      "text/plain": [
       "Scoring...:   0%|          | 0/1 [00:00<?, ?it/s]"
      ]
     },
     "metadata": {},
     "output_type": "display_data"
    },
    {
     "data": {
      "application/vnd.jupyter.widget-view+json": {
       "model_id": "928894eb4f0f447a9de9d0271e87ff1e",
       "version_major": 2,
       "version_minor": 0
      },
      "text/plain": [
       "Scoring...:   0%|          | 0/1 [00:00<?, ?it/s]"
      ]
     },
     "metadata": {},
     "output_type": "display_data"
    },
    {
     "name": "stdout",
     "output_type": "stream",
     "text": [
      "🍩 https://wandb.ai/bdsaglam/mhqa-dspy-debug/r/call/0194fde1-f665-7823-bb65-8e3eee606e76\n",
      "🍩 https://wandb.ai/bdsaglam/mhqa-dspy-debug/r/call/0194fde2-2680-7411-bf47-3ef5195796da\n",
      "Average Metric: 2.18 / 10 (21.8%):  60%|██████    | 6/10 [00:56<00:40, 10.11s/it]"
     ]
    },
    {
     "data": {
      "application/vnd.jupyter.widget-view+json": {
       "model_id": "e02065b4473040aea16c385749195194",
       "version_major": 2,
       "version_minor": 0
      },
      "text/plain": [
       "Scoring...:   0%|          | 0/1 [00:00<?, ?it/s]"
      ]
     },
     "metadata": {},
     "output_type": "display_data"
    },
    {
     "data": {
      "application/vnd.jupyter.widget-view+json": {
       "model_id": "e14ac2946acc449682087cc23225876f",
       "version_major": 2,
       "version_minor": 0
      },
      "text/plain": [
       "Scoring...:   0%|          | 0/1 [00:00<?, ?it/s]"
      ]
     },
     "metadata": {},
     "output_type": "display_data"
    },
    {
     "data": {
      "application/vnd.jupyter.widget-view+json": {
       "model_id": "c4f9ddd169bf423b98b0a3da1962378e",
       "version_major": 2,
       "version_minor": 0
      },
      "text/plain": [
       "Scoring...:   0%|          | 0/1 [00:00<?, ?it/s]"
      ]
     },
     "metadata": {},
     "output_type": "display_data"
    },
    {
     "name": "stdout",
     "output_type": "stream",
     "text": [
      "🍩 https://wandb.ai/bdsaglam/mhqa-dspy-debug/r/call/0194fde2-2688-7e51-889a-ee8bb85f6058\n",
      "🍩 https://wandb.ai/bdsaglam/mhqa-dspy-debug/r/call/0194fde2-58a6-70a0-b78d-b9d429da0810\n",
      "Average Metric: 3.18 / 10 (31.8%):  70%|███████   | 7/10 [01:09<00:33, 11.00s/it]"
     ]
    },
    {
     "data": {
      "application/vnd.jupyter.widget-view+json": {
       "model_id": "388704b8a31a49848257fb61b1183394",
       "version_major": 2,
       "version_minor": 0
      },
      "text/plain": [
       "Scoring...:   0%|          | 0/1 [00:00<?, ?it/s]"
      ]
     },
     "metadata": {},
     "output_type": "display_data"
    },
    {
     "data": {
      "application/vnd.jupyter.widget-view+json": {
       "model_id": "48a72ee8210e4808aa048da140fbf1b2",
       "version_major": 2,
       "version_minor": 0
      },
      "text/plain": [
       "Scoring...:   0%|          | 0/1 [00:00<?, ?it/s]"
      ]
     },
     "metadata": {},
     "output_type": "display_data"
    },
    {
     "name": "stdout",
     "output_type": "stream",
     "text": [
      "🍩 https://wandb.ai/bdsaglam/mhqa-dspy-debug/r/call/0194fde2-58aa-7071-8a07-9bde62d75a31\n",
      "🍩 https://wandb.ai/bdsaglam/mhqa-dspy-debug/r/call/0194fde2-72e9-7af2-8d2a-c80e01857744\n",
      "Average Metric: 4.18 / 10 (41.8%):  80%|████████  | 8/10 [01:16<00:19,  9.64s/it]"
     ]
    },
    {
     "name": "stderr",
     "output_type": "stream",
     "text": [
      "2025/02/13 08:57:44 ERROR dspy.utils.parallelizer: Error processing item Example({'id': '2hop__142965_178655', 'question': 'What is the record label of the composer whose fifth studio album was titled Nine Million Bicycles?', 'context': '# Nine Million Bicycles\\n\"Nine Million Bicycles\" is a song written and produced by Mike Batt for the singer Katie Melua\\'s second album, \"Piece by Piece\". It was released as the album\\'s first single in September 2005 and reached number five on the UK Singles Chart, becoming Melua\\'s first top five hit as a solo artist. It was a finalist for The Record of the Year prize, losing to \"You Raise Me Up\" by Westlife.\\n\\n# Ketevan (album)\\nKetevan is the sixth studio album by Georgian-British singer Katie Melua, released in the United Kingdom on 16 September 2013 through Dramatico. At birth Melua was given the name Ketevan, but later she adopted the name Katie.', 'docs': [{'idx': 0, 'text': '# El Turista\\nEl Turista is the eighth studio album by the singer-songwriter, Josh Rouse. The album was self released by Josh Rouse in 2010 with his Bedroom Classics label.', 'is_supporting': False}, {'idx': 1, 'text': '# Secret Codes and Battleships\\nSecret Codes and Battleships is the fifth studio album from Australian singer-songwriter Darren Hayes. It was released 21 October 2011 on Mercury Records in Australia, on EMI Records in the United Kingdom on 24 October, and on his own label Powdered Sugar for the rest of the world on 25 October.', 'is_supporting': False}, {'idx': 2, 'text': '# Ask Rufus\\nAsk Rufus is the platinum-selling fifth studio album by funk band Rufus (and their third album featuring singer Chaka Khan), released on the ABC Records label in 1977. The album spent three weeks atop the Billboard R&B Albums Chart in 1977.', 'is_supporting': False}, {'idx': 3, 'text': '# Colored Lights: The Broadway Album\\nColored Lights: The Broadway Album is the eighth studio album--and the first tribute album--by American singer-songwriter-actress Debbie Gibson. Released in 2003 on the Fynsworth Alley label, it includes songs from nine preexisting theatre musicals and one from her own original theatre musical \"Skirts.\"', 'is_supporting': False}, {'idx': 4, 'text': \"# Tomorrowland (Ryan Bingham album)\\nTomorrowland is the fourth studio album by Americana singer-songwriter Ryan Bingham, released on September 18, 2012. The album was recorded in Malibu, California with producer Justin Stanley and was self-released through Bingham's new independent record label Axster Bingham Records.\", 'is_supporting': False}, {'idx': 5, 'text': \"# Late in the Evening\\n``Late in the Evening ''is a song by American singer - songwriter Paul Simon. It was the lead single from his fifth studio album, One - Trick Pony (1980), released on Warner Bros. Records.\", 'is_supporting': False}, {'idx': 6, 'text': '# Nine Million Bicycles\\n\"Nine Million Bicycles\" is a song written and produced by Mike Batt for the singer Katie Melua\\'s second album, \"Piece by Piece\". It was released as the album\\'s first single in September 2005 and reached number five on the UK Singles Chart, becoming Melua\\'s first top five hit as a solo artist. It was a finalist for The Record of the Year prize, losing to \"You Raise Me Up\" by Westlife.', 'is_supporting': True}, {'idx': 7, 'text': '# Ketevan (album)\\nKetevan is the sixth studio album by Georgian-British singer Katie Melua, released in the United Kingdom on 16 September 2013 through Dramatico. At birth Melua was given the name Ketevan, but later she adopted the name Katie.', 'is_supporting': True}, {'idx': 8, 'text': '# Geek the Girl\\nGeek the Girl is the third studio album by American singer-songwriter Lisa Germano. A breakthrough of sorts for her, it was released in 1994 by record label 4AD, just six months after the re-release of her previous album, \"Happiness\".', 'is_supporting': False}, {'idx': 9, 'text': '# Vivid (Crystal Kay album)\\nVivid is the tenth Japanese language studio album (12th overall) by Japanese singer-songwriter Crystal Kay. This is her first album since her 2010 release \"Spin the Music\". Also, this is her first album to be released under her new record label Universal after she left her long-time label Sony Music Japan in 2011.', 'is_supporting': False}, {'idx': 10, 'text': '# Mer\\' end kærlighed\\nMer\\' end kærlighed is the second studio album by the Danish singer-songwriter Rasmus Seebach released on 17 October 2011 at ArtPeople label, as a follow-up to the hugely successful debut album \"Rasmus Seebach\".', 'is_supporting': False}, {'idx': 11, 'text': '# Bachata Rosa\\nBachata Rosa (English: \"Pink Bachata\") is the fifth studio album by Dominican singer-songwriter Juan Luis Guerra and his group 4.40. It was released on December 11, 1990, by Karen Records. Written and produced by Guerra, the record sold over five million copies worldwide. It brought bachata music into the mainstream in the Dominican Republic and gave the genre an international audience. A Portuguese version of the record was released in 1992 under the title \"Romance Rosa\"; it was certified gold in Brazil. The album received a Grammy Award for Best Tropical Latin Album and two Lo Nuestro Awards for Tropical Album of the Year and Tropical Group of the Year.', 'is_supporting': False}, {'idx': 12, 'text': '# At or with Me\\n\"At or with Me\" is a song by American singer-songwriter Jack Johnson. It is the second single from his fifth studio album, \"To the Sea\".', 'is_supporting': False}, {'idx': 13, 'text': '# Walk Through Walls\\nWalk Through Walls is the fifth studio album by the American singer-songwriter Katie Herzig. The album was recorded at her own St. Cecelia Studios in Nashville together with Cason Cooley. The album was mixed by Justin Gerrish and was self-released.', 'is_supporting': False}, {'idx': 14, 'text': '# Honeyburst\\nHoneyburst is the second studio album by Danish singer-songwriter Tim Christensen, released on 1 September 2003 on CD and vinyl. The vinyl edition of the album was re-released through the record label Parlophone on April 19, 2014.', 'is_supporting': False}, {'idx': 15, 'text': '# Take It All Away\\nTake It All Away is the debut major-label studio album from American pop rock singer-songwriter Ryan Cabrera, and was released in 2004 on Atlantic Records. From this album, three hit singles were released; \"On the Way Down\", \"True\", and \"40 Kinds of Sadness\".', 'is_supporting': False}, {'idx': 16, 'text': '# Un día\\nUn día (; Spanish for \"One day\") is the fifth studio album of Argentine singer-songwriter Juana Molina. It was first released on October 6, 2008 by Domino Records. Sonically, the album is an abstract and consists of layered loops. It received generally positive reviews from music critics.', 'is_supporting': False}, {'idx': 17, 'text': \"# You Were Right (Brendan Benson album)\\nYou Were Right is the sixth studio album by American singer-songwriter Brendan Benson. The album was released in December 2013 under Benson's own label Readymade Records in the US, and Lojinx in Europe.\", 'is_supporting': False}, {'idx': 18, 'text': '# De La Noche: The True Story – A Poperetta\\nDe La Noche: The True Story – A Poperetta is the fifth and final studio album by American actor, singer and songwriter Paul Jabara.', 'is_supporting': False}, {'idx': 19, 'text': '# Party (Iggy Pop album)\\nParty is the fifth solo studio album by American rock singer Iggy Pop. It was released in June 1981 by record label Arista. For this record, Pop collaborated with Ivan Kral, who is best known as the guitar and bass player for Patti Smith in the 1970s.', 'is_supporting': False}], 'answers': ['Dramatico'], 'question_decomposition': [{'answer': 'Katie Melua', 'id': 142965, 'paragraph_support_idx': 6, 'question': 'Which singer-songwriter is Nine Million Bicycles the fifth studio album of?'}, {'answer': 'Dramatico', 'id': 178655, 'paragraph_support_idx': 7, 'question': '#1 >> record label'}]}) (input_keys={'docs', 'question'}): the JSON object must be str, bytes or bytearray, not NoneType. Set `provide_traceback=True` to see the stack trace.\n"
     ]
    },
    {
     "name": "stdout",
     "output_type": "stream",
     "text": [
      "🍩 https://wandb.ai/bdsaglam/mhqa-dspy-debug/r/call/0194fde2-72f2-7ef0-a54a-936c0b2156a1\n",
      "Average Metric: 4.18 / 10 (41.8%):  90%|█████████ | 9/10 [01:17<00:06,  6.94s/it]"
     ]
    },
    {
     "data": {
      "application/vnd.jupyter.widget-view+json": {
       "model_id": "a430380ccf984f2dada5ed96fd903a35",
       "version_major": 2,
       "version_minor": 0
      },
      "text/plain": [
       "Scoring...:   0%|          | 0/1 [00:00<?, ?it/s]"
      ]
     },
     "metadata": {},
     "output_type": "display_data"
    },
    {
     "data": {
      "application/vnd.jupyter.widget-view+json": {
       "model_id": "3e6fb5057e4c43a4824941de745f06df",
       "version_major": 2,
       "version_minor": 0
      },
      "text/plain": [
       "Scoring...:   0%|          | 0/1 [00:00<?, ?it/s]"
      ]
     },
     "metadata": {},
     "output_type": "display_data"
    },
    {
     "data": {
      "application/vnd.jupyter.widget-view+json": {
       "model_id": "fcda9303021d4c6cb3f751c7a1efeef4",
       "version_major": 2,
       "version_minor": 0
      },
      "text/plain": [
       "Scoring...:   0%|          | 0/1 [00:00<?, ?it/s]"
      ]
     },
     "metadata": {},
     "output_type": "display_data"
    },
    {
     "data": {
      "application/vnd.jupyter.widget-view+json": {
       "model_id": "79c02cb4327c4d9fad176058eec0b29b",
       "version_major": 2,
       "version_minor": 0
      },
      "text/plain": [
       "Scoring...:   0%|          | 0/1 [00:00<?, ?it/s]"
      ]
     },
     "metadata": {},
     "output_type": "display_data"
    },
    {
     "name": "stdout",
     "output_type": "stream",
     "text": [
      "🍩 https://wandb.ai/bdsaglam/mhqa-dspy-debug/r/call/0194fde2-76d2-7ab3-ae9b-ad6c1bd781be\n",
      "🍩 https://wandb.ai/bdsaglam/mhqa-dspy-debug/r/call/0194fde2-b35c-7540-86f7-a90cd0a8c889\n",
      "Average Metric: 4.52 / 10 (45.2%): 100%|██████████| 10/10 [01:32<00:00,  9.26s/it]"
     ]
    },
    {
     "name": "stderr",
     "output_type": "stream",
     "text": [
      "2025/02/13 08:58:00 INFO dspy.evaluate.evaluate: Average Metric: 4.515151515151515 / 10 (45.2%)\n"
     ]
    },
    {
     "name": "stdout",
     "output_type": "stream",
     "text": [
      "\n"
     ]
    },
    {
     "ename": "TypeError",
     "evalue": "unsupported operand type(s) for /: 'str' and 'str'",
     "output_type": "error",
     "traceback": [
      "\u001b[0;31m---------------------------------------------------------------------------\u001b[0m",
      "\u001b[0;31mTypeError\u001b[0m                                 Traceback (most recent call last)",
      "\u001b[1;32m/home/baris/repos/pipeline-mhqa-dspy/nbs/debug.ipynb Cell 4\u001b[0m line \u001b[0;36m3\n\u001b[1;32m     <a href='vscode-notebook-cell://ssh-remote%2Bbiltir-baris/home/baris/repos/pipeline-mhqa-dspy/nbs/debug.ipynb#W2sdnNjb2RlLXJlbW90ZQ%3D%3D?line=28'>29</a>\u001b[0m \u001b[39m# Save the results\u001b[39;00m\n\u001b[1;32m     <a href='vscode-notebook-cell://ssh-remote%2Bbiltir-baris/home/baris/repos/pipeline-mhqa-dspy/nbs/debug.ipynb#W2sdnNjb2RlLXJlbW90ZQ%3D%3D?line=29'>30</a>\u001b[0m result_df \u001b[39m=\u001b[39m make_results_dataframe(results)\n\u001b[0;32m---> <a href='vscode-notebook-cell://ssh-remote%2Bbiltir-baris/home/baris/repos/pipeline-mhqa-dspy/nbs/debug.ipynb#W2sdnNjb2RlLXJlbW90ZQ%3D%3D?line=30'>31</a>\u001b[0m result_df\u001b[39m.\u001b[39mto_json(out \u001b[39m/\u001b[39;49m \u001b[39m\"\u001b[39;49m\u001b[39mresults.jsonl\u001b[39;49m\u001b[39m\"\u001b[39;49m, orient\u001b[39m=\u001b[39m\u001b[39m\"\u001b[39m\u001b[39mrecords\u001b[39m\u001b[39m\"\u001b[39m, lines\u001b[39m=\u001b[39m\u001b[39mTrue\u001b[39;00m)\n\u001b[1;32m     <a href='vscode-notebook-cell://ssh-remote%2Bbiltir-baris/home/baris/repos/pipeline-mhqa-dspy/nbs/debug.ipynb#W2sdnNjb2RlLXJlbW90ZQ%3D%3D?line=32'>33</a>\u001b[0m \u001b[39m# Save the scores\u001b[39;00m\n\u001b[1;32m     <a href='vscode-notebook-cell://ssh-remote%2Bbiltir-baris/home/baris/repos/pipeline-mhqa-dspy/nbs/debug.ipynb#W2sdnNjb2RlLXJlbW90ZQ%3D%3D?line=33'>34</a>\u001b[0m scores \u001b[39m=\u001b[39m aggregate_scores(result_df)\n",
      "\u001b[0;31mTypeError\u001b[0m: unsupported operand type(s) for /: 'str' and 'str'"
     ]
    }
   ],
   "source": [
    "# Set up LLM\n",
    "configure_lm(model, temperature)\n",
    "\n",
    "# Load and preprocess datasets\n",
    "if \"musique\" in dataset_path:\n",
    "    from mhqa.musique import load_examples\n",
    "\n",
    "    examples = preprocess_examples(load_examples(dataset_path, dataset_name, dataset_split), technique)[:10]\n",
    "    print(f\"Loaded {len(examples)} examples\")\n",
    "else:\n",
    "    raise ValueError(f\"Unknown dataset: {dataset_path}\")\n",
    "\n",
    "# Create the program\n",
    "program = make_program(technique=technique, retriever_name=retriever, top_k=top_k)\n",
    "if load_from and load_from != \"UNSET\":\n",
    "    print(f\"Loading model from {load_from}\")\n",
    "    program.load(load_from)\n",
    "\n",
    "# Evaluate the program\n",
    "evaluate_program = Evaluate(\n",
    "    metric=evaluate_answer,\n",
    "    devset=examples,\n",
    "    num_threads=1,\n",
    "    display_progress=True,\n",
    "    return_outputs=True,\n",
    ")\n",
    "_, results = evaluate_program(program)"
   ]
  },
  {
   "cell_type": "code",
   "execution_count": null,
   "metadata": {},
   "outputs": [],
   "source": [
    "out.mkdir(parents=True, exist_ok=True)\n",
    "\n",
    "# Save the results\n",
    "result_df = make_results_dataframe(results)\n",
    "result_df.to_json(out / \"results.jsonl\", orient=\"records\", lines=True)\n",
    "\n",
    "# Save the scores\n",
    "scores = aggregate_scores(result_df)\n",
    "for n_hops in result_df[\"n_hops\"].unique():\n",
    "    scores[f\"{n_hops}hops\"] = aggregate_scores(result_df[result_df[\"n_hops\"] == n_hops])\n",
    "\n",
    "with open(out / \"scores.json\", \"w\") as f:\n",
    "    json.dump(scores, f, indent=2)\n"
   ]
  },
  {
   "cell_type": "code",
   "execution_count": null,
   "metadata": {},
   "outputs": [],
   "source": []
  }
 ],
 "metadata": {
  "language_info": {
   "name": "python"
  }
 },
 "nbformat": 4,
 "nbformat_minor": 2
}
