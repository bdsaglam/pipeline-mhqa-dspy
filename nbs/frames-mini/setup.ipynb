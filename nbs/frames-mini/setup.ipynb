{
 "cells": [
  {
   "cell_type": "code",
   "execution_count": 73,
   "metadata": {},
   "outputs": [],
   "source": [
    "import itertools\n",
    "import json\n",
    "from pathlib import Path\n",
    "\n",
    "import pandas as pd"
   ]
  },
  {
   "cell_type": "code",
   "execution_count": 74,
   "metadata": {},
   "outputs": [],
   "source": [
    "def product_experiment_configs(params_record):\n",
    "    # Generate all possible combinations of parameters\n",
    "    keys = params_record.keys()\n",
    "    values = params_record.values()\n",
    "    for instance in itertools.product(*values):\n",
    "        yield dict(zip(keys, instance))"
   ]
  },
  {
   "cell_type": "code",
   "execution_count": 75,
   "metadata": {},
   "outputs": [],
   "source": [
    "exp_configs = []"
   ]
  },
  {
   "cell_type": "code",
   "execution_count": 76,
   "metadata": {},
   "outputs": [],
   "source": [
    "common_params = {\n",
    "    \"params.train.dataset.path\": [\"bdsaglam/frames-musique-mini\"],\n",
    "    \"params.train.dataset.name\": [\"default\"],\n",
    "    \"params.train.dataset.split\": ['test[:20]'],\n",
    "    \"params.train.optimizer\": [\n",
    "        \"noop\",\n",
    "        \"bfsrs-one-shot\",\n",
    "        \"miprov2-light\",\n",
    "    ],\n",
    "    \"params.train.ensemble\": [\n",
    "        \"no\",\n",
    "        # \"yes\",\n",
    "    ],\n",
    "    \"params.evaluation.dataset.path\": [\"bdsaglam/frames-musique-mini\"],\n",
    "    \"params.evaluation.dataset.name\": [\"default\"],\n",
    "    \"params.evaluation.dataset.split\": ['test[20:]'],\n",
    "    \"params.qa.model\": [\n",
    "        \"qwen-2.5-32b\",\n",
    "        # \"llama-3.3-70b\"\n",
    "    ],\n",
    "    \"params.qa.temperature\": [\n",
    "        0.0,\n",
    "        0.5,\n",
    "        # 1.0\n",
    "    ],\n",
    "    \"params.run\": [\n",
    "        1,\n",
    "        # 2,\n",
    "        # 3,\n",
    "    ],\n",
    "}"
   ]
  },
  {
   "cell_type": "code",
   "execution_count": 77,
   "metadata": {},
   "outputs": [],
   "source": [
    "params_records = [\n",
    "    {\n",
    "        \"params.retrieve.model_type\": [\n",
    "            \"golden\",\n",
    "            # \"t5\",\n",
    "        ],\n",
    "        \"params.retrieve.top_k\": [\n",
    "            1,\n",
    "        ],\n",
    "        \"params.qa.technique\": [\n",
    "            # \"standard\",\n",
    "            \"cot\",\n",
    "        ],\n",
    "    }\n",
    "]\n",
    "\n",
    "for params_record in params_records:\n",
    "    for exp_config in product_experiment_configs({**common_params, **params_record}):\n",
    "        exp_configs.append(exp_config)"
   ]
  },
  {
   "cell_type": "code",
   "execution_count": 78,
   "metadata": {},
   "outputs": [
    {
     "name": "stdout",
     "output_type": "stream",
     "text": [
      "6 experiment configurations\n"
     ]
    }
   ],
   "source": [
    "print(f\"{len(exp_configs)} experiment configurations\")"
   ]
  },
  {
   "cell_type": "code",
   "execution_count": 79,
   "metadata": {},
   "outputs": [
    {
     "data": {
      "text/plain": [
       "dict_keys(['params.train.dataset.path', 'params.train.dataset.name', 'params.train.dataset.split', 'params.train.optimizer', 'params.train.ensemble', 'params.evaluation.dataset.path', 'params.evaluation.dataset.name', 'params.evaluation.dataset.split', 'params.qa.model', 'params.qa.temperature', 'params.run', 'params.retrieve.model_type', 'params.retrieve.top_k', 'params.qa.technique'])"
      ]
     },
     "execution_count": 79,
     "metadata": {},
     "output_type": "execute_result"
    }
   ],
   "source": [
    "target_params = exp_configs[0].keys()\n",
    "target_params"
   ]
  },
  {
   "cell_type": "code",
   "execution_count": 80,
   "metadata": {},
   "outputs": [
    {
     "name": "stdout",
     "output_type": "stream",
     "text": [
      "4 experiments\n"
     ]
    },
    {
     "data": {
      "text/plain": [
       "{'id': '30027cd1a73a2d74acdd721adefe95e24cd3a0c1',\n",
       " 'name': 'pasty-sley',\n",
       " 'params.train.dataset.path': 'bdsaglam/frames-musique-mini',\n",
       " 'params.train.dataset.name': 'default',\n",
       " 'params.train.dataset.split': 'test[:20]',\n",
       " 'params.train.optimizer': 'miprov2-light',\n",
       " 'params.train.ensemble': 'no',\n",
       " 'params.evaluation.dataset.path': 'bdsaglam/frames-musique-mini',\n",
       " 'params.evaluation.dataset.name': 'default',\n",
       " 'params.evaluation.dataset.split': 'test[20:]',\n",
       " 'params.retrieve.model_type': 'golden',\n",
       " 'params.retrieve.top_k': 1,\n",
       " 'params.qa.model': 'qwen-2.5-32b',\n",
       " 'params.qa.temperature': 0.0,\n",
       " 'params.qa.technique': 'cot',\n",
       " 'params.run': 1,\n",
       " 'metrics.exact_match': 0.4125,\n",
       " 'metrics.f1': 0.5498376549,\n",
       " 'metrics.0hops.exact_match': 0.4125,\n",
       " 'metrics.0hops.f1': 0.5498376549}"
      ]
     },
     "execution_count": 80,
     "metadata": {},
     "output_type": "execute_result"
    }
   ],
   "source": [
    "results_path = Path(\"exps.jsonl\")\n",
    "if results_path.exists():\n",
    "    with open(results_path) as f:\n",
    "        experiments = [json.loads(line) for line in f]\n",
    "else:\n",
    "    experiments = []\n",
    "\n",
    "print(f\"{len(experiments)} experiments\")\n",
    "next(iter(experiments), None)"
   ]
  },
  {
   "cell_type": "code",
   "execution_count": 81,
   "metadata": {},
   "outputs": [
    {
     "name": "stdout",
     "output_type": "stream",
     "text": [
      "4 experiments after preprocessing\n"
     ]
    }
   ],
   "source": [
    "df = pd.DataFrame(experiments)\n",
    "\n",
    "param_cols = [col for col in df.columns if col.startswith(\"params.\")]\n",
    "metric_cols = [col for col in df.columns if col.startswith(\"metrics.\")]\n",
    "\n",
    "df.dropna(subset=param_cols, inplace=True, how=\"any\")\n",
    "df.drop_duplicates(subset=param_cols, inplace=True)\n",
    "\n",
    "print(f\"{len(df)} experiments after preprocessing\")"
   ]
  },
  {
   "cell_type": "code",
   "execution_count": 82,
   "metadata": {},
   "outputs": [],
   "source": [
    "if len(df):\n",
    "    existing_configs = df[target_params].to_dict(orient=\"records\")\n",
    "    existing_configs[0]\n",
    "else:\n",
    "    existing_configs = []"
   ]
  },
  {
   "cell_type": "code",
   "execution_count": 83,
   "metadata": {},
   "outputs": [
    {
     "data": {
      "text/plain": [
       "['params.train.dataset.path',\n",
       " 'params.train.dataset.name',\n",
       " 'params.train.dataset.split',\n",
       " 'params.train.optimizer',\n",
       " 'params.train.ensemble',\n",
       " 'params.evaluation.dataset.path',\n",
       " 'params.evaluation.dataset.name',\n",
       " 'params.evaluation.dataset.split',\n",
       " 'params.qa.model',\n",
       " 'params.qa.temperature',\n",
       " 'params.run',\n",
       " 'params.retrieve.model_type',\n",
       " 'params.retrieve.top_k',\n",
       " 'params.qa.technique']"
      ]
     },
     "execution_count": 83,
     "metadata": {},
     "output_type": "execute_result"
    }
   ],
   "source": [
    "target_params = list(exp_configs[0].keys())\n",
    "target_params"
   ]
  },
  {
   "cell_type": "code",
   "execution_count": 84,
   "metadata": {},
   "outputs": [
    {
     "name": "stdout",
     "output_type": "stream",
     "text": [
      "2 missing configurations\n"
     ]
    },
    {
     "data": {
      "text/plain": [
       "{'params.evaluation.dataset.name': 'default',\n",
       " 'params.evaluation.dataset.path': 'bdsaglam/frames-musique-mini',\n",
       " 'params.evaluation.dataset.split': 'test[20:]',\n",
       " 'params.qa.model': 'qwen-2.5-32b',\n",
       " 'params.qa.technique': 'cot',\n",
       " 'params.qa.temperature': 0.5,\n",
       " 'params.retrieve.model_type': 'golden',\n",
       " 'params.retrieve.top_k': 1,\n",
       " 'params.run': 1,\n",
       " 'params.train.dataset.name': 'default',\n",
       " 'params.train.dataset.path': 'bdsaglam/frames-musique-mini',\n",
       " 'params.train.dataset.split': 'test[:20]',\n",
       " 'params.train.ensemble': 'no',\n",
       " 'params.train.optimizer': 'bfsrs-one-shot'}"
      ]
     },
     "execution_count": 84,
     "metadata": {},
     "output_type": "execute_result"
    }
   ],
   "source": [
    "# find the missing configurations\n",
    "missing_configs = [\n",
    "    dict(kv)\n",
    "    for kv in list(\n",
    "        {tuple(sorted(config.items())) for config in exp_configs}\n",
    "        - {tuple(sorted(config.items())) for config in existing_configs}\n",
    "    )\n",
    "]\n",
    "print(f\"{len(missing_configs)} missing configurations\")\n",
    "next(iter(missing_configs), None)\n"
   ]
  },
  {
   "cell_type": "code",
   "execution_count": 85,
   "metadata": {},
   "outputs": [],
   "source": [
    "def make_command(exp_config):\n",
    "    lines = [\"dvc exp run --queue\"]\n",
    "    for target_param in target_params:\n",
    "        arg_name = target_param.split(\".\", 1)[-1]\n",
    "        arg_value = exp_config[target_param]\n",
    "        if isinstance(arg_value, str) and '[' in arg_value:\n",
    "            arg_value = f'\"{arg_value}\"'\n",
    "        lines.append(f\"-S {arg_name}='{arg_value}'\")\n",
    "\n",
    "    command = \" \\\\\\n    \".join(lines)\n",
    "    return command"
   ]
  },
  {
   "cell_type": "code",
   "execution_count": 86,
   "metadata": {},
   "outputs": [],
   "source": [
    "with open(\"run.sh\", \"w\") as f:\n",
    "    f.write(\"#!/bin/sh\\n\\n\")\n",
    "    for exp_config in missing_configs:\n",
    "        f.write(make_command(exp_config))\n",
    "        f.write(\"\\n\\n\")"
   ]
  },
  {
   "cell_type": "code",
   "execution_count": null,
   "metadata": {},
   "outputs": [],
   "source": []
  }
 ],
 "metadata": {
  "kernelspec": {
   "display_name": "thesis",
   "language": "python",
   "name": "python3"
  },
  "language_info": {
   "codemirror_mode": {
    "name": "ipython",
    "version": 3
   },
   "file_extension": ".py",
   "mimetype": "text/x-python",
   "name": "python",
   "nbconvert_exporter": "python",
   "pygments_lexer": "ipython3",
   "version": "3.10.16"
  }
 },
 "nbformat": 4,
 "nbformat_minor": 2
}
