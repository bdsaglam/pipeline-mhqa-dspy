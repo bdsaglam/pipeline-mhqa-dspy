{
 "cells": [
  {
   "cell_type": "code",
   "execution_count": 19,
   "metadata": {},
   "outputs": [],
   "source": [
    "import random\n",
    "import textwrap\n",
    "import pandas as pd \n",
    "from ipywidgets import widgets, HBox\n",
    "from pathlib import Path\n"
   ]
  },
  {
   "cell_type": "code",
   "execution_count": 20,
   "metadata": {},
   "outputs": [
    {
     "name": "stdout",
     "output_type": "stream",
     "text": [
      "100\n"
     ]
    },
    {
     "data": {
      "text/html": [
       "<div>\n",
       "<style scoped>\n",
       "    .dataframe tbody tr th:only-of-type {\n",
       "        vertical-align: middle;\n",
       "    }\n",
       "\n",
       "    .dataframe tbody tr th {\n",
       "        vertical-align: top;\n",
       "    }\n",
       "\n",
       "    .dataframe thead th {\n",
       "        text-align: right;\n",
       "    }\n",
       "</style>\n",
       "<table border=\"1\" class=\"dataframe\">\n",
       "  <thead>\n",
       "    <tr style=\"text-align: right;\">\n",
       "      <th></th>\n",
       "      <th>id</th>\n",
       "      <th>question</th>\n",
       "      <th>context</th>\n",
       "      <th>docs</th>\n",
       "      <th>answers</th>\n",
       "      <th>question_decomposition</th>\n",
       "      <th>predicted_reasoning</th>\n",
       "      <th>predicted_answer</th>\n",
       "      <th>score</th>\n",
       "      <th>n_hops</th>\n",
       "      <th>exact_match</th>\n",
       "      <th>f1</th>\n",
       "    </tr>\n",
       "  </thead>\n",
       "  <tbody>\n",
       "    <tr>\n",
       "      <th>0</th>\n",
       "      <td>history_1859-902f2cd7-1fd4-4519-9611-0815f380cc95</td>\n",
       "      <td>How many percent are not  female householder w...</td>\n",
       "      <td># \\nThere were 88,296 households out of which ...</td>\n",
       "      <td>[{'idx': 0, 'text': '# \n",
       "There were 88,296 hous...</td>\n",
       "      <td>[90.9, 90.9, 9.1, 90.9]</td>\n",
       "      <td>[]</td>\n",
       "      <td>The context states that 9.1% of households had...</td>\n",
       "      <td>90.9%</td>\n",
       "      <td>0</td>\n",
       "      <td>0</td>\n",
       "      <td>0</td>\n",
       "      <td>0.400000</td>\n",
       "    </tr>\n",
       "    <tr>\n",
       "      <th>1</th>\n",
       "      <td>history_2196-5d38562b-d4f0-43f9-b33f-387b56a226cc</td>\n",
       "      <td>Which group for households is larger: married ...</td>\n",
       "      <td># \\nAs of 2000, there were 19,306 households o...</td>\n",
       "      <td>[{'idx': 0, 'text': '# \n",
       "As of 2000, there were...</td>\n",
       "      <td>[married couples living together, married coup...</td>\n",
       "      <td>[]</td>\n",
       "      <td>The context provides percentages for different...</td>\n",
       "      <td>married couples living together</td>\n",
       "      <td>0</td>\n",
       "      <td>0</td>\n",
       "      <td>0</td>\n",
       "      <td>0.666667</td>\n",
       "    </tr>\n",
       "    <tr>\n",
       "      <th>2</th>\n",
       "      <td>history_3400-b46de4d7-0e58-4dac-b1c0-2deaba0defa8</td>\n",
       "      <td>What age categories were included in the senio...</td>\n",
       "      <td># \\n, the gender distribution of the populatio...</td>\n",
       "      <td>[{'idx': 0, 'text': '# \n",
       ", the gender distribut...</td>\n",
       "      <td>[60 and 69 years old, 70 to 79, 80 to 89, 90 t...</td>\n",
       "      <td>[]</td>\n",
       "      <td>The senior population distribution refers to t...</td>\n",
       "      <td>60 to 69 years old, 70 to 79 years old, 80 to ...</td>\n",
       "      <td>0</td>\n",
       "      <td>0</td>\n",
       "      <td>0</td>\n",
       "      <td>0.666667</td>\n",
       "    </tr>\n",
       "    <tr>\n",
       "      <th>3</th>\n",
       "      <td>nfl_1672-666a4d2c-75af-49ab-b254-9cf6b3eb0f70</td>\n",
       "      <td>how many yards did collins complete?</td>\n",
       "      <td># \\n The Titans began their season at Heinz Fi...</td>\n",
       "      <td>[{'idx': 0, 'text': '# \n",
       " The Titans began thei...</td>\n",
       "      <td>[16, 16]</td>\n",
       "      <td>[]</td>\n",
       "      <td>The context mentions that Kerry Collins comple...</td>\n",
       "      <td>16</td>\n",
       "      <td>0</td>\n",
       "      <td>0</td>\n",
       "      <td>0</td>\n",
       "      <td>0.666667</td>\n",
       "    </tr>\n",
       "    <tr>\n",
       "      <th>4</th>\n",
       "      <td>history_1954-2c054bf0-1177-4f44-865c-a6e02d20494e</td>\n",
       "      <td>How many more people, in terms of percentage, ...</td>\n",
       "      <td># \\nAs of the census of 2000, there were 19,23...</td>\n",
       "      <td>[{'idx': 0, 'text': '# \n",
       "As of the census of 20...</td>\n",
       "      <td>[95.09, 95.09]</td>\n",
       "      <td>[]</td>\n",
       "      <td>The two biggest racial groups are White (82.39...</td>\n",
       "      <td>95.09%</td>\n",
       "      <td>0</td>\n",
       "      <td>0</td>\n",
       "      <td>0</td>\n",
       "      <td>0.666667</td>\n",
       "    </tr>\n",
       "  </tbody>\n",
       "</table>\n",
       "</div>"
      ],
      "text/plain": [
       "                                                  id  \\\n",
       "0  history_1859-902f2cd7-1fd4-4519-9611-0815f380cc95   \n",
       "1  history_2196-5d38562b-d4f0-43f9-b33f-387b56a226cc   \n",
       "2  history_3400-b46de4d7-0e58-4dac-b1c0-2deaba0defa8   \n",
       "3      nfl_1672-666a4d2c-75af-49ab-b254-9cf6b3eb0f70   \n",
       "4  history_1954-2c054bf0-1177-4f44-865c-a6e02d20494e   \n",
       "\n",
       "                                            question  \\\n",
       "0  How many percent are not  female householder w...   \n",
       "1  Which group for households is larger: married ...   \n",
       "2  What age categories were included in the senio...   \n",
       "3               how many yards did collins complete?   \n",
       "4  How many more people, in terms of percentage, ...   \n",
       "\n",
       "                                             context  \\\n",
       "0  # \\nThere were 88,296 households out of which ...   \n",
       "1  # \\nAs of 2000, there were 19,306 households o...   \n",
       "2  # \\n, the gender distribution of the populatio...   \n",
       "3  # \\n The Titans began their season at Heinz Fi...   \n",
       "4  # \\nAs of the census of 2000, there were 19,23...   \n",
       "\n",
       "                                                docs  \\\n",
       "0  [{'idx': 0, 'text': '# \n",
       "There were 88,296 hous...   \n",
       "1  [{'idx': 0, 'text': '# \n",
       "As of 2000, there were...   \n",
       "2  [{'idx': 0, 'text': '# \n",
       ", the gender distribut...   \n",
       "3  [{'idx': 0, 'text': '# \n",
       " The Titans began thei...   \n",
       "4  [{'idx': 0, 'text': '# \n",
       "As of the census of 20...   \n",
       "\n",
       "                                             answers question_decomposition  \\\n",
       "0                            [90.9, 90.9, 9.1, 90.9]                     []   \n",
       "1  [married couples living together, married coup...                     []   \n",
       "2  [60 and 69 years old, 70 to 79, 80 to 89, 90 t...                     []   \n",
       "3                                           [16, 16]                     []   \n",
       "4                                     [95.09, 95.09]                     []   \n",
       "\n",
       "                                 predicted_reasoning  \\\n",
       "0  The context states that 9.1% of households had...   \n",
       "1  The context provides percentages for different...   \n",
       "2  The senior population distribution refers to t...   \n",
       "3  The context mentions that Kerry Collins comple...   \n",
       "4  The two biggest racial groups are White (82.39...   \n",
       "\n",
       "                                    predicted_answer  score  n_hops  \\\n",
       "0                                              90.9%      0       0   \n",
       "1                    married couples living together      0       0   \n",
       "2  60 to 69 years old, 70 to 79 years old, 80 to ...      0       0   \n",
       "3                                                 16      0       0   \n",
       "4                                             95.09%      0       0   \n",
       "\n",
       "   exact_match        f1  \n",
       "0            0  0.400000  \n",
       "1            0  0.666667  \n",
       "2            0  0.666667  \n",
       "3            0  0.666667  \n",
       "4            0  0.666667  "
      ]
     },
     "execution_count": 20,
     "metadata": {},
     "output_type": "execute_result"
    }
   ],
   "source": [
    "df = pd.read_json('../../tmp/chief-aces/data/generated/evaluation/results.jsonl', lines=True)\n",
    "print(len(df))\n",
    "df.head()"
   ]
  },
  {
   "cell_type": "code",
   "execution_count": 21,
   "metadata": {},
   "outputs": [
    {
     "name": "stdout",
     "output_type": "stream",
     "text": [
      "Fail: 39\n",
      "Success: 61\n",
      "Total: 100\n",
      "Mean F1: 0.538\n"
     ]
    }
   ],
   "source": [
    "success_mask = df['f1'] > 0.5\n",
    "fail_df = df[~success_mask]\n",
    "success_df = df[success_mask]\n",
    "print(\"Fail:\", len(fail_df))\n",
    "print(\"Success:\", len(success_df))\n",
    "print(\"Total:\", len(df))\n",
    "print(\"Mean F1:\", f\"{df['f1'].mean():.3f}\")"
   ]
  },
  {
   "cell_type": "code",
   "execution_count": 22,
   "metadata": {},
   "outputs": [
    {
     "data": {
      "application/vnd.jupyter.widget-view+json": {
       "model_id": "1064611cae0c48b89efcf42bca3ee2be",
       "version_major": 2,
       "version_minor": 0
      },
      "text/plain": [
       "HBox(children=(Button(description='Previous', style=ButtonStyle()), IntText(value=0, description='Index:'), Bu…"
      ]
     },
     "metadata": {},
     "output_type": "display_data"
    },
    {
     "data": {
      "application/vnd.jupyter.widget-view+json": {
       "model_id": "94dc455795d34e34bd9d5fa1744d1288",
       "version_major": 2,
       "version_minor": 0
      },
      "text/plain": [
       "Output()"
      ]
     },
     "metadata": {},
     "output_type": "display_data"
    }
   ],
   "source": [
    "def fixedwidth(text):\n",
    "    return \"\\n\".join(textwrap.wrap(text, width=80, replace_whitespace=False))\n",
    "\n",
    "def format_row(row):\n",
    "    output = []\n",
    "    output.append(f\"{row['id']} - {row['n_hops']} hops\")\n",
    "    output.append(\"=\"*80)\n",
    "    output.append(fixedwidth(row['context']))\n",
    "    output.append(\"=\"*80)\n",
    "    output.append(\"Q: \" + row['question'])\n",
    "    output.append(\"Reference Answers: \" + str(row['answers']))\n",
    "    output.append(\"Predicted Answer: \" + row['predicted_answer'])\n",
    "    output.append(\"\")\n",
    "    output.append(\"# Scores\")\n",
    "    output.append(\"EM: {:.3f}\".format(row['exact_match']))\n",
    "    output.append(\"F1: {:.3f}\".format(row['f1']))\n",
    "    if 'analysis' in row:\n",
    "        output.append(\"\")\n",
    "        output.append(\"# Analysis\")\n",
    "        output.append(fixedwidth(row['analysis']))\n",
    "    return \"\\n\".join(output)\n",
    "\n",
    "def present_row(row):\n",
    "    print(format_row(row))\n",
    "\n",
    "\n",
    "def create_browse_app(df):\n",
    "    def browse_failed(i=0):\n",
    "        row = df.iloc[i]\n",
    "        present_row(row)\n",
    "\n",
    "    index = widgets.IntText(value=0, description='Index:')\n",
    "    left_button = widgets.Button(description='Previous')\n",
    "    right_button = widgets.Button(description='Next')\n",
    "\n",
    "    def on_left_button_clicked(b):\n",
    "        if index.value > 0:\n",
    "            index.value -= 1\n",
    "\n",
    "    def on_right_button_clicked(b):\n",
    "        if index.value < len(df) - 1:\n",
    "            index.value += 1\n",
    "\n",
    "    left_button.on_click(on_left_button_clicked)\n",
    "    right_button.on_click(on_right_button_clicked)\n",
    "\n",
    "    ui = HBox([left_button, index, right_button])\n",
    "    out = widgets.interactive_output(browse_failed, {'i': index})\n",
    "\n",
    "    display(ui, out)\n",
    "\n",
    "# Usage\n",
    "\n",
    "inspect_df = fail_df.sort_values('f1')\n",
    "create_browse_app(inspect_df)\n"
   ]
  },
  {
   "cell_type": "code",
   "execution_count": 24,
   "metadata": {},
   "outputs": [
    {
     "data": {
      "text/plain": [
       "id                        history_2765-0e223311-f4ff-473f-8443-29d65d1a07f9\n",
       "question                  How many percent of people were not African Am...\n",
       "context                   # \\nAs of 2011 the 88,112 residents of Orem ha...\n",
       "docs                      [{'idx': 0, 'text': '# \n",
       "As of 2011 the 88,112 ...\n",
       "answers                                                      [99.67, 99.67]\n",
       "question_decomposition                                                   []\n",
       "predicted_reasoning       The context provides the racial composition of...\n",
       "predicted_answer                                                      99.1%\n",
       "score                                                                     0\n",
       "n_hops                                                                    0\n",
       "exact_match                                                               0\n",
       "f1                                                                      0.0\n",
       "Name: 43, dtype: object"
      ]
     },
     "execution_count": 24,
     "metadata": {},
     "output_type": "execute_result"
    }
   ],
   "source": [
    "inspect_df.iloc[0]"
   ]
  },
  {
   "cell_type": "code",
   "execution_count": null,
   "metadata": {},
   "outputs": [],
   "source": []
  }
 ],
 "metadata": {
  "kernelspec": {
   "display_name": ".venv",
   "language": "python",
   "name": "python3"
  },
  "language_info": {
   "codemirror_mode": {
    "name": "ipython",
    "version": 3
   },
   "file_extension": ".py",
   "mimetype": "text/x-python",
   "name": "python",
   "nbconvert_exporter": "python",
   "pygments_lexer": "ipython3",
   "version": "3.10.12"
  }
 },
 "nbformat": 4,
 "nbformat_minor": 4
}
