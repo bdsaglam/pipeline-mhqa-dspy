{
 "cells": [
  {
   "cell_type": "code",
   "execution_count": 1,
   "metadata": {},
   "outputs": [],
   "source": [
    "from copy import deepcopy\n",
    "import json\n",
    "import os\n",
    "import pandas as pd\n",
    "from pathlib import Path\n",
    "\n",
    "import dspy\n",
    "from dspy.evaluate import Evaluate\n",
    "from datasets import load_dataset\n",
    "from bellem.utils import set_seed\n",
    "from bellem.musique.eval import (\n",
    "    aggregate_scores,\n",
    "    compute_scores,\n",
    "    compute_scores_dataframe,\n",
    ")\n",
    "from dotenv import load_dotenv\n",
    "\n",
    "\n",
    "load_dotenv()\n",
    "\n",
    "set_seed(89)\n",
    "\n",
    "\n",
    "def configure_lm(model, temperature):\n",
    "    lm = dspy.LM(\n",
    "        \"openai/\" + model,\n",
    "        temperature=temperature,\n",
    "        cache=False,\n",
    "        api_base=os.getenv(\"OPENAI_BASE_URL\"),\n",
    "        api_key=os.getenv(\"OPENAI_API_KEY\"),\n",
    "    )\n",
    "    dspy.configure(lm=lm)\n",
    "\n",
    "\n",
    "def format_paragraph(paragraph):\n",
    "    text = paragraph[\"paragraph_text\"]\n",
    "    title = paragraph[\"title\"]\n",
    "    return f\"# {title}\\n{text}\"\n",
    "\n",
    "\n",
    "def make_example(record):\n",
    "    supporting_paragraphs = [p for p in record[\"paragraphs\"] if p[\"is_supporting\"]]\n",
    "    context = \"\\n\\n\".join([format_paragraph(p) for p in supporting_paragraphs])\n",
    "    return dspy.Example(\n",
    "        id=record[\"id\"],\n",
    "        question=record[\"question\"],\n",
    "        question_decomposition=record[\"question_decomposition\"],\n",
    "        context=context,\n",
    "        answer=record[\"answer\"],\n",
    "        answers=[record[\"answer\"], *record[\"answer_aliases\"]],\n",
    "    ).with_inputs(\"question\", \"context\")\n",
    "\n",
    "\n",
    "class GenerateAnswer(dspy.Signature):\n",
    "    \"\"\"Answer the question based on the given context.\"\"\"\n",
    "\n",
    "    context = dspy.InputField(desc=\"may contain relevant facts\")\n",
    "    question = dspy.InputField()\n",
    "    answer = dspy.OutputField(desc=\"often between 1 and 5 words\")\n",
    "\n",
    "\n",
    "class QAModule(dspy.Module):\n",
    "    def __init__(self, predict_cls=dspy.Predict):\n",
    "        super().__init__()\n",
    "        self.generate_answer = predict_cls(GenerateAnswer)\n",
    "\n",
    "    def forward(self, context, question):\n",
    "        return self.generate_answer(context=context, question=question)\n",
    "\n",
    "\n",
    "def get_predict_cls(technique):\n",
    "    if technique == \"standard\":\n",
    "        return dspy.Predict\n",
    "    elif technique == \"cot\":\n",
    "        return dspy.ChainOfThought\n",
    "    elif technique == \"cot-fixed\":\n",
    "        from bellem.dspy.predict.cot import ChainOfThought\n",
    "        return ChainOfThought\n",
    "    elif technique == \"cte\":\n",
    "        from bellem.dspy.predict.cte import ConnectTheEntities\n",
    "\n",
    "        return ConnectTheEntities\n",
    "    else:\n",
    "        raise ValueError(f\"Unknown technique: {technique}\")\n",
    "\n",
    "\n",
    "def evaluate_answer(example, pred, trace=None):\n",
    "    scores = compute_scores(pred.answer, example.answers)\n",
    "    return scores[\"f1\"]\n",
    "\n",
    "\n",
    "def dynamic_import(module, name):\n",
    "    import importlib\n",
    "\n",
    "    return getattr(importlib.import_module(module), name)\n",
    "\n",
    "\n",
    "def make_optimizer(optimizer_config: dict):\n",
    "    cls = dynamic_import(\"dspy.teleprompt\", optimizer_config[\"class\"])\n",
    "    kwargs = deepcopy(optimizer_config[\"params\"])\n",
    "    if optimizer_config[\"with_metric\"]:\n",
    "        kwargs[\"metric\"] = evaluate_answer\n",
    "    return cls(**kwargs)\n",
    "\n",
    "\n",
    "def preprocess_result(result):\n",
    "    example, pred, score = result\n",
    "    predictions = {f\"predicted_{k}\": v for k, v in dict(pred).items()}\n",
    "    return {**dict(example), **predictions, \"score\": float(score)}\n",
    "\n",
    "\n",
    "def make_results_dataframe(results):\n",
    "    dataf = pd.json_normalize([preprocess_result(result) for result in results])\n",
    "    dataf[\"n_hops\"] = dataf[\"question_decomposition\"].apply(len)\n",
    "    dataf['predicted_answer'] = dataf['predicted_answer'].fillna(\"No Answer\")\n",
    "    return compute_scores_dataframe(dataf)\n"
   ]
  },
  {
   "cell_type": "code",
   "execution_count": 2,
   "metadata": {},
   "outputs": [],
   "source": [
    "dataset_path: str = \"bdsaglam/hotpotqa-distractor-mini\"\n",
    "dataset_name: str = \"default\"\n",
    "dataset_split: str = \"train\"\n",
    "model: str = \"llama-3-70b-tgi\"\n",
    "temperature: float = 0.1\n",
    "technique: str = \"cot\"\n",
    "load_from: str = \"UNSET\"\n",
    "optimizer = \"bfs-medium\"\n",
    "optimizer_path: Path = Path(f\"../data/raw/optimizer-configs/{optimizer}.json\")\n",
    "out: Path = Path(\"compiled-program.json\")"
   ]
  },
  {
   "cell_type": "code",
   "execution_count": 3,
   "metadata": {},
   "outputs": [
    {
     "name": "stdout",
     "output_type": "stream",
     "text": [
      "Loaded 300 examples\n"
     ]
    },
    {
     "name": "stderr",
     "output_type": "stream",
     "text": [
      "  3%|▎         | 10/300 [10:40<5:09:37, 64.06s/it]\n",
      "  0%|          | 0/300 [00:00<?, ?it/s]\n",
      "  0%|          | 0/300 [00:00<?, ?it/s]\n",
      "  0%|          | 0/300 [00:00<?, ?it/s]\n",
      "  0%|          | 0/300 [00:00<?, ?it/s]\n",
      "  0%|          | 0/300 [00:00<?, ?it/s]\n",
      "  0%|          | 0/300 [00:00<?, ?it/s]\n",
      "  0%|          | 0/300 [00:00<?, ?it/s]\n",
      "  0%|          | 0/300 [00:00<?, ?it/s]\n",
      "  0%|          | 0/300 [00:00<?, ?it/s]"
     ]
    },
    {
     "name": "stdout",
     "output_type": "stream",
     "text": [
      "Bootstrapped 8 full traces after 1 examples in round 9.\n"
     ]
    },
    {
     "name": "stderr",
     "output_type": "stream",
     "text": [
      "\n"
     ]
    }
   ],
   "source": [
    "# Set up LLM\n",
    "configure_lm(model, temperature)\n",
    "\n",
    "# Load and preprocess datasets\n",
    "ds = load_dataset(dataset_path, dataset_name, split=dataset_split)\n",
    "examples = [make_example(record) for record in ds]\n",
    "print(f\"Loaded {len(examples)} examples\")\n",
    "\n",
    "# Create the program\n",
    "program = QAModule(predict_cls=get_predict_cls(technique))\n",
    "if load_from and load_from != \"UNSET\":\n",
    "    print(f\"Loading model from {load_from}\")\n",
    "    program.load(load_from)\n",
    "\n",
    "# Train the program\n",
    "with open(optimizer_path) as f:\n",
    "    optimizer_config = json.load(f)\n",
    "\n",
    "if optimizer_config:\n",
    "    optimizer = make_optimizer(optimizer_config)\n",
    "    compile_params = optimizer_config.get(\"compile_params\", {})\n",
    "    trained_program = optimizer.compile(program, trainset=examples, **compile_params)\n",
    "else:\n",
    "    trained_program = program\n",
    "\n",
    "# Save the trained program\n",
    "trained_program.save(out)"
   ]
  },
  {
   "cell_type": "code",
   "execution_count": 4,
   "metadata": {},
   "outputs": [
    {
     "data": {
      "text/plain": [
       "[Example({'augmented': True, 'context': \"# Last Child (band)\\nLast Child is an Indonesian pop punk/ alternative rock band formed in 2006.  The band's current members are Virgoun Teguh (vocals and guitar), Rachmad Firdaus (guitar), Dimas Rangga (vocals and bass).  It has released one mini album and two studio albums.\\n\\n# The Frames\\nThe Frames are an Irish band based in Dublin.  Founded in 1990 by Glen Hansard, the band has been influential in the Dublin rock music scene.  The group has released six albums.  In addition to Hansard, the band's current lineup includes original member Colm Mac Con Iomaire, Joe Doyle, Rob Bochnik and Graham Hopkins.\", 'question': 'What band as been influential in the Dublin rock music scene, The Frames or  Last Child?', 'reasoning': 'The context states that The Frames have been influential in the Dublin rock music scene, but there is no mention of Last Child being influential in the Dublin rock music scene.', 'answer': 'The Frames'}) (input_keys=None),\n",
       " Example({'augmented': True, 'context': '# Maggie Grace\\nMaggie Grace (born Margaret Grace Denig; September 21, 1983) is an American actress, best known for her roles as Shannon Rutherford on the ABC television series \"Lost\" and Kim Mills in the \"Taken\" trilogy.  She has also appeared on \"The Twilight Saga\" as \"Irina\".  Originally from Worthington, Ohio, she went on to earn a Young Artist Award nomination in 2002 with her portrayal of 15-year-old murder victim Martha Moxley in the television movie \"Murder in Greenwich\".  In 2004, Grace was cast as Shannon Rutherford in the television series \"Lost\", on which she was a main cast member for the first two seasons, winning a Screen Actors Guild Award shared with the ensemble cast.  Leaving the series, Grace was keen to work more prominently in film, she appeared in \"The Jane Austen Book Club\" (both 2007), and opposite Liam Neeson as Kim Mills in \"Taken\" in 2008.  She reprised the role in \"Taken 2\" (2012) and \"Taken 3\" (2015).\\n\\n# Taken 2\\nTaken 2 is a 2012 American action thriller film directed by Olivier Megaton which stars Liam Neeson, Maggie Grace, Famke Janssen, Rade Šerbedžija, Leland Orser, Jon Gries, D.B. Sweeney and Luke Grimes.', 'question': 'Maggie Grace, an American actress, appeared in  \"Taken 2\", a 2012 American action thriller film directed by who?', 'reasoning': 'The context mentions that Maggie Grace appeared in \"Taken 2\", a 2012 American action thriller film directed by Olivier Megaton.', 'answer': 'Olivier Megaton'}) (input_keys=None),\n",
       " Example({'augmented': True, 'context': \"# Delhi Technological University\\nDelhi Technological University (DTU), formerly known as Delhi College of Engineering is an engineering university located in New Delhi, India.  It is one of the oldest engineering colleges in India and Delhi's first engineering college.  It was established in 1941 as Delhi Polytechnic and was under the control of the Government of India.  The college has been under the government of the National Capital Territory of Delhi since 1963 and was affiliated with the University of Delhi from 1952 to 2009.  In 2009, the college was given state university status, thus changing its name to Delhi Technological University.  Till the year 2009, DCE shared its admission procedure and syllabus for various B.E courses with their other branch known as Netaji Subhas Institute of Technology, formerly DIT, which were prescribed by Faculty of Technology, University of Delhi.\\n\\n# Memorial University of Newfoundland\\nMemorial University of Newfoundland, colloquially known as Memorial University or MUN ( ), is a comprehensive university based in St. John's, Newfoundland and Labrador, Canada.\", 'question': 'Delhi Technological University and Memorial University of Newfoundland, are universities?', 'reasoning': 'The context provides information about two institutions, Delhi Technological University and Memorial University of Newfoundland. Both institutions are referred to as universities in their respective descriptions.', 'answer': 'Yes, they are.'}) (input_keys=None),\n",
       " Example({'augmented': True, 'context': '# Woodbury Common Premium Outlets\\nWoodbury Common Premium Outlets is an outlet center located in Central Valley, New York.  The center is owned by Premium Outlets, a subsidiary of Simon Property Group, and takes its name from the town in which it is located.  Opened in late 1985, expanded in 1993, and again in 1998, the center now has 220 stores occupying more than 800,000 square feet (72,000 m²) and is one of the largest contiguous outlet centers in the world.  Due to its size, different areas are color-coded to help visitors orient themselves, and on weekends, trolleys are available to transport shoppers from the parking lots and around the center.\\n\\n# The Mills at Jersey Gardens\\nThe Mills at Jersey Gardens, originally Jersey Gardens and later The Outlet Collection | Jersey Gardens is a two-level indoor outlet mall in Elizabeth, New Jersey.  The mall opened on October 21, 1999, and is the largest outlet mall in New Jersey, and much closer to New York City than its largest outlet mall competitor, Woodbury Common.', 'question': 'The Mills at Jersey Gardens, originally Jersey Gardens and later The Outlet Collection | Jersey Gardens is a two-level indoor outlet mall in Elizabeth, New Jersey, the mall opened on which date, and is the largest outlet mall in New Jersey, and much closer to New York City than its largest outlet mall competitor, Woodbury Common Premium Outlets?', 'reasoning': 'The question asks for the opening date of The Mills at Jersey Gardens, which is mentioned in the context as October 21, 1999.', 'answer': 'October 21, 1999'}) (input_keys=None),\n",
       " Example({'augmented': True, 'context': \"# 2015 CONSUR Women's Sevens Championships\\nThe 2015 CONSUR Women's Sevens Championships is an Olympic qualification tournament for Rugby sevens at the 2016 Summer Olympics which will be held in Santa Fe, Argentina on 5-7 June 2015.\\n\\n# Santa Fe, Argentina\\nSanta Fe de la Vera Cruz (usually called just Santa Fe) is the capital city of the province of Santa Fe, Argentina.  It is situated in north-eastern Argentina, near the junction of the Paraná and Salado rivers.  It lies 15 kilometers from the Hernandarias Subfluvial Tunnel that connects it to the city of Paraná.  The city is also connected by canal with the port of Colastiné on the Paraná River.  Santa Fe has about 500.000 inhabitants as per the 2010 census .  The metropolitan area has a population of 653.073, making it the eighth largest in Argentina.  The third largest city in Argentina is Rosario, also located in Santa Fe Province.  Rosario has a population of 1.24 million and it is the largest city in Argentina not to be a provincial capital.\", 'question': \"The 2015 CONSUR Women's Sevens Championships is an Olympic qualification tournament for Rugby sevens at the 2016 Summer Olympics which will be held during which time span, Santa Fe de la Vera Cruz (usually called just Santa Fe) is the capital city of the province of Santa Fe, Argentina?\", 'reasoning': \"The question is asking for the time span during which the 2015 CONSUR Women's Sevens Championships will be held. According to the context, the tournament will be held on 5-7 June 2015.\", 'answer': '5-7 June 2015'}) (input_keys=None),\n",
       " Example({'augmented': True, 'context': '# Ahmed bin Saeed Al Maktoum\\nShiekh Ahmed bin Saeed Al Maktoum (Arabic: أحمد بن سعيد آل مكتوم\\u200e \\u200e ; born 1 December 1958) is president of the Dubai Civil Aviation Authority, CEO and chairman of the Emirates Group, chairman of Dubai World, and Noor Takaful insurance company.  He is chairman of the Dubai Supreme Fiscal Committee, and second vice chairman of the Dubai Executive Council.\\n\\n# Grosvenor House (Dubai)\\nGrosvenor House is a twin tower complex in Dubai Marina in Dubai, United Arab Emirates.  The two towers, Grosvenor House West Marina Beach and Grosvenor House The Residence, stand at the same height of 210 metres (690 ft) with 48 floors each.  The complex, which is owned by Sheikh Ahmed bin Saeed Al Maktoum, is named after the Grosvenor House in London.', 'question': 'Grosvenor House is a twin tower complex in Dubai Marina in Dubai, United Arab Emirates, the complex, which is owned by Sheikh Ahmed bin Saeed Al Maktoum,   is president of the Dubai Civil Aviation Authority, CEO and chairman of which organization, chairman of Dubai World, and Noor Takaful insurance company?', 'reasoning': 'The question is asking about the organization where Sheikh Ahmed bin Saeed Al Maktoum is the CEO and chairman, in addition to being the owner of Grosvenor House complex. This information is provided in the context about Sheikh Ahmed bin Saeed Al Maktoum.', 'answer': 'Emirates Group'}) (input_keys=None),\n",
       " Example({'augmented': True, 'context': '# Master\\'s degree\\nA master\\'s degree (from Latin \"magister\") is a second-cycle academic degree awarded by universities or colleges upon completion of a course of study demonstrating mastery or a high-order overview of a specific field of study or area of professional practice.  A master\\'s degree normally requires previous study at the bachelor\\'s level, either as a separate degree or as part of an integrated course.  Within the area studied, master\\'s graduates are expected to possess advanced knowledge of a specialized body of theoretical and applied topics; high order skills in analysis, critical evaluation, or professional application; and the ability to solve complex problems and think rigorously and independently.\\n\\n# Medical school\\nA medical school is a tertiary educational institution—or part of such an institution—that teaches medicine, and awards a professional degree for physicians and surgeons.  Such medical degrees include the Bachelor of Medicine, Bachelor of Surgery (MBBS, MBChB, BMBS), Doctor of Medicine (MD), or Doctor of Osteopathic Medicine (DO).  Many medical schools offer additional degrees, such as a Doctor of Philosophy, Master\\'s degree, a physician assistant program, or other post-secondary education.', 'question': 'What is a second-cycle academic degree awarded by universities or colleges upon completion of a course of study demonstrating mastery or a high-order overview of a specific field of study or area of professional practice, and is a degree offered by Many medical schools which is a tertiary educational institution?', 'reasoning': \"The context provides information about master's degrees and medical schools. The question asks about a specific type of degree that is offered by universities and colleges, as well as by many medical schools. Based on the context, we can identify this degree as a master's degree.\", 'answer': \"Master's degree\"}) (input_keys=None),\n",
       " Example({'augmented': True, 'context': '# Alice\\'s Adventures in Wonderland (ballet)\\nAlice\\'s Adventures in Wonderland is a ballet in three acts by Christopher Wheeldon with a scenario by Nicholas Wright.  It was commissioned by The Royal Ballet, Covent Garden, and the National Ballet of Canada and had its world premiere on Monday, 28 February 2011.  The music by Joby Talbot is the first full-length score (1 hour 40 minutes) for the Royal Ballet in 20 years.\\n\\n# Snow White and the Seven Dwarfs (ballet)\\nSnow White and the Seven Dwarfs is a non-traditional modern ballet rising from the success of other fairytale ballets such as \"Cinderella\", \"Coppélia\", and \"Alice in Wonderland\".', 'question': 'Snow White and the Seven Dwarfs is a non-traditional modern ballet rising from the success of what ballet in three acts by Christoper Wheeldon with a scenario by Nicholas Wright?', 'reasoning': 'The question asks about the ballet that Snow White and the Seven Dwarfs rose from the success of. According to the context, Snow White and the Seven Dwarfs is a non-traditional modern ballet rising from the success of other fairytale ballets such as \"Cinderella\", \"Coppélia\", and \"Alice in Wonderland\". Therefore, the answer is \"Alice in Wonderland\".', 'answer': 'Alice in Wonderland'}) (input_keys=None)]"
      ]
     },
     "execution_count": 4,
     "metadata": {},
     "output_type": "execute_result"
    }
   ],
   "source": [
    "trained_program.named_predictors()[0][1].demos"
   ]
  },
  {
   "cell_type": "code",
   "execution_count": null,
   "metadata": {},
   "outputs": [
    {
     "name": "stdout",
     "output_type": "stream",
     "text": [
      "Loaded 100 examples\n",
      "Loading model from compiled-program.json\n"
     ]
    },
    {
     "name": "stderr",
     "output_type": "stream",
     "text": [
      "Average Metric: 52.91904761904761 / 64  (82.7):  64%|██████▍   | 64/100 [06:01<03:49,  6.39s/it] "
     ]
    }
   ],
   "source": [
    "dataset_split = \"validation\"\n",
    "load_from = \"compiled-program.json\"\n",
    "out = Path(\"results\")\n",
    "\n",
    "out.mkdir(parents=True, exist_ok=True)\n",
    "\n",
    "# Load and preprocess datasets\n",
    "ds = load_dataset(dataset_path, dataset_name, split=dataset_split)\n",
    "examples = [make_example(record) for record in ds]\n",
    "print(f\"Loaded {len(examples)} examples\")\n",
    "\n",
    "# Create the program\n",
    "program = QAModule(predict_cls=get_predict_cls(technique))\n",
    "if load_from and load_from != \"UNSET\":\n",
    "    print(f\"Loading model from {load_from}\")\n",
    "    program.load(load_from)\n",
    "\n",
    "# Evaluate the program\n",
    "evaluate_program = Evaluate(\n",
    "    metric=evaluate_answer,\n",
    "    devset=examples,\n",
    "    num_threads=16,\n",
    "    display_progress=True,\n",
    "    return_outputs=True,\n",
    ")\n",
    "_, results = evaluate_program(program)\n",
    "\n",
    "# Save the results\n",
    "result_df = make_results_dataframe(results)\n",
    "result_df.to_json(out / \"results.jsonl\", orient=\"records\", lines=True)\n",
    "\n",
    "# Save the scores\n",
    "scores = aggregate_scores(result_df)\n",
    "for n_hops in result_df[\"n_hops\"].unique():\n",
    "    scores[f\"{n_hops}hops\"] = aggregate_scores(result_df[result_df[\"n_hops\"] == n_hops])\n",
    "\n",
    "with open(out / \"scores.json\", \"w\") as f:\n",
    "    json.dump(scores, f, indent=2)\n"
   ]
  }
 ],
 "metadata": {
  "kernelspec": {
   "display_name": "baris",
   "language": "python",
   "name": "python3"
  },
  "language_info": {
   "codemirror_mode": {
    "name": "ipython",
    "version": 3
   },
   "file_extension": ".py",
   "mimetype": "text/x-python",
   "name": "python",
   "nbconvert_exporter": "python",
   "pygments_lexer": "ipython3",
   "version": "3.10.14"
  }
 },
 "nbformat": 4,
 "nbformat_minor": 2
}
