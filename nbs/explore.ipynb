{
 "cells": [
  {
   "cell_type": "code",
   "execution_count": 2,
   "metadata": {},
   "outputs": [],
   "source": [
    "import dspy"
   ]
  },
  {
   "cell_type": "code",
   "execution_count": 1,
   "metadata": {},
   "outputs": [
    {
     "name": "stderr",
     "output_type": "stream",
     "text": [
      "/home/baris/repos/pipeline-mhqa-dspy/.venv/lib/python3.11/site-packages/pydantic/_internal/_config.py:345: UserWarning: Valid config keys have changed in V2:\n",
      "* 'fields' has been removed\n",
      "  warnings.warn(message, UserWarning)\n"
     ]
    }
   ],
   "source": [
    "from mhqa.utils import configure_lm\n",
    "\n",
    "configure_lm(\"llama-3.3-70b-tgi\", 0.3)"
   ]
  },
  {
   "cell_type": "code",
   "execution_count": 5,
   "metadata": {},
   "outputs": [
    {
     "data": {
      "text/plain": [
       "Prediction(\n",
       "    reasoning='To find out how many minutes it takes to travel the bridge, we first need to calculate the time it takes in hours and then convert that into minutes. The formula for time is time = distance / speed. Given the distance is 10 km and the speed is 100 km/h, we can calculate the time in hours as 10 km / 100 km/h = 0.1 hours. Since there are 60 minutes in an hour, we convert 0.1 hours into minutes by multiplying by 60: 0.1 hours * 60 minutes/hour = 6 minutes.',\n",
       "    answer='6 minutes'\n",
       ")"
      ]
     },
     "execution_count": 5,
     "metadata": {},
     "output_type": "execute_result"
    }
   ],
   "source": [
    "cot_qa = dspy.ChainOfThought(\"context, question -> answer\")\n",
    "\n",
    "cot_qa(context=\"Bosphorus bridge is 10 km long.\\nA car travels 100 km/h on the bridge.\", question=\"How many minutes do it take to travel the bridge?\")"
   ]
  },
  {
   "cell_type": "code",
   "execution_count": null,
   "metadata": {},
   "outputs": [],
   "source": []
  }
 ],
 "metadata": {
  "language_info": {
   "name": "python"
  }
 },
 "nbformat": 4,
 "nbformat_minor": 2
}
