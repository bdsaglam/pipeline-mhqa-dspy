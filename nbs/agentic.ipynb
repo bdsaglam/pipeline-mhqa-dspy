{
 "cells": [
  {
   "cell_type": "code",
   "execution_count": 1,
   "metadata": {},
   "outputs": [
    {
     "name": "stderr",
     "output_type": "stream",
     "text": [
      "/home/baris/repos/pipeline-mhqa-dspy/.venv/lib/python3.11/site-packages/pydantic/_internal/_config.py:345: UserWarning: Valid config keys have changed in V2:\n",
      "* 'fields' has been removed\n",
      "  warnings.warn(message, UserWarning)\n"
     ]
    }
   ],
   "source": [
    "import json\n",
    "import os\n",
    "from copy import deepcopy\n",
    "from pathlib import Path\n",
    "\n",
    "import dspy\n",
    "import pandas as pd\n",
    "import typer\n",
    "from bellem.musique.eval import (\n",
    "    aggregate_scores,\n",
    "    compute_scores,\n",
    "    compute_scores_dataframe,\n",
    ")\n",
    "from bellem.utils import set_seed\n",
    "from datasets import load_dataset\n",
    "from dotenv import load_dotenv\n",
    "from dspy.evaluate import Evaluate\n",
    "from dspy.teleprompt.ensemble import Ensemble\n",
    "from rich.console import Console\n",
    "\n",
    "print = Console(stderr=True).print\n",
    "\n",
    "load_dotenv()\n",
    "\n",
    "set_seed(89)"
   ]
  },
  {
   "cell_type": "code",
   "execution_count": 2,
   "metadata": {},
   "outputs": [],
   "source": [
    "# import weave\n",
    "# weave.init(project_name=\"mhqa-dspy\")"
   ]
  },
  {
   "cell_type": "code",
   "execution_count": 3,
   "metadata": {},
   "outputs": [],
   "source": [
    "# import mlflow\n",
    "\n",
    "# mlflow.set_tracking_uri(\"http://127.0.0.1:5000/\")\n",
    "# mlflow.set_experiment(\"mhqa-dspy\")\n",
    "# mlflow.dspy.autolog()"
   ]
  },
  {
   "cell_type": "code",
   "execution_count": 4,
   "metadata": {},
   "outputs": [],
   "source": [
    "def configure_lm(model, temperature):\n",
    "    lm = dspy.LM(\n",
    "        \"openai/\" + model,\n",
    "        temperature=temperature,\n",
    "        cache=False,\n",
    "        api_base=os.getenv(\"OPENAI_BASE_URL\"),\n",
    "        api_key=os.getenv(\"OPENAI_API_KEY\"),\n",
    "    )\n",
    "    dspy.configure(lm=lm)\n"
   ]
  },
  {
   "cell_type": "code",
   "execution_count": 5,
   "metadata": {},
   "outputs": [],
   "source": [
    "from mhqa.react import ReAct\n",
    "from mhqa.search import make_search_tool\n",
    "\n",
    "\n",
    "def format_paragraph(paragraph):\n",
    "    text = paragraph[\"paragraph_text\"]\n",
    "    title = paragraph[\"title\"]\n",
    "    return f\"# {title}\\n{text}\"\n",
    "\n",
    "\n",
    "def make_example(record):\n",
    "    docs = [{\"text\": format_paragraph(p), \"idx\": p[\"idx\"]} for p in record[\"paragraphs\"]]\n",
    "    return dspy.Example(\n",
    "        id=record[\"id\"],\n",
    "        question=record[\"question\"],\n",
    "        docs=docs,\n",
    "        question_decomposition=record[\"question_decomposition\"],\n",
    "        answers=[record[\"answer\"], *record[\"answer_aliases\"]],\n",
    "    ).with_inputs(\"question\", \"docs\")\n",
    "\n",
    "\n",
    "def make_program():\n",
    "    search_tool = make_search_tool()\n",
    "    return ReAct(\"question -> answer\", tools=[search_tool])\n",
    "\n",
    "\n",
    "def evaluate_answer(example, pred, trace=None):\n",
    "    scores = compute_scores(pred.answer, example.answers)\n",
    "    return scores[\"f1\"]\n",
    "\n",
    "\n",
    "def dynamic_import(module, name):\n",
    "    import importlib\n",
    "\n",
    "    return getattr(importlib.import_module(module), name)\n",
    "\n",
    "\n",
    "def make_optimizer(optimizer_config: dict):\n",
    "    cls = dynamic_import(\"dspy.teleprompt\", optimizer_config[\"class\"])\n",
    "    kwargs = deepcopy(optimizer_config[\"params\"])\n",
    "    if optimizer_config[\"with_metric\"]:\n",
    "        kwargs[\"metric\"] = evaluate_answer\n",
    "    return cls(**kwargs)\n",
    "\n",
    "\n",
    "def preprocess_result(result):\n",
    "    example, pred, score = result\n",
    "    predictions = {f\"predicted_{k}\": v for k, v in dict(pred).items()}\n",
    "    return {**dict(example), **predictions, \"score\": float(score)}\n",
    "\n",
    "\n",
    "def make_results_dataframe(results):\n",
    "    dataf = pd.json_normalize([preprocess_result(result) for result in results])\n",
    "    dataf[\"n_hops\"] = dataf[\"question_decomposition\"].apply(len)\n",
    "    dataf[\"predicted_answer\"] = dataf[\"predicted_answer\"].fillna(\"No Answer\")\n",
    "    return compute_scores_dataframe(dataf)\n",
    "\n",
    "\n",
    "def train_main(\n",
    "    dataset_path: str = typer.Option(..., help=\"Path to the dataset\"),\n",
    "    dataset_name: str = typer.Option(..., help=\"Name of the dataset\"),\n",
    "    dataset_split: str = typer.Option(..., help=\"Dataset split to use (e.g., 'train', 'validation')\"),\n",
    "    model: str = typer.Option(..., help=\"Name of the model to use\"),\n",
    "    temperature: float = typer.Option(..., help=\"Temperature parameter for the model\"),\n",
    "    load_from: str = typer.Option(default=\"UNSET\", help=\"Path to a saved model to load\"),\n",
    "    optimizer_path: Path = typer.Option(..., help=\"Path to the optimizer config\"),\n",
    "    ensemble: str = typer.Option(\"no\", help=\"Whether to use an ensemble of models\"),\n",
    "    out: Path = typer.Option(..., help=\"Output file for trained program\"),\n",
    "):\n",
    "    out.parent.mkdir(parents=True, exist_ok=True)\n",
    "\n",
    "    # Set up LLM\n",
    "    configure_lm(model, temperature)\n",
    "\n",
    "    # Load and preprocess datasets\n",
    "    ds = load_dataset(dataset_path, dataset_name, split=dataset_split)\n",
    "    examples = [make_example(record) for record in ds]\n",
    "    print(f\"Loaded {len(examples)} examples\")\n",
    "\n",
    "    # Create the program\n",
    "    program = make_program()\n",
    "    if load_from and load_from != \"UNSET\":\n",
    "        print(f\"Loading model from {load_from}\")\n",
    "        program.load(load_from)\n",
    "\n",
    "    # Train the program\n",
    "    with open(optimizer_path) as f:\n",
    "        optimizer_config = json.load(f)\n",
    "\n",
    "    if optimizer_config:\n",
    "        optimizer = make_optimizer(optimizer_config)\n",
    "        compile_params = optimizer_config.get(\"compile_params\", {})\n",
    "        trained_program = optimizer.compile(program, trainset=examples, **compile_params)\n",
    "    else:\n",
    "        trained_program = program\n",
    "\n",
    "    if ensemble == \"yes\":\n",
    "        ensemble_optimizer = Ensemble(reduce_fn=dspy.majority)\n",
    "        candidate_programs = [x[-1] for x in trained_program.candidate_programs]\n",
    "        trained_program = ensemble_optimizer.compile(candidate_programs)\n",
    "\n",
    "    # Save the trained program\n",
    "    trained_program.save(out)\n",
    "\n",
    "    return trained_program\n",
    "\n",
    "def evaluate_main(\n",
    "    dataset_path: str = typer.Option(..., help=\"Path to the dataset\"),\n",
    "    dataset_name: str = typer.Option(..., help=\"Name of the dataset\"),\n",
    "    dataset_split: str = typer.Option(..., help=\"Dataset split to use (e.g., 'train', 'validation')\"),\n",
    "    model: str = typer.Option(..., help=\"Name of the model to use\"),\n",
    "    temperature: float = typer.Option(..., help=\"Temperature parameter for the model\"),\n",
    "    load_from: str = typer.Option(default=\"UNSET\", help=\"Path to a saved model to load\"),\n",
    "    out: Path = typer.Option(..., help=\"Output directory for generated results\"),\n",
    "):\n",
    "    out.mkdir(parents=True, exist_ok=True)\n",
    "\n",
    "    # Set up LLM\n",
    "    configure_lm(model, temperature)\n",
    "\n",
    "    # Load and preprocess datasets\n",
    "    ds = load_dataset(dataset_path, dataset_name, split=dataset_split)\n",
    "    examples = [make_example(record) for record in ds]\n",
    "    print(f\"Loaded {len(examples)} examples\")\n",
    "\n",
    "    # Create the program\n",
    "    program = make_program()\n",
    "    if load_from and load_from != \"UNSET\":\n",
    "        print(f\"Loading model from {load_from}\")\n",
    "        program.load(load_from)\n",
    "\n",
    "    # Evaluate the program\n",
    "    evaluate_program = Evaluate(\n",
    "        metric=evaluate_answer,\n",
    "        devset=examples,\n",
    "        num_threads=4,\n",
    "        display_progress=True,\n",
    "        return_outputs=True,\n",
    "    )\n",
    "    _, results = evaluate_program(program)\n",
    "\n",
    "    # Save the results\n",
    "    result_df = make_results_dataframe(results)\n",
    "    result_df.to_json(out / \"results.jsonl\", orient=\"records\", lines=True)\n",
    "\n",
    "    # Save the scores\n",
    "    scores = aggregate_scores(result_df)\n",
    "    for n_hops in result_df[\"n_hops\"].unique():\n",
    "        scores[f\"{n_hops}hops\"] = aggregate_scores(result_df[result_df[\"n_hops\"] == n_hops])\n",
    "\n",
    "    with open(out / \"scores.json\", \"w\") as f:\n",
    "        json.dump(scores, f, indent=2)\n"
   ]
  },
  {
   "cell_type": "code",
   "execution_count": 6,
   "metadata": {},
   "outputs": [],
   "source": [
    "model='llama-3.3-70b-tgi'\n",
    "# model='meta-llama/Llama-3.3-70B-Instruct-Turbo'\n",
    "# model='llama3.1:8b-instruct-q8_0'\n",
    "# model='llama-3.1-8b-instant'\n",
    "# model='gemini-2.0-flash-lite-preview-02-05'"
   ]
  },
  {
   "cell_type": "code",
   "execution_count": 7,
   "metadata": {},
   "outputs": [
    {
     "data": {
      "text/html": [
       "<pre style=\"white-space:pre;overflow-x:auto;line-height:normal;font-family:Menlo,'DejaVu Sans Mono',consolas,'Courier New',monospace\">Loaded <span style=\"color: #008080; text-decoration-color: #008080; font-weight: bold\">50</span> examples\n",
       "</pre>\n"
      ],
      "text/plain": [
       "Loaded \u001b[1;36m50\u001b[0m examples\n"
      ]
     },
     "metadata": {},
     "output_type": "display_data"
    },
    {
     "name": "stdout",
     "output_type": "stream",
     "text": [
      "Loading default t5 model for language en\n",
      "Default Model: unicamp-dl/InRanker-base\n",
      "Loading T5Ranker model unicamp-dl/InRanker-base (this message can be suppressed by setting verbose=0)\n",
      "No device set\n",
      "Using device cuda\n",
      "No dtype set\n",
      "Using dtype torch.float32\n",
      "Loading model unicamp-dl/InRanker-base, this might take a while...\n",
      "Using device cuda.\n",
      "Using dtype torch.float32.\n"
     ]
    },
    {
     "name": "stderr",
     "output_type": "stream",
     "text": [
      "You are using the default legacy behaviour of the <class 'transformers.models.t5.tokenization_t5.T5Tokenizer'>. This is expected, and simply means that the `legacy` (previous) behavior will be used so nothing changes for you. If you want to use the new behaviour, set `legacy=False`. This should only be set if you understand what it means, and thoroughly read the reason why this was added as explained in https://github.com/huggingface/transformers/pull/24565\n"
     ]
    },
    {
     "name": "stdout",
     "output_type": "stream",
     "text": [
      "T5 true token set to ▁true\n",
      "T5 false token set to ▁false\n",
      "Returning normalised scores...\n",
      "Inputs template set to Query: {query} Document: {text} Relevant:\n",
      "Going to sample between 1 and 8 traces per predictor.\n",
      "Will attempt to bootstrap 4 candidate sets.\n",
      "  0%|          | 0/50 [00:00<?, ?it/s]"
     ]
    },
    {
     "data": {
      "application/vnd.jupyter.widget-view+json": {
       "model_id": "f3ea0709bc834011b016442522f86fb2",
       "version_major": 2,
       "version_minor": 0
      },
      "text/plain": [
       "Scoring...:   0%|          | 0/1 [00:00<?, ?it/s]"
      ]
     },
     "metadata": {},
     "output_type": "display_data"
    },
    {
     "data": {
      "application/vnd.jupyter.widget-view+json": {
       "model_id": "1e17680ce2304ab1bd0b2565a057c347",
       "version_major": 2,
       "version_minor": 0
      },
      "text/plain": [
       "Scoring...:   0%|          | 0/1 [00:00<?, ?it/s]"
      ]
     },
     "metadata": {},
     "output_type": "display_data"
    },
    {
     "data": {
      "application/vnd.jupyter.widget-view+json": {
       "model_id": "7a2c4e69fc22457da0590f6b2947490f",
       "version_major": 2,
       "version_minor": 0
      },
      "text/plain": [
       "Scoring...:   0%|          | 0/1 [00:00<?, ?it/s]"
      ]
     },
     "metadata": {},
     "output_type": "display_data"
    },
    {
     "data": {
      "application/vnd.jupyter.widget-view+json": {
       "model_id": "89245d0c204e4cef8e215658a9525425",
       "version_major": 2,
       "version_minor": 0
      },
      "text/plain": [
       "Scoring...:   0%|          | 0/1 [00:00<?, ?it/s]"
      ]
     },
     "metadata": {},
     "output_type": "display_data"
    },
    {
     "data": {
      "application/vnd.jupyter.widget-view+json": {
       "model_id": "4d7c78a9e8744fdfa2d286d0da8cf5ed",
       "version_major": 2,
       "version_minor": 0
      },
      "text/plain": [
       "Scoring...:   0%|          | 0/1 [00:00<?, ?it/s]"
      ]
     },
     "metadata": {},
     "output_type": "display_data"
    },
    {
     "data": {
      "application/vnd.jupyter.widget-view+json": {
       "model_id": "e9994e85417b4bacbedd525b26deff0c",
       "version_major": 2,
       "version_minor": 0
      },
      "text/plain": [
       "Scoring...:   0%|          | 0/1 [00:00<?, ?it/s]"
      ]
     },
     "metadata": {},
     "output_type": "display_data"
    },
    {
     "name": "stdout",
     "output_type": "stream",
     "text": [
      "Average Metric: 1.27 / 3 (42.4%):   6%|▌         | 3/50 [00:13<02:35,  3.32s/it]"
     ]
    },
    {
     "data": {
      "application/vnd.jupyter.widget-view+json": {
       "model_id": "c22744807c2a4ef2bb3e488de2b519de",
       "version_major": 2,
       "version_minor": 0
      },
      "text/plain": [
       "Scoring...:   0%|          | 0/1 [00:00<?, ?it/s]"
      ]
     },
     "metadata": {},
     "output_type": "display_data"
    },
    {
     "data": {
      "application/vnd.jupyter.widget-view+json": {
       "model_id": "ec620cd966c24d3a93ae095d29c0949a",
       "version_major": 2,
       "version_minor": 0
      },
      "text/plain": [
       "Scoring...:   0%|          | 0/1 [00:00<?, ?it/s]"
      ]
     },
     "metadata": {},
     "output_type": "display_data"
    },
    {
     "data": {
      "application/vnd.jupyter.widget-view+json": {
       "model_id": "d64abfff9a6e4d68aab8700de279de99",
       "version_major": 2,
       "version_minor": 0
      },
      "text/plain": [
       "Scoring...:   0%|          | 0/1 [00:00<?, ?it/s]"
      ]
     },
     "metadata": {},
     "output_type": "display_data"
    },
    {
     "data": {
      "application/vnd.jupyter.widget-view+json": {
       "model_id": "d31a6a2ddfeb427e9b9521dc3d2530a1",
       "version_major": 2,
       "version_minor": 0
      },
      "text/plain": [
       "Scoring...:   0%|          | 0/1 [00:00<?, ?it/s]"
      ]
     },
     "metadata": {},
     "output_type": "display_data"
    },
    {
     "data": {
      "application/vnd.jupyter.widget-view+json": {
       "model_id": "4a3ea1c64bc440df8d940f26e83d69e4",
       "version_major": 2,
       "version_minor": 0
      },
      "text/plain": [
       "Scoring...:   0%|          | 0/1 [00:00<?, ?it/s]"
      ]
     },
     "metadata": {},
     "output_type": "display_data"
    },
    {
     "data": {
      "application/vnd.jupyter.widget-view+json": {
       "model_id": "cfc448de709d44ee881c4ab622541156",
       "version_major": 2,
       "version_minor": 0
      },
      "text/plain": [
       "Scoring...:   0%|          | 0/1 [00:00<?, ?it/s]"
      ]
     },
     "metadata": {},
     "output_type": "display_data"
    },
    {
     "data": {
      "application/vnd.jupyter.widget-view+json": {
       "model_id": "932a2c06182146af80f338f8f08b333c",
       "version_major": 2,
       "version_minor": 0
      },
      "text/plain": [
       "Scoring...:   0%|          | 0/1 [00:00<?, ?it/s]"
      ]
     },
     "metadata": {},
     "output_type": "display_data"
    },
    {
     "name": "stdout",
     "output_type": "stream",
     "text": [
      "Average Metric: 2.43 / 6 (40.4%):  12%|█▏        | 6/50 [00:26<02:17,  3.11s/it]"
     ]
    },
    {
     "data": {
      "application/vnd.jupyter.widget-view+json": {
       "model_id": "b2e14f1fd3a744f29ac78030ee0c8633",
       "version_major": 2,
       "version_minor": 0
      },
      "text/plain": [
       "Scoring...:   0%|          | 0/1 [00:00<?, ?it/s]"
      ]
     },
     "metadata": {},
     "output_type": "display_data"
    },
    {
     "data": {
      "application/vnd.jupyter.widget-view+json": {
       "model_id": "3ce4d484f342480b9fa23edbcc25bb29",
       "version_major": 2,
       "version_minor": 0
      },
      "text/plain": [
       "Scoring...:   0%|          | 0/1 [00:00<?, ?it/s]"
      ]
     },
     "metadata": {},
     "output_type": "display_data"
    },
    {
     "data": {
      "application/vnd.jupyter.widget-view+json": {
       "model_id": "bb53656bcf9544659692099b73db63b9",
       "version_major": 2,
       "version_minor": 0
      },
      "text/plain": [
       "Scoring...:   0%|          | 0/1 [00:00<?, ?it/s]"
      ]
     },
     "metadata": {},
     "output_type": "display_data"
    },
    {
     "data": {
      "application/vnd.jupyter.widget-view+json": {
       "model_id": "946b292534b64a1da819192f7d0771be",
       "version_major": 2,
       "version_minor": 0
      },
      "text/plain": [
       "Scoring...:   0%|          | 0/1 [00:00<?, ?it/s]"
      ]
     },
     "metadata": {},
     "output_type": "display_data"
    },
    {
     "data": {
      "application/vnd.jupyter.widget-view+json": {
       "model_id": "e60a4d5217a649c6a0ae586c93e5370c",
       "version_major": 2,
       "version_minor": 0
      },
      "text/plain": [
       "Scoring...:   0%|          | 0/1 [00:00<?, ?it/s]"
      ]
     },
     "metadata": {},
     "output_type": "display_data"
    },
    {
     "data": {
      "application/vnd.jupyter.widget-view+json": {
       "model_id": "909a5055a3fb4f1f8363158509c75585",
       "version_major": 2,
       "version_minor": 0
      },
      "text/plain": [
       "Scoring...:   0%|          | 0/1 [00:00<?, ?it/s]"
      ]
     },
     "metadata": {},
     "output_type": "display_data"
    },
    {
     "data": {
      "application/vnd.jupyter.widget-view+json": {
       "model_id": "3e08acde1f9a45edb254304f9b746164",
       "version_major": 2,
       "version_minor": 0
      },
      "text/plain": [
       "Scoring...:   0%|          | 0/1 [00:00<?, ?it/s]"
      ]
     },
     "metadata": {},
     "output_type": "display_data"
    },
    {
     "name": "stdout",
     "output_type": "stream",
     "text": [
      "Average Metric: 2.43 / 7 (34.7%):  14%|█▍        | 7/50 [00:36<04:01,  5.62s/it]"
     ]
    },
    {
     "data": {
      "application/vnd.jupyter.widget-view+json": {
       "model_id": "472a6552d16340708c92eec50960414c",
       "version_major": 2,
       "version_minor": 0
      },
      "text/plain": [
       "Scoring...:   0%|          | 0/1 [00:00<?, ?it/s]"
      ]
     },
     "metadata": {},
     "output_type": "display_data"
    },
    {
     "name": "stdout",
     "output_type": "stream",
     "text": [
      "Average Metric: 3.43 / 8 (42.8%):  16%|█▌        | 8/50 [00:39<03:12,  4.59s/it]"
     ]
    },
    {
     "data": {
      "application/vnd.jupyter.widget-view+json": {
       "model_id": "f27faf41e855434e9fc7e7824b73b799",
       "version_major": 2,
       "version_minor": 0
      },
      "text/plain": [
       "Scoring...:   0%|          | 0/1 [00:00<?, ?it/s]"
      ]
     },
     "metadata": {},
     "output_type": "display_data"
    },
    {
     "data": {
      "application/vnd.jupyter.widget-view+json": {
       "model_id": "e7a1769c14ce448898a015ad51e235aa",
       "version_major": 2,
       "version_minor": 0
      },
      "text/plain": [
       "Scoring...:   0%|          | 0/1 [00:00<?, ?it/s]"
      ]
     },
     "metadata": {},
     "output_type": "display_data"
    },
    {
     "data": {
      "application/vnd.jupyter.widget-view+json": {
       "model_id": "9b3c737fd5da486791220b8c71913ce7",
       "version_major": 2,
       "version_minor": 0
      },
      "text/plain": [
       "Scoring...:   0%|          | 0/1 [00:00<?, ?it/s]"
      ]
     },
     "metadata": {},
     "output_type": "display_data"
    },
    {
     "name": "stdout",
     "output_type": "stream",
     "text": [
      "Average Metric: 4.43 / 9 (49.2%):  18%|█▊        | 9/50 [00:44<03:10,  4.64s/it]"
     ]
    },
    {
     "data": {
      "application/vnd.jupyter.widget-view+json": {
       "model_id": "6a4847a3d4f6449c86025262d63e45be",
       "version_major": 2,
       "version_minor": 0
      },
      "text/plain": [
       "Scoring...:   0%|          | 0/1 [00:00<?, ?it/s]"
      ]
     },
     "metadata": {},
     "output_type": "display_data"
    },
    {
     "data": {
      "application/vnd.jupyter.widget-view+json": {
       "model_id": "eb0ce56ceedc4bb3816ddc79015a9c7c",
       "version_major": 2,
       "version_minor": 0
      },
      "text/plain": [
       "Scoring...:   0%|          | 0/1 [00:00<?, ?it/s]"
      ]
     },
     "metadata": {},
     "output_type": "display_data"
    },
    {
     "data": {
      "application/vnd.jupyter.widget-view+json": {
       "model_id": "e828bafae4074f9cb90d2e5caa2a362b",
       "version_major": 2,
       "version_minor": 0
      },
      "text/plain": [
       "Scoring...:   0%|          | 0/1 [00:00<?, ?it/s]"
      ]
     },
     "metadata": {},
     "output_type": "display_data"
    },
    {
     "data": {
      "application/vnd.jupyter.widget-view+json": {
       "model_id": "25ca44817d39414e866c46070df63579",
       "version_major": 2,
       "version_minor": 0
      },
      "text/plain": [
       "Scoring...:   0%|          | 0/1 [00:00<?, ?it/s]"
      ]
     },
     "metadata": {},
     "output_type": "display_data"
    },
    {
     "data": {
      "application/vnd.jupyter.widget-view+json": {
       "model_id": "7631444d1bd64ef0a5ad8de42404da64",
       "version_major": 2,
       "version_minor": 0
      },
      "text/plain": [
       "Scoring...:   0%|          | 0/1 [00:00<?, ?it/s]"
      ]
     },
     "metadata": {},
     "output_type": "display_data"
    },
    {
     "data": {
      "application/vnd.jupyter.widget-view+json": {
       "model_id": "56cd8c76fa884eab88e71d058be73741",
       "version_major": 2,
       "version_minor": 0
      },
      "text/plain": [
       "Scoring...:   0%|          | 0/1 [00:00<?, ?it/s]"
      ]
     },
     "metadata": {},
     "output_type": "display_data"
    },
    {
     "name": "stdout",
     "output_type": "stream",
     "text": [
      "Average Metric: 4.43 / 10 (44.3%):  20%|██        | 10/50 [00:52<03:53,  5.84s/it]"
     ]
    },
    {
     "data": {
      "application/vnd.jupyter.widget-view+json": {
       "model_id": "fc3a12c6c32941dfa0fb10e5e563532b",
       "version_major": 2,
       "version_minor": 0
      },
      "text/plain": [
       "Scoring...:   0%|          | 0/1 [00:00<?, ?it/s]"
      ]
     },
     "metadata": {},
     "output_type": "display_data"
    },
    {
     "data": {
      "application/vnd.jupyter.widget-view+json": {
       "model_id": "9ec6ff54895c4fb59973cae3c81ec82e",
       "version_major": 2,
       "version_minor": 0
      },
      "text/plain": [
       "Scoring...:   0%|          | 0/1 [00:00<?, ?it/s]"
      ]
     },
     "metadata": {},
     "output_type": "display_data"
    },
    {
     "data": {
      "application/vnd.jupyter.widget-view+json": {
       "model_id": "b213b6f71203460fb32ce2e3448895cd",
       "version_major": 2,
       "version_minor": 0
      },
      "text/plain": [
       "Scoring...:   0%|          | 0/1 [00:00<?, ?it/s]"
      ]
     },
     "metadata": {},
     "output_type": "display_data"
    },
    {
     "data": {
      "application/vnd.jupyter.widget-view+json": {
       "model_id": "52a64410aed0411da8648321b54f33a8",
       "version_major": 2,
       "version_minor": 0
      },
      "text/plain": [
       "Scoring...:   0%|          | 0/1 [00:00<?, ?it/s]"
      ]
     },
     "metadata": {},
     "output_type": "display_data"
    },
    {
     "data": {
      "application/vnd.jupyter.widget-view+json": {
       "model_id": "80bc7dcf41c848edb8f2091ab513fb88",
       "version_major": 2,
       "version_minor": 0
      },
      "text/plain": [
       "Scoring...:   0%|          | 0/1 [00:00<?, ?it/s]"
      ]
     },
     "metadata": {},
     "output_type": "display_data"
    },
    {
     "name": "stdout",
     "output_type": "stream",
     "text": [
      "Average Metric: 4.89 / 11 (44.4%):  22%|██▏       | 11/50 [01:03<04:46,  7.35s/it]"
     ]
    },
    {
     "data": {
      "application/vnd.jupyter.widget-view+json": {
       "model_id": "d43d9ee04a1847e09b756696279decc5",
       "version_major": 2,
       "version_minor": 0
      },
      "text/plain": [
       "Scoring...:   0%|          | 0/1 [00:00<?, ?it/s]"
      ]
     },
     "metadata": {},
     "output_type": "display_data"
    },
    {
     "data": {
      "application/vnd.jupyter.widget-view+json": {
       "model_id": "4ab164111b62494fa5dd59d469518b97",
       "version_major": 2,
       "version_minor": 0
      },
      "text/plain": [
       "Scoring...:   0%|          | 0/1 [00:00<?, ?it/s]"
      ]
     },
     "metadata": {},
     "output_type": "display_data"
    },
    {
     "name": "stdout",
     "output_type": "stream",
     "text": [
      "Average Metric: 5.55 / 14 (39.6%):  28%|██▊       | 14/50 [01:14<02:47,  4.65s/it]"
     ]
    },
    {
     "data": {
      "application/vnd.jupyter.widget-view+json": {
       "model_id": "63e67a4d8b1f40b8adc89a9e9273cbc9",
       "version_major": 2,
       "version_minor": 0
      },
      "text/plain": [
       "Scoring...:   0%|          | 0/1 [00:00<?, ?it/s]"
      ]
     },
     "metadata": {},
     "output_type": "display_data"
    },
    {
     "data": {
      "application/vnd.jupyter.widget-view+json": {
       "model_id": "0fc9f9faad3d4611924844f3f4bbe1c8",
       "version_major": 2,
       "version_minor": 0
      },
      "text/plain": [
       "Scoring...:   0%|          | 0/1 [00:00<?, ?it/s]"
      ]
     },
     "metadata": {},
     "output_type": "display_data"
    },
    {
     "name": "stdout",
     "output_type": "stream",
     "text": [
      "Average Metric: 6.48 / 15 (43.2%):  30%|███       | 15/50 [01:17<02:29,  4.27s/it]"
     ]
    },
    {
     "data": {
      "application/vnd.jupyter.widget-view+json": {
       "model_id": "a8c1c0302288474b98eefcf9ffd86659",
       "version_major": 2,
       "version_minor": 0
      },
      "text/plain": [
       "Scoring...:   0%|          | 0/1 [00:00<?, ?it/s]"
      ]
     },
     "metadata": {},
     "output_type": "display_data"
    },
    {
     "data": {
      "application/vnd.jupyter.widget-view+json": {
       "model_id": "a2d8ea1f007147f494b90b11e00cfa55",
       "version_major": 2,
       "version_minor": 0
      },
      "text/plain": [
       "Scoring...:   0%|          | 0/1 [00:00<?, ?it/s]"
      ]
     },
     "metadata": {},
     "output_type": "display_data"
    },
    {
     "data": {
      "application/vnd.jupyter.widget-view+json": {
       "model_id": "0bcef61f05ac4fee98c40292096360a8",
       "version_major": 2,
       "version_minor": 0
      },
      "text/plain": [
       "Scoring...:   0%|          | 0/1 [00:00<?, ?it/s]"
      ]
     },
     "metadata": {},
     "output_type": "display_data"
    },
    {
     "name": "stdout",
     "output_type": "stream",
     "text": [
      "Average Metric: 6.62 / 16 (41.4%):  32%|███▏      | 16/50 [01:23<02:43,  4.80s/it]"
     ]
    },
    {
     "data": {
      "application/vnd.jupyter.widget-view+json": {
       "model_id": "54f6ce708ac6477096e32fc811b3b1a8",
       "version_major": 2,
       "version_minor": 0
      },
      "text/plain": [
       "Scoring...:   0%|          | 0/1 [00:00<?, ?it/s]"
      ]
     },
     "metadata": {},
     "output_type": "display_data"
    },
    {
     "data": {
      "application/vnd.jupyter.widget-view+json": {
       "model_id": "ce2c223e5cf3410aba88c53b692adc03",
       "version_major": 2,
       "version_minor": 0
      },
      "text/plain": [
       "Scoring...:   0%|          | 0/1 [00:00<?, ?it/s]"
      ]
     },
     "metadata": {},
     "output_type": "display_data"
    },
    {
     "name": "stdout",
     "output_type": "stream",
     "text": [
      "Average Metric: 7.12 / 17 (41.9%):  34%|███▍      | 17/50 [01:28<02:40,  4.86s/it]"
     ]
    },
    {
     "data": {
      "application/vnd.jupyter.widget-view+json": {
       "model_id": "a85adb9e25db402b839e269f7a1890b0",
       "version_major": 2,
       "version_minor": 0
      },
      "text/plain": [
       "Scoring...:   0%|          | 0/1 [00:00<?, ?it/s]"
      ]
     },
     "metadata": {},
     "output_type": "display_data"
    },
    {
     "data": {
      "application/vnd.jupyter.widget-view+json": {
       "model_id": "9bb66a427d61492d8b1c477b1915bba8",
       "version_major": 2,
       "version_minor": 0
      },
      "text/plain": [
       "Scoring...:   0%|          | 0/1 [00:00<?, ?it/s]"
      ]
     },
     "metadata": {},
     "output_type": "display_data"
    },
    {
     "data": {
      "application/vnd.jupyter.widget-view+json": {
       "model_id": "d48411c9e1964bcd8f545a1a4f243b33",
       "version_major": 2,
       "version_minor": 0
      },
      "text/plain": [
       "Scoring...:   0%|          | 0/1 [00:00<?, ?it/s]"
      ]
     },
     "metadata": {},
     "output_type": "display_data"
    },
    {
     "data": {
      "application/vnd.jupyter.widget-view+json": {
       "model_id": "b47d40d6ee1d4cf1a478d5e92eae597a",
       "version_major": 2,
       "version_minor": 0
      },
      "text/plain": [
       "Scoring...:   0%|          | 0/1 [00:00<?, ?it/s]"
      ]
     },
     "metadata": {},
     "output_type": "display_data"
    },
    {
     "name": "stdout",
     "output_type": "stream",
     "text": [
      "Average Metric: 7.59 / 19 (39.9%):  38%|███▊      | 19/50 [01:38<02:24,  4.65s/it]"
     ]
    },
    {
     "data": {
      "application/vnd.jupyter.widget-view+json": {
       "model_id": "1947c6e36db9454ca5cd45df997f1afa",
       "version_major": 2,
       "version_minor": 0
      },
      "text/plain": [
       "Scoring...:   0%|          | 0/1 [00:00<?, ?it/s]"
      ]
     },
     "metadata": {},
     "output_type": "display_data"
    },
    {
     "name": "stdout",
     "output_type": "stream",
     "text": [
      "Average Metric: 8.59 / 21 (40.9%):  42%|████▏     | 21/50 [01:40<01:22,  2.85s/it]"
     ]
    },
    {
     "data": {
      "application/vnd.jupyter.widget-view+json": {
       "model_id": "60234ce7242744f385e18b7e11e814a8",
       "version_major": 2,
       "version_minor": 0
      },
      "text/plain": [
       "Scoring...:   0%|          | 0/1 [00:00<?, ?it/s]"
      ]
     },
     "metadata": {},
     "output_type": "display_data"
    },
    {
     "data": {
      "application/vnd.jupyter.widget-view+json": {
       "model_id": "566fa862d4cd4041857ef4706364a193",
       "version_major": 2,
       "version_minor": 0
      },
      "text/plain": [
       "Scoring...:   0%|          | 0/1 [00:00<?, ?it/s]"
      ]
     },
     "metadata": {},
     "output_type": "display_data"
    },
    {
     "data": {
      "application/vnd.jupyter.widget-view+json": {
       "model_id": "bfaeba37ba8a427b8e44029893bd0f5a",
       "version_major": 2,
       "version_minor": 0
      },
      "text/plain": [
       "Scoring...:   0%|          | 0/1 [00:00<?, ?it/s]"
      ]
     },
     "metadata": {},
     "output_type": "display_data"
    },
    {
     "data": {
      "application/vnd.jupyter.widget-view+json": {
       "model_id": "234b04737bd542f0b8f38812ecb3f970",
       "version_major": 2,
       "version_minor": 0
      },
      "text/plain": [
       "Scoring...:   0%|          | 0/1 [00:00<?, ?it/s]"
      ]
     },
     "metadata": {},
     "output_type": "display_data"
    },
    {
     "data": {
      "application/vnd.jupyter.widget-view+json": {
       "model_id": "5469d0e6f7fa4e10a4378351fe23c695",
       "version_major": 2,
       "version_minor": 0
      },
      "text/plain": [
       "Scoring...:   0%|          | 0/1 [00:00<?, ?it/s]"
      ]
     },
     "metadata": {},
     "output_type": "display_data"
    },
    {
     "data": {
      "application/vnd.jupyter.widget-view+json": {
       "model_id": "a0ad659cdc714a999a5cfb7e22f0c896",
       "version_major": 2,
       "version_minor": 0
      },
      "text/plain": [
       "Scoring...:   0%|          | 0/1 [00:00<?, ?it/s]"
      ]
     },
     "metadata": {},
     "output_type": "display_data"
    },
    {
     "data": {
      "application/vnd.jupyter.widget-view+json": {
       "model_id": "8ec16b5f7695491b8f97d86b14f80aa0",
       "version_major": 2,
       "version_minor": 0
      },
      "text/plain": [
       "Scoring...:   0%|          | 0/1 [00:00<?, ?it/s]"
      ]
     },
     "metadata": {},
     "output_type": "display_data"
    },
    {
     "name": "stdout",
     "output_type": "stream",
     "text": [
      "Average Metric: 8.80 / 23 (38.3%):  46%|████▌     | 23/50 [01:57<02:17,  5.10s/it]"
     ]
    },
    {
     "data": {
      "application/vnd.jupyter.widget-view+json": {
       "model_id": "69f17cc135db4f7d9bcfde127e4b6790",
       "version_major": 2,
       "version_minor": 0
      },
      "text/plain": [
       "Scoring...:   0%|          | 0/1 [00:00<?, ?it/s]"
      ]
     },
     "metadata": {},
     "output_type": "display_data"
    },
    {
     "data": {
      "application/vnd.jupyter.widget-view+json": {
       "model_id": "fc53ca9acda84bc99e72f4b24e9f1eba",
       "version_major": 2,
       "version_minor": 0
      },
      "text/plain": [
       "Scoring...:   0%|          | 0/1 [00:00<?, ?it/s]"
      ]
     },
     "metadata": {},
     "output_type": "display_data"
    },
    {
     "data": {
      "application/vnd.jupyter.widget-view+json": {
       "model_id": "a70a90bf8f7b4bbbb0b66458d46bd2c0",
       "version_major": 2,
       "version_minor": 0
      },
      "text/plain": [
       "Scoring...:   0%|          | 0/1 [00:00<?, ?it/s]"
      ]
     },
     "metadata": {},
     "output_type": "display_data"
    },
    {
     "data": {
      "application/vnd.jupyter.widget-view+json": {
       "model_id": "df636c579e914fd687d4f2e1953e61d1",
       "version_major": 2,
       "version_minor": 0
      },
      "text/plain": [
       "Scoring...:   0%|          | 0/1 [00:00<?, ?it/s]"
      ]
     },
     "metadata": {},
     "output_type": "display_data"
    },
    {
     "data": {
      "application/vnd.jupyter.widget-view+json": {
       "model_id": "c1d23f28f7fa406a8e7d453acd8a6441",
       "version_major": 2,
       "version_minor": 0
      },
      "text/plain": [
       "Scoring...:   0%|          | 0/1 [00:00<?, ?it/s]"
      ]
     },
     "metadata": {},
     "output_type": "display_data"
    },
    {
     "name": "stdout",
     "output_type": "stream",
     "text": [
      "Average Metric: 9.80 / 25 (39.2%):  50%|█████     | 25/50 [02:11<02:23,  5.75s/it]"
     ]
    },
    {
     "data": {
      "application/vnd.jupyter.widget-view+json": {
       "model_id": "fe0875f0264f4c53a53de3cb974d8ae1",
       "version_major": 2,
       "version_minor": 0
      },
      "text/plain": [
       "Scoring...:   0%|          | 0/1 [00:00<?, ?it/s]"
      ]
     },
     "metadata": {},
     "output_type": "display_data"
    },
    {
     "name": "stdout",
     "output_type": "stream",
     "text": [
      "Average Metric: 9.80 / 26 (37.7%):  52%|█████▏    | 26/50 [02:12<01:39,  4.17s/it]"
     ]
    },
    {
     "data": {
      "application/vnd.jupyter.widget-view+json": {
       "model_id": "ed1bffbe441848028bf7c423ad283bd9",
       "version_major": 2,
       "version_minor": 0
      },
      "text/plain": [
       "Scoring...:   0%|          | 0/1 [00:00<?, ?it/s]"
      ]
     },
     "metadata": {},
     "output_type": "display_data"
    },
    {
     "data": {
      "application/vnd.jupyter.widget-view+json": {
       "model_id": "96892b0386094a79b9fab6fc87f23e31",
       "version_major": 2,
       "version_minor": 0
      },
      "text/plain": [
       "Scoring...:   0%|          | 0/1 [00:00<?, ?it/s]"
      ]
     },
     "metadata": {},
     "output_type": "display_data"
    },
    {
     "name": "stdout",
     "output_type": "stream",
     "text": [
      "Average Metric: 11.30 / 28 (40.4%):  56%|█████▌    | 28/50 [02:19<01:22,  3.75s/it]"
     ]
    },
    {
     "data": {
      "application/vnd.jupyter.widget-view+json": {
       "model_id": "fd924160027d41329229c3e2afae629e",
       "version_major": 2,
       "version_minor": 0
      },
      "text/plain": [
       "Scoring...:   0%|          | 0/1 [00:00<?, ?it/s]"
      ]
     },
     "metadata": {},
     "output_type": "display_data"
    },
    {
     "data": {
      "application/vnd.jupyter.widget-view+json": {
       "model_id": "4af6e6f909cf4437a3078fd5b7d56790",
       "version_major": 2,
       "version_minor": 0
      },
      "text/plain": [
       "Scoring...:   0%|          | 0/1 [00:00<?, ?it/s]"
      ]
     },
     "metadata": {},
     "output_type": "display_data"
    },
    {
     "name": "stdout",
     "output_type": "stream",
     "text": [
      "Average Metric: 12.30 / 29 (42.4%):  58%|█████▊    | 29/50 [02:24<01:24,  4.03s/it]"
     ]
    },
    {
     "data": {
      "application/vnd.jupyter.widget-view+json": {
       "model_id": "b70b8eeba2034f4ea1e1e90bcd5702bd",
       "version_major": 2,
       "version_minor": 0
      },
      "text/plain": [
       "Scoring...:   0%|          | 0/1 [00:00<?, ?it/s]"
      ]
     },
     "metadata": {},
     "output_type": "display_data"
    },
    {
     "name": "stdout",
     "output_type": "stream",
     "text": [
      "Average Metric: 13.70 / 32 (42.8%):  64%|██████▍   | 32/50 [02:33<00:55,  3.08s/it]"
     ]
    },
    {
     "data": {
      "application/vnd.jupyter.widget-view+json": {
       "model_id": "f322204f4c5d490987d01106fb0d6ead",
       "version_major": 2,
       "version_minor": 0
      },
      "text/plain": [
       "Scoring...:   0%|          | 0/1 [00:00<?, ?it/s]"
      ]
     },
     "metadata": {},
     "output_type": "display_data"
    },
    {
     "data": {
      "application/vnd.jupyter.widget-view+json": {
       "model_id": "e69a9feeb5ec4f7fae319978c6bd57e2",
       "version_major": 2,
       "version_minor": 0
      },
      "text/plain": [
       "Scoring...:   0%|          | 0/1 [00:00<?, ?it/s]"
      ]
     },
     "metadata": {},
     "output_type": "display_data"
    },
    {
     "name": "stdout",
     "output_type": "stream",
     "text": [
      "Average Metric: 14.70 / 33 (44.5%):  66%|██████▌   | 33/50 [02:35<00:48,  2.88s/it]"
     ]
    },
    {
     "data": {
      "application/vnd.jupyter.widget-view+json": {
       "model_id": "9cb4c208d8f64501ae064b12f1b8f004",
       "version_major": 2,
       "version_minor": 0
      },
      "text/plain": [
       "Scoring...:   0%|          | 0/1 [00:00<?, ?it/s]"
      ]
     },
     "metadata": {},
     "output_type": "display_data"
    },
    {
     "data": {
      "application/vnd.jupyter.widget-view+json": {
       "model_id": "6fa9e367ac4446abba1ad24d36e43fda",
       "version_major": 2,
       "version_minor": 0
      },
      "text/plain": [
       "Scoring...:   0%|          | 0/1 [00:00<?, ?it/s]"
      ]
     },
     "metadata": {},
     "output_type": "display_data"
    },
    {
     "data": {
      "application/vnd.jupyter.widget-view+json": {
       "model_id": "4efd2d4ba0c84a1ba14aa52a37397023",
       "version_major": 2,
       "version_minor": 0
      },
      "text/plain": [
       "Scoring...:   0%|          | 0/1 [00:00<?, ?it/s]"
      ]
     },
     "metadata": {},
     "output_type": "display_data"
    },
    {
     "data": {
      "application/vnd.jupyter.widget-view+json": {
       "model_id": "19ba04df2b1b4473b372e2705ef58e14",
       "version_major": 2,
       "version_minor": 0
      },
      "text/plain": [
       "Scoring...:   0%|          | 0/1 [00:00<?, ?it/s]"
      ]
     },
     "metadata": {},
     "output_type": "display_data"
    },
    {
     "data": {
      "application/vnd.jupyter.widget-view+json": {
       "model_id": "0cbda8cfbe024b7e9b82483ad89d32c6",
       "version_major": 2,
       "version_minor": 0
      },
      "text/plain": [
       "Scoring...:   0%|          | 0/1 [00:00<?, ?it/s]"
      ]
     },
     "metadata": {},
     "output_type": "display_data"
    },
    {
     "name": "stdout",
     "output_type": "stream",
     "text": [
      "Average Metric: 15.85 / 35 (45.3%):  70%|███████   | 35/50 [02:45<00:53,  3.57s/it]"
     ]
    },
    {
     "data": {
      "application/vnd.jupyter.widget-view+json": {
       "model_id": "340673ac657c4540884640eb8914abf4",
       "version_major": 2,
       "version_minor": 0
      },
      "text/plain": [
       "Scoring...:   0%|          | 0/1 [00:00<?, ?it/s]"
      ]
     },
     "metadata": {},
     "output_type": "display_data"
    },
    {
     "name": "stdout",
     "output_type": "stream",
     "text": [
      "Average Metric: 15.85 / 36 (44.0%):  72%|███████▏  | 36/50 [02:46<00:40,  2.91s/it]"
     ]
    },
    {
     "data": {
      "application/vnd.jupyter.widget-view+json": {
       "model_id": "7dbbadab66f6400f816c61c965339430",
       "version_major": 2,
       "version_minor": 0
      },
      "text/plain": [
       "Scoring...:   0%|          | 0/1 [00:00<?, ?it/s]"
      ]
     },
     "metadata": {},
     "output_type": "display_data"
    },
    {
     "data": {
      "application/vnd.jupyter.widget-view+json": {
       "model_id": "1dfed6201877440ca3b7362e319d4ee8",
       "version_major": 2,
       "version_minor": 0
      },
      "text/plain": [
       "Scoring...:   0%|          | 0/1 [00:00<?, ?it/s]"
      ]
     },
     "metadata": {},
     "output_type": "display_data"
    },
    {
     "data": {
      "application/vnd.jupyter.widget-view+json": {
       "model_id": "f43d1e3d65694d26909b5a9d6064e7a1",
       "version_major": 2,
       "version_minor": 0
      },
      "text/plain": [
       "Scoring...:   0%|          | 0/1 [00:00<?, ?it/s]"
      ]
     },
     "metadata": {},
     "output_type": "display_data"
    },
    {
     "data": {
      "application/vnd.jupyter.widget-view+json": {
       "model_id": "0eb43962cd314a428ede446d68b10a7b",
       "version_major": 2,
       "version_minor": 0
      },
      "text/plain": [
       "Scoring...:   0%|          | 0/1 [00:00<?, ?it/s]"
      ]
     },
     "metadata": {},
     "output_type": "display_data"
    },
    {
     "data": {
      "application/vnd.jupyter.widget-view+json": {
       "model_id": "05b8dcd8a5d14bcaaaa39fcf7e309602",
       "version_major": 2,
       "version_minor": 0
      },
      "text/plain": [
       "Scoring...:   0%|          | 0/1 [00:00<?, ?it/s]"
      ]
     },
     "metadata": {},
     "output_type": "display_data"
    },
    {
     "data": {
      "application/vnd.jupyter.widget-view+json": {
       "model_id": "7408e5cf0e7243a4a01fa0f948c8416a",
       "version_major": 2,
       "version_minor": 0
      },
      "text/plain": [
       "Scoring...:   0%|          | 0/1 [00:00<?, ?it/s]"
      ]
     },
     "metadata": {},
     "output_type": "display_data"
    },
    {
     "name": "stdout",
     "output_type": "stream",
     "text": [
      "Average Metric: 15.85 / 37 (42.8%):  74%|███████▍  | 37/50 [02:56<01:03,  4.86s/it]"
     ]
    },
    {
     "data": {
      "application/vnd.jupyter.widget-view+json": {
       "model_id": "f66068bd7131474fa4cf498fa2b4e7e5",
       "version_major": 2,
       "version_minor": 0
      },
      "text/plain": [
       "Scoring...:   0%|          | 0/1 [00:00<?, ?it/s]"
      ]
     },
     "metadata": {},
     "output_type": "display_data"
    },
    {
     "data": {
      "application/vnd.jupyter.widget-view+json": {
       "model_id": "6ff6f9d70270447290dfec00983d6bc4",
       "version_major": 2,
       "version_minor": 0
      },
      "text/plain": [
       "Scoring...:   0%|          | 0/1 [00:00<?, ?it/s]"
      ]
     },
     "metadata": {},
     "output_type": "display_data"
    },
    {
     "name": "stdout",
     "output_type": "stream",
     "text": [
      "Average Metric: 16.75 / 39 (43.0%):  78%|███████▊  | 39/50 [03:00<00:36,  3.34s/it]"
     ]
    },
    {
     "data": {
      "application/vnd.jupyter.widget-view+json": {
       "model_id": "c16cf18f0dc745b09ec566deadae3b8c",
       "version_major": 2,
       "version_minor": 0
      },
      "text/plain": [
       "Scoring...:   0%|          | 0/1 [00:00<?, ?it/s]"
      ]
     },
     "metadata": {},
     "output_type": "display_data"
    },
    {
     "data": {
      "application/vnd.jupyter.widget-view+json": {
       "model_id": "200a5dcf59414dbe9e19f0265c9af28c",
       "version_major": 2,
       "version_minor": 0
      },
      "text/plain": [
       "Scoring...:   0%|          | 0/1 [00:00<?, ?it/s]"
      ]
     },
     "metadata": {},
     "output_type": "display_data"
    },
    {
     "data": {
      "application/vnd.jupyter.widget-view+json": {
       "model_id": "63915f9fd1dd46f5b98f3b09c836c32b",
       "version_major": 2,
       "version_minor": 0
      },
      "text/plain": [
       "Scoring...:   0%|          | 0/1 [00:00<?, ?it/s]"
      ]
     },
     "metadata": {},
     "output_type": "display_data"
    },
    {
     "data": {
      "application/vnd.jupyter.widget-view+json": {
       "model_id": "cb2c889410644fde86276ca1fb6cb60b",
       "version_major": 2,
       "version_minor": 0
      },
      "text/plain": [
       "Scoring...:   0%|          | 0/1 [00:00<?, ?it/s]"
      ]
     },
     "metadata": {},
     "output_type": "display_data"
    },
    {
     "data": {
      "application/vnd.jupyter.widget-view+json": {
       "model_id": "7178ccce195a4176aa2567348dc20e4e",
       "version_major": 2,
       "version_minor": 0
      },
      "text/plain": [
       "Scoring...:   0%|          | 0/1 [00:00<?, ?it/s]"
      ]
     },
     "metadata": {},
     "output_type": "display_data"
    },
    {
     "data": {
      "application/vnd.jupyter.widget-view+json": {
       "model_id": "c03f923b2d0d401f93e4139d195b2f62",
       "version_major": 2,
       "version_minor": 0
      },
      "text/plain": [
       "Scoring...:   0%|          | 0/1 [00:00<?, ?it/s]"
      ]
     },
     "metadata": {},
     "output_type": "display_data"
    },
    {
     "name": "stdout",
     "output_type": "stream",
     "text": [
      "Average Metric: 16.95 / 42 (40.4%):  84%|████████▍ | 42/50 [03:15<00:27,  3.47s/it]"
     ]
    },
    {
     "data": {
      "application/vnd.jupyter.widget-view+json": {
       "model_id": "3efd1394c15b474ba66fcec9d654a629",
       "version_major": 2,
       "version_minor": 0
      },
      "text/plain": [
       "Scoring...:   0%|          | 0/1 [00:00<?, ?it/s]"
      ]
     },
     "metadata": {},
     "output_type": "display_data"
    },
    {
     "data": {
      "application/vnd.jupyter.widget-view+json": {
       "model_id": "41f2fb2b65894c9b88b094e28dd0f791",
       "version_major": 2,
       "version_minor": 0
      },
      "text/plain": [
       "Scoring...:   0%|          | 0/1 [00:00<?, ?it/s]"
      ]
     },
     "metadata": {},
     "output_type": "display_data"
    },
    {
     "data": {
      "application/vnd.jupyter.widget-view+json": {
       "model_id": "42946571b2c249718df5d04d3e0ea3b2",
       "version_major": 2,
       "version_minor": 0
      },
      "text/plain": [
       "Scoring...:   0%|          | 0/1 [00:00<?, ?it/s]"
      ]
     },
     "metadata": {},
     "output_type": "display_data"
    },
    {
     "name": "stdout",
     "output_type": "stream",
     "text": [
      "Average Metric: 17.95 / 43 (41.8%):  86%|████████▌ | 43/50 [03:20<00:28,  4.02s/it]"
     ]
    },
    {
     "data": {
      "application/vnd.jupyter.widget-view+json": {
       "model_id": "5e20777b8e6d4e86b01f66f66b106aa8",
       "version_major": 2,
       "version_minor": 0
      },
      "text/plain": [
       "Scoring...:   0%|          | 0/1 [00:00<?, ?it/s]"
      ]
     },
     "metadata": {},
     "output_type": "display_data"
    },
    {
     "data": {
      "application/vnd.jupyter.widget-view+json": {
       "model_id": "bee4664d399e4f80bcbb64f6878c42de",
       "version_major": 2,
       "version_minor": 0
      },
      "text/plain": [
       "Scoring...:   0%|          | 0/1 [00:00<?, ?it/s]"
      ]
     },
     "metadata": {},
     "output_type": "display_data"
    },
    {
     "data": {
      "application/vnd.jupyter.widget-view+json": {
       "model_id": "6652c3bb61f04df293eebca691a66b01",
       "version_major": 2,
       "version_minor": 0
      },
      "text/plain": [
       "Scoring...:   0%|          | 0/1 [00:00<?, ?it/s]"
      ]
     },
     "metadata": {},
     "output_type": "display_data"
    },
    {
     "name": "stdout",
     "output_type": "stream",
     "text": [
      "Average Metric: 19.95 / 45 (44.3%):  90%|█████████ | 45/50 [03:28<00:18,  3.73s/it]"
     ]
    },
    {
     "data": {
      "application/vnd.jupyter.widget-view+json": {
       "model_id": "800552e816d74369a9b2bf4b4acdb3c9",
       "version_major": 2,
       "version_minor": 0
      },
      "text/plain": [
       "Scoring...:   0%|          | 0/1 [00:00<?, ?it/s]"
      ]
     },
     "metadata": {},
     "output_type": "display_data"
    },
    {
     "data": {
      "application/vnd.jupyter.widget-view+json": {
       "model_id": "627fb3cbb9504d4a8c1044b6c013e140",
       "version_major": 2,
       "version_minor": 0
      },
      "text/plain": [
       "Scoring...:   0%|          | 0/1 [00:00<?, ?it/s]"
      ]
     },
     "metadata": {},
     "output_type": "display_data"
    },
    {
     "data": {
      "application/vnd.jupyter.widget-view+json": {
       "model_id": "af37e0c94ed14b4dbf5b737c64e8160a",
       "version_major": 2,
       "version_minor": 0
      },
      "text/plain": [
       "Scoring...:   0%|          | 0/1 [00:00<?, ?it/s]"
      ]
     },
     "metadata": {},
     "output_type": "display_data"
    },
    {
     "name": "stdout",
     "output_type": "stream",
     "text": [
      "Average Metric: 21.08 / 47 (44.8%):  94%|█████████▍| 47/50 [03:34<00:09,  3.20s/it]"
     ]
    },
    {
     "data": {
      "application/vnd.jupyter.widget-view+json": {
       "model_id": "956ae5448cc04c8ca0d79abd3d5a3a9a",
       "version_major": 2,
       "version_minor": 0
      },
      "text/plain": [
       "Scoring...:   0%|          | 0/1 [00:00<?, ?it/s]"
      ]
     },
     "metadata": {},
     "output_type": "display_data"
    },
    {
     "data": {
      "application/vnd.jupyter.widget-view+json": {
       "model_id": "0b0047d86ba341dbbfe446e72b63c943",
       "version_major": 2,
       "version_minor": 0
      },
      "text/plain": [
       "Scoring...:   0%|          | 0/1 [00:00<?, ?it/s]"
      ]
     },
     "metadata": {},
     "output_type": "display_data"
    },
    {
     "data": {
      "application/vnd.jupyter.widget-view+json": {
       "model_id": "e9bda3facaea40fe950f993e7c20bb1f",
       "version_major": 2,
       "version_minor": 0
      },
      "text/plain": [
       "Scoring...:   0%|          | 0/1 [00:00<?, ?it/s]"
      ]
     },
     "metadata": {},
     "output_type": "display_data"
    },
    {
     "name": "stdout",
     "output_type": "stream",
     "text": [
      "Average Metric: 22.18 / 50 (44.4%): 100%|██████████| 50/50 [03:47<00:00,  4.54s/it]"
     ]
    },
    {
     "name": "stderr",
     "output_type": "stream",
     "text": [
      "2025/02/11 14:39:25 INFO dspy.evaluate.evaluate: Average Metric: 22.17803028551273 / 50 (44.4%)\n"
     ]
    },
    {
     "name": "stdout",
     "output_type": "stream",
     "text": [
      "\n",
      "New best score: 44.36 for seed -3\n",
      "Scores so far: [44.36]\n",
      "Best score so far: 44.36\n",
      "  0%|          | 0/50 [00:00<?, ?it/s]"
     ]
    },
    {
     "data": {
      "application/vnd.jupyter.widget-view+json": {
       "model_id": "165eed1b2f0b4b23a0b087c3df3253be",
       "version_major": 2,
       "version_minor": 0
      },
      "text/plain": [
       "Scoring...:   0%|          | 0/1 [00:00<?, ?it/s]"
      ]
     },
     "metadata": {},
     "output_type": "display_data"
    },
    {
     "data": {
      "application/vnd.jupyter.widget-view+json": {
       "model_id": "2fe47a3908b34e5cad4b81e2501c13df",
       "version_major": 2,
       "version_minor": 0
      },
      "text/plain": [
       "Scoring...:   0%|          | 0/1 [00:00<?, ?it/s]"
      ]
     },
     "metadata": {},
     "output_type": "display_data"
    },
    {
     "data": {
      "application/vnd.jupyter.widget-view+json": {
       "model_id": "81cc7eaac83a488b9afcd25c03dbe636",
       "version_major": 2,
       "version_minor": 0
      },
      "text/plain": [
       "Scoring...:   0%|          | 0/1 [00:00<?, ?it/s]"
      ]
     },
     "metadata": {},
     "output_type": "display_data"
    },
    {
     "data": {
      "application/vnd.jupyter.widget-view+json": {
       "model_id": "9df105cd02fc4fa1bb884e4f745efb86",
       "version_major": 2,
       "version_minor": 0
      },
      "text/plain": [
       "Scoring...:   0%|          | 0/1 [00:00<?, ?it/s]"
      ]
     },
     "metadata": {},
     "output_type": "display_data"
    },
    {
     "data": {
      "application/vnd.jupyter.widget-view+json": {
       "model_id": "c5eeca701289468c826d2b338f5c4905",
       "version_major": 2,
       "version_minor": 0
      },
      "text/plain": [
       "Scoring...:   0%|          | 0/1 [00:00<?, ?it/s]"
      ]
     },
     "metadata": {},
     "output_type": "display_data"
    },
    {
     "data": {
      "application/vnd.jupyter.widget-view+json": {
       "model_id": "2bbb16e68ada4e67bc578f4b902d893b",
       "version_major": 2,
       "version_minor": 0
      },
      "text/plain": [
       "Scoring...:   0%|          | 0/1 [00:00<?, ?it/s]"
      ]
     },
     "metadata": {},
     "output_type": "display_data"
    },
    {
     "name": "stdout",
     "output_type": "stream",
     "text": [
      "Average Metric: 0.27 / 2 (13.6%):   4%|▍         | 2/50 [00:13<04:35,  5.74s/it]"
     ]
    },
    {
     "data": {
      "application/vnd.jupyter.widget-view+json": {
       "model_id": "bede1342f6e44673b55a3a89d18d2e1f",
       "version_major": 2,
       "version_minor": 0
      },
      "text/plain": [
       "Scoring...:   0%|          | 0/1 [00:00<?, ?it/s]"
      ]
     },
     "metadata": {},
     "output_type": "display_data"
    },
    {
     "name": "stdout",
     "output_type": "stream",
     "text": [
      "Average Metric: 1.27 / 3 (42.4%):   6%|▌         | 3/50 [00:16<03:28,  4.43s/it]"
     ]
    },
    {
     "data": {
      "application/vnd.jupyter.widget-view+json": {
       "model_id": "ad90c0c3fc7f40bd9b6c84a0c4ef7bf9",
       "version_major": 2,
       "version_minor": 0
      },
      "text/plain": [
       "Scoring...:   0%|          | 0/1 [00:00<?, ?it/s]"
      ]
     },
     "metadata": {},
     "output_type": "display_data"
    },
    {
     "data": {
      "application/vnd.jupyter.widget-view+json": {
       "model_id": "1d38ad1a70074018932da059b2ed7485",
       "version_major": 2,
       "version_minor": 0
      },
      "text/plain": [
       "Scoring...:   0%|          | 0/1 [00:00<?, ?it/s]"
      ]
     },
     "metadata": {},
     "output_type": "display_data"
    },
    {
     "data": {
      "application/vnd.jupyter.widget-view+json": {
       "model_id": "f59ec4dfe1884a718785a57110c48720",
       "version_major": 2,
       "version_minor": 0
      },
      "text/plain": [
       "Scoring...:   0%|          | 0/1 [00:00<?, ?it/s]"
      ]
     },
     "metadata": {},
     "output_type": "display_data"
    },
    {
     "data": {
      "application/vnd.jupyter.widget-view+json": {
       "model_id": "78d66093389741f1b7b9fe99757a91de",
       "version_major": 2,
       "version_minor": 0
      },
      "text/plain": [
       "Scoring...:   0%|          | 0/1 [00:00<?, ?it/s]"
      ]
     },
     "metadata": {},
     "output_type": "display_data"
    },
    {
     "data": {
      "application/vnd.jupyter.widget-view+json": {
       "model_id": "80fa9f1155e9411f8de973b618931236",
       "version_major": 2,
       "version_minor": 0
      },
      "text/plain": [
       "Scoring...:   0%|          | 0/1 [00:00<?, ?it/s]"
      ]
     },
     "metadata": {},
     "output_type": "display_data"
    },
    {
     "data": {
      "application/vnd.jupyter.widget-view+json": {
       "model_id": "35e97b0ff39240b6bfb55cd7941a1961",
       "version_major": 2,
       "version_minor": 0
      },
      "text/plain": [
       "Scoring...:   0%|          | 0/1 [00:00<?, ?it/s]"
      ]
     },
     "metadata": {},
     "output_type": "display_data"
    },
    {
     "data": {
      "application/vnd.jupyter.widget-view+json": {
       "model_id": "a5788cc01d6d4f50ace8b4c864512e3d",
       "version_major": 2,
       "version_minor": 0
      },
      "text/plain": [
       "Scoring...:   0%|          | 0/1 [00:00<?, ?it/s]"
      ]
     },
     "metadata": {},
     "output_type": "display_data"
    },
    {
     "name": "stdout",
     "output_type": "stream",
     "text": [
      "Average Metric: 1.43 / 4 (35.6%):   8%|▊         | 4/50 [00:26<05:10,  6.75s/it]"
     ]
    },
    {
     "data": {
      "application/vnd.jupyter.widget-view+json": {
       "model_id": "263ec0906c5a4e189751d144ae9d13d6",
       "version_major": 2,
       "version_minor": 0
      },
      "text/plain": [
       "Scoring...:   0%|          | 0/1 [00:00<?, ?it/s]"
      ]
     },
     "metadata": {},
     "output_type": "display_data"
    },
    {
     "data": {
      "application/vnd.jupyter.widget-view+json": {
       "model_id": "4dbd4d79e01d4637b209b98b95fb0aa7",
       "version_major": 2,
       "version_minor": 0
      },
      "text/plain": [
       "Scoring...:   0%|          | 0/1 [00:00<?, ?it/s]"
      ]
     },
     "metadata": {},
     "output_type": "display_data"
    },
    {
     "name": "stdout",
     "output_type": "stream",
     "text": [
      "Average Metric: 1.43 / 5 (28.5%):  10%|█         | 5/50 [00:28<03:46,  5.04s/it]"
     ]
    },
    {
     "data": {
      "application/vnd.jupyter.widget-view+json": {
       "model_id": "2c73b14c2ef84dd7b1e051c3e3b2109a",
       "version_major": 2,
       "version_minor": 0
      },
      "text/plain": [
       "Scoring...:   0%|          | 0/1 [00:00<?, ?it/s]"
      ]
     },
     "metadata": {},
     "output_type": "display_data"
    },
    {
     "data": {
      "application/vnd.jupyter.widget-view+json": {
       "model_id": "e61b3b6a5cad496bbd9e91a4281c574a",
       "version_major": 2,
       "version_minor": 0
      },
      "text/plain": [
       "Scoring...:   0%|          | 0/1 [00:00<?, ?it/s]"
      ]
     },
     "metadata": {},
     "output_type": "display_data"
    },
    {
     "data": {
      "application/vnd.jupyter.widget-view+json": {
       "model_id": "41498760f8884dd69b7c0af25e2aab4e",
       "version_major": 2,
       "version_minor": 0
      },
      "text/plain": [
       "Scoring...:   0%|          | 0/1 [00:00<?, ?it/s]"
      ]
     },
     "metadata": {},
     "output_type": "display_data"
    },
    {
     "name": "stdout",
     "output_type": "stream",
     "text": [
      "Average Metric: 1.43 / 6 (23.8%):  12%|█▏        | 6/50 [00:34<04:00,  5.47s/it]"
     ]
    },
    {
     "data": {
      "application/vnd.jupyter.widget-view+json": {
       "model_id": "d467e4a333e64f70b067450df1f4a004",
       "version_major": 2,
       "version_minor": 0
      },
      "text/plain": [
       "Scoring...:   0%|          | 0/1 [00:00<?, ?it/s]"
      ]
     },
     "metadata": {},
     "output_type": "display_data"
    },
    {
     "name": "stdout",
     "output_type": "stream",
     "text": [
      "Average Metric: 2.43 / 7 (34.7%):  14%|█▍        | 7/50 [00:37<03:09,  4.41s/it]"
     ]
    },
    {
     "data": {
      "application/vnd.jupyter.widget-view+json": {
       "model_id": "2d845c1f71d3400f8fe1b39df88e68e0",
       "version_major": 2,
       "version_minor": 0
      },
      "text/plain": [
       "Scoring...:   0%|          | 0/1 [00:00<?, ?it/s]"
      ]
     },
     "metadata": {},
     "output_type": "display_data"
    },
    {
     "data": {
      "application/vnd.jupyter.widget-view+json": {
       "model_id": "46ce6bf7bc2642ffae29587d83826174",
       "version_major": 2,
       "version_minor": 0
      },
      "text/plain": [
       "Scoring...:   0%|          | 0/1 [00:00<?, ?it/s]"
      ]
     },
     "metadata": {},
     "output_type": "display_data"
    },
    {
     "data": {
      "application/vnd.jupyter.widget-view+json": {
       "model_id": "8025436fb5744d588c0e04258f7c1b75",
       "version_major": 2,
       "version_minor": 0
      },
      "text/plain": [
       "Scoring...:   0%|          | 0/1 [00:00<?, ?it/s]"
      ]
     },
     "metadata": {},
     "output_type": "display_data"
    },
    {
     "name": "stdout",
     "output_type": "stream",
     "text": [
      "Average Metric: 3.43 / 8 (42.8%):  16%|█▌        | 8/50 [00:41<03:02,  4.35s/it]"
     ]
    },
    {
     "data": {
      "application/vnd.jupyter.widget-view+json": {
       "model_id": "19db4d109f8b45eaacb3bf69a7d1496f",
       "version_major": 2,
       "version_minor": 0
      },
      "text/plain": [
       "Scoring...:   0%|          | 0/1 [00:00<?, ?it/s]"
      ]
     },
     "metadata": {},
     "output_type": "display_data"
    },
    {
     "data": {
      "application/vnd.jupyter.widget-view+json": {
       "model_id": "e38ab180f35a4cd5a8c829b0364937df",
       "version_major": 2,
       "version_minor": 0
      },
      "text/plain": [
       "Scoring...:   0%|          | 0/1 [00:00<?, ?it/s]"
      ]
     },
     "metadata": {},
     "output_type": "display_data"
    },
    {
     "data": {
      "application/vnd.jupyter.widget-view+json": {
       "model_id": "804dfdd6bfb94468bc414fd6b5801506",
       "version_major": 2,
       "version_minor": 0
      },
      "text/plain": [
       "Scoring...:   0%|          | 0/1 [00:00<?, ?it/s]"
      ]
     },
     "metadata": {},
     "output_type": "display_data"
    },
    {
     "data": {
      "application/vnd.jupyter.widget-view+json": {
       "model_id": "ea16d3ce9edd4446a23f91ce91d591ca",
       "version_major": 2,
       "version_minor": 0
      },
      "text/plain": [
       "Scoring...:   0%|          | 0/1 [00:00<?, ?it/s]"
      ]
     },
     "metadata": {},
     "output_type": "display_data"
    },
    {
     "data": {
      "application/vnd.jupyter.widget-view+json": {
       "model_id": "aec7a86a434a44e0ba0e3f254bbb920a",
       "version_major": 2,
       "version_minor": 0
      },
      "text/plain": [
       "Scoring...:   0%|          | 0/1 [00:00<?, ?it/s]"
      ]
     },
     "metadata": {},
     "output_type": "display_data"
    },
    {
     "name": "stdout",
     "output_type": "stream",
     "text": [
      "Average Metric: 3.93 / 9 (43.6%):  18%|█▊        | 9/50 [00:51<04:10,  6.12s/it]"
     ]
    },
    {
     "data": {
      "application/vnd.jupyter.widget-view+json": {
       "model_id": "e8358caa0ebe4411b6d66fa082eefc0a",
       "version_major": 2,
       "version_minor": 0
      },
      "text/plain": [
       "Scoring...:   0%|          | 0/1 [00:00<?, ?it/s]"
      ]
     },
     "metadata": {},
     "output_type": "display_data"
    },
    {
     "name": "stdout",
     "output_type": "stream",
     "text": [
      "Average Metric: 4.93 / 11 (44.8%):  22%|██▏       | 11/50 [00:54<02:23,  3.67s/it]"
     ]
    },
    {
     "data": {
      "application/vnd.jupyter.widget-view+json": {
       "model_id": "889a0e61329c4cfaac497e3fdc7bd1ae",
       "version_major": 2,
       "version_minor": 0
      },
      "text/plain": [
       "Scoring...:   0%|          | 0/1 [00:00<?, ?it/s]"
      ]
     },
     "metadata": {},
     "output_type": "display_data"
    },
    {
     "data": {
      "application/vnd.jupyter.widget-view+json": {
       "model_id": "cf4757a727774deda17b33ce7f417ebb",
       "version_major": 2,
       "version_minor": 0
      },
      "text/plain": [
       "Scoring...:   0%|          | 0/1 [00:00<?, ?it/s]"
      ]
     },
     "metadata": {},
     "output_type": "display_data"
    },
    {
     "data": {
      "application/vnd.jupyter.widget-view+json": {
       "model_id": "5e4ae80640434c469f5590129f4bfe0b",
       "version_major": 2,
       "version_minor": 0
      },
      "text/plain": [
       "Scoring...:   0%|          | 0/1 [00:00<?, ?it/s]"
      ]
     },
     "metadata": {},
     "output_type": "display_data"
    },
    {
     "data": {
      "application/vnd.jupyter.widget-view+json": {
       "model_id": "5fd0faedaeb2463e951a8f0381c6890e",
       "version_major": 2,
       "version_minor": 0
      },
      "text/plain": [
       "Scoring...:   0%|          | 0/1 [00:00<?, ?it/s]"
      ]
     },
     "metadata": {},
     "output_type": "display_data"
    },
    {
     "data": {
      "application/vnd.jupyter.widget-view+json": {
       "model_id": "d79996c45fbb4f8b8b083f1c86fdfcde",
       "version_major": 2,
       "version_minor": 0
      },
      "text/plain": [
       "Scoring...:   0%|          | 0/1 [00:00<?, ?it/s]"
      ]
     },
     "metadata": {},
     "output_type": "display_data"
    },
    {
     "name": "stdout",
     "output_type": "stream",
     "text": [
      "Average Metric: 7.29 / 14 (52.1%):  28%|██▊       | 14/50 [01:10<02:25,  4.04s/it]"
     ]
    },
    {
     "data": {
      "application/vnd.jupyter.widget-view+json": {
       "model_id": "9138f2c71cf6405dadca11e21468f790",
       "version_major": 2,
       "version_minor": 0
      },
      "text/plain": [
       "Scoring...:   0%|          | 0/1 [00:00<?, ?it/s]"
      ]
     },
     "metadata": {},
     "output_type": "display_data"
    },
    {
     "name": "stdout",
     "output_type": "stream",
     "text": [
      "Average Metric: 7.43 / 15 (49.5%):  30%|███       | 15/50 [01:11<01:51,  3.19s/it]"
     ]
    },
    {
     "data": {
      "application/vnd.jupyter.widget-view+json": {
       "model_id": "164bc7aaa08842d0b7a09dc2e05ec03e",
       "version_major": 2,
       "version_minor": 0
      },
      "text/plain": [
       "Scoring...:   0%|          | 0/1 [00:00<?, ?it/s]"
      ]
     },
     "metadata": {},
     "output_type": "display_data"
    },
    {
     "data": {
      "application/vnd.jupyter.widget-view+json": {
       "model_id": "53ae2ae9ae504a5e9cae2285533aa7cd",
       "version_major": 2,
       "version_minor": 0
      },
      "text/plain": [
       "Scoring...:   0%|          | 0/1 [00:00<?, ?it/s]"
      ]
     },
     "metadata": {},
     "output_type": "display_data"
    },
    {
     "data": {
      "application/vnd.jupyter.widget-view+json": {
       "model_id": "7388df3bf74f4748ae18b328fcc0d232",
       "version_major": 2,
       "version_minor": 0
      },
      "text/plain": [
       "Scoring...:   0%|          | 0/1 [00:00<?, ?it/s]"
      ]
     },
     "metadata": {},
     "output_type": "display_data"
    },
    {
     "name": "stdout",
     "output_type": "stream",
     "text": [
      "Average Metric: 7.43 / 16 (46.4%):  32%|███▏      | 16/50 [01:19<02:31,  4.45s/it]"
     ]
    },
    {
     "data": {
      "application/vnd.jupyter.widget-view+json": {
       "model_id": "e4641e6172494b198c9d07bea21dcd48",
       "version_major": 2,
       "version_minor": 0
      },
      "text/plain": [
       "Scoring...:   0%|          | 0/1 [00:00<?, ?it/s]"
      ]
     },
     "metadata": {},
     "output_type": "display_data"
    },
    {
     "data": {
      "application/vnd.jupyter.widget-view+json": {
       "model_id": "2d359f70c25b422d923062b8bea9b487",
       "version_major": 2,
       "version_minor": 0
      },
      "text/plain": [
       "Scoring...:   0%|          | 0/1 [00:00<?, ?it/s]"
      ]
     },
     "metadata": {},
     "output_type": "display_data"
    },
    {
     "name": "stdout",
     "output_type": "stream",
     "text": [
      "Average Metric: 7.93 / 17 (46.7%):  34%|███▍      | 17/50 [01:22<02:17,  4.15s/it]"
     ]
    },
    {
     "data": {
      "application/vnd.jupyter.widget-view+json": {
       "model_id": "21fed6c9f9644e9485d98df49dd5edae",
       "version_major": 2,
       "version_minor": 0
      },
      "text/plain": [
       "Scoring...:   0%|          | 0/1 [00:00<?, ?it/s]"
      ]
     },
     "metadata": {},
     "output_type": "display_data"
    },
    {
     "data": {
      "application/vnd.jupyter.widget-view+json": {
       "model_id": "682e2f021b4c45d8b9ccc23b4e342660",
       "version_major": 2,
       "version_minor": 0
      },
      "text/plain": [
       "Scoring...:   0%|          | 0/1 [00:00<?, ?it/s]"
      ]
     },
     "metadata": {},
     "output_type": "display_data"
    },
    {
     "data": {
      "application/vnd.jupyter.widget-view+json": {
       "model_id": "a1cadf2e128e49df9caaabfbf83aa15e",
       "version_major": 2,
       "version_minor": 0
      },
      "text/plain": [
       "Scoring...:   0%|          | 0/1 [00:00<?, ?it/s]"
      ]
     },
     "metadata": {},
     "output_type": "display_data"
    },
    {
     "data": {
      "application/vnd.jupyter.widget-view+json": {
       "model_id": "c63ad90333c44fe1845ea18aa14ddb91",
       "version_major": 2,
       "version_minor": 0
      },
      "text/plain": [
       "Scoring...:   0%|          | 0/1 [00:00<?, ?it/s]"
      ]
     },
     "metadata": {},
     "output_type": "display_data"
    },
    {
     "name": "stdout",
     "output_type": "stream",
     "text": [
      "Average Metric: 9.33 / 20 (46.7%):  40%|████      | 20/50 [01:33<01:40,  3.37s/it]"
     ]
    },
    {
     "data": {
      "application/vnd.jupyter.widget-view+json": {
       "model_id": "3420b2962513447fa6300bafa46edfc2",
       "version_major": 2,
       "version_minor": 0
      },
      "text/plain": [
       "Scoring...:   0%|          | 0/1 [00:00<?, ?it/s]"
      ]
     },
     "metadata": {},
     "output_type": "display_data"
    },
    {
     "data": {
      "application/vnd.jupyter.widget-view+json": {
       "model_id": "260ee7b02f27481780b1f1dd59cd8c3f",
       "version_major": 2,
       "version_minor": 0
      },
      "text/plain": [
       "Scoring...:   0%|          | 0/1 [00:00<?, ?it/s]"
      ]
     },
     "metadata": {},
     "output_type": "display_data"
    },
    {
     "data": {
      "application/vnd.jupyter.widget-view+json": {
       "model_id": "14e0b912f7304fac83ae3eed682b2ac1",
       "version_major": 2,
       "version_minor": 0
      },
      "text/plain": [
       "Scoring...:   0%|          | 0/1 [00:00<?, ?it/s]"
      ]
     },
     "metadata": {},
     "output_type": "display_data"
    },
    {
     "data": {
      "application/vnd.jupyter.widget-view+json": {
       "model_id": "8ab20c0e49e644f3b35ec510b1d82fac",
       "version_major": 2,
       "version_minor": 0
      },
      "text/plain": [
       "Scoring...:   0%|          | 0/1 [00:00<?, ?it/s]"
      ]
     },
     "metadata": {},
     "output_type": "display_data"
    },
    {
     "data": {
      "application/vnd.jupyter.widget-view+json": {
       "model_id": "befd0644e2324dfdbc727b4ea12d7e2f",
       "version_major": 2,
       "version_minor": 0
      },
      "text/plain": [
       "Scoring...:   0%|          | 0/1 [00:00<?, ?it/s]"
      ]
     },
     "metadata": {},
     "output_type": "display_data"
    },
    {
     "name": "stdout",
     "output_type": "stream",
     "text": [
      "Average Metric: 9.33 / 21 (44.5%):  42%|████▏     | 21/50 [01:42<02:20,  4.83s/it]"
     ]
    },
    {
     "data": {
      "application/vnd.jupyter.widget-view+json": {
       "model_id": "561097165a1a4f51937a18a17b9405cf",
       "version_major": 2,
       "version_minor": 0
      },
      "text/plain": [
       "Scoring...:   0%|          | 0/1 [00:00<?, ?it/s]"
      ]
     },
     "metadata": {},
     "output_type": "display_data"
    },
    {
     "name": "stdout",
     "output_type": "stream",
     "text": [
      "Average Metric: 9.55 / 24 (39.8%):  48%|████▊     | 24/50 [01:50<01:17,  2.97s/it]"
     ]
    },
    {
     "data": {
      "application/vnd.jupyter.widget-view+json": {
       "model_id": "0a0ea2066d0c4c798f1b4baed21091a3",
       "version_major": 2,
       "version_minor": 0
      },
      "text/plain": [
       "Scoring...:   0%|          | 0/1 [00:00<?, ?it/s]"
      ]
     },
     "metadata": {},
     "output_type": "display_data"
    },
    {
     "data": {
      "application/vnd.jupyter.widget-view+json": {
       "model_id": "08fec68f3ab74f05bc4ccb01343dbab9",
       "version_major": 2,
       "version_minor": 0
      },
      "text/plain": [
       "Scoring...:   0%|          | 0/1 [00:00<?, ?it/s]"
      ]
     },
     "metadata": {},
     "output_type": "display_data"
    },
    {
     "data": {
      "application/vnd.jupyter.widget-view+json": {
       "model_id": "abed0eb5ed574fcca48f78dc01656dfb",
       "version_major": 2,
       "version_minor": 0
      },
      "text/plain": [
       "Scoring...:   0%|          | 0/1 [00:00<?, ?it/s]"
      ]
     },
     "metadata": {},
     "output_type": "display_data"
    },
    {
     "data": {
      "application/vnd.jupyter.widget-view+json": {
       "model_id": "d9a01b6c24a94b47af60e36bf50e68c6",
       "version_major": 2,
       "version_minor": 0
      },
      "text/plain": [
       "Scoring...:   0%|          | 0/1 [00:00<?, ?it/s]"
      ]
     },
     "metadata": {},
     "output_type": "display_data"
    },
    {
     "data": {
      "application/vnd.jupyter.widget-view+json": {
       "model_id": "d0abb7341aa2427faf276905291de107",
       "version_major": 2,
       "version_minor": 0
      },
      "text/plain": [
       "Scoring...:   0%|          | 0/1 [00:00<?, ?it/s]"
      ]
     },
     "metadata": {},
     "output_type": "display_data"
    },
    {
     "name": "stdout",
     "output_type": "stream",
     "text": [
      "Average Metric: 10.05 / 25 (40.2%):  50%|█████     | 25/50 [01:59<02:02,  4.91s/it]"
     ]
    },
    {
     "data": {
      "application/vnd.jupyter.widget-view+json": {
       "model_id": "9e8f9f92354f45ccb4d1b815ddeebd71",
       "version_major": 2,
       "version_minor": 0
      },
      "text/plain": [
       "Scoring...:   0%|          | 0/1 [00:00<?, ?it/s]"
      ]
     },
     "metadata": {},
     "output_type": "display_data"
    },
    {
     "data": {
      "application/vnd.jupyter.widget-view+json": {
       "model_id": "496ffd0aae4d4dbeaf1f355808642688",
       "version_major": 2,
       "version_minor": 0
      },
      "text/plain": [
       "Scoring...:   0%|          | 0/1 [00:00<?, ?it/s]"
      ]
     },
     "metadata": {},
     "output_type": "display_data"
    },
    {
     "data": {
      "application/vnd.jupyter.widget-view+json": {
       "model_id": "358bf06d74f34d7fbc6a95e4a94ba0c3",
       "version_major": 2,
       "version_minor": 0
      },
      "text/plain": [
       "Scoring...:   0%|          | 0/1 [00:00<?, ?it/s]"
      ]
     },
     "metadata": {},
     "output_type": "display_data"
    },
    {
     "name": "stdout",
     "output_type": "stream",
     "text": [
      "Average Metric: 11.05 / 26 (42.5%):  52%|█████▏    | 26/50 [02:06<02:11,  5.46s/it]"
     ]
    },
    {
     "data": {
      "application/vnd.jupyter.widget-view+json": {
       "model_id": "284304432e084b8bb286c1a54c36bd69",
       "version_major": 2,
       "version_minor": 0
      },
      "text/plain": [
       "Scoring...:   0%|          | 0/1 [00:00<?, ?it/s]"
      ]
     },
     "metadata": {},
     "output_type": "display_data"
    },
    {
     "data": {
      "application/vnd.jupyter.widget-view+json": {
       "model_id": "ce684dee3b154b509fdbce9be0da00fd",
       "version_major": 2,
       "version_minor": 0
      },
      "text/plain": [
       "Scoring...:   0%|          | 0/1 [00:00<?, ?it/s]"
      ]
     },
     "metadata": {},
     "output_type": "display_data"
    },
    {
     "data": {
      "application/vnd.jupyter.widget-view+json": {
       "model_id": "a10b739b8a8747b99e94eba399ab7310",
       "version_major": 2,
       "version_minor": 0
      },
      "text/plain": [
       "Scoring...:   0%|          | 0/1 [00:00<?, ?it/s]"
      ]
     },
     "metadata": {},
     "output_type": "display_data"
    },
    {
     "data": {
      "application/vnd.jupyter.widget-view+json": {
       "model_id": "e0100bee825a4854b8d3388953973f35",
       "version_major": 2,
       "version_minor": 0
      },
      "text/plain": [
       "Scoring...:   0%|          | 0/1 [00:00<?, ?it/s]"
      ]
     },
     "metadata": {},
     "output_type": "display_data"
    },
    {
     "name": "stdout",
     "output_type": "stream",
     "text": [
      "Average Metric: 12.05 / 27 (44.6%):  54%|█████▍    | 27/50 [02:14<02:24,  6.30s/it]"
     ]
    },
    {
     "data": {
      "application/vnd.jupyter.widget-view+json": {
       "model_id": "c5302e1b9c634ac4aa7d9285af7e0618",
       "version_major": 2,
       "version_minor": 0
      },
      "text/plain": [
       "Scoring...:   0%|          | 0/1 [00:00<?, ?it/s]"
      ]
     },
     "metadata": {},
     "output_type": "display_data"
    },
    {
     "name": "stdout",
     "output_type": "stream",
     "text": [
      "Average Metric: 14.05 / 29 (48.4%):  58%|█████▊    | 29/50 [02:20<01:29,  4.28s/it]"
     ]
    },
    {
     "data": {
      "application/vnd.jupyter.widget-view+json": {
       "model_id": "c22553b8e4d04c8da8f629cc41e7f20b",
       "version_major": 2,
       "version_minor": 0
      },
      "text/plain": [
       "Scoring...:   0%|          | 0/1 [00:00<?, ?it/s]"
      ]
     },
     "metadata": {},
     "output_type": "display_data"
    },
    {
     "name": "stdout",
     "output_type": "stream",
     "text": [
      "Average Metric: 14.19 / 30 (47.3%):  60%|██████    | 30/50 [02:23<01:21,  4.09s/it]"
     ]
    },
    {
     "data": {
      "application/vnd.jupyter.widget-view+json": {
       "model_id": "689b63cb28684bd696e812e7a53054cc",
       "version_major": 2,
       "version_minor": 0
      },
      "text/plain": [
       "Scoring...:   0%|          | 0/1 [00:00<?, ?it/s]"
      ]
     },
     "metadata": {},
     "output_type": "display_data"
    },
    {
     "name": "stdout",
     "output_type": "stream",
     "text": [
      "Average Metric: 14.59 / 31 (47.1%):  62%|██████▏   | 31/50 [02:25<01:06,  3.50s/it]"
     ]
    },
    {
     "data": {
      "application/vnd.jupyter.widget-view+json": {
       "model_id": "b395e72800d14e8685acebd32aa6d062",
       "version_major": 2,
       "version_minor": 0
      },
      "text/plain": [
       "Scoring...:   0%|          | 0/1 [00:00<?, ?it/s]"
      ]
     },
     "metadata": {},
     "output_type": "display_data"
    },
    {
     "data": {
      "application/vnd.jupyter.widget-view+json": {
       "model_id": "56460cd5673b45b5888c8d43246bad7c",
       "version_major": 2,
       "version_minor": 0
      },
      "text/plain": [
       "Scoring...:   0%|          | 0/1 [00:00<?, ?it/s]"
      ]
     },
     "metadata": {},
     "output_type": "display_data"
    },
    {
     "data": {
      "application/vnd.jupyter.widget-view+json": {
       "model_id": "20fc1270c45347938d977cf64fc979f4",
       "version_major": 2,
       "version_minor": 0
      },
      "text/plain": [
       "Scoring...:   0%|          | 0/1 [00:00<?, ?it/s]"
      ]
     },
     "metadata": {},
     "output_type": "display_data"
    },
    {
     "name": "stdout",
     "output_type": "stream",
     "text": [
      "Average Metric: 14.59 / 32 (45.6%):  64%|██████▍   | 32/50 [02:32<01:17,  4.32s/it]"
     ]
    },
    {
     "data": {
      "application/vnd.jupyter.widget-view+json": {
       "model_id": "62d5251b9d9144c0a1b0936cdbdee462",
       "version_major": 2,
       "version_minor": 0
      },
      "text/plain": [
       "Scoring...:   0%|          | 0/1 [00:00<?, ?it/s]"
      ]
     },
     "metadata": {},
     "output_type": "display_data"
    },
    {
     "data": {
      "application/vnd.jupyter.widget-view+json": {
       "model_id": "afd73276b7d147218a469f070ca9c37f",
       "version_major": 2,
       "version_minor": 0
      },
      "text/plain": [
       "Scoring...:   0%|          | 0/1 [00:00<?, ?it/s]"
      ]
     },
     "metadata": {},
     "output_type": "display_data"
    },
    {
     "data": {
      "application/vnd.jupyter.widget-view+json": {
       "model_id": "38752cba00ce41d8801ac19f27d665e0",
       "version_major": 2,
       "version_minor": 0
      },
      "text/plain": [
       "Scoring...:   0%|          | 0/1 [00:00<?, ?it/s]"
      ]
     },
     "metadata": {},
     "output_type": "display_data"
    },
    {
     "data": {
      "application/vnd.jupyter.widget-view+json": {
       "model_id": "9310adb007784cafa741f31e43160a3f",
       "version_major": 2,
       "version_minor": 0
      },
      "text/plain": [
       "Scoring...:   0%|          | 0/1 [00:00<?, ?it/s]"
      ]
     },
     "metadata": {},
     "output_type": "display_data"
    },
    {
     "name": "stdout",
     "output_type": "stream",
     "text": [
      "Average Metric: 14.74 / 33 (44.7%):  66%|██████▌   | 33/50 [02:39<01:27,  5.15s/it]"
     ]
    },
    {
     "data": {
      "application/vnd.jupyter.widget-view+json": {
       "model_id": "63037633807c4c5c8ad7e881a64df250",
       "version_major": 2,
       "version_minor": 0
      },
      "text/plain": [
       "Scoring...:   0%|          | 0/1 [00:00<?, ?it/s]"
      ]
     },
     "metadata": {},
     "output_type": "display_data"
    },
    {
     "data": {
      "application/vnd.jupyter.widget-view+json": {
       "model_id": "ecf4bec17bde449983504020bd49dc50",
       "version_major": 2,
       "version_minor": 0
      },
      "text/plain": [
       "Scoring...:   0%|          | 0/1 [00:00<?, ?it/s]"
      ]
     },
     "metadata": {},
     "output_type": "display_data"
    },
    {
     "name": "stdout",
     "output_type": "stream",
     "text": [
      "Average Metric: 15.74 / 34 (46.3%):  68%|██████▊   | 34/50 [02:43<01:18,  4.89s/it]"
     ]
    },
    {
     "data": {
      "application/vnd.jupyter.widget-view+json": {
       "model_id": "9f4778676f0b4f21853cea7c7c240e47",
       "version_major": 2,
       "version_minor": 0
      },
      "text/plain": [
       "Scoring...:   0%|          | 0/1 [00:00<?, ?it/s]"
      ]
     },
     "metadata": {},
     "output_type": "display_data"
    },
    {
     "data": {
      "application/vnd.jupyter.widget-view+json": {
       "model_id": "c682cb0ba5a14a13891c1760f6f91829",
       "version_major": 2,
       "version_minor": 0
      },
      "text/plain": [
       "Scoring...:   0%|          | 0/1 [00:00<?, ?it/s]"
      ]
     },
     "metadata": {},
     "output_type": "display_data"
    },
    {
     "name": "stdout",
     "output_type": "stream",
     "text": [
      "Average Metric: 16.74 / 35 (47.8%):  70%|███████   | 35/50 [02:47<01:10,  4.72s/it]"
     ]
    },
    {
     "data": {
      "application/vnd.jupyter.widget-view+json": {
       "model_id": "c6a1f4c3f83c4d5c86ca9b71d9d1099d",
       "version_major": 2,
       "version_minor": 0
      },
      "text/plain": [
       "Scoring...:   0%|          | 0/1 [00:00<?, ?it/s]"
      ]
     },
     "metadata": {},
     "output_type": "display_data"
    },
    {
     "name": "stdout",
     "output_type": "stream",
     "text": [
      "Average Metric: 16.74 / 36 (46.5%):  72%|███████▏  | 36/50 [02:50<00:59,  4.24s/it]"
     ]
    },
    {
     "data": {
      "application/vnd.jupyter.widget-view+json": {
       "model_id": "a8754271dd0c4752a2e37b1c107bc3e2",
       "version_major": 2,
       "version_minor": 0
      },
      "text/plain": [
       "Scoring...:   0%|          | 0/1 [00:00<?, ?it/s]"
      ]
     },
     "metadata": {},
     "output_type": "display_data"
    },
    {
     "name": "stdout",
     "output_type": "stream",
     "text": [
      "Average Metric: 17.24 / 37 (46.6%):  74%|███████▍  | 37/50 [02:51<00:41,  3.22s/it]"
     ]
    },
    {
     "data": {
      "application/vnd.jupyter.widget-view+json": {
       "model_id": "c52aef1da2384393ac3b6036679a17bb",
       "version_major": 2,
       "version_minor": 0
      },
      "text/plain": [
       "Scoring...:   0%|          | 0/1 [00:00<?, ?it/s]"
      ]
     },
     "metadata": {},
     "output_type": "display_data"
    },
    {
     "data": {
      "application/vnd.jupyter.widget-view+json": {
       "model_id": "346fb82ca3874176ab296b477efffe20",
       "version_major": 2,
       "version_minor": 0
      },
      "text/plain": [
       "Scoring...:   0%|          | 0/1 [00:00<?, ?it/s]"
      ]
     },
     "metadata": {},
     "output_type": "display_data"
    },
    {
     "data": {
      "application/vnd.jupyter.widget-view+json": {
       "model_id": "6410cfb73b524a0a923af76ad7553415",
       "version_major": 2,
       "version_minor": 0
      },
      "text/plain": [
       "Scoring...:   0%|          | 0/1 [00:00<?, ?it/s]"
      ]
     },
     "metadata": {},
     "output_type": "display_data"
    },
    {
     "data": {
      "application/vnd.jupyter.widget-view+json": {
       "model_id": "c5a2d7de1f8f4299800eda20aee9fa45",
       "version_major": 2,
       "version_minor": 0
      },
      "text/plain": [
       "Scoring...:   0%|          | 0/1 [00:00<?, ?it/s]"
      ]
     },
     "metadata": {},
     "output_type": "display_data"
    },
    {
     "data": {
      "application/vnd.jupyter.widget-view+json": {
       "model_id": "5bc001180b8d473c8fd9cc5731958c9a",
       "version_major": 2,
       "version_minor": 0
      },
      "text/plain": [
       "Scoring...:   0%|          | 0/1 [00:00<?, ?it/s]"
      ]
     },
     "metadata": {},
     "output_type": "display_data"
    },
    {
     "data": {
      "application/vnd.jupyter.widget-view+json": {
       "model_id": "ca8311c0e75e4f5bab30e3fb3d44db55",
       "version_major": 2,
       "version_minor": 0
      },
      "text/plain": [
       "Scoring...:   0%|          | 0/1 [00:00<?, ?it/s]"
      ]
     },
     "metadata": {},
     "output_type": "display_data"
    },
    {
     "data": {
      "application/vnd.jupyter.widget-view+json": {
       "model_id": "5c5694de400149e3bf55dcfc1ae82f5c",
       "version_major": 2,
       "version_minor": 0
      },
      "text/plain": [
       "Scoring...:   0%|          | 0/1 [00:00<?, ?it/s]"
      ]
     },
     "metadata": {},
     "output_type": "display_data"
    },
    {
     "data": {
      "application/vnd.jupyter.widget-view+json": {
       "model_id": "36c02266aa3c4120877334f65dddb1bd",
       "version_major": 2,
       "version_minor": 0
      },
      "text/plain": [
       "Scoring...:   0%|          | 0/1 [00:00<?, ?it/s]"
      ]
     },
     "metadata": {},
     "output_type": "display_data"
    },
    {
     "name": "stdout",
     "output_type": "stream",
     "text": [
      "Average Metric: 18.14 / 39 (46.5%):  78%|███████▊  | 39/50 [03:06<00:51,  4.64s/it]"
     ]
    },
    {
     "data": {
      "application/vnd.jupyter.widget-view+json": {
       "model_id": "7815dd59a51f48989151a16ad72e3f77",
       "version_major": 2,
       "version_minor": 0
      },
      "text/plain": [
       "Scoring...:   0%|          | 0/1 [00:00<?, ?it/s]"
      ]
     },
     "metadata": {},
     "output_type": "display_data"
    },
    {
     "data": {
      "application/vnd.jupyter.widget-view+json": {
       "model_id": "c44a025e46a143898870dcd03754c4ee",
       "version_major": 2,
       "version_minor": 0
      },
      "text/plain": [
       "Scoring...:   0%|          | 0/1 [00:00<?, ?it/s]"
      ]
     },
     "metadata": {},
     "output_type": "display_data"
    },
    {
     "data": {
      "application/vnd.jupyter.widget-view+json": {
       "model_id": "ad592ae8e7304500babf24cf0a8793d4",
       "version_major": 2,
       "version_minor": 0
      },
      "text/plain": [
       "Scoring...:   0%|          | 0/1 [00:00<?, ?it/s]"
      ]
     },
     "metadata": {},
     "output_type": "display_data"
    },
    {
     "name": "stdout",
     "output_type": "stream",
     "text": [
      "Average Metric: 18.14 / 40 (45.4%):  80%|████████  | 40/50 [03:11<00:47,  4.75s/it]"
     ]
    },
    {
     "data": {
      "application/vnd.jupyter.widget-view+json": {
       "model_id": "7a450fb489644f1cb39a52205554b1a4",
       "version_major": 2,
       "version_minor": 0
      },
      "text/plain": [
       "Scoring...:   0%|          | 0/1 [00:00<?, ?it/s]"
      ]
     },
     "metadata": {},
     "output_type": "display_data"
    },
    {
     "data": {
      "application/vnd.jupyter.widget-view+json": {
       "model_id": "c0b336eacb12441090ec862924c75cef",
       "version_major": 2,
       "version_minor": 0
      },
      "text/plain": [
       "Scoring...:   0%|          | 0/1 [00:00<?, ?it/s]"
      ]
     },
     "metadata": {},
     "output_type": "display_data"
    },
    {
     "name": "stdout",
     "output_type": "stream",
     "text": [
      "Average Metric: 18.14 / 41 (44.2%):  82%|████████▏ | 41/50 [03:17<00:46,  5.18s/it]"
     ]
    },
    {
     "data": {
      "application/vnd.jupyter.widget-view+json": {
       "model_id": "05ea50f1486b47a1a30cf0d33b9cd6fa",
       "version_major": 2,
       "version_minor": 0
      },
      "text/plain": [
       "Scoring...:   0%|          | 0/1 [00:00<?, ?it/s]"
      ]
     },
     "metadata": {},
     "output_type": "display_data"
    },
    {
     "name": "stdout",
     "output_type": "stream",
     "text": [
      "Average Metric: 18.41 / 42 (43.8%):  84%|████████▍ | 42/50 [03:18<00:32,  4.05s/it]"
     ]
    },
    {
     "data": {
      "application/vnd.jupyter.widget-view+json": {
       "model_id": "c65a04f6f22f42bcbe989aa0561104ec",
       "version_major": 2,
       "version_minor": 0
      },
      "text/plain": [
       "Scoring...:   0%|          | 0/1 [00:00<?, ?it/s]"
      ]
     },
     "metadata": {},
     "output_type": "display_data"
    },
    {
     "data": {
      "application/vnd.jupyter.widget-view+json": {
       "model_id": "3c12ae2781f5481c842ebb4240e0c2d4",
       "version_major": 2,
       "version_minor": 0
      },
      "text/plain": [
       "Scoring...:   0%|          | 0/1 [00:00<?, ?it/s]"
      ]
     },
     "metadata": {},
     "output_type": "display_data"
    },
    {
     "data": {
      "application/vnd.jupyter.widget-view+json": {
       "model_id": "bf15ab215c8641d1a5833caec4921eb5",
       "version_major": 2,
       "version_minor": 0
      },
      "text/plain": [
       "Scoring...:   0%|          | 0/1 [00:00<?, ?it/s]"
      ]
     },
     "metadata": {},
     "output_type": "display_data"
    },
    {
     "name": "stdout",
     "output_type": "stream",
     "text": [
      "Average Metric: 19.41 / 43 (45.1%):  86%|████████▌ | 43/50 [03:25<00:33,  4.80s/it]"
     ]
    },
    {
     "data": {
      "application/vnd.jupyter.widget-view+json": {
       "model_id": "772704323434440b86def9de70ca26b7",
       "version_major": 2,
       "version_minor": 0
      },
      "text/plain": [
       "Scoring...:   0%|          | 0/1 [00:00<?, ?it/s]"
      ]
     },
     "metadata": {},
     "output_type": "display_data"
    },
    {
     "data": {
      "application/vnd.jupyter.widget-view+json": {
       "model_id": "e3bec6308fa84fdb91e3b761843ed1ed",
       "version_major": 2,
       "version_minor": 0
      },
      "text/plain": [
       "Scoring...:   0%|          | 0/1 [00:00<?, ?it/s]"
      ]
     },
     "metadata": {},
     "output_type": "display_data"
    },
    {
     "data": {
      "application/vnd.jupyter.widget-view+json": {
       "model_id": "3dad9ff66e884565b5ce260cad789405",
       "version_major": 2,
       "version_minor": 0
      },
      "text/plain": [
       "Scoring...:   0%|          | 0/1 [00:00<?, ?it/s]"
      ]
     },
     "metadata": {},
     "output_type": "display_data"
    },
    {
     "name": "stdout",
     "output_type": "stream",
     "text": [
      "Average Metric: 20.41 / 44 (46.4%):  88%|████████▊ | 44/50 [03:29<00:27,  4.62s/it]"
     ]
    },
    {
     "data": {
      "application/vnd.jupyter.widget-view+json": {
       "model_id": "36b423600f6e40319204b66e751ad256",
       "version_major": 2,
       "version_minor": 0
      },
      "text/plain": [
       "Scoring...:   0%|          | 0/1 [00:00<?, ?it/s]"
      ]
     },
     "metadata": {},
     "output_type": "display_data"
    },
    {
     "name": "stdout",
     "output_type": "stream",
     "text": [
      "Average Metric: 21.41 / 45 (47.6%):  90%|█████████ | 45/50 [03:31<00:19,  3.93s/it]"
     ]
    },
    {
     "data": {
      "application/vnd.jupyter.widget-view+json": {
       "model_id": "b16dba62db494e52b7c06682075d3e89",
       "version_major": 2,
       "version_minor": 0
      },
      "text/plain": [
       "Scoring...:   0%|          | 0/1 [00:00<?, ?it/s]"
      ]
     },
     "metadata": {},
     "output_type": "display_data"
    },
    {
     "data": {
      "application/vnd.jupyter.widget-view+json": {
       "model_id": "c0ec3b9934d84cc9af2cfbc2aa2c526a",
       "version_major": 2,
       "version_minor": 0
      },
      "text/plain": [
       "Scoring...:   0%|          | 0/1 [00:00<?, ?it/s]"
      ]
     },
     "metadata": {},
     "output_type": "display_data"
    },
    {
     "data": {
      "application/vnd.jupyter.widget-view+json": {
       "model_id": "9ad745f3f91b47c5995eec0214d94aaf",
       "version_major": 2,
       "version_minor": 0
      },
      "text/plain": [
       "Scoring...:   0%|          | 0/1 [00:00<?, ?it/s]"
      ]
     },
     "metadata": {},
     "output_type": "display_data"
    },
    {
     "name": "stdout",
     "output_type": "stream",
     "text": [
      "Average Metric: 23.41 / 47 (49.8%):  94%|█████████▍| 47/50 [03:39<00:10,  3.66s/it]"
     ]
    },
    {
     "data": {
      "application/vnd.jupyter.widget-view+json": {
       "model_id": "6ce4a147aad24d1799aabe6634898fcf",
       "version_major": 2,
       "version_minor": 0
      },
      "text/plain": [
       "Scoring...:   0%|          | 0/1 [00:00<?, ?it/s]"
      ]
     },
     "metadata": {},
     "output_type": "display_data"
    },
    {
     "name": "stdout",
     "output_type": "stream",
     "text": [
      "Average Metric: 24.41 / 48 (50.9%):  96%|█████████▌| 48/50 [03:44<00:07,  3.78s/it]"
     ]
    },
    {
     "data": {
      "application/vnd.jupyter.widget-view+json": {
       "model_id": "8f8c8420a8f8430abee2c7ada78ec530",
       "version_major": 2,
       "version_minor": 0
      },
      "text/plain": [
       "Scoring...:   0%|          | 0/1 [00:00<?, ?it/s]"
      ]
     },
     "metadata": {},
     "output_type": "display_data"
    },
    {
     "name": "stdout",
     "output_type": "stream",
     "text": [
      "Average Metric: 24.61 / 50 (49.2%): 100%|██████████| 50/50 [03:52<00:00,  4.64s/it]"
     ]
    },
    {
     "name": "stderr",
     "output_type": "stream",
     "text": [
      "2025/02/11 14:43:18 INFO dspy.evaluate.evaluate: Average Metric: 24.608474566369303 / 50 (49.2%)\n"
     ]
    },
    {
     "name": "stdout",
     "output_type": "stream",
     "text": [
      "\n",
      "New best score: 49.22 for seed -2\n",
      "Scores so far: [44.36, 49.22]\n",
      "Best score so far: 49.22\n"
     ]
    },
    {
     "name": "stderr",
     "output_type": "stream",
     "text": [
      "  0%|          | 0/50 [00:00<?, ?it/s]"
     ]
    },
    {
     "data": {
      "application/vnd.jupyter.widget-view+json": {
       "model_id": "2d875534cb6946048a3b5795ce411f54",
       "version_major": 2,
       "version_minor": 0
      },
      "text/plain": [
       "Scoring...:   0%|          | 0/1 [00:00<?, ?it/s]"
      ]
     },
     "metadata": {},
     "output_type": "display_data"
    },
    {
     "name": "stderr",
     "output_type": "stream",
     "text": [
      "  2%|▏         | 1/50 [00:09<07:27,  9.12s/it]"
     ]
    },
    {
     "data": {
      "application/vnd.jupyter.widget-view+json": {
       "model_id": "3898061978624e71b8244159975a41a2",
       "version_major": 2,
       "version_minor": 0
      },
      "text/plain": [
       "Scoring...:   0%|          | 0/1 [00:00<?, ?it/s]"
      ]
     },
     "metadata": {},
     "output_type": "display_data"
    },
    {
     "name": "stderr",
     "output_type": "stream",
     "text": [
      "  4%|▍         | 2/50 [00:18<07:11,  9.00s/it]"
     ]
    },
    {
     "data": {
      "application/vnd.jupyter.widget-view+json": {
       "model_id": "52d9e860c33740499a908b6acf3a0c27",
       "version_major": 2,
       "version_minor": 0
      },
      "text/plain": [
       "Scoring...:   0%|          | 0/1 [00:00<?, ?it/s]"
      ]
     },
     "metadata": {},
     "output_type": "display_data"
    },
    {
     "data": {
      "application/vnd.jupyter.widget-view+json": {
       "model_id": "344d2ee9c3384f48bc3c44ecffe49929",
       "version_major": 2,
       "version_minor": 0
      },
      "text/plain": [
       "Scoring...:   0%|          | 0/1 [00:00<?, ?it/s]"
      ]
     },
     "metadata": {},
     "output_type": "display_data"
    },
    {
     "data": {
      "application/vnd.jupyter.widget-view+json": {
       "model_id": "270151ac799d4524bffe928ececc3268",
       "version_major": 2,
       "version_minor": 0
      },
      "text/plain": [
       "Scoring...:   0%|          | 0/1 [00:00<?, ?it/s]"
      ]
     },
     "metadata": {},
     "output_type": "display_data"
    },
    {
     "data": {
      "application/vnd.jupyter.widget-view+json": {
       "model_id": "d4893df022574b1b8f05ba70fab98aa7",
       "version_major": 2,
       "version_minor": 0
      },
      "text/plain": [
       "Scoring...:   0%|          | 0/1 [00:00<?, ?it/s]"
      ]
     },
     "metadata": {},
     "output_type": "display_data"
    },
    {
     "data": {
      "application/vnd.jupyter.widget-view+json": {
       "model_id": "567114dbdbbc4df6a5ad84a1ffa7d2fc",
       "version_major": 2,
       "version_minor": 0
      },
      "text/plain": [
       "Scoring...:   0%|          | 0/1 [00:00<?, ?it/s]"
      ]
     },
     "metadata": {},
     "output_type": "display_data"
    },
    {
     "data": {
      "application/vnd.jupyter.widget-view+json": {
       "model_id": "611f0557909640c19b5642aa48465784",
       "version_major": 2,
       "version_minor": 0
      },
      "text/plain": [
       "Scoring...:   0%|          | 0/1 [00:00<?, ?it/s]"
      ]
     },
     "metadata": {},
     "output_type": "display_data"
    },
    {
     "data": {
      "application/vnd.jupyter.widget-view+json": {
       "model_id": "261181e7069f4ac999354de59a3bcb60",
       "version_major": 2,
       "version_minor": 0
      },
      "text/plain": [
       "Scoring...:   0%|          | 0/1 [00:00<?, ?it/s]"
      ]
     },
     "metadata": {},
     "output_type": "display_data"
    },
    {
     "data": {
      "application/vnd.jupyter.widget-view+json": {
       "model_id": "c83aa9fc1dad42a981fbd0b6e4d49699",
       "version_major": 2,
       "version_minor": 0
      },
      "text/plain": [
       "Scoring...:   0%|          | 0/1 [00:00<?, ?it/s]"
      ]
     },
     "metadata": {},
     "output_type": "display_data"
    },
    {
     "data": {
      "application/vnd.jupyter.widget-view+json": {
       "model_id": "e29ae362ad0d4641ab76a24cdd9d49ac",
       "version_major": 2,
       "version_minor": 0
      },
      "text/plain": [
       "Scoring...:   0%|          | 0/1 [00:00<?, ?it/s]"
      ]
     },
     "metadata": {},
     "output_type": "display_data"
    },
    {
     "data": {
      "application/vnd.jupyter.widget-view+json": {
       "model_id": "6a3cc58e759f4fc5a09ebde700e9f4da",
       "version_major": 2,
       "version_minor": 0
      },
      "text/plain": [
       "Scoring...:   0%|          | 0/1 [00:00<?, ?it/s]"
      ]
     },
     "metadata": {},
     "output_type": "display_data"
    },
    {
     "data": {
      "application/vnd.jupyter.widget-view+json": {
       "model_id": "ea7b0a70e8584eba993a5767af284cc5",
       "version_major": 2,
       "version_minor": 0
      },
      "text/plain": [
       "Scoring...:   0%|          | 0/1 [00:00<?, ?it/s]"
      ]
     },
     "metadata": {},
     "output_type": "display_data"
    },
    {
     "data": {
      "application/vnd.jupyter.widget-view+json": {
       "model_id": "26ad3019f9424b6e873129dc9716f668",
       "version_major": 2,
       "version_minor": 0
      },
      "text/plain": [
       "Scoring...:   0%|          | 0/1 [00:00<?, ?it/s]"
      ]
     },
     "metadata": {},
     "output_type": "display_data"
    },
    {
     "data": {
      "application/vnd.jupyter.widget-view+json": {
       "model_id": "d115d0cec25d47769c1d617f9d86d04f",
       "version_major": 2,
       "version_minor": 0
      },
      "text/plain": [
       "Scoring...:   0%|          | 0/1 [00:00<?, ?it/s]"
      ]
     },
     "metadata": {},
     "output_type": "display_data"
    },
    {
     "data": {
      "application/vnd.jupyter.widget-view+json": {
       "model_id": "a706d147ed9b4b96a1a0af7ba004ad63",
       "version_major": 2,
       "version_minor": 0
      },
      "text/plain": [
       "Scoring...:   0%|          | 0/1 [00:00<?, ?it/s]"
      ]
     },
     "metadata": {},
     "output_type": "display_data"
    },
    {
     "data": {
      "application/vnd.jupyter.widget-view+json": {
       "model_id": "7a18165ae5b04832a1465ded65b023ed",
       "version_major": 2,
       "version_minor": 0
      },
      "text/plain": [
       "Scoring...:   0%|          | 0/1 [00:00<?, ?it/s]"
      ]
     },
     "metadata": {},
     "output_type": "display_data"
    },
    {
     "data": {
      "application/vnd.jupyter.widget-view+json": {
       "model_id": "4f82b142506b4fb4843cc3567bdbdca0",
       "version_major": 2,
       "version_minor": 0
      },
      "text/plain": [
       "Scoring...:   0%|          | 0/1 [00:00<?, ?it/s]"
      ]
     },
     "metadata": {},
     "output_type": "display_data"
    },
    {
     "data": {
      "application/vnd.jupyter.widget-view+json": {
       "model_id": "875a58851b17437c95c108fe112a77fb",
       "version_major": 2,
       "version_minor": 0
      },
      "text/plain": [
       "Scoring...:   0%|          | 0/1 [00:00<?, ?it/s]"
      ]
     },
     "metadata": {},
     "output_type": "display_data"
    },
    {
     "data": {
      "application/vnd.jupyter.widget-view+json": {
       "model_id": "26e2e291719b4dd5a88dad717ae3b9f6",
       "version_major": 2,
       "version_minor": 0
      },
      "text/plain": [
       "Scoring...:   0%|          | 0/1 [00:00<?, ?it/s]"
      ]
     },
     "metadata": {},
     "output_type": "display_data"
    },
    {
     "name": "stderr",
     "output_type": "stream",
     "text": [
      "  6%|▌         | 3/50 [02:19<47:20, 60.43s/it]"
     ]
    },
    {
     "data": {
      "application/vnd.jupyter.widget-view+json": {
       "model_id": "df1d5577ef51401f827c7d0df14a69ac",
       "version_major": 2,
       "version_minor": 0
      },
      "text/plain": [
       "Scoring...:   0%|          | 0/1 [00:00<?, ?it/s]"
      ]
     },
     "metadata": {},
     "output_type": "display_data"
    },
    {
     "data": {
      "application/vnd.jupyter.widget-view+json": {
       "model_id": "e8c86558a618417887aa226cb72b17a9",
       "version_major": 2,
       "version_minor": 0
      },
      "text/plain": [
       "Scoring...:   0%|          | 0/1 [00:00<?, ?it/s]"
      ]
     },
     "metadata": {},
     "output_type": "display_data"
    },
    {
     "name": "stderr",
     "output_type": "stream",
     "text": [
      "  8%|▊         | 4/50 [02:36<33:16, 43.40s/it]"
     ]
    },
    {
     "data": {
      "application/vnd.jupyter.widget-view+json": {
       "model_id": "278efa1a3c324976b0f87179af20bd09",
       "version_major": 2,
       "version_minor": 0
      },
      "text/plain": [
       "Scoring...:   0%|          | 0/1 [00:00<?, ?it/s]"
      ]
     },
     "metadata": {},
     "output_type": "display_data"
    },
    {
     "data": {
      "application/vnd.jupyter.widget-view+json": {
       "model_id": "bc353f11c4054aa6b2d778a4df98320a",
       "version_major": 2,
       "version_minor": 0
      },
      "text/plain": [
       "Scoring...:   0%|          | 0/1 [00:00<?, ?it/s]"
      ]
     },
     "metadata": {},
     "output_type": "display_data"
    },
    {
     "name": "stderr",
     "output_type": "stream",
     "text": [
      " 10%|█         | 5/50 [02:52<24:58, 33.31s/it]"
     ]
    },
    {
     "data": {
      "application/vnd.jupyter.widget-view+json": {
       "model_id": "0145227092db4818b9cb6a416f163ef4",
       "version_major": 2,
       "version_minor": 0
      },
      "text/plain": [
       "Scoring...:   0%|          | 0/1 [00:00<?, ?it/s]"
      ]
     },
     "metadata": {},
     "output_type": "display_data"
    },
    {
     "data": {
      "application/vnd.jupyter.widget-view+json": {
       "model_id": "3da33e5036cc4269a88a8f3cbf0d6340",
       "version_major": 2,
       "version_minor": 0
      },
      "text/plain": [
       "Scoring...:   0%|          | 0/1 [00:00<?, ?it/s]"
      ]
     },
     "metadata": {},
     "output_type": "display_data"
    },
    {
     "data": {
      "application/vnd.jupyter.widget-view+json": {
       "model_id": "c786f47b153741108b2e6a2062508c8c",
       "version_major": 2,
       "version_minor": 0
      },
      "text/plain": [
       "Scoring...:   0%|          | 0/1 [00:00<?, ?it/s]"
      ]
     },
     "metadata": {},
     "output_type": "display_data"
    },
    {
     "data": {
      "application/vnd.jupyter.widget-view+json": {
       "model_id": "aab66e011601491bae80ddcda214c213",
       "version_major": 2,
       "version_minor": 0
      },
      "text/plain": [
       "Scoring...:   0%|          | 0/1 [00:00<?, ?it/s]"
      ]
     },
     "metadata": {},
     "output_type": "display_data"
    },
    {
     "data": {
      "application/vnd.jupyter.widget-view+json": {
       "model_id": "dda8a21b4d43459d9cbe990b0115946e",
       "version_major": 2,
       "version_minor": 0
      },
      "text/plain": [
       "Scoring...:   0%|          | 0/1 [00:00<?, ?it/s]"
      ]
     },
     "metadata": {},
     "output_type": "display_data"
    },
    {
     "name": "stderr",
     "output_type": "stream",
     "text": [
      " 12%|█▏        | 6/50 [03:25<24:16, 33.11s/it]"
     ]
    },
    {
     "data": {
      "application/vnd.jupyter.widget-view+json": {
       "model_id": "252ff8c05aa94de0a54d287456448afe",
       "version_major": 2,
       "version_minor": 0
      },
      "text/plain": [
       "Scoring...:   0%|          | 0/1 [00:00<?, ?it/s]"
      ]
     },
     "metadata": {},
     "output_type": "display_data"
    },
    {
     "data": {
      "application/vnd.jupyter.widget-view+json": {
       "model_id": "5a667cf40f624121a81fdca4b89baf13",
       "version_major": 2,
       "version_minor": 0
      },
      "text/plain": [
       "Scoring...:   0%|          | 0/1 [00:00<?, ?it/s]"
      ]
     },
     "metadata": {},
     "output_type": "display_data"
    },
    {
     "data": {
      "application/vnd.jupyter.widget-view+json": {
       "model_id": "5faf807696664b9eaf77ff4a882c5504",
       "version_major": 2,
       "version_minor": 0
      },
      "text/plain": [
       "Scoring...:   0%|          | 0/1 [00:00<?, ?it/s]"
      ]
     },
     "metadata": {},
     "output_type": "display_data"
    },
    {
     "data": {
      "application/vnd.jupyter.widget-view+json": {
       "model_id": "d607ad5a42334920b9f2259d26e03426",
       "version_major": 2,
       "version_minor": 0
      },
      "text/plain": [
       "Scoring...:   0%|          | 0/1 [00:00<?, ?it/s]"
      ]
     },
     "metadata": {},
     "output_type": "display_data"
    },
    {
     "data": {
      "application/vnd.jupyter.widget-view+json": {
       "model_id": "495b90e876314eaf97f1533794b9c949",
       "version_major": 2,
       "version_minor": 0
      },
      "text/plain": [
       "Scoring...:   0%|          | 0/1 [00:00<?, ?it/s]"
      ]
     },
     "metadata": {},
     "output_type": "display_data"
    },
    {
     "data": {
      "application/vnd.jupyter.widget-view+json": {
       "model_id": "cd57d4cbbf8d4df68c8ca8e8c30de631",
       "version_major": 2,
       "version_minor": 0
      },
      "text/plain": [
       "Scoring...:   0%|          | 0/1 [00:00<?, ?it/s]"
      ]
     },
     "metadata": {},
     "output_type": "display_data"
    },
    {
     "data": {
      "application/vnd.jupyter.widget-view+json": {
       "model_id": "a5baa2b8fd1042b3be7166706b8f7ca7",
       "version_major": 2,
       "version_minor": 0
      },
      "text/plain": [
       "Scoring...:   0%|          | 0/1 [00:00<?, ?it/s]"
      ]
     },
     "metadata": {},
     "output_type": "display_data"
    },
    {
     "data": {
      "application/vnd.jupyter.widget-view+json": {
       "model_id": "168e733cce484294a314e8fa657be1e9",
       "version_major": 2,
       "version_minor": 0
      },
      "text/plain": [
       "Scoring...:   0%|          | 0/1 [00:00<?, ?it/s]"
      ]
     },
     "metadata": {},
     "output_type": "display_data"
    },
    {
     "data": {
      "application/vnd.jupyter.widget-view+json": {
       "model_id": "1d380d96d3ee49c2af15dbfc895d4650",
       "version_major": 2,
       "version_minor": 0
      },
      "text/plain": [
       "Scoring...:   0%|          | 0/1 [00:00<?, ?it/s]"
      ]
     },
     "metadata": {},
     "output_type": "display_data"
    },
    {
     "data": {
      "application/vnd.jupyter.widget-view+json": {
       "model_id": "17db9f1679f74225a20e830b74e18349",
       "version_major": 2,
       "version_minor": 0
      },
      "text/plain": [
       "Scoring...:   0%|          | 0/1 [00:00<?, ?it/s]"
      ]
     },
     "metadata": {},
     "output_type": "display_data"
    },
    {
     "data": {
      "application/vnd.jupyter.widget-view+json": {
       "model_id": "c645a2fa8e2444dda993509553eea356",
       "version_major": 2,
       "version_minor": 0
      },
      "text/plain": [
       "Scoring...:   0%|          | 0/1 [00:00<?, ?it/s]"
      ]
     },
     "metadata": {},
     "output_type": "display_data"
    },
    {
     "data": {
      "application/vnd.jupyter.widget-view+json": {
       "model_id": "7a52e0a8491c4723bcd1b144034b574c",
       "version_major": 2,
       "version_minor": 0
      },
      "text/plain": [
       "Scoring...:   0%|          | 0/1 [00:00<?, ?it/s]"
      ]
     },
     "metadata": {},
     "output_type": "display_data"
    },
    {
     "data": {
      "application/vnd.jupyter.widget-view+json": {
       "model_id": "425a9951c8dd4196adea6172f2d67d44",
       "version_major": 2,
       "version_minor": 0
      },
      "text/plain": [
       "Scoring...:   0%|          | 0/1 [00:00<?, ?it/s]"
      ]
     },
     "metadata": {},
     "output_type": "display_data"
    },
    {
     "data": {
      "application/vnd.jupyter.widget-view+json": {
       "model_id": "8cc6a1b07a5c48a88ad85979f2f4f126",
       "version_major": 2,
       "version_minor": 0
      },
      "text/plain": [
       "Scoring...:   0%|          | 0/1 [00:00<?, ?it/s]"
      ]
     },
     "metadata": {},
     "output_type": "display_data"
    },
    {
     "data": {
      "application/vnd.jupyter.widget-view+json": {
       "model_id": "cc43165ec5d9405095be59dcdc731fb2",
       "version_major": 2,
       "version_minor": 0
      },
      "text/plain": [
       "Scoring...:   0%|          | 0/1 [00:00<?, ?it/s]"
      ]
     },
     "metadata": {},
     "output_type": "display_data"
    },
    {
     "data": {
      "application/vnd.jupyter.widget-view+json": {
       "model_id": "c742fa43220c4d9c91124666c8aaf209",
       "version_major": 2,
       "version_minor": 0
      },
      "text/plain": [
       "Scoring...:   0%|          | 0/1 [00:00<?, ?it/s]"
      ]
     },
     "metadata": {},
     "output_type": "display_data"
    },
    {
     "data": {
      "application/vnd.jupyter.widget-view+json": {
       "model_id": "aa2cbd934dde4751a24e1657cea390ce",
       "version_major": 2,
       "version_minor": 0
      },
      "text/plain": [
       "Scoring...:   0%|          | 0/1 [00:00<?, ?it/s]"
      ]
     },
     "metadata": {},
     "output_type": "display_data"
    },
    {
     "data": {
      "application/vnd.jupyter.widget-view+json": {
       "model_id": "475c3fc951d044ce93efbd9f8adf5b98",
       "version_major": 2,
       "version_minor": 0
      },
      "text/plain": [
       "Scoring...:   0%|          | 0/1 [00:00<?, ?it/s]"
      ]
     },
     "metadata": {},
     "output_type": "display_data"
    },
    {
     "data": {
      "application/vnd.jupyter.widget-view+json": {
       "model_id": "a4d4adb1d17b436586054c9f09c3e1b2",
       "version_major": 2,
       "version_minor": 0
      },
      "text/plain": [
       "Scoring...:   0%|          | 0/1 [00:00<?, ?it/s]"
      ]
     },
     "metadata": {},
     "output_type": "display_data"
    },
    {
     "data": {
      "application/vnd.jupyter.widget-view+json": {
       "model_id": "dea94faa29204a5eba27e0385008c027",
       "version_major": 2,
       "version_minor": 0
      },
      "text/plain": [
       "Scoring...:   0%|          | 0/1 [00:00<?, ?it/s]"
      ]
     },
     "metadata": {},
     "output_type": "display_data"
    },
    {
     "data": {
      "application/vnd.jupyter.widget-view+json": {
       "model_id": "0e2639b4f2cc49598c68efd4509ca6c9",
       "version_major": 2,
       "version_minor": 0
      },
      "text/plain": [
       "Scoring...:   0%|          | 0/1 [00:00<?, ?it/s]"
      ]
     },
     "metadata": {},
     "output_type": "display_data"
    },
    {
     "data": {
      "application/vnd.jupyter.widget-view+json": {
       "model_id": "577b4bd400cd4ae98b639e0a206db42c",
       "version_major": 2,
       "version_minor": 0
      },
      "text/plain": [
       "Scoring...:   0%|          | 0/1 [00:00<?, ?it/s]"
      ]
     },
     "metadata": {},
     "output_type": "display_data"
    },
    {
     "data": {
      "application/vnd.jupyter.widget-view+json": {
       "model_id": "91ee9c20af4f493eb3cd130914ea75ca",
       "version_major": 2,
       "version_minor": 0
      },
      "text/plain": [
       "Scoring...:   0%|          | 0/1 [00:00<?, ?it/s]"
      ]
     },
     "metadata": {},
     "output_type": "display_data"
    },
    {
     "data": {
      "application/vnd.jupyter.widget-view+json": {
       "model_id": "939a579ffdf74265810b7380e22383f5",
       "version_major": 2,
       "version_minor": 0
      },
      "text/plain": [
       "Scoring...:   0%|          | 0/1 [00:00<?, ?it/s]"
      ]
     },
     "metadata": {},
     "output_type": "display_data"
    },
    {
     "data": {
      "application/vnd.jupyter.widget-view+json": {
       "model_id": "02c2f5bb858f4475a10cbf443af23c34",
       "version_major": 2,
       "version_minor": 0
      },
      "text/plain": [
       "Scoring...:   0%|          | 0/1 [00:00<?, ?it/s]"
      ]
     },
     "metadata": {},
     "output_type": "display_data"
    },
    {
     "data": {
      "application/vnd.jupyter.widget-view+json": {
       "model_id": "32935cb1cd8c4930a5a87ac7383bf242",
       "version_major": 2,
       "version_minor": 0
      },
      "text/plain": [
       "Scoring...:   0%|          | 0/1 [00:00<?, ?it/s]"
      ]
     },
     "metadata": {},
     "output_type": "display_data"
    },
    {
     "data": {
      "application/vnd.jupyter.widget-view+json": {
       "model_id": "6009b187e65d4edb91c68d87a9252ba9",
       "version_major": 2,
       "version_minor": 0
      },
      "text/plain": [
       "Scoring...:   0%|          | 0/1 [00:00<?, ?it/s]"
      ]
     },
     "metadata": {},
     "output_type": "display_data"
    },
    {
     "data": {
      "application/vnd.jupyter.widget-view+json": {
       "model_id": "0ea220a73c724641b50edbedcfab7be7",
       "version_major": 2,
       "version_minor": 0
      },
      "text/plain": [
       "Scoring...:   0%|          | 0/1 [00:00<?, ?it/s]"
      ]
     },
     "metadata": {},
     "output_type": "display_data"
    },
    {
     "data": {
      "application/vnd.jupyter.widget-view+json": {
       "model_id": "aee1fcbaac974be39eb50abb1ae3b99d",
       "version_major": 2,
       "version_minor": 0
      },
      "text/plain": [
       "Scoring...:   0%|          | 0/1 [00:00<?, ?it/s]"
      ]
     },
     "metadata": {},
     "output_type": "display_data"
    },
    {
     "data": {
      "application/vnd.jupyter.widget-view+json": {
       "model_id": "d7058656099a403c87418168158bf9da",
       "version_major": 2,
       "version_minor": 0
      },
      "text/plain": [
       "Scoring...:   0%|          | 0/1 [00:00<?, ?it/s]"
      ]
     },
     "metadata": {},
     "output_type": "display_data"
    },
    {
     "data": {
      "application/vnd.jupyter.widget-view+json": {
       "model_id": "1a1a5664b0544fe399c5d3f89b8a4eb0",
       "version_major": 2,
       "version_minor": 0
      },
      "text/plain": [
       "Scoring...:   0%|          | 0/1 [00:00<?, ?it/s]"
      ]
     },
     "metadata": {},
     "output_type": "display_data"
    },
    {
     "data": {
      "application/vnd.jupyter.widget-view+json": {
       "model_id": "75c44c115a4d42b3b6ab023e3413f7d3",
       "version_major": 2,
       "version_minor": 0
      },
      "text/plain": [
       "Scoring...:   0%|          | 0/1 [00:00<?, ?it/s]"
      ]
     },
     "metadata": {},
     "output_type": "display_data"
    },
    {
     "data": {
      "application/vnd.jupyter.widget-view+json": {
       "model_id": "32d6c4b4b73d441c8da71de4c2fb494c",
       "version_major": 2,
       "version_minor": 0
      },
      "text/plain": [
       "Scoring...:   0%|          | 0/1 [00:00<?, ?it/s]"
      ]
     },
     "metadata": {},
     "output_type": "display_data"
    },
    {
     "data": {
      "application/vnd.jupyter.widget-view+json": {
       "model_id": "b0f9573b599547858087ff71e45c1404",
       "version_major": 2,
       "version_minor": 0
      },
      "text/plain": [
       "Scoring...:   0%|          | 0/1 [00:00<?, ?it/s]"
      ]
     },
     "metadata": {},
     "output_type": "display_data"
    },
    {
     "data": {
      "application/vnd.jupyter.widget-view+json": {
       "model_id": "d341874a77584b1181520494b8071ff5",
       "version_major": 2,
       "version_minor": 0
      },
      "text/plain": [
       "Scoring...:   0%|          | 0/1 [00:00<?, ?it/s]"
      ]
     },
     "metadata": {},
     "output_type": "display_data"
    },
    {
     "data": {
      "application/vnd.jupyter.widget-view+json": {
       "model_id": "4faa503886a1402a95f40789c4d7377c",
       "version_major": 2,
       "version_minor": 0
      },
      "text/plain": [
       "Scoring...:   0%|          | 0/1 [00:00<?, ?it/s]"
      ]
     },
     "metadata": {},
     "output_type": "display_data"
    },
    {
     "data": {
      "application/vnd.jupyter.widget-view+json": {
       "model_id": "32741b445fc64f85aa2f205fbc0d3634",
       "version_major": 2,
       "version_minor": 0
      },
      "text/plain": [
       "Scoring...:   0%|          | 0/1 [00:00<?, ?it/s]"
      ]
     },
     "metadata": {},
     "output_type": "display_data"
    },
    {
     "data": {
      "application/vnd.jupyter.widget-view+json": {
       "model_id": "85e632d1b18a478a964af7b25e9c752f",
       "version_major": 2,
       "version_minor": 0
      },
      "text/plain": [
       "Scoring...:   0%|          | 0/1 [00:00<?, ?it/s]"
      ]
     },
     "metadata": {},
     "output_type": "display_data"
    },
    {
     "data": {
      "application/vnd.jupyter.widget-view+json": {
       "model_id": "8035a6918661448fa94d480fc72deb45",
       "version_major": 2,
       "version_minor": 0
      },
      "text/plain": [
       "Scoring...:   0%|          | 0/1 [00:00<?, ?it/s]"
      ]
     },
     "metadata": {},
     "output_type": "display_data"
    },
    {
     "data": {
      "application/vnd.jupyter.widget-view+json": {
       "model_id": "1d57d7b640c14aac9c21287c97253570",
       "version_major": 2,
       "version_minor": 0
      },
      "text/plain": [
       "Scoring...:   0%|          | 0/1 [00:00<?, ?it/s]"
      ]
     },
     "metadata": {},
     "output_type": "display_data"
    },
    {
     "data": {
      "application/vnd.jupyter.widget-view+json": {
       "model_id": "a7b33444008f4a50a43a399dba2eccce",
       "version_major": 2,
       "version_minor": 0
      },
      "text/plain": [
       "Scoring...:   0%|          | 0/1 [00:00<?, ?it/s]"
      ]
     },
     "metadata": {},
     "output_type": "display_data"
    },
    {
     "data": {
      "application/vnd.jupyter.widget-view+json": {
       "model_id": "47e2bd6594ba43e680b5b80c3a73aca3",
       "version_major": 2,
       "version_minor": 0
      },
      "text/plain": [
       "Scoring...:   0%|          | 0/1 [00:00<?, ?it/s]"
      ]
     },
     "metadata": {},
     "output_type": "display_data"
    },
    {
     "data": {
      "application/vnd.jupyter.widget-view+json": {
       "model_id": "e7740253ce5e405982ee04ceda273c8c",
       "version_major": 2,
       "version_minor": 0
      },
      "text/plain": [
       "Scoring...:   0%|          | 0/1 [00:00<?, ?it/s]"
      ]
     },
     "metadata": {},
     "output_type": "display_data"
    },
    {
     "data": {
      "application/vnd.jupyter.widget-view+json": {
       "model_id": "152c1b102585460f9bf3d61351d10595",
       "version_major": 2,
       "version_minor": 0
      },
      "text/plain": [
       "Scoring...:   0%|          | 0/1 [00:00<?, ?it/s]"
      ]
     },
     "metadata": {},
     "output_type": "display_data"
    },
    {
     "name": "stderr",
     "output_type": "stream",
     "text": [
      " 14%|█▍        | 7/50 [08:06<1:21:57, 114.36s/it]"
     ]
    },
    {
     "data": {
      "application/vnd.jupyter.widget-view+json": {
       "model_id": "b792c86021474fed994c84ab5876dbc9",
       "version_major": 2,
       "version_minor": 0
      },
      "text/plain": [
       "Scoring...:   0%|          | 0/1 [00:00<?, ?it/s]"
      ]
     },
     "metadata": {},
     "output_type": "display_data"
    },
    {
     "data": {
      "application/vnd.jupyter.widget-view+json": {
       "model_id": "254a0ab3b4ac4817902f81620529dc9c",
       "version_major": 2,
       "version_minor": 0
      },
      "text/plain": [
       "Scoring...:   0%|          | 0/1 [00:00<?, ?it/s]"
      ]
     },
     "metadata": {},
     "output_type": "display_data"
    },
    {
     "name": "stderr",
     "output_type": "stream",
     "text": [
      " 16%|█▌        | 8/50 [08:22<58:08, 83.07s/it]   "
     ]
    },
    {
     "data": {
      "application/vnd.jupyter.widget-view+json": {
       "model_id": "9e7e988abed34c0d9b130682d279a07a",
       "version_major": 2,
       "version_minor": 0
      },
      "text/plain": [
       "Scoring...:   0%|          | 0/1 [00:00<?, ?it/s]"
      ]
     },
     "metadata": {},
     "output_type": "display_data"
    },
    {
     "data": {
      "application/vnd.jupyter.widget-view+json": {
       "model_id": "88d89636ba884d9a99243603d8114c87",
       "version_major": 2,
       "version_minor": 0
      },
      "text/plain": [
       "Scoring...:   0%|          | 0/1 [00:00<?, ?it/s]"
      ]
     },
     "metadata": {},
     "output_type": "display_data"
    },
    {
     "data": {
      "application/vnd.jupyter.widget-view+json": {
       "model_id": "aa5206f6b3b546f78f80cbb3fafa68da",
       "version_major": 2,
       "version_minor": 0
      },
      "text/plain": [
       "Scoring...:   0%|          | 0/1 [00:00<?, ?it/s]"
      ]
     },
     "metadata": {},
     "output_type": "display_data"
    },
    {
     "data": {
      "application/vnd.jupyter.widget-view+json": {
       "model_id": "3074d72d960a4c3e9696d17b4701f168",
       "version_major": 2,
       "version_minor": 0
      },
      "text/plain": [
       "Scoring...:   0%|          | 0/1 [00:00<?, ?it/s]"
      ]
     },
     "metadata": {},
     "output_type": "display_data"
    },
    {
     "data": {
      "application/vnd.jupyter.widget-view+json": {
       "model_id": "3fe18f38041d43219f92dc663ab48c4e",
       "version_major": 2,
       "version_minor": 0
      },
      "text/plain": [
       "Scoring...:   0%|          | 0/1 [00:00<?, ?it/s]"
      ]
     },
     "metadata": {},
     "output_type": "display_data"
    },
    {
     "data": {
      "application/vnd.jupyter.widget-view+json": {
       "model_id": "bed70b74c0a74b388294db8bcc20775d",
       "version_major": 2,
       "version_minor": 0
      },
      "text/plain": [
       "Scoring...:   0%|          | 0/1 [00:00<?, ?it/s]"
      ]
     },
     "metadata": {},
     "output_type": "display_data"
    },
    {
     "data": {
      "application/vnd.jupyter.widget-view+json": {
       "model_id": "190109b6e5a8457e837f0cc5a0bd1f50",
       "version_major": 2,
       "version_minor": 0
      },
      "text/plain": [
       "Scoring...:   0%|          | 0/1 [00:00<?, ?it/s]"
      ]
     },
     "metadata": {},
     "output_type": "display_data"
    },
    {
     "data": {
      "application/vnd.jupyter.widget-view+json": {
       "model_id": "bfa2c7cc6e7e4437998c957e1e388315",
       "version_major": 2,
       "version_minor": 0
      },
      "text/plain": [
       "Scoring...:   0%|          | 0/1 [00:00<?, ?it/s]"
      ]
     },
     "metadata": {},
     "output_type": "display_data"
    },
    {
     "data": {
      "application/vnd.jupyter.widget-view+json": {
       "model_id": "89046997d3ee47e58254445b8835d177",
       "version_major": 2,
       "version_minor": 0
      },
      "text/plain": [
       "Scoring...:   0%|          | 0/1 [00:00<?, ?it/s]"
      ]
     },
     "metadata": {},
     "output_type": "display_data"
    },
    {
     "data": {
      "application/vnd.jupyter.widget-view+json": {
       "model_id": "3c064a4f61744256b4f833ef6e453c0e",
       "version_major": 2,
       "version_minor": 0
      },
      "text/plain": [
       "Scoring...:   0%|          | 0/1 [00:00<?, ?it/s]"
      ]
     },
     "metadata": {},
     "output_type": "display_data"
    },
    {
     "data": {
      "application/vnd.jupyter.widget-view+json": {
       "model_id": "45dc4dd2bb2849eaab53499170355467",
       "version_major": 2,
       "version_minor": 0
      },
      "text/plain": [
       "Scoring...:   0%|          | 0/1 [00:00<?, ?it/s]"
      ]
     },
     "metadata": {},
     "output_type": "display_data"
    },
    {
     "data": {
      "application/vnd.jupyter.widget-view+json": {
       "model_id": "70ca57a1367b4520967849da10f203c7",
       "version_major": 2,
       "version_minor": 0
      },
      "text/plain": [
       "Scoring...:   0%|          | 0/1 [00:00<?, ?it/s]"
      ]
     },
     "metadata": {},
     "output_type": "display_data"
    },
    {
     "data": {
      "application/vnd.jupyter.widget-view+json": {
       "model_id": "2d64a4677133476b82ccb60935b2ee8b",
       "version_major": 2,
       "version_minor": 0
      },
      "text/plain": [
       "Scoring...:   0%|          | 0/1 [00:00<?, ?it/s]"
      ]
     },
     "metadata": {},
     "output_type": "display_data"
    },
    {
     "data": {
      "application/vnd.jupyter.widget-view+json": {
       "model_id": "03a6eba8afb74d63b4782880ff49b7aa",
       "version_major": 2,
       "version_minor": 0
      },
      "text/plain": [
       "Scoring...:   0%|          | 0/1 [00:00<?, ?it/s]"
      ]
     },
     "metadata": {},
     "output_type": "display_data"
    },
    {
     "data": {
      "application/vnd.jupyter.widget-view+json": {
       "model_id": "b9f36170bd6442718485da2c04093df0",
       "version_major": 2,
       "version_minor": 0
      },
      "text/plain": [
       "Scoring...:   0%|          | 0/1 [00:00<?, ?it/s]"
      ]
     },
     "metadata": {},
     "output_type": "display_data"
    },
    {
     "data": {
      "application/vnd.jupyter.widget-view+json": {
       "model_id": "881fc98fc7824b19a88af9fc5ac3ba0a",
       "version_major": 2,
       "version_minor": 0
      },
      "text/plain": [
       "Scoring...:   0%|          | 0/1 [00:00<?, ?it/s]"
      ]
     },
     "metadata": {},
     "output_type": "display_data"
    },
    {
     "data": {
      "application/vnd.jupyter.widget-view+json": {
       "model_id": "30887c826f3a4924a8f3b46c380399bf",
       "version_major": 2,
       "version_minor": 0
      },
      "text/plain": [
       "Scoring...:   0%|          | 0/1 [00:00<?, ?it/s]"
      ]
     },
     "metadata": {},
     "output_type": "display_data"
    },
    {
     "data": {
      "application/vnd.jupyter.widget-view+json": {
       "model_id": "e1d68803f17141c2a252039e390fac3f",
       "version_major": 2,
       "version_minor": 0
      },
      "text/plain": [
       "Scoring...:   0%|          | 0/1 [00:00<?, ?it/s]"
      ]
     },
     "metadata": {},
     "output_type": "display_data"
    },
    {
     "data": {
      "application/vnd.jupyter.widget-view+json": {
       "model_id": "51d05ca15bd14758ba32a5d14c5e108a",
       "version_major": 2,
       "version_minor": 0
      },
      "text/plain": [
       "Scoring...:   0%|          | 0/1 [00:00<?, ?it/s]"
      ]
     },
     "metadata": {},
     "output_type": "display_data"
    },
    {
     "data": {
      "application/vnd.jupyter.widget-view+json": {
       "model_id": "6325ebd05616438b87355549898a9be9",
       "version_major": 2,
       "version_minor": 0
      },
      "text/plain": [
       "Scoring...:   0%|          | 0/1 [00:00<?, ?it/s]"
      ]
     },
     "metadata": {},
     "output_type": "display_data"
    },
    {
     "data": {
      "application/vnd.jupyter.widget-view+json": {
       "model_id": "8e2425c7db624f999c529d78c851c17b",
       "version_major": 2,
       "version_minor": 0
      },
      "text/plain": [
       "Scoring...:   0%|          | 0/1 [00:00<?, ?it/s]"
      ]
     },
     "metadata": {},
     "output_type": "display_data"
    },
    {
     "data": {
      "application/vnd.jupyter.widget-view+json": {
       "model_id": "50dc96c782104630a8cf0b02efe8104f",
       "version_major": 2,
       "version_minor": 0
      },
      "text/plain": [
       "Scoring...:   0%|          | 0/1 [00:00<?, ?it/s]"
      ]
     },
     "metadata": {},
     "output_type": "display_data"
    },
    {
     "data": {
      "application/vnd.jupyter.widget-view+json": {
       "model_id": "0e1dee0245aa4a7dab41a36baf2c64a3",
       "version_major": 2,
       "version_minor": 0
      },
      "text/plain": [
       "Scoring...:   0%|          | 0/1 [00:00<?, ?it/s]"
      ]
     },
     "metadata": {},
     "output_type": "display_data"
    },
    {
     "data": {
      "application/vnd.jupyter.widget-view+json": {
       "model_id": "ca339f3419b941e9acb6cec7c0b3e1b7",
       "version_major": 2,
       "version_minor": 0
      },
      "text/plain": [
       "Scoring...:   0%|          | 0/1 [00:00<?, ?it/s]"
      ]
     },
     "metadata": {},
     "output_type": "display_data"
    },
    {
     "data": {
      "application/vnd.jupyter.widget-view+json": {
       "model_id": "207387cd716a434a928e963f1814d3f5",
       "version_major": 2,
       "version_minor": 0
      },
      "text/plain": [
       "Scoring...:   0%|          | 0/1 [00:00<?, ?it/s]"
      ]
     },
     "metadata": {},
     "output_type": "display_data"
    },
    {
     "data": {
      "application/vnd.jupyter.widget-view+json": {
       "model_id": "b5bbd430b0c24172abf10f5d6a6e7e33",
       "version_major": 2,
       "version_minor": 0
      },
      "text/plain": [
       "Scoring...:   0%|          | 0/1 [00:00<?, ?it/s]"
      ]
     },
     "metadata": {},
     "output_type": "display_data"
    },
    {
     "data": {
      "application/vnd.jupyter.widget-view+json": {
       "model_id": "1e8d64d96b11408091443826514387e2",
       "version_major": 2,
       "version_minor": 0
      },
      "text/plain": [
       "Scoring...:   0%|          | 0/1 [00:00<?, ?it/s]"
      ]
     },
     "metadata": {},
     "output_type": "display_data"
    },
    {
     "data": {
      "application/vnd.jupyter.widget-view+json": {
       "model_id": "b91e66f664df4c4eba4bdea0d90d8e1e",
       "version_major": 2,
       "version_minor": 0
      },
      "text/plain": [
       "Scoring...:   0%|          | 0/1 [00:00<?, ?it/s]"
      ]
     },
     "metadata": {},
     "output_type": "display_data"
    },
    {
     "data": {
      "application/vnd.jupyter.widget-view+json": {
       "model_id": "70d22f7f79034c9595105b91d9231342",
       "version_major": 2,
       "version_minor": 0
      },
      "text/plain": [
       "Scoring...:   0%|          | 0/1 [00:00<?, ?it/s]"
      ]
     },
     "metadata": {},
     "output_type": "display_data"
    },
    {
     "data": {
      "application/vnd.jupyter.widget-view+json": {
       "model_id": "2a5551354eec409a8c1e6f32aa80afe5",
       "version_major": 2,
       "version_minor": 0
      },
      "text/plain": [
       "Scoring...:   0%|          | 0/1 [00:00<?, ?it/s]"
      ]
     },
     "metadata": {},
     "output_type": "display_data"
    },
    {
     "data": {
      "application/vnd.jupyter.widget-view+json": {
       "model_id": "f0fe7f93ac2d42f1b4c7382f314158bd",
       "version_major": 2,
       "version_minor": 0
      },
      "text/plain": [
       "Scoring...:   0%|          | 0/1 [00:00<?, ?it/s]"
      ]
     },
     "metadata": {},
     "output_type": "display_data"
    },
    {
     "data": {
      "application/vnd.jupyter.widget-view+json": {
       "model_id": "9530198a04dc48f7be667a196bc51325",
       "version_major": 2,
       "version_minor": 0
      },
      "text/plain": [
       "Scoring...:   0%|          | 0/1 [00:00<?, ?it/s]"
      ]
     },
     "metadata": {},
     "output_type": "display_data"
    },
    {
     "data": {
      "application/vnd.jupyter.widget-view+json": {
       "model_id": "414d6d2298d1421391f4176e564dd4bf",
       "version_major": 2,
       "version_minor": 0
      },
      "text/plain": [
       "Scoring...:   0%|          | 0/1 [00:00<?, ?it/s]"
      ]
     },
     "metadata": {},
     "output_type": "display_data"
    },
    {
     "data": {
      "application/vnd.jupyter.widget-view+json": {
       "model_id": "62906ce0ea484d9f8270a14f665ebfb4",
       "version_major": 2,
       "version_minor": 0
      },
      "text/plain": [
       "Scoring...:   0%|          | 0/1 [00:00<?, ?it/s]"
      ]
     },
     "metadata": {},
     "output_type": "display_data"
    },
    {
     "data": {
      "application/vnd.jupyter.widget-view+json": {
       "model_id": "871a383344494655a6bbea0585640aab",
       "version_major": 2,
       "version_minor": 0
      },
      "text/plain": [
       "Scoring...:   0%|          | 0/1 [00:00<?, ?it/s]"
      ]
     },
     "metadata": {},
     "output_type": "display_data"
    },
    {
     "data": {
      "application/vnd.jupyter.widget-view+json": {
       "model_id": "ca62db7c9f174efa8355dfeb7040b5fe",
       "version_major": 2,
       "version_minor": 0
      },
      "text/plain": [
       "Scoring...:   0%|          | 0/1 [00:00<?, ?it/s]"
      ]
     },
     "metadata": {},
     "output_type": "display_data"
    },
    {
     "data": {
      "application/vnd.jupyter.widget-view+json": {
       "model_id": "626bd83e4c3b44f59a55269d0d45e44c",
       "version_major": 2,
       "version_minor": 0
      },
      "text/plain": [
       "Scoring...:   0%|          | 0/1 [00:00<?, ?it/s]"
      ]
     },
     "metadata": {},
     "output_type": "display_data"
    },
    {
     "data": {
      "application/vnd.jupyter.widget-view+json": {
       "model_id": "c2594fe3b6ad4281a66754ef49f21668",
       "version_major": 2,
       "version_minor": 0
      },
      "text/plain": [
       "Scoring...:   0%|          | 0/1 [00:00<?, ?it/s]"
      ]
     },
     "metadata": {},
     "output_type": "display_data"
    },
    {
     "data": {
      "application/vnd.jupyter.widget-view+json": {
       "model_id": "f7992c78cba94dd8a8f128dbd6607cf6",
       "version_major": 2,
       "version_minor": 0
      },
      "text/plain": [
       "Scoring...:   0%|          | 0/1 [00:00<?, ?it/s]"
      ]
     },
     "metadata": {},
     "output_type": "display_data"
    },
    {
     "data": {
      "application/vnd.jupyter.widget-view+json": {
       "model_id": "e8fa106eb5f143208d82b2b3b62a0a38",
       "version_major": 2,
       "version_minor": 0
      },
      "text/plain": [
       "Scoring...:   0%|          | 0/1 [00:00<?, ?it/s]"
      ]
     },
     "metadata": {},
     "output_type": "display_data"
    },
    {
     "data": {
      "application/vnd.jupyter.widget-view+json": {
       "model_id": "4045588b516747cc8e9d85180c456a39",
       "version_major": 2,
       "version_minor": 0
      },
      "text/plain": [
       "Scoring...:   0%|          | 0/1 [00:00<?, ?it/s]"
      ]
     },
     "metadata": {},
     "output_type": "display_data"
    },
    {
     "data": {
      "application/vnd.jupyter.widget-view+json": {
       "model_id": "fbe1f909aa1446698ebc166dce503082",
       "version_major": 2,
       "version_minor": 0
      },
      "text/plain": [
       "Scoring...:   0%|          | 0/1 [00:00<?, ?it/s]"
      ]
     },
     "metadata": {},
     "output_type": "display_data"
    },
    {
     "data": {
      "application/vnd.jupyter.widget-view+json": {
       "model_id": "83f475d04b9a44b38fb2659b0dcb8368",
       "version_major": 2,
       "version_minor": 0
      },
      "text/plain": [
       "Scoring...:   0%|          | 0/1 [00:00<?, ?it/s]"
      ]
     },
     "metadata": {},
     "output_type": "display_data"
    },
    {
     "data": {
      "application/vnd.jupyter.widget-view+json": {
       "model_id": "07ae5b06de0c42b2ae847a519477f308",
       "version_major": 2,
       "version_minor": 0
      },
      "text/plain": [
       "Scoring...:   0%|          | 0/1 [00:00<?, ?it/s]"
      ]
     },
     "metadata": {},
     "output_type": "display_data"
    },
    {
     "data": {
      "application/vnd.jupyter.widget-view+json": {
       "model_id": "0f98292911574256ba7396223103d758",
       "version_major": 2,
       "version_minor": 0
      },
      "text/plain": [
       "Scoring...:   0%|          | 0/1 [00:00<?, ?it/s]"
      ]
     },
     "metadata": {},
     "output_type": "display_data"
    },
    {
     "data": {
      "application/vnd.jupyter.widget-view+json": {
       "model_id": "2d96cf11702e4cccad75c2be94357830",
       "version_major": 2,
       "version_minor": 0
      },
      "text/plain": [
       "Scoring...:   0%|          | 0/1 [00:00<?, ?it/s]"
      ]
     },
     "metadata": {},
     "output_type": "display_data"
    },
    {
     "data": {
      "application/vnd.jupyter.widget-view+json": {
       "model_id": "e907451dbc944ca6b67169cf31811483",
       "version_major": 2,
       "version_minor": 0
      },
      "text/plain": [
       "Scoring...:   0%|          | 0/1 [00:00<?, ?it/s]"
      ]
     },
     "metadata": {},
     "output_type": "display_data"
    },
    {
     "data": {
      "application/vnd.jupyter.widget-view+json": {
       "model_id": "5b430dbf53d44f57b0ed1a5a1cf4506c",
       "version_major": 2,
       "version_minor": 0
      },
      "text/plain": [
       "Scoring...:   0%|          | 0/1 [00:00<?, ?it/s]"
      ]
     },
     "metadata": {},
     "output_type": "display_data"
    },
    {
     "name": "stderr",
     "output_type": "stream",
     "text": [
      " 18%|█▊        | 9/50 [13:19<1:42:26, 149.91s/it]"
     ]
    },
    {
     "data": {
      "application/vnd.jupyter.widget-view+json": {
       "model_id": "73cbb2f421b5444c96c11647ada7aebf",
       "version_major": 2,
       "version_minor": 0
      },
      "text/plain": [
       "Scoring...:   0%|          | 0/1 [00:00<?, ?it/s]"
      ]
     },
     "metadata": {},
     "output_type": "display_data"
    },
    {
     "data": {
      "application/vnd.jupyter.widget-view+json": {
       "model_id": "45f0de8a5e224049ab05ab881b1cf327",
       "version_major": 2,
       "version_minor": 0
      },
      "text/plain": [
       "Scoring...:   0%|          | 0/1 [00:00<?, ?it/s]"
      ]
     },
     "metadata": {},
     "output_type": "display_data"
    },
    {
     "name": "stderr",
     "output_type": "stream",
     "text": [
      " 20%|██        | 10/50 [13:37<54:28, 81.72s/it]   \n"
     ]
    },
    {
     "name": "stdout",
     "output_type": "stream",
     "text": [
      "Bootstrapped 8 full traces after 10 examples for up to 10 rounds, amounting to 31 attempts.\n",
      "  0%|          | 0/50 [00:00<?, ?it/s]"
     ]
    },
    {
     "data": {
      "application/vnd.jupyter.widget-view+json": {
       "model_id": "5443eab9946642ec83917b021198d0b2",
       "version_major": 2,
       "version_minor": 0
      },
      "text/plain": [
       "Scoring...:   0%|          | 0/1 [00:00<?, ?it/s]"
      ]
     },
     "metadata": {},
     "output_type": "display_data"
    },
    {
     "data": {
      "application/vnd.jupyter.widget-view+json": {
       "model_id": "02eb7402ff3941d3a832ea7ab5bb9bec",
       "version_major": 2,
       "version_minor": 0
      },
      "text/plain": [
       "Scoring...:   0%|          | 0/1 [00:00<?, ?it/s]"
      ]
     },
     "metadata": {},
     "output_type": "display_data"
    },
    {
     "data": {
      "application/vnd.jupyter.widget-view+json": {
       "model_id": "002c6163bb7b4b65b853d5067bbdf644",
       "version_major": 2,
       "version_minor": 0
      },
      "text/plain": [
       "Scoring...:   0%|          | 0/1 [00:00<?, ?it/s]"
      ]
     },
     "metadata": {},
     "output_type": "display_data"
    },
    {
     "data": {
      "application/vnd.jupyter.widget-view+json": {
       "model_id": "f35f8d2463d849c4a56bfd86d7de03f9",
       "version_major": 2,
       "version_minor": 0
      },
      "text/plain": [
       "Scoring...:   0%|          | 0/1 [00:00<?, ?it/s]"
      ]
     },
     "metadata": {},
     "output_type": "display_data"
    },
    {
     "data": {
      "application/vnd.jupyter.widget-view+json": {
       "model_id": "338c5bff0bc244e5bd0b03749ecf2d64",
       "version_major": 2,
       "version_minor": 0
      },
      "text/plain": [
       "Scoring...:   0%|          | 0/1 [00:00<?, ?it/s]"
      ]
     },
     "metadata": {},
     "output_type": "display_data"
    },
    {
     "name": "stderr",
     "output_type": "stream",
     "text": [
      "2025/02/11 14:57:14 ERROR dspy.utils.parallelizer: Error processing item Example({'id': '2hop__97238_154727', 'question': 'What year did the war Jameel Sayhood fought in start?', 'docs': [{'text': \"# Muslim Atayev\\nMuslim Atayev (June 24, 1973 – January 27, 2005), also known as Emir Sayfullah, was the founder of the militant organization Yarmuk Jamaat, which later became part of the Caucasus Front's Kabardino-Balkarian Sector in the Russian-held Caucasian Muslim state Kabardino-Balkaria of the Second Chechen War. Atayev was an ethnic Balkar and started his military career as a volunteer fighting in Chechnya.\", 'idx': 0}, {'text': '# Warsaw Pact\\nFor 36 years, NATO and the Warsaw Pact never directly waged war against each other in Europe; the United States and the Soviet Union and their respective allies implemented strategic policies aimed at the containment of each other in Europe, while working and fighting for influence within the wider Cold War on the international stage.', 'idx': 1}, {'text': \"# Jean de Clermont\\nJean de Clermont (d. 19 September 1356), Lord of Chantilly and of Beaumont, was a Marshal of France (1352) who was killed fighting in the Hundred Years' War at the Battle of Poitiers.\", 'idx': 2}, {'text': \"# Morgan McCammon\\nBorn in Montreal, Quebec, he started studying at McGill University in 1940. He did not complete his education but rather joined the Canadian Army, fighting during World War II with the Princess Patricia's Canadian Light Infantry. After the war, he continued his education receiving a law degree in 1949. He worked four years as a lawyer with the law firm of Brais-Campbell before joining Steinberg's real-estate business in 1953. He joined Molson Breweries in 1958 eventually becoming President and Chairman.\", 'idx': 3}, {'text': '# Boxing After Dark\\nBoxing After Dark is an HBO boxing program, premiering on February 3, 1996, that usually showed fights between well-known contenders, but usually not \"championship\" or \"title\" fights. Unlike its sister program, \"HBO World Championship Boxing\", \"BAD\" featured fighters who were usually moving up from ESPN\\'s \"Friday Night Fights\" or another basic cable boxing program. This was where fighters were given their start to become famous depending on how well they fare on \"BAD\" they might have a title fight on \"World Championship Boxing\" or could fall back (Ex: Jason Litzau had many entertaining fights on ESPN before moving up to \"BAD\" to face Jose Hernandez. After Litzau lost by knockout he returned to \"FNF\")', 'idx': 4}, {'text': \"# Constantin Brătescu\\nConstantin Brătescu (March 8, 1892 – April 13, 1971) was a Romanian Major-General during World War II. In 1941, he served first as Chief Propaganda Section General Staff (Romania's Propaganda Minister) and then as a Romanian liaison officer to the German Military Mission, meaning that he served as a German military officer during Operation Barbarossa and the Axis Invasion of the Soviet Union. Starting in 1942 Brătescu was a Romanian General Officer (at the rank of Major-General) and commanded the 1st Cavalry Division throughout the campaign against the Soviets, fighting in such engagements as Operation Barbarossa, Operation Blue, and the Battle of Stalingrad. Following the surrender of Friedrich Paulus' 6th Army at the Battle of Stalingrad, Brătescu became a prisoner of war and was held captive from 1943 to 1948. Finally, in 1948, he was released after five years of imprisonment and subsequently retired from active service. Bratescu ultimately died twenty-three years later, in 1971, at the age of seventy-nine.\", 'idx': 5}, {'text': \"# Esther Duflo\\nEsther Duflo, FBA (; born 25 October 1972) is a French American economist, Co-Founder and Director of the Abdul Latif Jameel Poverty Action Lab (J-PAL), and Professor of Poverty Alleviation and Development Economics at the Massachusetts Institute of Technology. Duflo is an NBER Research Associate, serves on the board of the Bureau for Research and Economic Analysis of Development (BREAD), and is Director of the Center for Economic and Policy Research's development economics program.\", 'idx': 6}, {'text': '# Blue Star Memorial Highway\\nBlue Star Memorial Highways are highways in the United States that are marked to pay tribute to the U.S. armed forces. The National Council of State Garden Clubs, now known as National Garden Clubs, Inc., started the program in 1945 after World War II. The blue star was used on service flags to denote a service member fighting in the war. The program has since been expanded to include Memorial Markers and Memorial By-ways (since 1994). These markers are used in National Cemeteries, parks, veterans facilities, and gardens.', 'idx': 7}, {'text': \"# Kamakura Gongorō Kagemasa\\nKamakura Gongorō Kagemasa (鎌倉権五郎景政) (born 1069) was a samurai descended from the Taira clan, who fought for the Minamoto clan in the Gosannen War of Japan's Heian period. He is famous for having continued to fight after losing an eye in battle during that war. This was in 1085, when Kagemasa was sixteen years of age.\", 'idx': 8}, {'text': '# Gulf War\\nThe Gulf War (2 August 199028 February 1991), codenamed Operation Desert Shield (2 August 199017 January 1991) for operations leading to the buildup of troops and defense of Saudi Arabia and Operation Desert Storm (17 January 199128 February 1991) in its combat phase, was a war waged by coalition forces from 35 nations led by the United States against Iraq in response to Iraq\\'s invasion and annexation of Kuwait arising from oil pricing and production disputes. The war is also known under other names, such as the Persian Gulf War, First Gulf War, Gulf War I, Kuwait War, First Iraq War or Iraq War, before the term \"Iraq War\" became identified instead with the post-2003 Iraq War.', 'idx': 9}, {'text': \"# Samuel Hearne\\nSamuel Hearne was born in February 1745 in London UK. Hearne's father was Secretary of the Waterworks, of the London Bridge who died in 1748. His mother's name was Diana, and his sister's name was Sarah, three years younger than Samuel. Samuel Hearne joined the British Royal Navy in 1756 at the age of 11 as midshipman under the fighting captain Samuel Hood. He remained with Hood during the Seven Years' War, seeing considerable action during the conflict, including the bombardment of Le Havre. At the end of the Seven Years' War, having served in the English Channel and then the Mediterranean, he left the Navy in 1763.\", 'idx': 10}, {'text': \"# Léon Bourjade\\nLéon Bourjade (25 May 1889 – 22 October 1924), born Jean-Pierre Léon Bourjade, was a leading French fighter pilot in World War I, notable for being his country's leading balloon-busting ace. He interrupted his theological studies to fight in World War I; post-war, he completed his studies and spent the few remaining years of his life as a missionary in what is now Papua New Guinea.\", 'idx': 11}, {'text': '# Nene Hatun\\nNene Hatun (1857 – 22 May 1955) was a Turkish folk heroine, who became known for fighting against Russian forces during the recapture of Fort Aziziye in Erzurum from Russian forces at the start of the Russo-Turkish War of 1877–1878.', 'idx': 12}, {'text': '# Ten Years\\' War\\nThe Ten Years\\' War () (1868–1878), also known as the Great War (\"Guerra Grande\") and the War of \\'68, was part of Cuba\\'s fight for independence from Spain. The uprising was led by Cuban-born planters and other wealthy natives. On October 10, 1868 sugar mill owner Carlos Manuel de Céspedes and his followers proclaimed independence, beginning the conflict. This was the first of three liberation wars that Cuba fought against Spain, the other two being the Little War (1879–1880) and the Cuban War of Independence (1895–1898). The final three months of the last conflict escalated with United States involvement, leading to the Spanish–American War.', 'idx': 13}, {'text': \"# Nine Years' War (Ireland)\\nThe war against O'Neill and his allies was the largest conflict fought by England in the Elizabethan era. At the height of the conflict (1600–1601) more than 18,000 soldiers were fighting in the English army in Ireland. By contrast, the English army assisting the Dutch during the Eighty Years' War was never more than 12,000 strong at any one time.\", 'idx': 14}, {'text': '# United States in World War I\\nThe United States declared war on Germany on April 6, 1917, over 2 \\u200b ⁄ years after World War I started. A ceasefire and Armistice was declared on November 11, 1918. Before entering the war, the U.S. had remained neutral, though it had been an important supplier to Great Britain and the other Allied powers.', 'idx': 15}, {'text': '# French and Indian War\\nIn Europe, the North American theater of the Seven Years\\' War usually is not given a separate name. The entire international conflict is known as the Seven Years\\' War. \"Seven Years\" refers to events in Europe, from the official declaration of war in 1756 to the signing of the peace treaty in 1763. These dates do not correspond with the fighting on mainland North America, where the fighting between the two colonial powers was largely concluded in six years, from the Battle of Jumonville Glen in 1754 to the capture of Montreal in 1760.', 'idx': 16}, {'text': '# Jameel Sayhood\\nJameel Sayhood was an Iraqi pilot in the Gulf War who it is claimed managed to attain one of the few aerial victories by the Iraqi Air Force in his MiG-29B, before being shot down by USAF Captain Craig Underhill and Captain Cesar Rodriguez with their F-15Cs mere minutes after his air-air victory.', 'idx': 17}, {'text': '# Kitos War\\nThe Kitos War (115–117; : \"mered ha\\'galuyot\" or \"mered ha\\'tfutzot\" [מרד התפוצות]; translation: rebellion of the diaspora. ) was one of the major Jewish–Roman wars, 66–136. The rebellions erupted in the year 115, when majority of the Roman armies were fighting Trajan\\'s Parthian War on the eastern border of the Roman Empire, major uprisings by ethnic Judeans in Cyrenaica, Cyprus and Egypt spiraled out of control, resulting in a widespread slaughter of left-behind Roman garrisons and Roman citizens by Jewish rebels.', 'idx': 18}, {'text': '# Indo-Pakistani War of 1971\\nThe Indian Army Chief in 1971 Field Marshal Sam Manekshaw had the highest respect for the fighting capability of the Pakistan Army but he did not accept the theory that they did not fight the Bangladesh war with enough vigor and zeal. In a BBC interview, he said:', 'idx': 19}], 'question_decomposition': [{'answer': 'Gulf War', 'id': 97238, 'paragraph_support_idx': 17, 'question': 'In what war did Jameel Sayhood fight in?'}, {'answer': '2 August 1990', 'id': 154727, 'paragraph_support_idx': 9, 'question': 'What year did #1 start?'}], 'answers': ['2 August 1990']}) (input_keys={'question', 'docs'}): litellm.BadRequestError: OpenAIException - Error code: 400 - {'error': {'message': \"litellm.BadRequestError: OpenAIException - Error code: 422 - {'error': 'Input validation error: `inputs` tokens + `max_new_tokens` must be <= 8192. Given: 12036 `inputs` tokens and 1000 `max_new_tokens`', 'error_type': 'validation'}\\nReceived Model Group=llama-3.3-70b-tgi\\nAvailable Model Group Fallbacks=None\", 'type': None, 'param': None, 'code': '400'}}. Set `provide_traceback=True` to see the stack trace.\n"
     ]
    },
    {
     "name": "stdout",
     "output_type": "stream",
     "text": [
      "Average Metric: 0.00 / 0 (0%):   2%|▏         | 1/50 [00:19<15:40, 19.20s/it]"
     ]
    },
    {
     "name": "stderr",
     "output_type": "stream",
     "text": [
      "2025/02/11 14:57:15 ERROR dspy.utils.parallelizer: Error processing item Example({'id': '2hop__129127_90527', 'question': 'What is the average summer temperature in the state which holds Centerpoint Medical Center?', 'docs': [{'text': \"# University of Mississippi Medical Center\\nUniversity of Mississippi Medical Center (UMMC) is the health sciences campus of the University of Mississippi (Ole Miss) and is located in Jackson, Mississippi, United States. UMMC, also referred to as the Medical Center, is the state's only academic medical center.\", 'idx': 0}, {'text': '# Saint Barthélemy\\nThe island covers an area of 25 square kilometres (2,500 ha). The eastern side is wetter than the western. Although the climate is essentially arid, the rainfall does average 1000 mm annually, but with considerable variation over the terrain. Summer is from May to November, which is also the rainy season. Winter from December to April is the dry season. Sunshine is very prominent for nearly the entire year and even during the rainy season. Humidity, however, is not very high due to the winds. The average temperature is around 25 °C with day temperatures rising to 32 °C. The average high and low temperatures in January are 28 °C and 22 °C, respectively, while in July they are 30 °C and 24 °C. The lowest night temperature recorded is 13 °C. The Caribbean sea waters in the vicinity generally maintain a temperature of about 27 °C.', 'idx': 1}, {'text': '# Cambridge Medical Center\\nCambridge Medical Center is a regional health care facility providing comprehensive health care services to more than 30,000 residents in Isanti County, Minnesota, United States. The medical center comprises a multi-specialty clinic and an 86-bed hospital located on one campus. A same day clinic, retail pharmacy, therapy center and eye care center are also located in the facility.', 'idx': 2}, {'text': \"# Boston\\nMany of Boston's medical facilities are associated with universities. The facilities in the Longwood Medical and Academic Area and in Massachusetts General Hospital are affiliated with Harvard Medical School. Tufts Medical Center (formerly Tufts-New England Medical Center), located in the southern portion of the Chinatown neighborhood, is affiliated with Tufts University School of Medicine. Boston Medical Center, located in the South End neighborhood, is the primary teaching facility for the Boston University School of Medicine as well as the largest trauma center in the Boston area; it was formed by the merger of Boston University Hospital and Boston City Hospital, which was the first municipal hospital in the United States.\", 'idx': 3}, {'text': '# Russkaya Station\\nFor the shore of Antarctica, the winds are considered to be rather strong. The average number of days per year with wind speeds of over in the area around the station is 264, and on 136 of those the wind speed is over . The average temperature in the coldest months of July–August is ; in the warmest months of December–January it is . The lowest temperature ever recorded at the station was in 1985, and the warmest was in 1983. The average overall temperature over the course of a year is , and the average amount of snowfall is around .', 'idx': 4}, {'text': '# Cyprus\\nCyprus has one of the warmest climates in the Mediterranean part of the European Union.[citation needed] The average annual temperature on the coast is around 24 °C (75 °F) during the day and 14 °C (57 °F) at night. Generally, summers last about eight months, beginning in April with average temperatures of 21–23 °C (70–73 °F) during the day and 11–13 °C (52–55 °F) at night, and ending in November with average temperatures of 22–23 °C (72–73 °F) during the day and 12–14 °C (54–57 °F) at night, although in the remaining four months temperatures sometimes exceed 20 °C (68 °F).', 'idx': 5}, {'text': '# Climate of Minnesota\\nAutumn weather in Minnesota is marked by the rapid decrease of severe thunderstorms, dramatic cooling, and eventually the possibility of blizzards. With summer - time heat still prevalent in the southern U.S. and colder air quickly taking hold in Canada, Minnesota can be affected by wide temperature swings in short periods of time. Because of this, the jet stream, which tends to weaken during the summer months, begins to re-strengthen. This leads to quicker changes in weather patterns and increasingly strong storm systems. As autumn moves on, these storm systems bring with them progressively colder air, eventually changing the rain over snow, generally starting in October in the northern part of the state and November in the south. From September to December the average temperature in the state falls by approximately 43 ° F (23 ° C), the largest such temperature swing within any Minnesota season.', 'idx': 6}, {'text': \"# Istanbul\\nIstanbul's persistently high humidity reaches 80 percent most mornings. Because of this, fog is very common, although more so in northern parts of the city and away from the city center. Dense fog disrupts transportation in the region, including on the Bosphorus, and is common during the autumn and winter months when the humidity remains high into the afternoon. The humid conditions and the fog tend to dissipate by midday during the summer months, but the lingering humidity exacerbates the moderately high summer temperatures. During these summer months, high temperatures average around 29 °C (84 °F) and rainfall is uncommon; there are only about fifteen days with measurable precipitation between June and August. The summer months also have the highest concentration of thunderstorms.Winter is colder in Istanbul than in most other cities around the Mediterranean Basin, with low temperatures averaging 1–4 °C (34–39 °F). Lake-effect snow from the Black Sea is common, although difficult to forecast, with the potential to be heavy and—as with the fog—disruptive to the city's infrastructure. Spring and autumn are mild, but often wet and unpredictable; chilly winds from the northwest and warm gusts from the south—sometimes in the same day—tend to cause fluctuations in temperature. Overall, Istanbul has an annual average of 130 days with significant precipitation, which amounts to 810 millimeters (31.9 in) per year. The highest and lowest temperatures ever recorded in the city center on the Marmara coast are 40.5 °C (105 °F) and −16.1 °C (3 °F). The greatest rainfall recorded in a day is 227 millimeters (8.9 in), and the highest recorded snow cover is 80 centimeters (31 in).\", 'idx': 7}, {'text': '# Valencia\\nIts average annual temperature is 18.4 °C (65.1 °F). 22.8 °C (73.0 °F) during the day and 13.8 °C (56.8 °F) at night. In the coldest month – January, the maximum temperature typically during the day ranges from 13 to 21 °C (55 to 70 °F), the minimum temperature typically at night ranges from 4 to 12 °C (39 to 54 °F). In the warmest month – August, the maximum temperature during the day typically ranges from 28–34 °C (82–93 °F), about 23 °C (73 °F) at night. Generally, temperatures similar to those experienced in the northern part of Europe in summer last about 8 months, from April to November. March is transitional, the temperature often exceeds 20 °C (68 °F), with an average temperature of 19.0 °C (66 °F) during the day and 10.0 °C (50 °F) at night. December, January and February are the coldest months, with average temperatures around 17 °C (63 °F) during the day and 7 °C (45 °F) at night. Valencia has one of the mildest winters in Europe, owing to its southern location on the Mediterranean Sea and the Foehn phenomenon. The January average is comparable to temperatures expected for May and September in the major cities of northern Europe.', 'idx': 8}, {'text': '# Tennessee\\nSummers in the state are generally hot and humid, with most of the state averaging a high of around 90 °F (32 °C) during the summer months. Winters tend to be mild to cool, increasing in coolness at higher elevations. Generally, for areas outside the highest mountains, the average overnight lows are near freezing for most of the state. The highest recorded temperature is 113 °F (45 °C) at Perryville on August 9, 1930 while the lowest recorded temperature is −32 °F (−36 °C) at Mountain City on December 30, 1917.', 'idx': 9}, {'text': '# Climate of Missouri\\nSummer, June through August, is the hottest time of the year with a mean temperature of 24 ° C (75 ° F) and a mean precipitation of 300 mm (12 inches) with June having more precipitation than either July or August. The extreme highs for the year often occur in July or August. Tropical cyclones and their remains can impact the state during this time of the year, contributing to area rainfall.', 'idx': 10}, {'text': \"# Oklahoma City\\nOU Medicine, an academic medical institution located on the campus of The University of Oklahoma Health Sciences Center, is home to OU Medical Center. OU Medicine operates Oklahoma's only level-one trauma center at the OU Medical Center and the state's only level-one trauma center for children at Children's Hospital at OU Medicine, both of which are located in the Oklahoma Health Center district. Other medical facilities operated by OU Medicine include OU Physicians and OU Children's Physicians, the OU College of Medicine, the Oklahoma Cancer Center and OU Medical Center Edmond, the latter being located in the northern suburb of Edmond.\", 'idx': 11}, {'text': '# Centerpoint Medical Center\\nCenterpoint Medical Center is a hospital located in Independence, Missouri at 19600 East 39th Street. It is part of the HCA Midwest Division.', 'idx': 12}, {'text': \"# Phoenix, Arizona\\nPhoenix has a hot desert climate (Köppen climate classification BWh), typical of the Sonoran Desert. Phoenix has long, extremely hot summers and short, mild to warm winters. The city is located within the sunniest region in the world. Measuring 3,872 hours of bright sunshine annually, Phoenix receives the most sunshine of any major city on Earth. Average high temperatures in summer are the hottest of any major city in the United States. On average, there are 107 days annually with a high of at least 100 ° F (38 ° C) including most days from late May through early October. Highs top 110 ° F (43 ° C) an average of 18 days during the year. On June 26, 1990, the temperature reached an all - time recorded high of 122 ° F (50 ° C). Despite the city's claim to the most extreme heat in summer, however, it does not have the highest average annual temperature in the contiguous United States. In that respect, it comes second to Miami; Phoenix has an average daily temperature of 75 ° F (24 ° C), compared to Miami's 77 ° F (25 ° C).\", 'idx': 13}, {'text': \"# Charleston, South Carolina\\nCharleston is the primary medical center for the eastern portion of the state. The city has several major hospitals located in the downtown area: Medical University of South Carolina Medical Center (MUSC), Ralph H. Johnson VA Medical Center, and Roper Hospital. MUSC is the state's first school of medicine, the largest medical university in the state, and the sixth-oldest continually operating school of medicine in the United States. The downtown medical district is experiencing rapid growth of biotechnology and medical research industries coupled with substantial expansions of all the major hospitals. Additionally, more expansions are planned or underway at another major hospital located in the West Ashley portion of the city: Bon Secours-St Francis Xavier Hospital. The Trident Regional Medical Center located in the City of North Charleston and East Cooper Regional Medical Center located in Mount Pleasant also serve the needs of residents of the city of Charleston.\", 'idx': 14}, {'text': '# Palermo\\nPalermo experiences a hot-summer Mediterranean climate (Köppen climate classification: Csa). Winters are cool and wet, while summers are hot and dry. Temperatures in autumn and spring are usually mild. Palermo is one of the warmest cities in Europe (mainly due to its warm nights), with an average annual air temperature of 18.5 °C (65.3 °F). It receives approximately 2,530 hours of sunshine per year. Snow is usually a rare occurrence, but it does occur occasionally if there is a cold front, as the Apennines are too distant to protect the island from cold winds blowing from the Balkans, and the mountains surrounding the city facilite the formation of snow accumulation in Palermo, especially at night. Between the 1940s and the 2000s there have been eleven times when considerable snowfall has occurred: In 1949, in 1956, when the minimum temperature went down to 0 °C (32 °F) and the city was blanketed by several centimeters of snow. Snow also occurred in 1999, 2009 and 2015. The average annual temperature of the sea is above 19 °C (66 °F); from 14 °C (57 °F) in February to 26 °C (79 °F) in August. In the period from May to November, the average sea temperature exceeds 18 °C (64 °F) and in the period from June to October, the average sea temperature exceeds 21 °C (70 °F).', 'idx': 15}, {'text': \"# Oklahoma\\nAll of the state frequently experiences temperatures above 100 °F (38 °C) or below 0 °F (−18 °C), though below-zero temperatures are rare in south-central and southeastern Oklahoma. Snowfall ranges from an average of less than 4 inches (10 cm) in the south to just over 20 inches (51 cm) on the border of Colorado in the panhandle. The state is home to the Storm Prediction Center, the National Severe Storms Laboratory, and the Warning Decision Training Branch, all part of the National Weather Service and located in Norman. Oklahoma's highest recorded temperature of 120 °F (49 °C) was recorded at Tipton on June 27, 1994 and the lowest recorded temperature of −31 °F (−35 °C) was recorded at Nowata on February 10, 2011.\", 'idx': 16}, {'text': '# Jacksonville, Florida\\nMean monthly temperatures range from around 53 F in January to 82 F in July. High temperatures average 64 to 92 °F (18 to 33 °C) throughout the year. High heat indices are common for the summer months in the area, with indices above 110 °F (43.3 °C) possible. The highest temperature recorded was 104 °F (40 °C) on July 11, 1879 and July 28, 1872. It is common for thunderstorms to erupt during a typical summer afternoon. These are caused by the rapid heating of the land relative to the water, combined with extremely high humidity.', 'idx': 17}, {'text': \"# OSF Saint Francis Medical Center\\nOSF Saint Francis Medical Center, located in Peoria, Illinois, United States, is a teaching hospital for the University of Illinois College of Medicine at Peoria and part of the OSF Healthcare System. The Center, which is the largest hospital in the Peoria metropolitan area and in central Illinois, is designated by the state of Illinois as the Level I adult and pediatric regional trauma center for a 26-county region in mid-Illinois. OSF Saint Francis owns the Children's Hospital of Illinois (though the Hospital has its own President), the OSF Saint Francis Heart Hospital, the Illinois Neurological Institute, and the OSF Saint Francis Medical Center College of Nursing, which are all located either in or near the Medical Center. The hospital is a clinical training hospital for many medical students, interns, residents, and fellows of the Peoria campus of the University of Illinois College of Medicine.\", 'idx': 18}, {'text': '# Climate of Islamabad\\nThe climate of Islamabad has a humid subtropical climate (Köppen climate classifion, with five seasons: Winter (Nov − Feb), Spring (March − April), Summer (May − June), Rainy Monsoon (July − August) and Autumn (September − October). The hottest month is June, where average highs routinely exceed 38 ° C (100.4 ° F). The wettest month is July, with heavy rainfall and evening thunderstorms with the possibility of cloudburst. The coolest month is January, with temperatures variable by location. In Islamabad, temperatures vary from cold to mild, routinely dropping below zero. In the hills there is sparse snowfall. The weather ranges from a minimum of − 3.9 ° C (25.0 ° F) in January to a maximum of 46.1 ° C (115.0 ° F) in June. The average low is 2 ° C (35.6 ° F) in January, while the average high is 38.1 ° C (100.6 ° F) in June. The highest temperature recorded was 46.5 ° C (115.7 ° F) in June, while the lowest temperature was − 4 ° C (24.8 ° F) in January. On 23 July 2001, Islamabad received a record breaking 620 millimetres (24 in) of rain fell in just 10 hours. It was the heaviest rainfall in 24 hours in Islamabad and at any locality in Pakistan during the past 100 years. Following is the weather observed over Islamabad Airport, which is actually located in Rawalpindi.', 'idx': 19}], 'question_decomposition': [{'answer': 'Missouri', 'id': 129127, 'paragraph_support_idx': 12, 'question': 'In which state is Centerpoint Medical Center located?'}, {'answer': '75 ° F', 'id': 90527, 'paragraph_support_idx': 10, 'question': 'what is the average summer temperature in #1'}], 'answers': ['75 ° F']}) (input_keys={'question', 'docs'}): litellm.BadRequestError: OpenAIException - Error code: 400 - {'error': {'message': \"litellm.BadRequestError: OpenAIException - Error code: 422 - {'error': 'Input validation error: `inputs` tokens + `max_new_tokens` must be <= 8192. Given: 12081 `inputs` tokens and 1000 `max_new_tokens`', 'error_type': 'validation'}\\nReceived Model Group=llama-3.3-70b-tgi\\nAvailable Model Group Fallbacks=None\", 'type': None, 'param': None, 'code': '400'}}. Set `provide_traceback=True` to see the stack trace.\n"
     ]
    },
    {
     "name": "stdout",
     "output_type": "stream",
     "text": [
      "Average Metric: 0.00 / 0 (0%):   4%|▍         | 2/50 [00:20<06:50,  8.56s/it]"
     ]
    },
    {
     "name": "stderr",
     "output_type": "stream",
     "text": [
      "2025/02/11 14:57:16 ERROR dspy.utils.parallelizer: Error processing item Example({'id': '2hop__71611_90450', 'question': 'Who was president when the place where the majority of sweet corn is grown became a state?', 'docs': [{'text': \"# Politics of Texas\\nIn a reversal of alignments, since the late 1960s the Republican Party has grown more prominent within the state based on an influx of primarily white voters (the majority in the state) from the Democratic Party. By the mid-1990s, it became the state's dominant political party.\", 'idx': 0}, {'text': '# Corn production in the United States\\nIowa, the largest producer of corn in the US, grows three times as much corn as Mexico. Iowa harvested 3,548 acres (1,436 ha) of sweet corn in 2007. In 2011, the state had 92,300 corn farms on 30,700,000 acres (12,400,000 ha), the average size being 333 acres (135 ha), and the average dollar value per acre being US $6,708. In the same year, there were 13.7 million harvested acres of corn for grain, producing 2.36 billion bushels, which yielded 172.0 bu / acre, with US $14.5 billion of corn value of production. Almost 1.88 billion bushels of corn were grown in the state in 2012 on 13.7 million acres of land, while the 2013 projections are 2.45 billion bushels of corn on 13.97 million acres of land.', 'idx': 1}, {'text': \"# A cappella\\nIn 1945, the first formal women's barbershop organization, Sweet Adelines, was formed. In 1953 Sweet Adelines became an international organization, although it didn't change its name to Sweet Adelines International until 1991. The membership of nearly 25,000 women, all singing in English, includes choruses in most of the fifty United States as well as in Australia, Canada, England, Finland, Germany, Ireland, Japan, New Zealand, Scotland, Sweden, Wales and the Netherlands. Headquartered in Tulsa, Oklahoma, the organization encompasses more than 1,200 registered quartets and 600 choruses.\", 'idx': 2}, {'text': '# United States presidential election\\nThe election of President and Vice President of the United States is an indirect election in which citizens of the United States who are registered to vote in one of the 50 U.S. states or in Washington, D.C. cast ballots not directly for those offices, but instead for members of the U.S. Electoral College, known as electors. These electors then in turn cast direct votes, known as electoral votes, for President, and for Vice President. The candidate who receives an absolute majority of electoral votes (at least 270 out of a total of 538, since the Twenty - Third Amendment granting voting rights to citizens of Washington, D.C.) is then elected to that office. If no candidate receives an absolute majority of the votes for President, the House of Representatives chooses the winner; if no one receives an absolute majority of the votes for Vice President, then the Senate chooses the winner.', 'idx': 3}, {'text': '# Brenda Lee (album)\\nBrenda Lee is the second studio album by American pop and country artist Brenda Lee. The album was released August 1, 1960 on Decca Records and was produced by Owen Bradley. The album\\'s second single \"Sweet Nothin\\'s\" became Lee\\'s first major hit single on the \"Billboard\" Hot 100, peaking within the Top 10. This was followed by the third single \"I\\'m Sorry\" released the following year that became her first single to top the Billboard Hot 100.', 'idx': 4}, {'text': '# Miranda Hill\\nMiranda Hill (Wisbech 1836–1910) was an English social reformer. She worked closely, from 1891, with her more famous sister Octavia Hill on major housing reform projects in England. She was the daughter of James Hill, corn merchant and banker, and Caroline Southwood Smith, the daughter of Dr Thomas Southwood Smith, the pioneer of sanitary reform. The sisters were brought up in reduced financial circumstances, and were never formally schooled. To earn her living, Miranda became a teacher at age 13.', 'idx': 5}, {'text': '# United States Electoral College\\nIf no candidate for president receives a majority of electoral votes for president, the Twelfth Amendment provides that the House of Representatives will select the president, with each of the fifty state delegations casting one vote. If no candidate for vice president receives a majority of electoral votes for vice president, then the Senate will select the vice president, with each of the 100 senators having one vote.', 'idx': 6}, {'text': \"# Rice Belt\\nThe Rice Belt of the United States includes Arkansas, Louisiana, Mississippi and Texas, four southern U.S. states that grow a significant portion of the nation's rice crop. The name is in conformity with the Corn Belt of the Midwest, in which much of the nation's corn is grown.\", 'idx': 7}, {'text': '# Cajeta\\nIn Celaya, and eventually the rest of Mexico, the confection of half goat\\'s milk and half cow\\'s milk became known by the name \"cajeta\", elsewhere, the milk candy is known as \"leche quemada\", \"dulce de leche\", etc. It has cousins in the many Indian milk-based sweets like pera and the milk fudge burfi, and in the opera fudge of the United States. \"Cajeta\" is eaten on its own as a sweet, as a spread or filling for breads and pastries, such as churros, and as a topping for ice cream.', 'idx': 8}, {'text': \"# Corn Belt\\nThe Corn Belt is a region of the Midwestern United States that, since the 1850s, has dominated corn production in the United States. More generally, the concept of the ``Corn Belt ''connotes the area of the Midwest dominated by farming. Many towns in this area are connected to powerful farm organizations with lobbying power.\", 'idx': 9}, {'text': \"# Tito's Vodka\\nTito's Handmade Vodka is a vodka produced in Austin, Texas, (in the state's first legal distillery) established by Tito Beveridge. Prided for being handmade, the vodka is also notable for being made from yellow corn, instead of the more commonly used potatoes or wheat. Using corn results in a mildly sweet aftertaste. The vodka has been advertised as gluten free.\", 'idx': 10}, {'text': '# Fiat money\\nThe Bretton Woods system collapsed in what became known as the Nixon Shock. This was a series of economic measures taken by United States President Richard Nixon in 1971, including unilaterally canceling the direct convertibility of the United States dollar to gold. Since then, a system of national fiat monies has been used globally, with freely floating exchange rates between the major currencies.', 'idx': 11}, {'text': \"# Pepsi-Cola Made with Real Sugar\\nThe Pepsi - Cola Made with Real Sugar, formerly called Throwback, is a brand of soft drink sold by PepsiCo in the United States and in sweet stores in South Australia for its flagship Pepsi and Mountain Dew brands. The drinks, called Pepsi Throwback and Mountain Dew Throwback, are named as such because they are flavored with cane sugar and beet sugar instead of high fructose corn syrup, which soft drink companies used to replace sugar (in their North American products) in the 1980s. In addition, these drinks use retro packaging. As of June 2014, Pepsi Throwback has been replaced in one area of the United States by ``Pepsi - Cola Made with Real Sugar '', a new product formulation, also made without high fructose corn syrup.\", 'idx': 12}, {'text': '# Corning Museum of Glass\\nThe Corning Museum of Glass is a museum in Corning, New York dedicated to the art, history and science of glass. It was founded in 1951 by Corning Glass Works and currently has a collection of more than 50,000 glass objects, some over 3,500 years old.', 'idx': 13}, {'text': \"# Iowa\\nAlmost immediately after achieving territorial status, a clamor arose for statehood. On December 28, 1846, Iowa became the 29th state in the Union when President James K. Polk signed Iowa's admission bill into law. Once admitted to the Union, the state's boundary issues resolved, and most of its land purchased from the Indians, Iowa set its direction to development and organized campaigns for settlers and investors, boasting the young frontier state's rich farmlands, fine citizens, free and open society, and good government.\", 'idx': 14}, {'text': \"# Shirley Chisholm\\nShirley Anita Chisholm (née St. Hill; November 30, 1924 -- January 1, 2005) was an American politician, educator, and author. In 1968, she became the first black woman elected to the United States Congress, and she represented New York's 12th Congressional District for seven terms from 1969 to 1983. In 1972, she became the first black candidate for a major party's nomination for President of the United States, and the first woman to run for the Democratic Party's presidential nomination.\", 'idx': 15}, {'text': '# Nagaland\\nNagaland became the 16th state of India on 1 December 1963. Agriculture is the most important economic activity and the principal crops include rice, corn, millets, pulses, tobacco, oilseeds, sugarcane, potatoes, and fibres. Other significant economic activity includes forestry, tourism, insurance, real estate, and miscellaneous cottage industries.', 'idx': 16}, {'text': \"# Charleston, South Carolina\\nAlthough the city lost the status of state capital to Columbia in 1786, Charleston became even more prosperous in the plantation-dominated economy of the post-Revolutionary years. The invention of the cotton gin in 1793 revolutionized the processing of this crop, making short-staple cotton profitable. It was more easily grown in the upland areas, and cotton quickly became South Carolina's major export commodity. The Piedmont region was developed into cotton plantations, to which the sea islands and Lowcountry were already devoted. Slaves were also the primary labor force within the city, working as domestics, artisans, market workers, and laborers.\", 'idx': 17}, {'text': \"# Yale University\\nThe Yale Provost's Office has launched several women into prominent university presidencies. In 1977 Hanna Holborn Gray was appointed acting President of Yale from this position, and went on to become President of the University of Chicago, the first woman to be full president of a major university. In 1994 Yale Provost Judith Rodin became the first female president of an Ivy League institution at the University of Pennsylvania. In 2002 Provost Alison Richard became the Vice Chancellor of the University of Cambridge. In 2004, Provost Susan Hockfield became the President of the Massachusetts Institute of Technology. In 2007 Deputy Provost Kim Bottomly was named President of Wellesley College. In 2003, the Dean of the Divinity School, Rebecca Chopp, was appointed president of Colgate University and now heads Swarthmore College.\", 'idx': 18}, {'text': \"# United States Senate\\nThe presiding officer of the Senate is the Vice President of the United States, who is President of the Senate. In the Vice President's absence, the President Pro Tempore, who is customarily the senior member of the party holding a majority of seats, presides over the Senate. In the early 20th century, the practice of majority and minority parties electing their floor leaders began, although they are not constitutional officers.\", 'idx': 19}], 'question_decomposition': [{'answer': 'Iowa', 'id': 71611, 'paragraph_support_idx': 1, 'question': 'where is the majority of sweet corn grown'}, {'answer': 'President James K. Polk', 'id': 90450, 'paragraph_support_idx': 14, 'question': 'who was president when #1 became a state'}], 'answers': ['President James K. Polk', 'James K. Polk']}) (input_keys={'question', 'docs'}): litellm.BadRequestError: OpenAIException - Error code: 400 - {'error': {'message': \"litellm.BadRequestError: OpenAIException - Error code: 422 - {'error': 'Input validation error: `inputs` tokens + `max_new_tokens` must be <= 8192. Given: 12115 `inputs` tokens and 1000 `max_new_tokens`', 'error_type': 'validation'}\\nReceived Model Group=llama-3.3-70b-tgi\\nAvailable Model Group Fallbacks=None\", 'type': None, 'param': None, 'code': '400'}}. Set `provide_traceback=True` to see the stack trace.\n"
     ]
    },
    {
     "name": "stdout",
     "output_type": "stream",
     "text": [
      "Average Metric: 0.00 / 0 (0%):   6%|▌         | 3/50 [00:20<03:51,  4.94s/it]"
     ]
    },
    {
     "data": {
      "application/vnd.jupyter.widget-view+json": {
       "model_id": "7fa155fb24b84b5ba8f1f69d6ed77e8d",
       "version_major": 2,
       "version_minor": 0
      },
      "text/plain": [
       "Scoring...:   0%|          | 0/1 [00:00<?, ?it/s]"
      ]
     },
     "metadata": {},
     "output_type": "display_data"
    },
    {
     "data": {
      "application/vnd.jupyter.widget-view+json": {
       "model_id": "f6a7f7b18bf0434db0575bc81f94d6e6",
       "version_major": 2,
       "version_minor": 0
      },
      "text/plain": [
       "Scoring...:   0%|          | 0/1 [00:00<?, ?it/s]"
      ]
     },
     "metadata": {},
     "output_type": "display_data"
    },
    {
     "data": {
      "application/vnd.jupyter.widget-view+json": {
       "model_id": "c3aebefad9d34ef3bc04ef192bae736e",
       "version_major": 2,
       "version_minor": 0
      },
      "text/plain": [
       "Scoring...:   0%|          | 0/1 [00:00<?, ?it/s]"
      ]
     },
     "metadata": {},
     "output_type": "display_data"
    },
    {
     "name": "stderr",
     "output_type": "stream",
     "text": [
      "2025/02/11 14:57:20 ERROR dspy.utils.parallelizer: Error processing item Example({'id': '2hop__819850_32467', 'question': 'How old are some of the private schools in the city where Basilica of the Co-Cathedral of the Sacred Heart is located?', 'docs': [{'text': '# Barbara Boggs Sigmund\\nA graduate of Stone Ridge School of the Sacred Heart and Manhattanville College, she taught at the Stuart Country Day School of the Sacred Heart (Princeton, N.J.), which, in honor of her life, now annually awards the Barbara Boggs Sigmund Alumnae Award.', 'idx': 0}, {'text': '# Mosaic\\nSometimes not only church interiors but façades were also decorated with mosaics in Italy like in the case of the St Mark\\'s Basilica in Venice (mainly from the 17th–19th centuries, but the oldest one from 1270–75, \"The burial of St Mark in the first basilica\"), the Cathedral of Orvieto (golden Gothic mosaics from the 14th century, many times redone) and the Basilica di San Frediano in Lucca (huge, striking golden mosaic representing the Ascension of Christ with the apostles below, designed by Berlinghiero Berlinghieri in the 13th century). The Cathedral of Spoleto is also decorated on the upper façade with a huge mosaic portraying the Blessing Christ (signed by one Solsternus from 1207).', 'idx': 1}, {'text': \"# Highland View Academy\\nHighland View Academy is a private co-educational secondary boarding school located in Hagerstown, Maryland in the United States, and run by the Seventh-day Adventist Church. It is a part of the Seventh-day Adventist education system, the world's second largest Christian school system. It is accredited by the Middle States Association of Colleges and Schools\", 'idx': 2}, {'text': \"# Detroit\\nDetroit is served by various private schools, as well as parochial Roman Catholic schools operated by the Archdiocese of Detroit. As of 2013[update] there are four Catholic grade schools and three Catholic high schools in the City of Detroit, with all of them in the city's west side. The Archdiocese of Detroit lists a number of primary and secondary schools in the metro area as Catholic education has emigrated to the suburbs. Of the three Catholic high schools in the city, two are operated by the Society of Jesus and the third is co-sponsored by the Sisters, Servants of the Immaculate Heart of Mary and the Congregation of St. Basil.\", 'idx': 3}, {'text': '# Cathedral of Our Lady of the Rosary (Duluth, Minnesota)\\nThe Cathedral of Our Lady of the Rosary, also known simply as the Cathedral of Our Lady, is a Catholic cathedral located in Duluth, Minnesota, United States. It is the seat of the Diocese of Duluth. The present Italianate cathedral was completed in 1957 and replaced the former Sacred Heart Cathedral, which is now a music center.', 'idx': 4}, {'text': \"# Lutsel K'e Dene School\\nLutsel K'e Dene School is a K-12 public school located in Lutselk'e, Northwest Territories, Canada. The school currently represents the only public education option for youth in the settlement and serves a student population of approximately 73 students. The administration of the school is the responsibility of the South Slave Divisional Education Council (SSDEC).\", 'idx': 5}, {'text': \"# Montevideo\\nThe Christian Brothers of Ireland Stella Maris College is a private, co-educational, not-for-profit Catholic school located in the wealthy residential southeastern neighbourhood of Carrasco. Established in 1955, it is regarded as one of the best high schools in the country, blending a rigorous curriculum with strong extracurricular activities. The school's headmaster, history professor Juan Pedro Toni, is a member of the Stella Maris Board of Governors and the school is a member of the International Baccalaureate Organization (IBO). Its long list of distinguished former pupils includes economists, engineers, architects, lawyers, politicians and even F1 champions. The school has also played an important part in the development of rugby union in Uruguay, with the creation of Old Christians Club, the school's alumni club.\", 'idx': 6}, {'text': '# The Ellison School\\nThe Ellison School is a private, nonsectarian coeducational day school located in Vineland, New Jersey, United States, serving students in toddlers ( 15 months old ) through eighth grade. The school has a total enrollment of 118 students and employs 18 teachers (on an FTE basis), for a student/teacher ratio of 10.1.', 'idx': 7}, {'text': '# Pilgrims on the Heart Road\\nPilgrims on the Heart Road is an album by Peter Ostroushko, released in 1997. It is the second of the three albums Ostroushko calls his \"heartland trilogy\" — \"Heart of the Heartland\", \"Pilgrims on the Heart Road\", and \"Sacred Heart\".', 'idx': 8}, {'text': '# Ludwika Szczęsna\\nBlessed Ludwika Szczęsna (18 July 1863 – 7 February 1916) was a Polish Roman Catholic nun and was also the co-founder of the Sister Servants of the Most Sacred Heart of Jesus which she established with Józef Sebastian Pelczar (a future saint). She took the name of \"Klara\" when she became a nun.', 'idx': 9}, {'text': \"# University of Notre Dame\\nBecause of its Catholic identity, a number of religious buildings stand on campus. The Old College building has become one of two seminaries on campus run by the Congregation of Holy Cross. The current Basilica of the Sacred Heart is located on the spot of Fr. Sorin's original church, which became too small for the growing college. It is built in French Revival style and it is decorated by stained glass windows imported directly from France. The interior was painted by Luigi Gregori, an Italian painter invited by Fr. Sorin to be artist in residence. The Basilica also features a bell tower with a carillon. Inside the church there are also sculptures by Ivan Mestrovic. The Grotto of Our Lady of Lourdes, which was built in 1896, is a replica of the original in Lourdes, France. It is very popular among students and alumni as a place of prayer and meditation, and it is considered one of the most beloved spots on campus.\", 'idx': 10}, {'text': \"# S. Thomas' College, Bandarawela\\nS. Thomas' College, Bandarawela is a selective entry boys' private school situated in the town of Bandarawela in the Uva Province of Sri Lanka. It is an Anglican school administrated by the Church of Ceylon and also a brother school to S. Thomas' College, Mount Lavinia. Situated in a picturesque landscape covered by mountains, it is known to be the most prestigious school in Bandarawela and one of the prestigious schools in the country.\", 'idx': 11}, {'text': '# Charleston, South Carolina\\nThe Roman Catholic Diocese of Charleston Office of Education also operates out of the city and oversees several K-8 parochial schools, such as Blessed Sacrament School, Christ Our King School, Charleston Catholic School, Nativity School, and Divine Redeemer School, all of which are \"feeder\" schools into Bishop England High School, a diocesan high school within the city. Bishop England, Porter-Gaud School, and Ashley Hall are the city\\'s oldest and most prominent private schools, and are a significant part of Charleston history, dating back some 150 years.', 'idx': 12}, {'text': '# Maris Stella School\\nMaris Stella School is a private Roman Catholic day school for girls from four to eighteen years old (grades 0-12 or pre-primary, primary and secondary phases), located on the Berea in Durban, KwaZulu-Natal, South Africa.', 'idx': 13}, {'text': '# Shrine of the Virgin of the Rosary of Pompei\\nThe Pontifical Shrine of the Blessed Virgin of the Rosary of Pompei () is a Roman Catholic cathedral, Marian pontifical shrine and minor basilica commissioned by Bartolo Longo, located in Pompei, Italy. It is the see of the Territorial Prelature of Pompei.', 'idx': 14}, {'text': '# Mecca\\nFormal education started to be developed in the late Ottoman period continuing slowly into and Hashimite times. The first major attempt to improve the situation was made by a Jeddah merchant, Muhammad ʿAlī Zaynal Riḍā, who founded the Madrasat al-Falāḥ in Mecca in 1911–12 that cost £400,000.The school system in Mecca has many public and private schools for both males and females. As of 2005, there were 532 public and private schools for males and another 681 public and private schools for female students. The medium of instruction in both public and private schools is Arabic with emphasis on English as a second language, but some private schools founded by foreign entities such as International schools use the English language for medium of instruction. They also allow mixing between males and females while other schools do not.', 'idx': 15}, {'text': '# Basilica of the Co-Cathedral of the Sacred Heart\\nThe Basilica of the Co-Cathedral of the Sacred Heart is a cathedral church and a Minor Basilica located in Charleston, West Virginia, United States. Along with the Cathedral of St. Joseph in Wheeling it is the seat of the Catholic Diocese of Wheeling-Charleston. The parish complex is a contributing property in the Downtown Charleston Historic District on the National Register of Historic Places.', 'idx': 16}, {'text': \"# Church of the Sacred Heart of Jesus (New York City)\\nThe Church of the Sacred Heart of Jesus is a Roman Catholic parish church, located in Hell's Kitchen/Clinton, Manhattan, New York City. Founded in 1876, it is a parish of the Archdiocese of New York and is located at 457 West 51st Street. Sacred Heart of Jesus School is located at 456 West 52nd Street. Since 2009, the pastor has been the Rev. Gabriel Piedrahita.\", 'idx': 17}, {'text': '# James Cardinal Gibbons Memorial Statue\\nThe James Cardinal Gibbons Memorial Statue is a public artwork by Leo Lentelli, located at the Shrine of the Sacred Heart, 16th Street and Park Road Northwest, Washington, D.C..', 'idx': 18}, {'text': '# Deninu School\\nDeninu School is a K-12 public school located in Fort Resolution, Northwest Territories, Canada. The school currently represents the only public education option for youth in the hamlet and serves a student population of approximately 125 students. The administration of the school is the responsibility of the South Slave Divisional Education Council (SSDEC).', 'idx': 19}], 'question_decomposition': [{'answer': 'Charleston', 'id': 819850, 'paragraph_support_idx': 16, 'question': 'Basilica of the Co-Cathedral of the Sacred Heart >> located in the administrative territorial entity'}, {'answer': '150 years', 'id': 32467, 'paragraph_support_idx': 12, 'question': \"How old are some of #1 's private school?\"}], 'answers': ['150 years']}) (input_keys={'question', 'docs'}): litellm.BadRequestError: OpenAIException - Error code: 400 - {'error': {'message': \"litellm.BadRequestError: OpenAIException - Error code: 422 - {'error': 'Input validation error: `inputs` tokens + `max_new_tokens` must be <= 8192. Given: 7222 `inputs` tokens and 1000 `max_new_tokens`', 'error_type': 'validation'}\\nReceived Model Group=llama-3.3-70b-tgi\\nAvailable Model Group Fallbacks=None\", 'type': None, 'param': None, 'code': '400'}}. Set `provide_traceback=True` to see the stack trace.\n"
     ]
    },
    {
     "name": "stdout",
     "output_type": "stream",
     "text": [
      "Average Metric: 0.00 / 0 (0%):   8%|▊         | 4/50 [00:24<03:26,  4.49s/it]"
     ]
    },
    {
     "data": {
      "application/vnd.jupyter.widget-view+json": {
       "model_id": "fb73762f228745a6bfe406d80791437e",
       "version_major": 2,
       "version_minor": 0
      },
      "text/plain": [
       "Scoring...:   0%|          | 0/1 [00:00<?, ?it/s]"
      ]
     },
     "metadata": {},
     "output_type": "display_data"
    },
    {
     "data": {
      "application/vnd.jupyter.widget-view+json": {
       "model_id": "e018bfe6cdec492084cffc02ef54c65a",
       "version_major": 2,
       "version_minor": 0
      },
      "text/plain": [
       "Scoring...:   0%|          | 0/1 [00:00<?, ?it/s]"
      ]
     },
     "metadata": {},
     "output_type": "display_data"
    },
    {
     "data": {
      "application/vnd.jupyter.widget-view+json": {
       "model_id": "a31fca8ec6a745cfb93a7ce29ad4f48a",
       "version_major": 2,
       "version_minor": 0
      },
      "text/plain": [
       "Scoring...:   0%|          | 0/1 [00:00<?, ?it/s]"
      ]
     },
     "metadata": {},
     "output_type": "display_data"
    },
    {
     "data": {
      "application/vnd.jupyter.widget-view+json": {
       "model_id": "6694063da46f4d319046f97ef7dd8f64",
       "version_major": 2,
       "version_minor": 0
      },
      "text/plain": [
       "Scoring...:   0%|          | 0/1 [00:00<?, ?it/s]"
      ]
     },
     "metadata": {},
     "output_type": "display_data"
    },
    {
     "data": {
      "application/vnd.jupyter.widget-view+json": {
       "model_id": "4e03514a57744ea48ff3f38febebd276",
       "version_major": 2,
       "version_minor": 0
      },
      "text/plain": [
       "Scoring...:   0%|          | 0/1 [00:00<?, ?it/s]"
      ]
     },
     "metadata": {},
     "output_type": "display_data"
    },
    {
     "data": {
      "application/vnd.jupyter.widget-view+json": {
       "model_id": "ae86acecf6624db495d2bfae495e355d",
       "version_major": 2,
       "version_minor": 0
      },
      "text/plain": [
       "Scoring...:   0%|          | 0/1 [00:00<?, ?it/s]"
      ]
     },
     "metadata": {},
     "output_type": "display_data"
    },
    {
     "name": "stderr",
     "output_type": "stream",
     "text": [
      "2025/02/11 14:57:29 ERROR dspy.utils.parallelizer: Error processing item Example({'id': '2hop__612535_47295', 'question': 'What is the area code for the state where Thomas H. Makiyama was born?', 'docs': [{'text': '# Hamilton City, California\\nHamilton City (formerly, Hamilton) is a census-designated place (CDP) in Glenn County, California, United States. The population was 1,759 at the 2010 census, down from 1,903 at the 2000 census. Hamilton City is located east of Orland, and 10 miles west of Chico at an elevation of 151 feet (46 m). The community is inside area code 530. The default prefix used for wired telephones in the Hamilton City area is 826. The postal ZIP Code is 95951.', 'idx': 0}, {'text': '# Alhambra, Montana\\nAlhambra is a populated place in Jefferson County, Montana, United States. It is a subdivision about a mile south of Clancy and shares a postal code (59634) with that town. Alhambra is part of the Helena Micropolitan Area, and its population is counted within the Clancy census-designated place.', 'idx': 1}, {'text': \"# Junction City, California\\nJunction City is a census-designated place (CDP) in Trinity County, California. Junction City sits at an elevation of . Junction City is located west of Weaverville. The ZIP Code is 96048. The community is inside area code 530. The 2010 United States census reported Junction City's population was 680.\", 'idx': 2}, {'text': '# Sparks, Texas\\nSparks is a census-designated place (CDP) in El Paso County, Texas, United States. The population was 4,529 at the 2010 census. It is part of the El Paso Metropolitan Statistical Area. The ZIP Code encompassing the CDP area is 79928.', 'idx': 3}, {'text': '# Caught Short\\nCaught Short is a 1930 American pre-Code comedy film directed by Charles Reisner and written by Robert E. Hopkins, Joseph H. Johnson and Willard Mack. The film stars Marie Dressler, Polly Moran, Anita Page, Charles Morton and Thomas Conlin. The film was released on May 10, 1930, by Metro-Goldwyn-Mayer.', 'idx': 4}, {'text': '# Thomas H. Makiyama\\nThomas H. Makiyama (1928–2005), born in Hawaii, was an aikido teacher and founder of Keijutsukai Aikido and the Keijutsukai International Federation (Keijutsukai Kokusai Renmei), based in Tokyo. The organization teaches Keijutsukai Aikido and Keijutsu (a specialized method of defensive tactics for law enforcement personnel).', 'idx': 5}, {'text': '# Walland, Tennessee\\nWalland is an unincorporated community and census-designated place (CDP) in Blount County, Tennessee, in the Southeastern United States. Its population was 259 as of the 2010 census. Walland is the site of a post office and is the place name associated with zip code 37886, which covers an area beyond the Walland community.', 'idx': 6}, {'text': '# Area code 432\\nNorth American area code 432 is a state of Texas telephone area code in the Permian Basin area of the state including the cities of Midland and Odessa. It was created, along with area code 325, on April 5, 2003 in a split from area code 915.', 'idx': 7}, {'text': '# Area codes 304 and 681\\nNorth American telephone area code 304 was established October 1947 as one of the original area codes, and serves all of the U.S. state of West Virginia. It was overlaid with area code 681, effective March 28, 2009.', 'idx': 8}, {'text': '# Cheektowaga Southwest, New York\\nCheektowaga Southwest was a census-designated place within the southwestern part of the town of Cheektowaga in Erie County, New York during the 1960 United States Census. The population recorded was 12,766. The census area dissolved in 1970, however the census area became part of Cheektowaga CDP in 1980, when the CDP recorded a population of 92,145. The ZIP code serving the area is 14227.', 'idx': 9}, {'text': \"# Area code 808\\nThe 808 telephone area code covers the inhabited, developed and uninhabited areas of the Hawaiian Islands out to Midway Island and Wake Island. 808 was issued as Hawaii's area code in 1957, not long before its statehood in August of 1959.\", 'idx': 10}, {'text': \"# Buckhorn, Amador County, California\\nBuckhorn is a census-designated place in Amador County, California. Buckhorn sits at an elevation of 3,238 feet (987 m). The community is in ZIP code 95666 and area code 209. The 2010 United States census reported Buckhorn's population was 2,429.\", 'idx': 11}, {'text': \"# Area code 406\\nCoordinates: 47 ° 00 ′ 01 ''N 109 ° 45 ′ 04'' W \\ufeff / \\ufeff 47.00028 ° N 109.75111 ° W \\ufeff / 47.00028; - 109.75111 \\ufeff (State of Montana) Area code 406 is the telephone area code covering the entire state of Montana. It has been Montana's area code since area codes were created in 1947.\", 'idx': 12}, {'text': \"# Area code 207\\nArea code 207 is the North American telephone area code for the state of Maine, excluding Estcourt Station which uses Quebec province's overlay of 418 and 581.\", 'idx': 13}, {'text': '# Area code 575\\nArea code 575 is an area code in the U.S. state of New Mexico. It serves the remainder of the state outside the Albuquerque, Santa Fe, Farmington, and Gallup metropolitan and micropolitan areas, which remain in area code 505. The new code became effective on October 7, 2007, splitting from area code 505.', 'idx': 14}, {'text': '# Sheridan, California\\nSheridan is a census-designated place in Placer County, California, United States. It is located at the western edge of the county, along State Route 65. Sheridan is northwest of Lincoln. Its ZIP code is 95681 and area code 530. The elevation is . The population was 1,238 at the 2010 census.', 'idx': 15}, {'text': '# Frewsburg, New York\\nFrewsburg is a hamlet and census-designated place in the town of Carroll in Chautauqua County, New York, United States. The population was 1,906 at the 2010 census. The ZIP code is 14738 and the telephone exchange (which extends past Carroll and well into South Valley and Kennedy is 569 (in area code 716).', 'idx': 16}, {'text': \"# Area codes 208 and 986\\nArea codes 208 and 986 are the North American telephone area codes for all of Idaho. 208 is the main area code, and is one of the 86 original area codes created in 1947. It was Idaho's sole area code until 2017, when 986 was added as an overlay for the entire state.\", 'idx': 17}, {'text': \"# Graton, California\\nGraton is an unincorporated town and census-designated place (CDP) in west Sonoma County, California, United States. The population was 1,707 at the 2010 census. Graton's ZIP code is 95444. The town also has a culinary reputation attributed to two restaurants in the area.\", 'idx': 18}, {'text': '# Area code 956\\nNorth American area code 956 is a state of Texas telephone area code for numbers in the Brownsville, McAllen, Laredo and South Padre Island areas. It was created May 25, 1997, in a split from area code 210.', 'idx': 19}], 'question_decomposition': [{'answer': 'Hawaii', 'id': 612535, 'paragraph_support_idx': 5, 'question': 'Thomas H. Makiyama >> place of birth'}, {'answer': '808', 'id': 47295, 'paragraph_support_idx': 10, 'question': 'what is the area code for the state of #1'}], 'answers': ['808']}) (input_keys={'question', 'docs'}): litellm.BadRequestError: OpenAIException - Error code: 400 - {'error': {'message': \"litellm.BadRequestError: OpenAIException - Error code: 422 - {'error': 'Input validation error: `inputs` tokens + `max_new_tokens` must be <= 8192. Given: 12293 `inputs` tokens and 1000 `max_new_tokens`', 'error_type': 'validation'}\\nReceived Model Group=llama-3.3-70b-tgi\\nAvailable Model Group Fallbacks=None\", 'type': None, 'param': None, 'code': '400'}}. Set `provide_traceback=True` to see the stack trace.\n"
     ]
    },
    {
     "name": "stdout",
     "output_type": "stream",
     "text": [
      "Average Metric: 0.00 / 0 (0%):  10%|█         | 5/50 [00:33<04:35,  6.12s/it]"
     ]
    },
    {
     "data": {
      "application/vnd.jupyter.widget-view+json": {
       "model_id": "a2a3b8be281c432683576e0e534158cf",
       "version_major": 2,
       "version_minor": 0
      },
      "text/plain": [
       "Scoring...:   0%|          | 0/1 [00:00<?, ?it/s]"
      ]
     },
     "metadata": {},
     "output_type": "display_data"
    },
    {
     "name": "stderr",
     "output_type": "stream",
     "text": [
      "2025/02/11 14:57:33 ERROR dspy.utils.parallelizer: Error processing item Example({'id': '2hop__829722_55566', 'question': \"Who did Don Arlich's team play in the playoffs?\", 'docs': [{'text': '# Don Arlich\\nDonald Louis \"Don\" Arlich (born February 15, 1943) is an American retired professional baseball player whose career spanned nine seasons, including parts of two in Major League Baseball with the Houston Astros in 1965 and 1966. During his major league career, Arlich compiled a record of 0–1 with an 8.10 earned run average (ERA) in eight games, one start. He also played in the minor leagues with the Class-A Jacksonville Jets; the Class-B, and later Class-A Durham Bulls; the Double-A San Antonio Bullets; the Double-A Amarillo Sonics; the Triple-A Oklahoma City 89ers; the Double-A Austin Braves; and the Triple-A Richmond Braves. While in the minors, Arlich compiled a record of 45–48 with a 3.86 ERA in 221 games, 107 starts.', 'idx': 0}, {'text': '# New York Jets\\nThe team was founded in 1959 as the Titans of New York, an original member of the American Football League (AFL); later, the franchise joined the NFL in the AFL -- NFL merger in 1970. The team began to play in 1960 at the Polo Grounds. Under new ownership, the current name was adopted in 1963 and the franchise moved to Shea Stadium in 1964 and then to the Meadowlands Sports Complex in 1984. The Jets advanced to the playoffs for the first time in 1968 and went on to compete in Super Bowl III where they defeated the Baltimore Colts, becoming the first AFL team to defeat an NFL club in an AFL -- NFL World Championship Game. Since 1968, the Jets have appeared in the playoffs 13 times, and in the AFC Championship Game four times, most recently losing to the Pittsburgh Steelers in 2010. However, the Jets have never returned to the Super Bowl, making them one of three NFL teams to win their lone Super Bowl appearance, along with the New Orleans Saints and Tampa Bay Buccaneers.', 'idx': 1}, {'text': \"# Florida Panthers\\nThe Florida Panthers are a professional ice hockey team based in the Miami metropolitan area. They are members of the Atlantic Division of the Eastern Conference of the National Hockey League (NHL). The team's local broadcasting rights has been held by Fox Sports Florida (formerly SportsChannel Florida) since 1996. The team initially played their home games at Miami Arena, before moving to the BB&T Center in 1998. Located in Sunrise, Florida, the Panthers are the southernmost team in the NHL.\", 'idx': 2}, {'text': \"# New York Islanders\\nThe team was founded in 1972 as part of the NHL's maneuvers to keep a team from rival league World Hockey Association (WHA) out of the newly built Nassau Veterans Memorial Coliseum in suburban Uniondale, New York. After two years of building up the team's roster, they found almost instant success by securing fourteen straight playoff berths starting with their third season. The Islanders won four consecutive Stanley Cup championships between 1980 and 1983, the seventh of eight dynasties recognized by the NHL in its history. Their 19 consecutive playoff series wins between 1980 and 1984 is a feat that remains unparalleled in the history of professional sports.\", 'idx': 3}, {'text': \"# List of New York Giants seasons\\nThe New York Giants are an American football team based in East Rutherford, New Jersey. They are a member of the National Football League (NFL) and play in the NFL's National Football Conference (NFC) East division. In 93 completed seasons, the franchise has won eight NFL championships, including four Super Bowl victories. The Giants have won more than 600 games and appeared in the NFL playoffs 32 times. Though the Giants play home games in East Rutherford, they draw fans from throughout the New York metropolitan area. In 2010, the team began playing in MetLife Stadium, formerly New Meadowlands Stadium.\", 'idx': 4}, {'text': \"# Houston Texans\\nThe Houston Texans are a professional American football team based in Houston, Texas. The Texans compete in the National Football League (NFL) as a member club of the American Football Conference (AFC) South division. The club first played in 2002 as an expansion team, which makes them the youngest franchise currently competing in the NFL. The Texans replaced Houston's previous franchise, the Houston Oilers, which moved to Nashville, Tennessee and are now the Tennessee Titans. The team's majority owner is Bob McNair. While the team mainly struggled in the 2000s, they clinched their first playoff berth during the 2011 season as AFC South division champions. The Texans have gone on to win more AFC South championships in 2012, 2015, and 2016. To date, the Texans are the only NFL franchise to have never played in a conference championship game.\", 'idx': 5}, {'text': \"# Stanley Cup Finals\\nDuring the Original Six era, the top four teams made the playoffs, with the first and third place teams battling in one semifinal series, while the second and fourth place teams battled in the other. And from 1975 to 1981, all the playoff teams were seeded regardless of division or conference. Since 1982, the NHL's final round has pitted the league's two conference playoff champions.\", 'idx': 6}, {'text': '# NBA playoffs\\n1947: The playoffs were instituted with a three - stage tournament, similar to the Stanley Cup playoffs of the 1930s; the two first - place teams qualified directly to one semifinal where they played each other in a best - of - 7 series. Teams finishing second & third qualified for the best - of - 3 quarterfinals, where the two second - placed teams were paired in one quarterfinal, as were the two third - placed teams, and the two quarterfinal winners played each other in a best - of - three semifinal. The two semifinal winners played each other in the Basketball Association of America (BAA) best - of - 7 final series.', 'idx': 7}, {'text': '# Tuvalu\\nFootball in Tuvalu is played at club and national team level. The Tuvalu national football team trains at the Tuvalu Sports Ground in Funafuti and competes in the Pacific Games. The Tuvalu National Football Association is an associate member of the Oceania Football Confederation (OFC) and is seeking membership in FIFA. The Tuvalu national futsal team participates in the Oceanian Futsal Championship.', 'idx': 8}, {'text': '# Major League Baseball wild card\\nFrom 1969 through 1993, division leaders in each league advanced to the League Championship Series, with the winners of each LCS meeting in the World Series. However, an expanding number of teams over the years made making the playoffs increasingly difficult. The new system was instituted in 1994 (but first used in 1995 because a players strike canceled the 1994 playoffs) when Major League Baseball expanded from two to three divisions per league. In the new three - division leagues, each league had four teams in the playoffs. In addition to the three division winners, a wild - card team made the playoffs as the fourth seed. This was the team with the most wins amongst non-division winners. The wild - card matchup was played in the first round between the League leader in wins and the wild - card team, unless both teams were in the same division, which resulted in the wild card facing the second - best division winner in the league.', 'idx': 9}, {'text': '# Nicolas Vallar\\nHiro Nicolas Vallar (born 22 October 1983) is a footballer from Papeete, Tahiti currently playing for A.S. Central Sport. He is a member of Tahiti national football team.', 'idx': 10}, {'text': '# 2017–18 NCAA football bowl games\\nThe College Football Playoff system was used to determine a national champion of Division I FBS college football. A 13 - member committee of experts ranked the top 25 teams in the nation after each of the last seven weeks of the 2017 season. The top four teams in the final ranking played a single - elimination semifinal round, with the winners advancing to the National Championship game.', 'idx': 11}, {'text': \"# New York Jets\\nThe team was founded in 1959 as the Titans of New York, an original member of the American Football League (AFL); later, the franchise joined the NFL in the AFL -- NFL merger in 1970. The team began to play in 1960 at the Polo Grounds. Under new ownership, the current name was adopted in 1963 and the franchise moved to Shea Stadium in 1964 and then to the Meadowlands Sports Complex in 1984. The Jets advanced to the playoffs for the first time in 1968 and went on to compete in Super Bowl III where they defeated the Baltimore Colts, becoming the first AFL team to defeat an NFL club in an AFL -- NFL World Championship Game. Since 1968, the Jets have appeared in the playoffs 13 times, and in the AFC Championship Game four times, most recently losing to the Pittsburgh Steelers in 2010. However, the Jets have never returned to the Super Bowl, making them one of three NFL teams to win their lone Super Bowl appearance, along with the New Orleans Saints and Tampa Bay Buccaneers. Apart from the Cleveland Browns and Detroit Lions, who have never reached the Super Bowl (although both won NFL championships prior to 1966), the Jets' drought is the longest among current NFL franchises.\", 'idx': 12}, {'text': \"# NBA playoffs\\nFinally in 1984, the tournament expanded to its present 16 - team, four - round knockout, and the now - complete set of first - round series were expanded to a best - of - five. In 2003 the first round was changed to also be best - of - seven. (Thus all playoff teams from 2003 to present, same as the two Division champions in 1947 and 1948, continue to play at the close of the regular season without idle team (``bye '') and may be certain of four playoff games including two at home.)\", 'idx': 13}, {'text': '# Houston Astros\\nThe Astros clinched their first division title as a member of the American League West division, and first division title overall since 2001. They also became the first team in Major League history to win three different divisions, the National League West in 1980 and 1986, the National League Central from 1997 -- 1999 and 2001, and now the American League West in 2017. On September 29, the Astros won their 100th game of the season, the second time the Astros finished a season with over 100 wins (the other time was in 1998). They finished 101 -- 61 (with a 21 - game lead in the division), and faced the Red Sox in the second round of the AL playoffs. The Astros defeated the Red Sox three games to one, and advanced to the American League Championship Series against the New York Yankees. The Astros won the ALCS four games to three, and advanced to the World Series to play against the Los Angeles Dodgers. The Astros defeated the Dodgers in the deciding seventh game of the World Series, winning the first championship in franchise history.', 'idx': 14}, {'text': '# Stanley Cup playoffs\\nStanley Cup playoffs Current season, competition or edition: 2018 Stanley Cup playoffs Sport Hockey Founded 1927 No. of teams 16 Most recent champion (s) Pittsburgh Penguins (5) Most titles Montreal Canadiens (24) TV partner (s) Canada Sportsnet / TVA Sports United States NBC / NHL Network / Univision Official website Stanley Cup Playofffs', 'idx': 15}, {'text': \"# New York Jets\\nThe team was founded in 1959 as the Titans of New York, an original member of the American Football League (AFL); later, the franchise joined the NFL in the AFL -- NFL merger in 1970. The team began to play in 1960 at the Polo Grounds. Under new ownership, the current name was adopted in 1963 and the franchise moved to Shea Stadium in 1964 and then to the Meadowlands Sports Complex in 1984. The Jets advanced to the playoffs for the first time in 1968 and went on to compete in Super Bowl III where they defeated the Baltimore Colts, becoming the first AFL team to defeat an NFL club in an AFL -- NFL World Championship Game. Since 1968, the Jets have appeared in the playoffs 13 times, and in the AFC Championship Game four times, most recently losing to the Pittsburgh Steelers in 2010. However, the Jets have never returned to the Super Bowl, making them one of three NFL teams to win their lone Super Bowl appearance, along with the New Orleans Saints and Tampa Bay Buccaneers. Apart from the Cleveland Browns and Detroit Lions, who have never reached the Super Bowl, the Jets' drought is the longest among current NFL franchises.\", 'idx': 16}, {'text': '# Vegas Golden Knights\\nThe Vegas Golden Knights are a professional ice hockey team based in the Las Vegas metropolitan area. The team began play in the 2017 -- 18 NHL season, and is a member of the Pacific Division of the Western Conference of the National Hockey League (NHL). The team is owned by Black Knight Sports & Entertainment, a consortium led by Bill Foley, and plays its home games at T - Mobile Arena on the Las Vegas Strip in Paradise, Nevada.', 'idx': 17}, {'text': '# Playoff format\\nThe first use of the best - of - three playoff was in Major League Baseball; the National League authorised such a playoff to be held if two teams ended the season in a tie for first place; the American League used a single game in this situation. Since 1969 both leagues have used only a one - game playoff for all playoff positions which are tied if only one team can advance to the playoffs. Since 1995, a tie - breaker based on season performance can be used only to seed teams.', 'idx': 18}, {'text': '# List of first overall National Football League draft picks\\nThis is a list of first overall National Football League draft picks. The National Football League draft is an annual sports draft in which NFL teams select newly eligible players for their rosters. To be eligible, a player must be out of high school at least three years. Each NFL franchise seeks to add new players through the annual NFL draft. The draft rules were last updated in 2009. The team with the worst record the previous year picks first, the next - worst team second, and so on. Teams also have the option to trade with another team to move up to a better draft position. Teams that did not make the playoffs are ordered by their regular - season record, with any remaining ties broken by strength of schedule. Playoff participants are sequenced after non-playoff teams, based on their round of elimination (wild card, division, conference, and Super Bowl).', 'idx': 19}], 'question_decomposition': [{'answer': 'Houston Astros', 'id': 829722, 'paragraph_support_idx': 0, 'question': 'Don Arlich >> member of sports team'}, {'answer': 'Red Sox', 'id': 55566, 'paragraph_support_idx': 14, 'question': 'who did #1 play in the playoffs'}], 'answers': ['Red Sox']}) (input_keys={'question', 'docs'}): litellm.BadRequestError: OpenAIException - Error code: 400 - {'error': {'message': \"litellm.BadRequestError: OpenAIException - Error code: 422 - {'error': 'Input validation error: `inputs` tokens + `max_new_tokens` must be <= 8192. Given: 7758 `inputs` tokens and 1000 `max_new_tokens`', 'error_type': 'validation'}\\nReceived Model Group=llama-3.3-70b-tgi\\nAvailable Model Group Fallbacks=None\", 'type': None, 'param': None, 'code': '400'}}. Set `provide_traceback=True` to see the stack trace.\n"
     ]
    },
    {
     "name": "stdout",
     "output_type": "stream",
     "text": [
      "Average Metric: 0.00 / 0 (0%):  12%|█▏        | 6/50 [00:37<03:56,  5.38s/it]"
     ]
    },
    {
     "data": {
      "application/vnd.jupyter.widget-view+json": {
       "model_id": "29cb235498834bbdb9905db3569267e8",
       "version_major": 2,
       "version_minor": 0
      },
      "text/plain": [
       "Scoring...:   0%|          | 0/1 [00:00<?, ?it/s]"
      ]
     },
     "metadata": {},
     "output_type": "display_data"
    },
    {
     "name": "stderr",
     "output_type": "stream",
     "text": [
      "2025/02/11 14:57:33 ERROR dspy.utils.parallelizer: Error processing item Example({'id': '2hop__281903_421645', 'question': 'Who is the spouse of the performer of Mistletoe and Holly?', 'docs': [{'text': \"# Blue Suede Shoes\\n``Blue Suede Shoes ''is a rock - and - roll standard written and first recorded by Carl Perkins in 1955. It is considered one of the first rockabilly (rock - and - roll) records, incorporating elements of blues, country and pop music of the time. Perkins' original version of the song was on the Cashbox Best Selling Singles list for 16 weeks and spent two weeks in the number two position. Elvis Presley performed his version of the song three different times on national television. It was also recorded by Buddy Holly and Eddie Cochran, among many others.\", 'idx': 0}, {'text': \"# The Day the Music Died\\nAt the time, Holly and his band, consisting of Waylon Jennings, Tommy Allsup, and Carl Bunch, were playing on the ``Winter Dance Party ''tour across the Midwest. Rising artists Valens, Richardson and Dion and the Belmonts had joined the tour as well. The long journeys between venues on board the cold, uncomfortable tour buses adversely affected the performers, with cases of flu and even frostbite. After stopping at Clear Lake to perform, and frustrated by such conditions, Holly chose to charter a plane to reach their next venue in Moorhead, Minnesota. Richardson, who had the flu, swapped places with Jennings, taking his seat on the plane, while Allsup lost his seat to Valens on a coin toss.\", 'idx': 1}, {'text': \"# Holly Flax\\nIn the episode ``PDA '', it is revealed that Michael and Holly are officially dating. They make the rest of the office uncomfortable with their excessive public displays of affection, and agree to stop only at the insistence of their coworkers. Later that day, when Michael declares that he loves Holly and she says that she returns his feelings, they must settle for a handshake. In order to avoid the kind of breakup they have previously experienced, they decide to move in together.\", 'idx': 2}, {'text': '# Aerosport Inc\\nAerosport Inc was a company founded by Harold Woods in Holly Springs, North Carolina in 1971 to market aircraft and plans for homebuilding.', 'idx': 3}, {'text': \"# Breakfast at Tiffany's (film)\\nGeorge Peppard as Paul Varjak (nicknamed ``Fred ''by Holly, for his resemblance to her brother) - Writer - New neighbor and kept man of`` 2E''\", 'idx': 4}, {'text': \"# Hush...Hush, Sweet Charlotte\\nIn 1927, young Southern belle Charlotte Hollis (Bette Davis) and her married lover, John Mayhew (Bruce Dern), plan to elope during a party at the Hollis family's antebellum mansion in Ascension Parish, Louisiana. Charlotte's father confronts John over the affair and intimidates him with the news that John's wife, Jewel, visited the day before and revealed the affair. John pretends he no longer loves Charlotte and tells her they must part.\", 'idx': 5}, {'text': '# Hollis Chair of Mathematics and Natural Philosophy\\nThe Hollis Chair of Mathematics and Natural Philosophy is an endowed professorship established at Harvard College in 1727 by Thomas Hollis.', 'idx': 6}, {'text': \"# Holly Flax\\nIn ``The Search '', Holly rejects Michael's advances, saying she does n't want to be involved with a coworker again. When he goes missing, Holly is able to track Michael's footsteps due to their similar thought patterns. When she finds him on a building rooftop, they admit that they miss each other and share a kiss.\", 'idx': 7}, {'text': \"# List of Shadowhunters episodes\\n30 17 ``A Dark Reflection ''Jeffrey Hunt Hollie Overton July 24, 2017 (2017 - 07 - 24) 267314 - 30 0.60\", 'idx': 8}, {'text': \"# Here Comes the Boom\\n``Holly Holy ''-- versions by Neil Diamond and Charice are heard in the film`` Bouncing off the Ceiling (Upside Down)'' by A-Teens ``Joker & the Thief ''by Wolfmother`` Optimus Bellum Domitor'' by Sak, Williams and Welch ``Boom ''by P.O.D.`` Spank'' by Jimmy ``Bo ''Horne`` James Brown Is Dead'' by L.A. Style ``New Noise ''by Refused`` Holly Holy'' by Neil Diamond ``Faithfully ''by Journey`` Holly Holy (NSFW Remix)'' by Neil Diamond ft. UltraLove ``Pictures ''by Joseph Anderson`` I Stand Alone'' by Godsmack ``Doin 'It Right (Delta Mix) ''by Steve Azar\", 'idx': 9}, {'text': '# Symbiosis\\nSymbiotic relationships include those associations in which one organism lives on another (ectosymbiosis, such as mistletoe), or where one partner lives inside the other (endosymbiosis, such as lactobacilli and other bacteria in humans or Symbiodinium in corals). Symbiosis is also classified by physical attachment of the organisms; symbiosis in which the organisms have bodily union is called conjunctive symbiosis, and symbiosis in which they are not in union is called disjunctive symbiosis.', 'idx': 10}, {'text': '# Better Be Good to Me\\n\"Better Be Good to Me\" is a hit rock song, written by Mike Chapman, Nicky Chinn and Holly Knight, featured on Tina Turner\\'s fifth studio album, \"Private Dancer\" (1984). The song was originally recorded and released in 1981 by Spider, a band from New York City with co-writer Holly Knight as a member. Tina Turner\\'s version was successful in the United States on the Hot 100 and the US R&B/Hip-Hop chart. It peaked at number five on the \"Billboard\" Hot 100 and number six on the US R&B/Hip-hop chart. At the 27th Grammy Awards in 1985, it won Best Rock Vocal Performance, Female, one of four Grammys awarded to Turner\\'s \"Private Dancer\" at that ceremony.', 'idx': 11}, {'text': '# Romantically Helpless\\nRomantically Helpless is a studio album by Holly Cole. It was released in Canada in 2000 on Alert Records and mastered as an HDCD encoded CD.', 'idx': 12}, {'text': '# Blanche of Anjou\\nBlanche of Anjou (1280 – 14 October 1310) was Queen of Aragon as the second spouse of King James II. She was a member of the Capetian House of Anjou, she is also known as \"Blanche of Naples\". She served as Regent or \"Queen-Lieutenant\" of Aragon during the absence of her spouse in 1310.', 'idx': 13}, {'text': \"# Love Is a Battlefield\\n``Love Is a Battlefield ''is a song performed by Pat Benatar, and written by Holly Knight and Mike Chapman. It was released in September 1983 as a single from Benatar's live album Live from Earth, though the song itself was a studio recording. The song was ranked at number 30 in VH1's list of the 100 Greatest Songs of the 1980s.`` Love is a Battlefield'' went on to sell over a million records.\", 'idx': 14}, {'text': '# Ken Hollis\\nJesse Kendrick Hollis, Jr., known as Ken Hollis (March 13, 1942 – September 10, 2010), was a Republican Party member of the Louisiana State Senate from Metairie in Jefferson Parish in the New Orleans suburbs. He served from 1982, when he won a special election to fill an unexpired term, until he was term-limited, effective January 14, 2008.', 'idx': 15}, {'text': '# The Night We Called It a Day (film)\\nThe Night We Called It a Day, also known as All the Way, is a 2003 Australian-American comedy drama film directed by Paul Goldman and starring Dennis Hopper as Frank Sinatra and Melanie Griffith as Barbara Marx. It also features Portia de Rossi, Joel Edgerton, Rose Byrne and David Hemmings. The movie is based on the true events surrounding Sinatra\\'s 1974 tour in Australia. When the singer calls a local reporter (de Rossi) a \"two-bit hooker\", every union in the country black-bans the star until he issues an apology.', 'idx': 16}, {'text': '# Mistletoe and Holly\\n\"Mistletoe and Holly\" is a 1957 Christmas song recorded and co-written by Frank Sinatra. The song was released as a single on Capitol Records.', 'idx': 17}, {'text': \"# You Get Me (film)\\nWhen Tyler arrives, he sees Holly sitting in front of the fireplace, the first place he saw her the morning he woke up in her house previously. Holly tries recreating the weekend as Tyler runs around the house looking for Ali. He discovers Ali unconscious tied mid-air to the ceiling, forehead bleeding. He lowers her down, wakes her up, grabs a fire poker and starts trying to escape the house as Holly goes to get her gun. Tyler and Ali make it outside and before they get away, Holly stops them at gunpoint. Tyler tells Holly that he loves Ali and not her and he never will. Gil shows up behind them calling out Holly's name. Distracted, Holly shoots Tyler in the shoulder then attempts to shoot Gil but misses. Ali picks up the fire poker and stabs Holly in the side, causing Holly to fall back into the pool. Gil and Ali huddle around Tyler while waiting for the police to arrive.\", 'idx': 18}, {'text': '# Estate tax in the United States\\nIf an asset is left to a spouse or a federally recognized charity, the tax usually does not apply. In addition, a maximum amount, varying year by year, can be given by an individual, before and / or upon their death, without incurring federal gift or estate taxes: $5,340,000 for estates of persons dying in 2014 and 2015, $5,450,000 (effectively $10.90 million per married couple, assuming the deceased spouse did not leave assets to the surviving spouse) for estates of persons dying in 2016. Because of these exemptions, it is estimated that only the largest 0.2% of estates in the U.S. will pay the tax. For 2017, the exemption increases to $5.5 million. In 2018, the exemption will double to $11.18 million per taxpayer due to the Tax Cuts and Jobs Act of 2017.', 'idx': 19}], 'question_decomposition': [{'answer': 'Frank Sinatra', 'id': 281903, 'paragraph_support_idx': 17, 'question': 'Mistletoe and Holly >> performer'}, {'answer': 'Barbara Marx', 'id': 421645, 'paragraph_support_idx': 16, 'question': '#1 >> spouse'}], 'answers': ['Barbara Marx']}) (input_keys={'question', 'docs'}): litellm.BadRequestError: OpenAIException - Error code: 400 - {'error': {'message': \"litellm.BadRequestError: OpenAIException - Error code: 422 - {'error': 'Input validation error: `inputs` tokens + `max_new_tokens` must be <= 8192. Given: 12380 `inputs` tokens and 1000 `max_new_tokens`', 'error_type': 'validation'}\\nReceived Model Group=llama-3.3-70b-tgi\\nAvailable Model Group Fallbacks=None\", 'type': None, 'param': None, 'code': '400'}}. Set `provide_traceback=True` to see the stack trace.\n"
     ]
    },
    {
     "name": "stdout",
     "output_type": "stream",
     "text": [
      "Average Metric: 0.00 / 0 (0%):  14%|█▍        | 7/50 [00:38<02:42,  3.78s/it]"
     ]
    },
    {
     "name": "stderr",
     "output_type": "stream",
     "text": [
      "2025/02/11 14:57:34 ERROR dspy.utils.parallelizer: Error processing item Example({'id': '2hop__497910_351187', 'question': 'What county is the city where Kristen Graczyk was born located in?', 'docs': [{'text': '# Ap Lo Chun\\nAp Lo Chun () is a small island in the New Territories of Hong Kong. It is located in Ap Chau Bay () between Ap Chau in the east and Sai Ap Chau in the west, with the islet of Ap Tan Pai nearby in the northeast. It is under the administration of North District.', 'idx': 0}, {'text': \"# Biysky District\\nBiysky District () is an administrative and municipal district (raion), one of the fifty-nine in Altai Krai, Russia. It is located in the east of the krai and borders with Zonalny, Tselinny, Soltonsky, Krasnogorsky, Sovetsky, and Smolensky Districts, as well as with the territory of the City of Biysk. The area of the district is . Its administrative center is the city of Biysk (which is not administratively a part of the district). District's population:\", 'idx': 1}, {'text': '# Sandy Lake, Minnesota\\nSandy Lake is an unincorporated community Native American village located in Turner Township, Aitkin County, Minnesota, United States. Its name in the Ojibwe language is \"Gaa-mitaawangaagamaag\", meaning \"Place of the Sandy-shored Lake\". The village is administrative center for the Sandy Lake Band of Mississippi Chippewa, though the administration of the Mille Lacs Indian Reservation, District II, is located in the nearby East Lake.', 'idx': 2}, {'text': '# British Togoland\\nBritish Togoland, officially the Mandate Territory of Togoland and later officially the Trust Territory of Togoland, was a territory in West Africa, under the administration of the United Kingdom. It was effectively formed in 1916 by the splitting of the German protectorate of Togoland into two territories, French Togoland and British Togoland, during the First World War. Initially, it was a League of Nations Class B mandate. In 1922, British Togoland was formally placed under British rule while French Togoland, now Togo, was placed under French rule.', 'idx': 3}, {'text': '# Biblioteca Ayacucho\\nThe Biblioteca Ayacucho (\"Ayacucho Library\") is an editorial entity of the government of Venezuela, founded on September 10, 1974. It is managed by the \"Fundación Biblioteca Ayacucho\". Its name, \"Ayacucho\", comes from the intention to honor the definitive and crucial Battle of Ayacucho that took place December 9, 1824 between Spain and the territories of the Americas, prior to the full independence of the continent.', 'idx': 4}, {'text': '# Visa requirements for Canadian citizens\\nVisa requirements for Canadian citizens are administrative entry restrictions by the authorities of other states placed on citizens of Canada. As of 1 January 2018, Canadian citizens had visa - free or visa on arrival access to 172 countries and territories, ranking the Canadian passport 6th in terms of travel freedom according to the Henley Passport Index.', 'idx': 5}, {'text': \"# Union territory\\nA union territory is a type of administrative division in the Republic of India. Unlike states, which have their own elected governments, union territories are ruled directly by the Union Government (central government), hence the name ``union territory ''. Union territories in India qualify as federal territories, by definition.\", 'idx': 6}, {'text': '# Adventureland (film)\\nAdventureland is a 2009 American comedy-drama film written and directed by Greg Mottola, starring Jesse Eisenberg and Kristen Stewart and co-starring Ryan Reynolds, Kristen Wiig, Bill Hader, Martin Starr, and Margarita Levieva. The film is set in the summer of 1987 when recent college grad James Brennan (Jesse Eisenberg) is making big plans to tour Europe and attend graduate school in pursuit of a career in journalism. However, financial problems force him to look for a summer job instead of traveling abroad, which places him at Adventureland, a run-down amusement park in western Pennsylvania. There he meets Emily Lewin (Kristen Stewart), a co-worker with whom he develops a quick rapport and relationship.', 'idx': 7}, {'text': '# Vilnius County\\nVilnius County () is the largest of the 10 counties of Lithuania, located in the east of the country around the city Vilnius. On 1 July 2010, the county administration was abolished, and since that date, Vilnius County remains as the territorial and statistical unit.', 'idx': 8}, {'text': \"# Dallol (woreda)\\nDallol is one of the woredas in the Afar Region of Ethiopia. This woreda is named for the former mining settlement of Dallol, which set the record for the hottest inhabited place on Earth, with an average temperature of 34° C. Located at the northernmost point of the Administrative Zone 2, Dallol's territory includes part of the Afar Depression. This woreda is bordered on the south by Koneba, on the west by the Tigray Region, on the north by Eritrea, and on the east and south by Berhale. Detailed information is not available for the settlements in this woreda.\", 'idx': 9}, {'text': '# Goodings Grove, Illinois\\nGoodings Grove was a census-designated place in northern Will County, Illinois, United States. The population was 17,084 at the 2000 census. It ceased to exist as an entity upon the incorporation of the village of Homer Glen, Illinois in 2001.', 'idx': 10}, {'text': '# Territory of Papua\\nIn 1949, the Territory and the Territory of New Guinea were established in an administrative union by the name of the Territory of Papua and New Guinea. That administrative union was renamed as Papua New Guinea in 1971. Notwithstanding that it was part of an administrative union, the Territory of Papua at all times retained a distinct legal status and identity; it was a Possession of the Crown whereas the Territory of New Guinea was initially a League of Nations mandate territory and subsequently a United Nations trust territory. This important legal and political distinction remained until the advent of the Independent State of Papua New Guinea in 1975.', 'idx': 11}, {'text': '# Rammbock\\nRammbock (also Rammbock: Berlin Undead and Siege of the Dead) is a 2010 German horror film directed by Marvin Kren, written by Benjamin Hessler, and starring Michael Fuith, Theo Trebs, Anka Graczyk, and Emily Cox as survivors of a rage virus in Berlin. Besides its native Germany, it was theatrically released in Austria, the UK, and the US.', 'idx': 12}, {'text': '# Arrondissement of Mechelen\\nThe Arrondissement of Mechelen (; ) is one of the three administrative arrondissements in the Province of Antwerp, Belgium. It is both an administrative and a judicial arrondissement, as the territory for both coincides.', 'idx': 13}, {'text': '# Paea\\nPaea is a commune in the suburbs of Papeete in French Polynesia, an overseas territory of France in the southern Pacific Ocean. Paea is located on the island of Tahiti, in the administrative subdivision of the Windward Islands, themselves part of the Society Islands. At the 2017 census it had a population of 13,021.', 'idx': 14}, {'text': '# Khabarovsky District\\nKhabarovsky District () is an administrative and municipal district (raion), one of the seventeen in Khabarovsk Krai, Russia. It consists of two unconnected segments separated by the territory of Amursky District, which are located in the southwest of the krai. The area of the district is . Its administrative center is the city of Khabarovsk (which is not administratively a part of the district). Population:', 'idx': 15}, {'text': '# Deninu School\\nDeninu School is a K-12 public school located in Fort Resolution, Northwest Territories, Canada. The school currently represents the only public education option for youth in the hamlet and serves a student population of approximately 125 students. The administration of the school is the responsibility of the South Slave Divisional Education Council (SSDEC).', 'idx': 16}, {'text': '# Bernalillo County Metropolitan Court\\nThe Bernalillo County Metropolitan Court is the Judicial system of the metropolitan areas of Albuquerque, New Mexico and Bernalillo County, New Mexico. The Metropolitan Courthouse is located in Downtown Albuquerque.', 'idx': 17}, {'text': \"# Kristen Graczyk\\nKristen Marie Graczyk (born June 27, 1983, in Albuquerque, New Mexico) is an American former soccer forward and defender who played for FC Gold Pride of Women's Professional Soccer. Her brother, Mike Graczyk, is a goalkeeper and played for San Jose Earthquakes in Major League Soccer.\", 'idx': 18}, {'text': '# Zec Bras-Coupé–Désert\\nThe ZEC Bras-Coupé-Desert is a \"zone d\\'exploitation contrôlée\" (controlled harvesting zone) (ZEC), located in the unorganized territory of Lac-Pythonga in La Vallée-de-la-Gatineau Regional County Municipality, in the administrative region of Outaouais, in Quebec, in Canada.', 'idx': 19}], 'question_decomposition': [{'answer': 'Albuquerque', 'id': 497910, 'paragraph_support_idx': 18, 'question': 'Kristen Graczyk >> place of birth'}, {'answer': 'Bernalillo County, New Mexico', 'id': 351187, 'paragraph_support_idx': 17, 'question': '#1 >> located in the administrative territorial entity'}], 'answers': ['Bernalillo County, New Mexico', 'Bernalillo County']}) (input_keys={'question', 'docs'}): litellm.BadRequestError: OpenAIException - Error code: 400 - {'error': {'message': \"litellm.BadRequestError: OpenAIException - Error code: 422 - {'error': 'Input validation error: `inputs` tokens + `max_new_tokens` must be <= 8192. Given: 12311 `inputs` tokens and 1000 `max_new_tokens`', 'error_type': 'validation'}\\nReceived Model Group=llama-3.3-70b-tgi\\nAvailable Model Group Fallbacks=None\", 'type': None, 'param': None, 'code': '400'}}. Set `provide_traceback=True` to see the stack trace.\n"
     ]
    },
    {
     "name": "stdout",
     "output_type": "stream",
     "text": [
      "Average Metric: 0.00 / 0 (0%):  16%|█▌        | 8/50 [00:39<02:00,  2.87s/it]"
     ]
    },
    {
     "data": {
      "application/vnd.jupyter.widget-view+json": {
       "model_id": "5e53e50f0cd0492a9060683edfbb12bf",
       "version_major": 2,
       "version_minor": 0
      },
      "text/plain": [
       "Scoring...:   0%|          | 0/1 [00:00<?, ?it/s]"
      ]
     },
     "metadata": {},
     "output_type": "display_data"
    },
    {
     "data": {
      "application/vnd.jupyter.widget-view+json": {
       "model_id": "197f28a710c04ee29e0cdbad6478d129",
       "version_major": 2,
       "version_minor": 0
      },
      "text/plain": [
       "Scoring...:   0%|          | 0/1 [00:00<?, ?it/s]"
      ]
     },
     "metadata": {},
     "output_type": "display_data"
    },
    {
     "data": {
      "application/vnd.jupyter.widget-view+json": {
       "model_id": "856d6d9383614671ab840464e53e7776",
       "version_major": 2,
       "version_minor": 0
      },
      "text/plain": [
       "Scoring...:   0%|          | 0/1 [00:00<?, ?it/s]"
      ]
     },
     "metadata": {},
     "output_type": "display_data"
    },
    {
     "data": {
      "application/vnd.jupyter.widget-view+json": {
       "model_id": "09b8dc2a9258414fa0617417e27bc931",
       "version_major": 2,
       "version_minor": 0
      },
      "text/plain": [
       "Scoring...:   0%|          | 0/1 [00:00<?, ?it/s]"
      ]
     },
     "metadata": {},
     "output_type": "display_data"
    },
    {
     "data": {
      "application/vnd.jupyter.widget-view+json": {
       "model_id": "0f995702df2b446f805589a6665869ca",
       "version_major": 2,
       "version_minor": 0
      },
      "text/plain": [
       "Scoring...:   0%|          | 0/1 [00:00<?, ?it/s]"
      ]
     },
     "metadata": {},
     "output_type": "display_data"
    },
    {
     "name": "stderr",
     "output_type": "stream",
     "text": [
      "2025/02/11 14:57:46 ERROR dspy.utils.parallelizer: Error processing item Example({'id': '2hop__130718_62851', 'question': 'Who helped resolve the dispute between Virginia and the state where Jacob Highbarger House is located?', 'docs': [{'text': '# Science Museum of Virginia\\nThe Science Museum of Virginia is a science museum located in Richmond, Virginia. Established in 1970, it is an agency of the Commonwealth of Virginia. It is housed in the former Broad Street Station, built in 1917.', 'idx': 0}, {'text': '# Fort Seybert, West Virginia\\nFort Seybert is an unincorporated community located in Pendleton County, West Virginia, United States. This town was named for Captain Jacob Seybert who built an early stockade here. It was captured by Native Americans in 1758, who spared only eleven lives (see Bemino). Fort Seybert is the only place in the United States with this name.', 'idx': 1}, {'text': '# Jacobs Fork, West Virginia\\nJacobs Fork is an unincorporated community in McDowell County, West Virginia, United States. Jacobs Fork is located on West Virginia Route 16 southeast of War.', 'idx': 2}, {'text': \"# Maryland v. West Virginia\\nMaryland v. West Virginia Supreme Court of the United States Argued November 2 -- 4, 1909 Decided February 21, 1910 Full case name State of Maryland v. State of West Virginia Citations 217 U.S. 1 (more) 30 S. Ct. 268; 54 L. Ed. 645; 1910 U.S. LEXIS 1942 Subsequent history Maryland v. West Virginia, 225 U.S. 1 (1912) Holding West Virginia's border extends to the low - water mark on the south bank of the Potomac River; Boundary disputes should be adjusted according to prescription and equity to least disturb private rights and titles Court membership Chief Justice Melville Fuller Associate Justices John M. Harlan David J. Brewer Edward D. White Rufus W. Peckham Joseph McKenna Oliver W. Holmes, Jr. William R. Day William H. Moody Case opinions Majority Day, joined by unanimous\", 'idx': 3}, {'text': '# 1980 United States House of Representatives elections in Virginia\\nThe 1980 United States House of Representatives elections in Virginia were held on November 4, 1980 to determine who will represent the Commonwealth of Virginia in the United States House of Representatives. Virginia had ten seats in the House, apportioned according to the 1970 United States Census. Representatives are elected for two-year terms.', 'idx': 4}, {'text': '# Stamp Act 1765\\nThe Virginia House of Burgesses reconvened in early May 1765 after news was received of the passage of the Act. By the end of May, it appeared that they would not consider the tax, and many legislators went home, including George Washington. Only 30 out of 116 Burgesses remained, but one of those remaining was Patrick Henry who was attending his first session. Henry led the opposition to the Stamp Act; he proposed his resolutions on May 30, 1765, and they were passed in the form of the Virginia Resolves. The Resolves stated:', 'idx': 5}, {'text': \"# Constitutional Convention (United States)\\nThe most contentious disputes revolved around composition and election of the upper legislative house in the future bicameral Congress, to be known as the Senate, how ``proportional representation ''was to be defined (whether to include slaves or other property), whether to divide the executive power between three persons or invest the power into a single chief executive to be called the President, how to elect the President, how long his term was to be and whether he could run for reelection, what offenses should be impeachable, the nature of a fugitive slave clause, whether to allow the abolition of the slave trade, and whether judges should be chosen by the legislature or executive. Most of the time during the Convention was spent on deciding these issues, while the powers of legislature, executive, and judiciary were not heavily disputed. Once the Convention began, the delegates first agreed on the principles of the Convention, then they agreed on Madison's proposed Virginia Plan and began to modify it. A Committee of Detail, assembled during the July 4th recess, eventually produced a rough draft of the constitution. Most of the rough draft remained in place, and can be found in the final version of the constitution. After the final issues were resolved, the Committee on Style produced the final version, and it was voted on by the delegates, inscribed on parchment with engraving for printing and sent to the states and their legislatures.\", 'idx': 6}, {'text': '# Belle Austin Jacobs Memorial\\nMemorial for Belle Austin Jacobs is a public artwork by American artist Sylvia Shaw Judson (sculptor) and Alexander C. Eschweiler (architect), formerly located in Kosciuszko Park, Lincoln Village, City of Milwaukee, Wisconsin, United States. The statue depicted a young woman kneeling to feed a squirrel. It celebrated the life and philanthropy of Belle Austin Jacobs, who was best known for her work, with her husband Herbert Henry Jacobs, as the founders of organized social work in Wisconsin, including the establishment of the University Settlement House.', 'idx': 7}, {'text': '# Swan Pond Manor Historic District\\nSwan Pond Manor Historic District is a national historic district located near Martinsburg, Berkeley County, West Virginia, U.S.A. It encompasses 21 contributing buildings, one site, and one structure, over 2,465 acres. The agricultural district boundaries reflect the Swan Pond Manor land of Thomas Fairfax, 6th Lord Fairfax of Cameron, which he set aside in 1747 as a part of his Northern Neck Territory for his personal use. Notable buildings include the Capt. James Mason House, Kroh-Sprinkle House (1819), Jacob A. Small House, Robert Carter Willis House, Dr. Williams House (a Greek Revival style house built c. 1840), \"Hollidale,\" and \"Wood Haven\" (1895), Raleigh Morgan House. Also located in the district is the separately listed Swan Pond.', 'idx': 8}, {'text': '# Great power\\nAnother important factor is the apparent consensus among Western great powers that military force is no longer an effective tool of resolving disputes among their peers. This \"subset\" of great powers – France, Germany, Japan, the United Kingdom and the United States – consider maintaining a \"state of peace\" as desirable. As evidence, Baron outlines that since the Cuban missile crisis (1962) during the Cold War, these influential Western nations have resolved all disputes among the great powers peacefully at the United Nations and other forums of international discussion.', 'idx': 9}, {'text': '# Gibson-Todd House\\nThe Gibson-Todd House was the site of the hanging of John Brown, the abolitionist who led a raid on Harpers Ferry, West Virginia before the opening of the American Civil War. The property is located in Charles Town, West Virginia, and includes a large Victorian style house built in 1891.', 'idx': 10}, {'text': '# Thursday, West Virginia\\nThursday is an unincorporated community located in Ritchie County, West Virginia, United States. It is near the community of Burnt House.', 'idx': 11}, {'text': \"# Virginia High School (Virginia)\\nVirginia High School is a high school located in Bristol, Virginia. In 1999, Virginia High started offering the Tri-Cities area's first International Baccalaureate Diploma Programme. Classes from the Advanced Placement program are also offered to help students who are headed to college. A vocational wing was added to the main school building to help students who wish to go into a trade straight from high school. Courses offered for this path include: culinary arts, computer networking and repair, cosmetology, and criminal justice.\", 'idx': 12}, {'text': '# Shadow Lawn (Chase City, Virginia)\\nShadow Lawn is a historic home located at Chase City, Mecklenburg County, Virginia. The original section dates to about 1834, with the main Italianate style front section designed by Jacob W. Holt and built in 1869-1870. The house is two stories tall and three bays wide with a cross gable roof. It has a traditional central-passage, double-pile plan.', 'idx': 13}, {'text': \"# David Gardiner Tyler\\nAlthough born in New York, he went to school in Virginia and fought in the Confederate Army during the American Civil War. After attending college in Germany and Virginia, he became a lawyer. He later served in the Virginia State Senate, as a member of the United States House of Representatives from Virginia's second congressional district, and as a Virginia Circuit Court judge.\", 'idx': 14}, {'text': '# Case House (Parkersburg, West Virginia)\\nCase House was a historic home located at Parkersburg, Wood County, West Virginia, United States. It was built about 1901, and was a 2½-story brick dwelling in the Queen Anne style. It features a three-story, polygonal corner tower and a multigabled roof.', 'idx': 15}, {'text': '# Jacobs, Louisville\\nJacobs is a neighborhood on the south side of Louisville, Kentucky, in the United States. Its boundaries are Berry Boulevard to the north, Taylor Boulevard to the east, the I-264 to the south, and Seventh Street to the west. It was developed as Jacob\\'s\\xa0Addition in 1892 after the opening of nearby Jacob\\'s Park (now \"Iroquois Park\") and named for four-time Louisville mayor Charles Donald Jacob. The area housed a veteran\\'s hospital, Nichols General Hospital, until 1952. The area includes Manslick Cemetery, a burial ground for indigents started in the 1870s, and Watterson Lake Park.', 'idx': 16}, {'text': '# Stamp Act 1765\\nThe Virginia House of Burgesses reconvened in early May 1765 after news was received of the passage of the Act. By the end of May, it appeared that they would not consider the tax, and many legislators went home, including George Washington. Only 30 out of 116 Burgesses remained, but one of those remaining was Patrick Henry who was attending his first session. Henry led the opposition to the Stamp Act; he proposed his resolutions on 30 May 1765, and they were passed in the form of the Virginia Resolves. The Resolves stated:', 'idx': 17}, {'text': '# Jacob Highbarger House\\nThe Jacob Highbarger House was built \"circa\" 1832 in Sharpsburg, Maryland, United States. The Greek Revival-influenced house is a late example of limestone construction in the Cumberland Valley of Maryland, with an attached log workshop. The log structure is an unusual example of corner-post log construction with diagonal bracing.', 'idx': 18}, {'text': '# Burnt House, West Virginia\\nBurnt House is an unincorporated community in Ritchie County, West Virginia, United States. Burnt House is located on West Virginia Route 47 and Grassy Run south-southeast of Harrisville. The Burnt House Post Office closed 5/23/1986.', 'idx': 19}], 'question_decomposition': [{'answer': 'Maryland', 'id': 130718, 'paragraph_support_idx': 18, 'question': 'What state is Jacob Highbarger House located?'}, {'answer': 'William R. Day', 'id': 62851, 'paragraph_support_idx': 3, 'question': 'who helped resolve the dispute between virginia and #1'}], 'answers': ['William R. Day']}) (input_keys={'question', 'docs'}): litellm.BadRequestError: OpenAIException - Error code: 400 - {'error': {'message': \"litellm.BadRequestError: OpenAIException - Error code: 422 - {'error': 'Input validation error: `inputs` tokens + `max_new_tokens` must be <= 8192. Given: 7287 `inputs` tokens and 1000 `max_new_tokens`', 'error_type': 'validation'}\\nReceived Model Group=llama-3.3-70b-tgi\\nAvailable Model Group Fallbacks=None\", 'type': None, 'param': None, 'code': '400'}}. Set `provide_traceback=True` to see the stack trace.\n"
     ]
    },
    {
     "name": "stdout",
     "output_type": "stream",
     "text": [
      "Average Metric: 0.00 / 0 (0%):  18%|█▊        | 9/50 [00:50<03:52,  5.66s/it]"
     ]
    },
    {
     "data": {
      "application/vnd.jupyter.widget-view+json": {
       "model_id": "dd33205dd83b4c64b1cf6559f883ce4c",
       "version_major": 2,
       "version_minor": 0
      },
      "text/plain": [
       "Scoring...:   0%|          | 0/1 [00:00<?, ?it/s]"
      ]
     },
     "metadata": {},
     "output_type": "display_data"
    },
    {
     "data": {
      "application/vnd.jupyter.widget-view+json": {
       "model_id": "49aa05858656426ab4fc4908e73a0398",
       "version_major": 2,
       "version_minor": 0
      },
      "text/plain": [
       "Scoring...:   0%|          | 0/1 [00:00<?, ?it/s]"
      ]
     },
     "metadata": {},
     "output_type": "display_data"
    },
    {
     "data": {
      "application/vnd.jupyter.widget-view+json": {
       "model_id": "08a5c16f465141b591fb3c364954429a",
       "version_major": 2,
       "version_minor": 0
      },
      "text/plain": [
       "Scoring...:   0%|          | 0/1 [00:00<?, ?it/s]"
      ]
     },
     "metadata": {},
     "output_type": "display_data"
    },
    {
     "ename": "BadRequestError",
     "evalue": "litellm.BadRequestError: OpenAIException - Error code: 400 - {'error': {'message': \"litellm.BadRequestError: OpenAIException - Error code: 422 - {'error': 'Input validation error: `inputs` tokens + `max_new_tokens` must be <= 8192. Given: 12583 `inputs` tokens and 1000 `max_new_tokens`', 'error_type': 'validation'}\\nReceived Model Group=llama-3.3-70b-tgi\\nAvailable Model Group Fallbacks=None\", 'type': None, 'param': None, 'code': '400'}}",
     "output_type": "error",
     "traceback": [
      "\u001b[0;31m---------------------------------------------------------------------------\u001b[0m",
      "\u001b[0;31mBadRequestError\u001b[0m                           Traceback (most recent call last)",
      "File \u001b[0;32m~/repos/pipeline-mhqa-dspy/.venv/lib/python3.11/site-packages/litellm/llms/openai/openai.py:691\u001b[0m, in \u001b[0;36mOpenAIChatCompletion.completion\u001b[0;34m(self, model_response, timeout, optional_params, litellm_params, logging_obj, model, messages, print_verbose, api_key, api_base, api_version, dynamic_params, azure_ad_token, acompletion, logger_fn, headers, custom_prompt_dict, client, organization, custom_llm_provider, drop_params)\u001b[0m\n\u001b[1;32m    690\u001b[0m             \u001b[39melse\u001b[39;00m:\n\u001b[0;32m--> 691\u001b[0m                 \u001b[39mraise\u001b[39;00m e\n\u001b[1;32m    692\u001b[0m \u001b[39mexcept\u001b[39;00m OpenAIError \u001b[39mas\u001b[39;00m e:\n",
      "File \u001b[0;32m~/repos/pipeline-mhqa-dspy/.venv/lib/python3.11/site-packages/litellm/llms/openai/openai.py:619\u001b[0m, in \u001b[0;36mOpenAIChatCompletion.completion\u001b[0;34m(self, model_response, timeout, optional_params, litellm_params, logging_obj, model, messages, print_verbose, api_key, api_base, api_version, dynamic_params, azure_ad_token, acompletion, logger_fn, headers, custom_prompt_dict, client, organization, custom_llm_provider, drop_params)\u001b[0m\n\u001b[1;32m    607\u001b[0m logging_obj\u001b[39m.\u001b[39mpre_call(\n\u001b[1;32m    608\u001b[0m     \u001b[39minput\u001b[39m\u001b[39m=\u001b[39mmessages,\n\u001b[1;32m    609\u001b[0m     api_key\u001b[39m=\u001b[39mopenai_client\u001b[39m.\u001b[39mapi_key,\n\u001b[0;32m   (...)\u001b[0m\n\u001b[1;32m    615\u001b[0m     },\n\u001b[1;32m    616\u001b[0m )\n\u001b[1;32m    618\u001b[0m headers, response \u001b[39m=\u001b[39m (\n\u001b[0;32m--> 619\u001b[0m     \u001b[39mself\u001b[39;49m\u001b[39m.\u001b[39;49mmake_sync_openai_chat_completion_request(\n\u001b[1;32m    620\u001b[0m         openai_client\u001b[39m=\u001b[39;49mopenai_client,\n\u001b[1;32m    621\u001b[0m         data\u001b[39m=\u001b[39;49mdata,\n\u001b[1;32m    622\u001b[0m         timeout\u001b[39m=\u001b[39;49mtimeout,\n\u001b[1;32m    623\u001b[0m     )\n\u001b[1;32m    624\u001b[0m )\n\u001b[1;32m    626\u001b[0m logging_obj\u001b[39m.\u001b[39mmodel_call_details[\u001b[39m\"\u001b[39m\u001b[39mresponse_headers\u001b[39m\u001b[39m\"\u001b[39m] \u001b[39m=\u001b[39m headers\n",
      "File \u001b[0;32m~/repos/pipeline-mhqa-dspy/.venv/lib/python3.11/site-packages/litellm/llms/openai/openai.py:439\u001b[0m, in \u001b[0;36mOpenAIChatCompletion.make_sync_openai_chat_completion_request\u001b[0;34m(self, openai_client, data, timeout)\u001b[0m\n\u001b[1;32m    438\u001b[0m \u001b[39melse\u001b[39;00m:\n\u001b[0;32m--> 439\u001b[0m     \u001b[39mraise\u001b[39;00m e\n",
      "File \u001b[0;32m~/repos/pipeline-mhqa-dspy/.venv/lib/python3.11/site-packages/litellm/llms/openai/openai.py:421\u001b[0m, in \u001b[0;36mOpenAIChatCompletion.make_sync_openai_chat_completion_request\u001b[0;34m(self, openai_client, data, timeout)\u001b[0m\n\u001b[1;32m    420\u001b[0m \u001b[39mtry\u001b[39;00m:\n\u001b[0;32m--> 421\u001b[0m     raw_response \u001b[39m=\u001b[39m openai_client\u001b[39m.\u001b[39;49mchat\u001b[39m.\u001b[39;49mcompletions\u001b[39m.\u001b[39;49mwith_raw_response\u001b[39m.\u001b[39;49mcreate(\n\u001b[1;32m    422\u001b[0m         \u001b[39m*\u001b[39;49m\u001b[39m*\u001b[39;49mdata, timeout\u001b[39m=\u001b[39;49mtimeout\n\u001b[1;32m    423\u001b[0m     )\n\u001b[1;32m    425\u001b[0m     \u001b[39mif\u001b[39;00m \u001b[39mhasattr\u001b[39m(raw_response, \u001b[39m\"\u001b[39m\u001b[39mheaders\u001b[39m\u001b[39m\"\u001b[39m):\n",
      "File \u001b[0;32m~/repos/pipeline-mhqa-dspy/.venv/lib/python3.11/site-packages/openai/_legacy_response.py:364\u001b[0m, in \u001b[0;36mto_raw_response_wrapper.<locals>.wrapped\u001b[0;34m(*args, **kwargs)\u001b[0m\n\u001b[1;32m    362\u001b[0m kwargs[\u001b[39m\"\u001b[39m\u001b[39mextra_headers\u001b[39m\u001b[39m\"\u001b[39m] \u001b[39m=\u001b[39m extra_headers\n\u001b[0;32m--> 364\u001b[0m \u001b[39mreturn\u001b[39;00m cast(LegacyAPIResponse[R], func(\u001b[39m*\u001b[39;49margs, \u001b[39m*\u001b[39;49m\u001b[39m*\u001b[39;49mkwargs))\n",
      "File \u001b[0;32m~/repos/pipeline-mhqa-dspy/.venv/lib/python3.11/site-packages/openai/_utils/_utils.py:279\u001b[0m, in \u001b[0;36mrequired_args.<locals>.inner.<locals>.wrapper\u001b[0;34m(*args, **kwargs)\u001b[0m\n\u001b[1;32m    278\u001b[0m     \u001b[39mraise\u001b[39;00m \u001b[39mTypeError\u001b[39;00m(msg)\n\u001b[0;32m--> 279\u001b[0m \u001b[39mreturn\u001b[39;00m func(\u001b[39m*\u001b[39;49margs, \u001b[39m*\u001b[39;49m\u001b[39m*\u001b[39;49mkwargs)\n",
      "File \u001b[0;32m~/repos/pipeline-mhqa-dspy/.venv/lib/python3.11/site-packages/openai/resources/chat/completions.py:863\u001b[0m, in \u001b[0;36mCompletions.create\u001b[0;34m(self, messages, model, audio, frequency_penalty, function_call, functions, logit_bias, logprobs, max_completion_tokens, max_tokens, metadata, modalities, n, parallel_tool_calls, prediction, presence_penalty, reasoning_effort, response_format, seed, service_tier, stop, store, stream, stream_options, temperature, tool_choice, tools, top_logprobs, top_p, user, extra_headers, extra_query, extra_body, timeout)\u001b[0m\n\u001b[1;32m    862\u001b[0m validate_response_format(response_format)\n\u001b[0;32m--> 863\u001b[0m \u001b[39mreturn\u001b[39;00m \u001b[39mself\u001b[39;49m\u001b[39m.\u001b[39;49m_post(\n\u001b[1;32m    864\u001b[0m     \u001b[39m\"\u001b[39;49m\u001b[39m/chat/completions\u001b[39;49m\u001b[39m\"\u001b[39;49m,\n\u001b[1;32m    865\u001b[0m     body\u001b[39m=\u001b[39;49mmaybe_transform(\n\u001b[1;32m    866\u001b[0m         {\n\u001b[1;32m    867\u001b[0m             \u001b[39m\"\u001b[39;49m\u001b[39mmessages\u001b[39;49m\u001b[39m\"\u001b[39;49m: messages,\n\u001b[1;32m    868\u001b[0m             \u001b[39m\"\u001b[39;49m\u001b[39mmodel\u001b[39;49m\u001b[39m\"\u001b[39;49m: model,\n\u001b[1;32m    869\u001b[0m             \u001b[39m\"\u001b[39;49m\u001b[39maudio\u001b[39;49m\u001b[39m\"\u001b[39;49m: audio,\n\u001b[1;32m    870\u001b[0m             \u001b[39m\"\u001b[39;49m\u001b[39mfrequency_penalty\u001b[39;49m\u001b[39m\"\u001b[39;49m: frequency_penalty,\n\u001b[1;32m    871\u001b[0m             \u001b[39m\"\u001b[39;49m\u001b[39mfunction_call\u001b[39;49m\u001b[39m\"\u001b[39;49m: function_call,\n\u001b[1;32m    872\u001b[0m             \u001b[39m\"\u001b[39;49m\u001b[39mfunctions\u001b[39;49m\u001b[39m\"\u001b[39;49m: functions,\n\u001b[1;32m    873\u001b[0m             \u001b[39m\"\u001b[39;49m\u001b[39mlogit_bias\u001b[39;49m\u001b[39m\"\u001b[39;49m: logit_bias,\n\u001b[1;32m    874\u001b[0m             \u001b[39m\"\u001b[39;49m\u001b[39mlogprobs\u001b[39;49m\u001b[39m\"\u001b[39;49m: logprobs,\n\u001b[1;32m    875\u001b[0m             \u001b[39m\"\u001b[39;49m\u001b[39mmax_completion_tokens\u001b[39;49m\u001b[39m\"\u001b[39;49m: max_completion_tokens,\n\u001b[1;32m    876\u001b[0m             \u001b[39m\"\u001b[39;49m\u001b[39mmax_tokens\u001b[39;49m\u001b[39m\"\u001b[39;49m: max_tokens,\n\u001b[1;32m    877\u001b[0m             \u001b[39m\"\u001b[39;49m\u001b[39mmetadata\u001b[39;49m\u001b[39m\"\u001b[39;49m: metadata,\n\u001b[1;32m    878\u001b[0m             \u001b[39m\"\u001b[39;49m\u001b[39mmodalities\u001b[39;49m\u001b[39m\"\u001b[39;49m: modalities,\n\u001b[1;32m    879\u001b[0m             \u001b[39m\"\u001b[39;49m\u001b[39mn\u001b[39;49m\u001b[39m\"\u001b[39;49m: n,\n\u001b[1;32m    880\u001b[0m             \u001b[39m\"\u001b[39;49m\u001b[39mparallel_tool_calls\u001b[39;49m\u001b[39m\"\u001b[39;49m: parallel_tool_calls,\n\u001b[1;32m    881\u001b[0m             \u001b[39m\"\u001b[39;49m\u001b[39mprediction\u001b[39;49m\u001b[39m\"\u001b[39;49m: prediction,\n\u001b[1;32m    882\u001b[0m             \u001b[39m\"\u001b[39;49m\u001b[39mpresence_penalty\u001b[39;49m\u001b[39m\"\u001b[39;49m: presence_penalty,\n\u001b[1;32m    883\u001b[0m             \u001b[39m\"\u001b[39;49m\u001b[39mreasoning_effort\u001b[39;49m\u001b[39m\"\u001b[39;49m: reasoning_effort,\n\u001b[1;32m    884\u001b[0m             \u001b[39m\"\u001b[39;49m\u001b[39mresponse_format\u001b[39;49m\u001b[39m\"\u001b[39;49m: response_format,\n\u001b[1;32m    885\u001b[0m             \u001b[39m\"\u001b[39;49m\u001b[39mseed\u001b[39;49m\u001b[39m\"\u001b[39;49m: seed,\n\u001b[1;32m    886\u001b[0m             \u001b[39m\"\u001b[39;49m\u001b[39mservice_tier\u001b[39;49m\u001b[39m\"\u001b[39;49m: service_tier,\n\u001b[1;32m    887\u001b[0m             \u001b[39m\"\u001b[39;49m\u001b[39mstop\u001b[39;49m\u001b[39m\"\u001b[39;49m: stop,\n\u001b[1;32m    888\u001b[0m             \u001b[39m\"\u001b[39;49m\u001b[39mstore\u001b[39;49m\u001b[39m\"\u001b[39;49m: store,\n\u001b[1;32m    889\u001b[0m             \u001b[39m\"\u001b[39;49m\u001b[39mstream\u001b[39;49m\u001b[39m\"\u001b[39;49m: stream,\n\u001b[1;32m    890\u001b[0m             \u001b[39m\"\u001b[39;49m\u001b[39mstream_options\u001b[39;49m\u001b[39m\"\u001b[39;49m: stream_options,\n\u001b[1;32m    891\u001b[0m             \u001b[39m\"\u001b[39;49m\u001b[39mtemperature\u001b[39;49m\u001b[39m\"\u001b[39;49m: temperature,\n\u001b[1;32m    892\u001b[0m             \u001b[39m\"\u001b[39;49m\u001b[39mtool_choice\u001b[39;49m\u001b[39m\"\u001b[39;49m: tool_choice,\n\u001b[1;32m    893\u001b[0m             \u001b[39m\"\u001b[39;49m\u001b[39mtools\u001b[39;49m\u001b[39m\"\u001b[39;49m: tools,\n\u001b[1;32m    894\u001b[0m             \u001b[39m\"\u001b[39;49m\u001b[39mtop_logprobs\u001b[39;49m\u001b[39m\"\u001b[39;49m: top_logprobs,\n\u001b[1;32m    895\u001b[0m             \u001b[39m\"\u001b[39;49m\u001b[39mtop_p\u001b[39;49m\u001b[39m\"\u001b[39;49m: top_p,\n\u001b[1;32m    896\u001b[0m             \u001b[39m\"\u001b[39;49m\u001b[39muser\u001b[39;49m\u001b[39m\"\u001b[39;49m: user,\n\u001b[1;32m    897\u001b[0m         },\n\u001b[1;32m    898\u001b[0m         completion_create_params\u001b[39m.\u001b[39;49mCompletionCreateParams,\n\u001b[1;32m    899\u001b[0m     ),\n\u001b[1;32m    900\u001b[0m     options\u001b[39m=\u001b[39;49mmake_request_options(\n\u001b[1;32m    901\u001b[0m         extra_headers\u001b[39m=\u001b[39;49mextra_headers, extra_query\u001b[39m=\u001b[39;49mextra_query, extra_body\u001b[39m=\u001b[39;49mextra_body, timeout\u001b[39m=\u001b[39;49mtimeout\n\u001b[1;32m    902\u001b[0m     ),\n\u001b[1;32m    903\u001b[0m     cast_to\u001b[39m=\u001b[39;49mChatCompletion,\n\u001b[1;32m    904\u001b[0m     stream\u001b[39m=\u001b[39;49mstream \u001b[39mor\u001b[39;49;00m \u001b[39mFalse\u001b[39;49;00m,\n\u001b[1;32m    905\u001b[0m     stream_cls\u001b[39m=\u001b[39;49mStream[ChatCompletionChunk],\n\u001b[1;32m    906\u001b[0m )\n",
      "File \u001b[0;32m~/repos/pipeline-mhqa-dspy/.venv/lib/python3.11/site-packages/openai/_base_client.py:1283\u001b[0m, in \u001b[0;36mSyncAPIClient.post\u001b[0;34m(self, path, cast_to, body, options, files, stream, stream_cls)\u001b[0m\n\u001b[1;32m   1280\u001b[0m opts \u001b[39m=\u001b[39m FinalRequestOptions\u001b[39m.\u001b[39mconstruct(\n\u001b[1;32m   1281\u001b[0m     method\u001b[39m=\u001b[39m\u001b[39m\"\u001b[39m\u001b[39mpost\u001b[39m\u001b[39m\"\u001b[39m, url\u001b[39m=\u001b[39mpath, json_data\u001b[39m=\u001b[39mbody, files\u001b[39m=\u001b[39mto_httpx_files(files), \u001b[39m*\u001b[39m\u001b[39m*\u001b[39moptions\n\u001b[1;32m   1282\u001b[0m )\n\u001b[0;32m-> 1283\u001b[0m \u001b[39mreturn\u001b[39;00m cast(ResponseT, \u001b[39mself\u001b[39;49m\u001b[39m.\u001b[39;49mrequest(cast_to, opts, stream\u001b[39m=\u001b[39;49mstream, stream_cls\u001b[39m=\u001b[39;49mstream_cls))\n",
      "File \u001b[0;32m~/repos/pipeline-mhqa-dspy/.venv/lib/python3.11/site-packages/openai/_base_client.py:960\u001b[0m, in \u001b[0;36mSyncAPIClient.request\u001b[0;34m(self, cast_to, options, remaining_retries, stream, stream_cls)\u001b[0m\n\u001b[1;32m    958\u001b[0m     retries_taken \u001b[39m=\u001b[39m \u001b[39m0\u001b[39m\n\u001b[0;32m--> 960\u001b[0m \u001b[39mreturn\u001b[39;00m \u001b[39mself\u001b[39;49m\u001b[39m.\u001b[39;49m_request(\n\u001b[1;32m    961\u001b[0m     cast_to\u001b[39m=\u001b[39;49mcast_to,\n\u001b[1;32m    962\u001b[0m     options\u001b[39m=\u001b[39;49moptions,\n\u001b[1;32m    963\u001b[0m     stream\u001b[39m=\u001b[39;49mstream,\n\u001b[1;32m    964\u001b[0m     stream_cls\u001b[39m=\u001b[39;49mstream_cls,\n\u001b[1;32m    965\u001b[0m     retries_taken\u001b[39m=\u001b[39;49mretries_taken,\n\u001b[1;32m    966\u001b[0m )\n",
      "File \u001b[0;32m~/repos/pipeline-mhqa-dspy/.venv/lib/python3.11/site-packages/openai/_base_client.py:1064\u001b[0m, in \u001b[0;36mSyncAPIClient._request\u001b[0;34m(self, cast_to, options, retries_taken, stream, stream_cls)\u001b[0m\n\u001b[1;32m   1063\u001b[0m     log\u001b[39m.\u001b[39mdebug(\u001b[39m\"\u001b[39m\u001b[39mRe-raising status error\u001b[39m\u001b[39m\"\u001b[39m)\n\u001b[0;32m-> 1064\u001b[0m     \u001b[39mraise\u001b[39;00m \u001b[39mself\u001b[39m\u001b[39m.\u001b[39m_make_status_error_from_response(err\u001b[39m.\u001b[39mresponse) \u001b[39mfrom\u001b[39;00m\u001b[39m \u001b[39m\u001b[39mNone\u001b[39;00m\n\u001b[1;32m   1066\u001b[0m \u001b[39mreturn\u001b[39;00m \u001b[39mself\u001b[39m\u001b[39m.\u001b[39m_process_response(\n\u001b[1;32m   1067\u001b[0m     cast_to\u001b[39m=\u001b[39mcast_to,\n\u001b[1;32m   1068\u001b[0m     options\u001b[39m=\u001b[39moptions,\n\u001b[0;32m   (...)\u001b[0m\n\u001b[1;32m   1072\u001b[0m     retries_taken\u001b[39m=\u001b[39mretries_taken,\n\u001b[1;32m   1073\u001b[0m )\n",
      "\u001b[0;31mBadRequestError\u001b[0m: Error code: 400 - {'error': {'message': \"litellm.BadRequestError: OpenAIException - Error code: 422 - {'error': 'Input validation error: `inputs` tokens + `max_new_tokens` must be <= 8192. Given: 12583 `inputs` tokens and 1000 `max_new_tokens`', 'error_type': 'validation'}\\nReceived Model Group=llama-3.3-70b-tgi\\nAvailable Model Group Fallbacks=None\", 'type': None, 'param': None, 'code': '400'}}",
      "\nDuring handling of the above exception, another exception occurred:\n",
      "\u001b[0;31mOpenAIError\u001b[0m                               Traceback (most recent call last)",
      "File \u001b[0;32m~/repos/pipeline-mhqa-dspy/.venv/lib/python3.11/site-packages/litellm/main.py:1600\u001b[0m, in \u001b[0;36mcompletion\u001b[0;34m(model, messages, timeout, temperature, top_p, n, stream, stream_options, stop, max_completion_tokens, max_tokens, modalities, prediction, audio, presence_penalty, frequency_penalty, logit_bias, user, response_format, seed, tools, tool_choice, logprobs, top_logprobs, parallel_tool_calls, deployment_id, extra_headers, functions, function_call, base_url, api_version, api_key, model_list, **kwargs)\u001b[0m\n\u001b[1;32m   1594\u001b[0m     logging\u001b[39m.\u001b[39mpost_call(\n\u001b[1;32m   1595\u001b[0m         \u001b[39minput\u001b[39m\u001b[39m=\u001b[39mmessages,\n\u001b[1;32m   1596\u001b[0m         api_key\u001b[39m=\u001b[39mapi_key,\n\u001b[1;32m   1597\u001b[0m         original_response\u001b[39m=\u001b[39m\u001b[39mstr\u001b[39m(e),\n\u001b[1;32m   1598\u001b[0m         additional_args\u001b[39m=\u001b[39m{\u001b[39m\"\u001b[39m\u001b[39mheaders\u001b[39m\u001b[39m\"\u001b[39m: headers},\n\u001b[1;32m   1599\u001b[0m     )\n\u001b[0;32m-> 1600\u001b[0m     \u001b[39mraise\u001b[39;00m e\n\u001b[1;32m   1602\u001b[0m \u001b[39mif\u001b[39;00m optional_params\u001b[39m.\u001b[39mget(\u001b[39m\"\u001b[39m\u001b[39mstream\u001b[39m\u001b[39m\"\u001b[39m, \u001b[39mFalse\u001b[39;00m):\n\u001b[1;32m   1603\u001b[0m     \u001b[39m## LOGGING\u001b[39;00m\n",
      "File \u001b[0;32m~/repos/pipeline-mhqa-dspy/.venv/lib/python3.11/site-packages/litellm/main.py:1573\u001b[0m, in \u001b[0;36mcompletion\u001b[0;34m(model, messages, timeout, temperature, top_p, n, stream, stream_options, stop, max_completion_tokens, max_tokens, modalities, prediction, audio, presence_penalty, frequency_penalty, logit_bias, user, response_format, seed, tools, tool_choice, logprobs, top_logprobs, parallel_tool_calls, deployment_id, extra_headers, functions, function_call, base_url, api_version, api_key, model_list, **kwargs)\u001b[0m\n\u001b[1;32m   1572\u001b[0m \u001b[39mtry\u001b[39;00m:\n\u001b[0;32m-> 1573\u001b[0m     response \u001b[39m=\u001b[39m openai_chat_completions\u001b[39m.\u001b[39;49mcompletion(\n\u001b[1;32m   1574\u001b[0m         model\u001b[39m=\u001b[39;49mmodel,\n\u001b[1;32m   1575\u001b[0m         messages\u001b[39m=\u001b[39;49mmessages,\n\u001b[1;32m   1576\u001b[0m         headers\u001b[39m=\u001b[39;49mheaders,\n\u001b[1;32m   1577\u001b[0m         model_response\u001b[39m=\u001b[39;49mmodel_response,\n\u001b[1;32m   1578\u001b[0m         print_verbose\u001b[39m=\u001b[39;49mprint_verbose,\n\u001b[1;32m   1579\u001b[0m         api_key\u001b[39m=\u001b[39;49mapi_key,\n\u001b[1;32m   1580\u001b[0m         api_base\u001b[39m=\u001b[39;49mapi_base,\n\u001b[1;32m   1581\u001b[0m         acompletion\u001b[39m=\u001b[39;49macompletion,\n\u001b[1;32m   1582\u001b[0m         logging_obj\u001b[39m=\u001b[39;49mlogging,\n\u001b[1;32m   1583\u001b[0m         optional_params\u001b[39m=\u001b[39;49moptional_params,\n\u001b[1;32m   1584\u001b[0m         litellm_params\u001b[39m=\u001b[39;49mlitellm_params,\n\u001b[1;32m   1585\u001b[0m         logger_fn\u001b[39m=\u001b[39;49mlogger_fn,\n\u001b[1;32m   1586\u001b[0m         timeout\u001b[39m=\u001b[39;49mtimeout,  \u001b[39m# type: ignore\u001b[39;49;00m\n\u001b[1;32m   1587\u001b[0m         custom_prompt_dict\u001b[39m=\u001b[39;49mcustom_prompt_dict,\n\u001b[1;32m   1588\u001b[0m         client\u001b[39m=\u001b[39;49mclient,  \u001b[39m# pass AsyncOpenAI, OpenAI client\u001b[39;49;00m\n\u001b[1;32m   1589\u001b[0m         organization\u001b[39m=\u001b[39;49morganization,\n\u001b[1;32m   1590\u001b[0m         custom_llm_provider\u001b[39m=\u001b[39;49mcustom_llm_provider,\n\u001b[1;32m   1591\u001b[0m     )\n\u001b[1;32m   1592\u001b[0m \u001b[39mexcept\u001b[39;00m \u001b[39mException\u001b[39;00m \u001b[39mas\u001b[39;00m e:\n\u001b[1;32m   1593\u001b[0m     \u001b[39m## LOGGING - log the original exception returned\u001b[39;00m\n",
      "File \u001b[0;32m~/repos/pipeline-mhqa-dspy/.venv/lib/python3.11/site-packages/litellm/llms/openai/openai.py:701\u001b[0m, in \u001b[0;36mOpenAIChatCompletion.completion\u001b[0;34m(self, model_response, timeout, optional_params, litellm_params, logging_obj, model, messages, print_verbose, api_key, api_base, api_version, dynamic_params, azure_ad_token, acompletion, logger_fn, headers, custom_prompt_dict, client, organization, custom_llm_provider, drop_params)\u001b[0m\n\u001b[1;32m    700\u001b[0m     error_headers \u001b[39m=\u001b[39m \u001b[39mgetattr\u001b[39m(error_response, \u001b[39m\"\u001b[39m\u001b[39mheaders\u001b[39m\u001b[39m\"\u001b[39m, \u001b[39mNone\u001b[39;00m)\n\u001b[0;32m--> 701\u001b[0m \u001b[39mraise\u001b[39;00m OpenAIError(\n\u001b[1;32m    702\u001b[0m     status_code\u001b[39m=\u001b[39mstatus_code, message\u001b[39m=\u001b[39merror_text, headers\u001b[39m=\u001b[39merror_headers\n\u001b[1;32m    703\u001b[0m )\n",
      "\u001b[0;31mOpenAIError\u001b[0m: Error code: 400 - {'error': {'message': \"litellm.BadRequestError: OpenAIException - Error code: 422 - {'error': 'Input validation error: `inputs` tokens + `max_new_tokens` must be <= 8192. Given: 12583 `inputs` tokens and 1000 `max_new_tokens`', 'error_type': 'validation'}\\nReceived Model Group=llama-3.3-70b-tgi\\nAvailable Model Group Fallbacks=None\", 'type': None, 'param': None, 'code': '400'}}",
      "\nDuring handling of the above exception, another exception occurred:\n",
      "\u001b[0;31mBadRequestError\u001b[0m                           Traceback (most recent call last)",
      "\u001b[1;32m/home/baris/repos/pipeline-mhqa-dspy/nbs/agentic.ipynb Cell 7\u001b[0m line \u001b[0;36m3\n\u001b[1;32m      <a href='vscode-notebook-cell://ssh-remote%2Bbiltir-baris/home/baris/repos/pipeline-mhqa-dspy/nbs/agentic.ipynb#X11sdnNjb2RlLXJlbW90ZQ%3D%3D?line=0'>1</a>\u001b[0m trained_program_filepath \u001b[39m=\u001b[39m Path(\u001b[39m'\u001b[39m\u001b[39mtrained-program.json\u001b[39m\u001b[39m'\u001b[39m)\n\u001b[0;32m----> <a href='vscode-notebook-cell://ssh-remote%2Bbiltir-baris/home/baris/repos/pipeline-mhqa-dspy/nbs/agentic.ipynb#X11sdnNjb2RlLXJlbW90ZQ%3D%3D?line=2'>3</a>\u001b[0m trained_program \u001b[39m=\u001b[39m train_main(\n\u001b[1;32m      <a href='vscode-notebook-cell://ssh-remote%2Bbiltir-baris/home/baris/repos/pipeline-mhqa-dspy/nbs/agentic.ipynb#X11sdnNjb2RlLXJlbW90ZQ%3D%3D?line=3'>4</a>\u001b[0m     dataset_path\u001b[39m=\u001b[39;49m\u001b[39m'\u001b[39;49m\u001b[39mbdsaglam/musique-mini\u001b[39;49m\u001b[39m'\u001b[39;49m,\n\u001b[1;32m      <a href='vscode-notebook-cell://ssh-remote%2Bbiltir-baris/home/baris/repos/pipeline-mhqa-dspy/nbs/agentic.ipynb#X11sdnNjb2RlLXJlbW90ZQ%3D%3D?line=4'>5</a>\u001b[0m     dataset_name\u001b[39m=\u001b[39;49m\u001b[39m'\u001b[39;49m\u001b[39manswerable\u001b[39;49m\u001b[39m'\u001b[39;49m,\n\u001b[1;32m      <a href='vscode-notebook-cell://ssh-remote%2Bbiltir-baris/home/baris/repos/pipeline-mhqa-dspy/nbs/agentic.ipynb#X11sdnNjb2RlLXJlbW90ZQ%3D%3D?line=5'>6</a>\u001b[0m     dataset_split\u001b[39m=\u001b[39;49m\u001b[39m'\u001b[39;49m\u001b[39mtrain[:50]\u001b[39;49m\u001b[39m'\u001b[39;49m,\n\u001b[1;32m      <a href='vscode-notebook-cell://ssh-remote%2Bbiltir-baris/home/baris/repos/pipeline-mhqa-dspy/nbs/agentic.ipynb#X11sdnNjb2RlLXJlbW90ZQ%3D%3D?line=6'>7</a>\u001b[0m     model\u001b[39m=\u001b[39;49mmodel,\n\u001b[1;32m      <a href='vscode-notebook-cell://ssh-remote%2Bbiltir-baris/home/baris/repos/pipeline-mhqa-dspy/nbs/agentic.ipynb#X11sdnNjb2RlLXJlbW90ZQ%3D%3D?line=7'>8</a>\u001b[0m     temperature\u001b[39m=\u001b[39;49m\u001b[39m0.1\u001b[39;49m,\n\u001b[1;32m      <a href='vscode-notebook-cell://ssh-remote%2Bbiltir-baris/home/baris/repos/pipeline-mhqa-dspy/nbs/agentic.ipynb#X11sdnNjb2RlLXJlbW90ZQ%3D%3D?line=8'>9</a>\u001b[0m     load_from\u001b[39m=\u001b[39;49m\u001b[39m'\u001b[39;49m\u001b[39mUNSET\u001b[39;49m\u001b[39m'\u001b[39;49m,\n\u001b[1;32m     <a href='vscode-notebook-cell://ssh-remote%2Bbiltir-baris/home/baris/repos/pipeline-mhqa-dspy/nbs/agentic.ipynb#X11sdnNjb2RlLXJlbW90ZQ%3D%3D?line=9'>10</a>\u001b[0m     optimizer_path\u001b[39m=\u001b[39;49m\u001b[39m'\u001b[39;49m\u001b[39m../data/raw/optimizer-configs/bfsrs-light.json\u001b[39;49m\u001b[39m'\u001b[39;49m,\n\u001b[1;32m     <a href='vscode-notebook-cell://ssh-remote%2Bbiltir-baris/home/baris/repos/pipeline-mhqa-dspy/nbs/agentic.ipynb#X11sdnNjb2RlLXJlbW90ZQ%3D%3D?line=10'>11</a>\u001b[0m     out\u001b[39m=\u001b[39;49mtrained_program_filepath,\n\u001b[1;32m     <a href='vscode-notebook-cell://ssh-remote%2Bbiltir-baris/home/baris/repos/pipeline-mhqa-dspy/nbs/agentic.ipynb#X11sdnNjb2RlLXJlbW90ZQ%3D%3D?line=11'>12</a>\u001b[0m )\n",
      "\u001b[1;32m/home/baris/repos/pipeline-mhqa-dspy/nbs/agentic.ipynb Cell 7\u001b[0m line \u001b[0;36m9\n\u001b[1;32m     <a href='vscode-notebook-cell://ssh-remote%2Bbiltir-baris/home/baris/repos/pipeline-mhqa-dspy/nbs/agentic.ipynb#X11sdnNjb2RlLXJlbW90ZQ%3D%3D?line=90'>91</a>\u001b[0m     optimizer \u001b[39m=\u001b[39m make_optimizer(optimizer_config)\n\u001b[1;32m     <a href='vscode-notebook-cell://ssh-remote%2Bbiltir-baris/home/baris/repos/pipeline-mhqa-dspy/nbs/agentic.ipynb#X11sdnNjb2RlLXJlbW90ZQ%3D%3D?line=91'>92</a>\u001b[0m     compile_params \u001b[39m=\u001b[39m optimizer_config\u001b[39m.\u001b[39mget(\u001b[39m\"\u001b[39m\u001b[39mcompile_params\u001b[39m\u001b[39m\"\u001b[39m, {})\n\u001b[0;32m---> <a href='vscode-notebook-cell://ssh-remote%2Bbiltir-baris/home/baris/repos/pipeline-mhqa-dspy/nbs/agentic.ipynb#X11sdnNjb2RlLXJlbW90ZQ%3D%3D?line=92'>93</a>\u001b[0m     trained_program \u001b[39m=\u001b[39m optimizer\u001b[39m.\u001b[39;49mcompile(program, trainset\u001b[39m=\u001b[39;49mexamples, \u001b[39m*\u001b[39;49m\u001b[39m*\u001b[39;49mcompile_params)\n\u001b[1;32m     <a href='vscode-notebook-cell://ssh-remote%2Bbiltir-baris/home/baris/repos/pipeline-mhqa-dspy/nbs/agentic.ipynb#X11sdnNjb2RlLXJlbW90ZQ%3D%3D?line=93'>94</a>\u001b[0m \u001b[39melse\u001b[39;00m:\n\u001b[1;32m     <a href='vscode-notebook-cell://ssh-remote%2Bbiltir-baris/home/baris/repos/pipeline-mhqa-dspy/nbs/agentic.ipynb#X11sdnNjb2RlLXJlbW90ZQ%3D%3D?line=94'>95</a>\u001b[0m     trained_program \u001b[39m=\u001b[39m program\n",
      "File \u001b[0;32m~/repos/pipeline-mhqa-dspy/.venv/lib/python3.11/site-packages/dspy/teleprompt/random_search.py:119\u001b[0m, in \u001b[0;36mBootstrapFewShotWithRandomSearch.compile\u001b[0;34m(self, student, teacher, trainset, valset, restrict, labeled_sample)\u001b[0m\n\u001b[1;32m    108\u001b[0m     program \u001b[39m=\u001b[39m optimizer\u001b[39m.\u001b[39mcompile(student, teacher\u001b[39m=\u001b[39mteacher, trainset\u001b[39m=\u001b[39mtrainset_copy)\n\u001b[1;32m    110\u001b[0m evaluate \u001b[39m=\u001b[39m Evaluate(\n\u001b[1;32m    111\u001b[0m     devset\u001b[39m=\u001b[39m\u001b[39mself\u001b[39m\u001b[39m.\u001b[39mvalset,\n\u001b[1;32m    112\u001b[0m     metric\u001b[39m=\u001b[39m\u001b[39mself\u001b[39m\u001b[39m.\u001b[39mmetric,\n\u001b[0;32m   (...)\u001b[0m\n\u001b[1;32m    116\u001b[0m     display_progress\u001b[39m=\u001b[39m\u001b[39mTrue\u001b[39;00m,\n\u001b[1;32m    117\u001b[0m )\n\u001b[0;32m--> 119\u001b[0m score, subscores \u001b[39m=\u001b[39m evaluate(program, return_all_scores\u001b[39m=\u001b[39;49m\u001b[39mTrue\u001b[39;49;00m)\n\u001b[1;32m    121\u001b[0m all_subscores\u001b[39m.\u001b[39mappend(subscores)\n\u001b[1;32m    123\u001b[0m \u001b[39m############ Assertion-aware Optimization ############\u001b[39;00m\n",
      "File \u001b[0;32m~/repos/pipeline-mhqa-dspy/.venv/lib/python3.11/site-packages/dspy/evaluate/evaluate.py:160\u001b[0m, in \u001b[0;36mEvaluate.__call__\u001b[0;34m(self, program, metric, devset, num_threads, display_progress, display_table, return_all_scores, return_outputs)\u001b[0m\n\u001b[1;32m    156\u001b[0m         program\u001b[39m.\u001b[39m_suggest_failures \u001b[39m+\u001b[39m\u001b[39m=\u001b[39m dspy\u001b[39m.\u001b[39msettings\u001b[39m.\u001b[39mget(\u001b[39m\"\u001b[39m\u001b[39msuggest_failures\u001b[39m\u001b[39m\"\u001b[39m)\n\u001b[1;32m    158\u001b[0m     \u001b[39mreturn\u001b[39;00m prediction, score\n\u001b[0;32m--> 160\u001b[0m results \u001b[39m=\u001b[39m executor\u001b[39m.\u001b[39;49mexecute(process_item, devset)\n\u001b[1;32m    161\u001b[0m \u001b[39massert\u001b[39;00m \u001b[39mlen\u001b[39m(devset) \u001b[39m==\u001b[39m \u001b[39mlen\u001b[39m(results)\n\u001b[1;32m    163\u001b[0m results \u001b[39m=\u001b[39m [((dspy\u001b[39m.\u001b[39mPrediction(), \u001b[39mself\u001b[39m\u001b[39m.\u001b[39mfailure_score) \u001b[39mif\u001b[39;00m r \u001b[39mis\u001b[39;00m \u001b[39mNone\u001b[39;00m \u001b[39melse\u001b[39;00m r) \u001b[39mfor\u001b[39;00m r \u001b[39min\u001b[39;00m results]\n",
      "File \u001b[0;32m~/repos/pipeline-mhqa-dspy/.venv/lib/python3.11/site-packages/dspy/utils/parallelizer.py:39\u001b[0m, in \u001b[0;36mParallelExecutor.execute\u001b[0;34m(self, function, data)\u001b[0m\n\u001b[1;32m     37\u001b[0m     \u001b[39mreturn\u001b[39;00m \u001b[39mself\u001b[39m\u001b[39m.\u001b[39m_execute_isolated_single_thread(wrapped_function, data)\n\u001b[1;32m     38\u001b[0m \u001b[39melse\u001b[39;00m:\n\u001b[0;32m---> 39\u001b[0m     \u001b[39mreturn\u001b[39;00m \u001b[39mself\u001b[39;49m\u001b[39m.\u001b[39;49m_execute_multi_thread(wrapped_function, data)\n",
      "File \u001b[0;32m~/repos/pipeline-mhqa-dspy/.venv/lib/python3.11/site-packages/dspy/utils/parallelizer.py:180\u001b[0m, in \u001b[0;36mParallelExecutor._execute_multi_thread\u001b[0;34m(self, function, data)\u001b[0m\n\u001b[1;32m    172\u001b[0m pbar \u001b[39m=\u001b[39m tqdm\u001b[39m.\u001b[39mtqdm(\n\u001b[1;32m    173\u001b[0m     total\u001b[39m=\u001b[39m\u001b[39mlen\u001b[39m(data),\n\u001b[1;32m    174\u001b[0m     dynamic_ncols\u001b[39m=\u001b[39m\u001b[39mTrue\u001b[39;00m,\n\u001b[1;32m    175\u001b[0m     disable\u001b[39m=\u001b[39m\u001b[39mself\u001b[39m\u001b[39m.\u001b[39mdisable_progress_bar,\n\u001b[1;32m    176\u001b[0m     file\u001b[39m=\u001b[39msys\u001b[39m.\u001b[39mstdout\n\u001b[1;32m    177\u001b[0m )\n\u001b[1;32m    179\u001b[0m \u001b[39mfor\u001b[39;00m future \u001b[39min\u001b[39;00m as_completed(futures):\n\u001b[0;32m--> 180\u001b[0m     index, result \u001b[39m=\u001b[39m future\u001b[39m.\u001b[39;49mresult()\n\u001b[1;32m    182\u001b[0m     \u001b[39mif\u001b[39;00m result \u001b[39mis\u001b[39;00m job_cancelled:\n\u001b[1;32m    183\u001b[0m         \u001b[39mcontinue\u001b[39;00m\n",
      "File \u001b[0;32m~/.local/share/uv/python/cpython-3.11.11-linux-x86_64-gnu/lib/python3.11/concurrent/futures/_base.py:449\u001b[0m, in \u001b[0;36mFuture.result\u001b[0;34m(self, timeout)\u001b[0m\n\u001b[1;32m    447\u001b[0m     \u001b[39mraise\u001b[39;00m CancelledError()\n\u001b[1;32m    448\u001b[0m \u001b[39melif\u001b[39;00m \u001b[39mself\u001b[39m\u001b[39m.\u001b[39m_state \u001b[39m==\u001b[39m FINISHED:\n\u001b[0;32m--> 449\u001b[0m     \u001b[39mreturn\u001b[39;00m \u001b[39mself\u001b[39;49m\u001b[39m.\u001b[39;49m__get_result()\n\u001b[1;32m    451\u001b[0m \u001b[39mself\u001b[39m\u001b[39m.\u001b[39m_condition\u001b[39m.\u001b[39mwait(timeout)\n\u001b[1;32m    453\u001b[0m \u001b[39mif\u001b[39;00m \u001b[39mself\u001b[39m\u001b[39m.\u001b[39m_state \u001b[39min\u001b[39;00m [CANCELLED, CANCELLED_AND_NOTIFIED]:\n",
      "File \u001b[0;32m~/.local/share/uv/python/cpython-3.11.11-linux-x86_64-gnu/lib/python3.11/concurrent/futures/_base.py:401\u001b[0m, in \u001b[0;36mFuture.__get_result\u001b[0;34m(self)\u001b[0m\n\u001b[1;32m    399\u001b[0m \u001b[39mif\u001b[39;00m \u001b[39mself\u001b[39m\u001b[39m.\u001b[39m_exception:\n\u001b[1;32m    400\u001b[0m     \u001b[39mtry\u001b[39;00m:\n\u001b[0;32m--> 401\u001b[0m         \u001b[39mraise\u001b[39;00m \u001b[39mself\u001b[39m\u001b[39m.\u001b[39m_exception\n\u001b[1;32m    402\u001b[0m     \u001b[39mfinally\u001b[39;00m:\n\u001b[1;32m    403\u001b[0m         \u001b[39m# Break a reference cycle with the exception in self._exception\u001b[39;00m\n\u001b[1;32m    404\u001b[0m         \u001b[39mself\u001b[39m \u001b[39m=\u001b[39m \u001b[39mNone\u001b[39;00m\n",
      "File \u001b[0;32m~/.local/share/uv/python/cpython-3.11.11-linux-x86_64-gnu/lib/python3.11/concurrent/futures/thread.py:58\u001b[0m, in \u001b[0;36m_WorkItem.run\u001b[0;34m(self)\u001b[0m\n\u001b[1;32m     55\u001b[0m     \u001b[39mreturn\u001b[39;00m\n\u001b[1;32m     57\u001b[0m \u001b[39mtry\u001b[39;00m:\n\u001b[0;32m---> 58\u001b[0m     result \u001b[39m=\u001b[39m \u001b[39mself\u001b[39;49m\u001b[39m.\u001b[39;49mfn(\u001b[39m*\u001b[39;49m\u001b[39mself\u001b[39;49m\u001b[39m.\u001b[39;49margs, \u001b[39m*\u001b[39;49m\u001b[39m*\u001b[39;49m\u001b[39mself\u001b[39;49m\u001b[39m.\u001b[39;49mkwargs)\n\u001b[1;32m     59\u001b[0m \u001b[39mexcept\u001b[39;00m \u001b[39mBaseException\u001b[39;00m \u001b[39mas\u001b[39;00m exc:\n\u001b[1;32m     60\u001b[0m     \u001b[39mself\u001b[39m\u001b[39m.\u001b[39mfuture\u001b[39m.\u001b[39mset_exception(exc)\n",
      "File \u001b[0;32m~/repos/pipeline-mhqa-dspy/.venv/lib/python3.11/site-packages/dspy/utils/parallelizer.py:158\u001b[0m, in \u001b[0;36mParallelExecutor._execute_multi_thread.<locals>.cancellable_function\u001b[0;34m(parent_overrides, index_item)\u001b[0m\n\u001b[1;32m    155\u001b[0m thread_local_overrides\u001b[39m.\u001b[39moverrides \u001b[39m=\u001b[39m parent_overrides\u001b[39m.\u001b[39mcopy()\n\u001b[1;32m    157\u001b[0m \u001b[39mtry\u001b[39;00m:\n\u001b[0;32m--> 158\u001b[0m     \u001b[39mreturn\u001b[39;00m index, function(item)\n\u001b[1;32m    159\u001b[0m \u001b[39mfinally\u001b[39;00m:\n\u001b[1;32m    160\u001b[0m     thread_local_overrides\u001b[39m.\u001b[39moverrides \u001b[39m=\u001b[39m original_overrides\n",
      "File \u001b[0;32m~/repos/pipeline-mhqa-dspy/.venv/lib/python3.11/site-packages/dspy/utils/parallelizer.py:54\u001b[0m, in \u001b[0;36mParallelExecutor._wrap_function.<locals>.wrapped\u001b[0;34m(item)\u001b[0m\n\u001b[1;32m     52\u001b[0m \u001b[39mif\u001b[39;00m current_error_count \u001b[39m>\u001b[39m\u001b[39m=\u001b[39m \u001b[39mself\u001b[39m\u001b[39m.\u001b[39mmax_errors:\n\u001b[1;32m     53\u001b[0m     \u001b[39mself\u001b[39m\u001b[39m.\u001b[39mcancel_jobs\u001b[39m.\u001b[39mset()\n\u001b[0;32m---> 54\u001b[0m     \u001b[39mraise\u001b[39;00m e\n\u001b[1;32m     55\u001b[0m \u001b[39mif\u001b[39;00m \u001b[39mself\u001b[39m\u001b[39m.\u001b[39mprovide_traceback:\n\u001b[1;32m     56\u001b[0m     logger\u001b[39m.\u001b[39merror(\n\u001b[1;32m     57\u001b[0m         \u001b[39mf\u001b[39m\u001b[39m\"\u001b[39m\u001b[39mError processing item \u001b[39m\u001b[39m{\u001b[39;00mitem\u001b[39m}\u001b[39;00m\u001b[39m: \u001b[39m\u001b[39m{\u001b[39;00me\u001b[39m}\u001b[39;00m\u001b[39m\\n\u001b[39;00m\u001b[39mStack trace:\u001b[39m\u001b[39m\\n\u001b[39;00m\u001b[39m{\u001b[39;00mtraceback\u001b[39m.\u001b[39mformat_exc()\u001b[39m}\u001b[39;00m\u001b[39m\"\u001b[39m\n\u001b[1;32m     58\u001b[0m     )\n",
      "File \u001b[0;32m~/repos/pipeline-mhqa-dspy/.venv/lib/python3.11/site-packages/dspy/utils/parallelizer.py:47\u001b[0m, in \u001b[0;36mParallelExecutor._wrap_function.<locals>.wrapped\u001b[0;34m(item)\u001b[0m\n\u001b[1;32m     45\u001b[0m     \u001b[39mreturn\u001b[39;00m \u001b[39mNone\u001b[39;00m\n\u001b[1;32m     46\u001b[0m \u001b[39mtry\u001b[39;00m:\n\u001b[0;32m---> 47\u001b[0m     \u001b[39mreturn\u001b[39;00m function(item)\n\u001b[1;32m     48\u001b[0m \u001b[39mexcept\u001b[39;00m \u001b[39mException\u001b[39;00m \u001b[39mas\u001b[39;00m e:\n\u001b[1;32m     49\u001b[0m     \u001b[39mwith\u001b[39;00m \u001b[39mself\u001b[39m\u001b[39m.\u001b[39merror_lock:\n",
      "File \u001b[0;32m~/repos/pipeline-mhqa-dspy/.venv/lib/python3.11/site-packages/dspy/evaluate/evaluate.py:149\u001b[0m, in \u001b[0;36mEvaluate.__call__.<locals>.process_item\u001b[0;34m(example)\u001b[0m\n\u001b[1;32m    148\u001b[0m \u001b[39mdef\u001b[39;00m\u001b[39m \u001b[39m\u001b[39mprocess_item\u001b[39m(example):\n\u001b[0;32m--> 149\u001b[0m     prediction \u001b[39m=\u001b[39m program(\u001b[39m*\u001b[39;49m\u001b[39m*\u001b[39;49mexample\u001b[39m.\u001b[39;49minputs())\n\u001b[1;32m    150\u001b[0m     score \u001b[39m=\u001b[39m metric(example, prediction)\n\u001b[1;32m    152\u001b[0m     \u001b[39m# Increment assert and suggest failures to program's attributes\u001b[39;00m\n",
      "File \u001b[0;32m~/repos/pipeline-mhqa-dspy/.venv/lib/python3.11/site-packages/dspy/utils/callback.py:234\u001b[0m, in \u001b[0;36mwith_callbacks.<locals>.wrapper\u001b[0;34m(instance, *args, **kwargs)\u001b[0m\n\u001b[1;32m    232\u001b[0m \u001b[39m# If no callbacks are provided, just call the function\u001b[39;00m\n\u001b[1;32m    233\u001b[0m \u001b[39mif\u001b[39;00m \u001b[39mnot\u001b[39;00m callbacks:\n\u001b[0;32m--> 234\u001b[0m     \u001b[39mreturn\u001b[39;00m fn(instance, \u001b[39m*\u001b[39;49margs, \u001b[39m*\u001b[39;49m\u001b[39m*\u001b[39;49mkwargs)\n\u001b[1;32m    236\u001b[0m \u001b[39m# Generate call ID as the unique identifier for the call, this is useful for instrumentation.\u001b[39;00m\n\u001b[1;32m    237\u001b[0m call_id \u001b[39m=\u001b[39m uuid\u001b[39m.\u001b[39muuid4()\u001b[39m.\u001b[39mhex\n",
      "File \u001b[0;32m~/repos/pipeline-mhqa-dspy/.venv/lib/python3.11/site-packages/dspy/primitives/program.py:22\u001b[0m, in \u001b[0;36mModule.__call__\u001b[0;34m(self, *args, **kwargs)\u001b[0m\n\u001b[1;32m     20\u001b[0m \u001b[39m@with_callbacks\u001b[39m\n\u001b[1;32m     21\u001b[0m \u001b[39mdef\u001b[39;00m\u001b[39m \u001b[39m\u001b[39m__call__\u001b[39m(\u001b[39mself\u001b[39m, \u001b[39m*\u001b[39margs, \u001b[39m*\u001b[39m\u001b[39m*\u001b[39mkwargs):\n\u001b[0;32m---> 22\u001b[0m     \u001b[39mreturn\u001b[39;00m \u001b[39mself\u001b[39;49m\u001b[39m.\u001b[39;49mforward(\u001b[39m*\u001b[39;49margs, \u001b[39m*\u001b[39;49m\u001b[39m*\u001b[39;49mkwargs)\n",
      "File \u001b[0;32m~/repos/pipeline-mhqa-dspy/src/mhqa/react.py:156\u001b[0m, in \u001b[0;36mReAct.forward\u001b[0;34m(self, **input_args)\u001b[0m\n\u001b[1;32m    153\u001b[0m     \u001b[39mif\u001b[39;00m pred\u001b[39m.\u001b[39mnext_tool_name \u001b[39m==\u001b[39m \u001b[39m\"\u001b[39m\u001b[39mfinish\u001b[39m\u001b[39m\"\u001b[39m:\n\u001b[1;32m    154\u001b[0m         \u001b[39mbreak\u001b[39;00m\n\u001b[0;32m--> 156\u001b[0m extract \u001b[39m=\u001b[39m \u001b[39mself\u001b[39;49m\u001b[39m.\u001b[39;49mextract(\u001b[39m*\u001b[39;49m\u001b[39m*\u001b[39;49minput_args, trajectory\u001b[39m=\u001b[39;49m\u001b[39mformat\u001b[39;49m(trajectory, last_iteration\u001b[39m=\u001b[39;49m\u001b[39mFalse\u001b[39;49;00m))\n\u001b[1;32m    157\u001b[0m \u001b[39mreturn\u001b[39;00m dspy\u001b[39m.\u001b[39mPrediction(trajectory\u001b[39m=\u001b[39mtrajectory, \u001b[39m*\u001b[39m\u001b[39m*\u001b[39mextract)\n",
      "File \u001b[0;32m~/repos/pipeline-mhqa-dspy/.venv/lib/python3.11/site-packages/dspy/utils/callback.py:234\u001b[0m, in \u001b[0;36mwith_callbacks.<locals>.wrapper\u001b[0;34m(instance, *args, **kwargs)\u001b[0m\n\u001b[1;32m    232\u001b[0m \u001b[39m# If no callbacks are provided, just call the function\u001b[39;00m\n\u001b[1;32m    233\u001b[0m \u001b[39mif\u001b[39;00m \u001b[39mnot\u001b[39;00m callbacks:\n\u001b[0;32m--> 234\u001b[0m     \u001b[39mreturn\u001b[39;00m fn(instance, \u001b[39m*\u001b[39;49margs, \u001b[39m*\u001b[39;49m\u001b[39m*\u001b[39;49mkwargs)\n\u001b[1;32m    236\u001b[0m \u001b[39m# Generate call ID as the unique identifier for the call, this is useful for instrumentation.\u001b[39;00m\n\u001b[1;32m    237\u001b[0m call_id \u001b[39m=\u001b[39m uuid\u001b[39m.\u001b[39muuid4()\u001b[39m.\u001b[39mhex\n",
      "File \u001b[0;32m~/repos/pipeline-mhqa-dspy/.venv/lib/python3.11/site-packages/dspy/primitives/program.py:22\u001b[0m, in \u001b[0;36mModule.__call__\u001b[0;34m(self, *args, **kwargs)\u001b[0m\n\u001b[1;32m     20\u001b[0m \u001b[39m@with_callbacks\u001b[39m\n\u001b[1;32m     21\u001b[0m \u001b[39mdef\u001b[39;00m\u001b[39m \u001b[39m\u001b[39m__call__\u001b[39m(\u001b[39mself\u001b[39m, \u001b[39m*\u001b[39margs, \u001b[39m*\u001b[39m\u001b[39m*\u001b[39mkwargs):\n\u001b[0;32m---> 22\u001b[0m     \u001b[39mreturn\u001b[39;00m \u001b[39mself\u001b[39;49m\u001b[39m.\u001b[39;49mforward(\u001b[39m*\u001b[39;49margs, \u001b[39m*\u001b[39;49m\u001b[39m*\u001b[39;49mkwargs)\n",
      "File \u001b[0;32m~/repos/pipeline-mhqa-dspy/.venv/lib/python3.11/site-packages/dspy/predict/chain_of_thought.py:20\u001b[0m, in \u001b[0;36mChainOfThought.forward\u001b[0;34m(self, **kwargs)\u001b[0m\n\u001b[1;32m     19\u001b[0m \u001b[39mdef\u001b[39;00m\u001b[39m \u001b[39m\u001b[39mforward\u001b[39m(\u001b[39mself\u001b[39m, \u001b[39m*\u001b[39m\u001b[39m*\u001b[39mkwargs):\n\u001b[0;32m---> 20\u001b[0m     \u001b[39mreturn\u001b[39;00m \u001b[39mself\u001b[39;49m\u001b[39m.\u001b[39;49mpredict(\u001b[39m*\u001b[39;49m\u001b[39m*\u001b[39;49mkwargs)\n",
      "File \u001b[0;32m~/repos/pipeline-mhqa-dspy/.venv/lib/python3.11/site-packages/dspy/utils/callback.py:234\u001b[0m, in \u001b[0;36mwith_callbacks.<locals>.wrapper\u001b[0;34m(instance, *args, **kwargs)\u001b[0m\n\u001b[1;32m    232\u001b[0m \u001b[39m# If no callbacks are provided, just call the function\u001b[39;00m\n\u001b[1;32m    233\u001b[0m \u001b[39mif\u001b[39;00m \u001b[39mnot\u001b[39;00m callbacks:\n\u001b[0;32m--> 234\u001b[0m     \u001b[39mreturn\u001b[39;00m fn(instance, \u001b[39m*\u001b[39;49margs, \u001b[39m*\u001b[39;49m\u001b[39m*\u001b[39;49mkwargs)\n\u001b[1;32m    236\u001b[0m \u001b[39m# Generate call ID as the unique identifier for the call, this is useful for instrumentation.\u001b[39;00m\n\u001b[1;32m    237\u001b[0m call_id \u001b[39m=\u001b[39m uuid\u001b[39m.\u001b[39muuid4()\u001b[39m.\u001b[39mhex\n",
      "File \u001b[0;32m~/repos/pipeline-mhqa-dspy/.venv/lib/python3.11/site-packages/dspy/predict/predict.py:67\u001b[0m, in \u001b[0;36mPredict.__call__\u001b[0;34m(self, **kwargs)\u001b[0m\n\u001b[1;32m     65\u001b[0m \u001b[39m@with_callbacks\u001b[39m\n\u001b[1;32m     66\u001b[0m \u001b[39mdef\u001b[39;00m\u001b[39m \u001b[39m\u001b[39m__call__\u001b[39m(\u001b[39mself\u001b[39m, \u001b[39m*\u001b[39m\u001b[39m*\u001b[39mkwargs):\n\u001b[0;32m---> 67\u001b[0m     \u001b[39mreturn\u001b[39;00m \u001b[39mself\u001b[39;49m\u001b[39m.\u001b[39;49mforward(\u001b[39m*\u001b[39;49m\u001b[39m*\u001b[39;49mkwargs)\n",
      "File \u001b[0;32m~/repos/pipeline-mhqa-dspy/.venv/lib/python3.11/site-packages/dspy/predict/predict.py:97\u001b[0m, in \u001b[0;36mPredict.forward\u001b[0;34m(self, **kwargs)\u001b[0m\n\u001b[1;32m     95\u001b[0m \u001b[39mimport\u001b[39;00m\u001b[39m \u001b[39m\u001b[39mdspy\u001b[39;00m\n\u001b[1;32m     96\u001b[0m adapter \u001b[39m=\u001b[39m dspy\u001b[39m.\u001b[39msettings\u001b[39m.\u001b[39madapter \u001b[39mor\u001b[39;00m dspy\u001b[39m.\u001b[39mChatAdapter()\n\u001b[0;32m---> 97\u001b[0m completions \u001b[39m=\u001b[39m adapter(lm, lm_kwargs\u001b[39m=\u001b[39;49mconfig, signature\u001b[39m=\u001b[39;49msignature, demos\u001b[39m=\u001b[39;49mdemos, inputs\u001b[39m=\u001b[39;49mkwargs)\n\u001b[1;32m     99\u001b[0m pred \u001b[39m=\u001b[39m Prediction\u001b[39m.\u001b[39mfrom_completions(completions, signature\u001b[39m=\u001b[39msignature)\n\u001b[1;32m    101\u001b[0m \u001b[39mif\u001b[39;00m kwargs\u001b[39m.\u001b[39mpop(\u001b[39m\"\u001b[39m\u001b[39m_trace\u001b[39m\u001b[39m\"\u001b[39m, \u001b[39mTrue\u001b[39;00m) \u001b[39mand\u001b[39;00m dspy\u001b[39m.\u001b[39msettings\u001b[39m.\u001b[39mtrace \u001b[39mis\u001b[39;00m \u001b[39mnot\u001b[39;00m \u001b[39mNone\u001b[39;00m:\n",
      "File \u001b[0;32m~/repos/pipeline-mhqa-dspy/.venv/lib/python3.11/site-packages/dspy/adapters/base.py:20\u001b[0m, in \u001b[0;36mAdapter.__call__\u001b[0;34m(self, lm, lm_kwargs, signature, demos, inputs)\u001b[0m\n\u001b[1;32m     17\u001b[0m inputs_ \u001b[39m=\u001b[39m \u001b[39mself\u001b[39m\u001b[39m.\u001b[39mformat(signature, demos, inputs)\n\u001b[1;32m     18\u001b[0m inputs_ \u001b[39m=\u001b[39m \u001b[39mdict\u001b[39m(prompt\u001b[39m=\u001b[39minputs_) \u001b[39mif\u001b[39;00m \u001b[39misinstance\u001b[39m(inputs_, \u001b[39mstr\u001b[39m) \u001b[39melse\u001b[39;00m \u001b[39mdict\u001b[39m(messages\u001b[39m=\u001b[39minputs_)\n\u001b[0;32m---> 20\u001b[0m outputs \u001b[39m=\u001b[39m lm(\u001b[39m*\u001b[39;49m\u001b[39m*\u001b[39;49minputs_, \u001b[39m*\u001b[39;49m\u001b[39m*\u001b[39;49mlm_kwargs)\n\u001b[1;32m     21\u001b[0m values \u001b[39m=\u001b[39m []\n\u001b[1;32m     23\u001b[0m \u001b[39mtry\u001b[39;00m:\n",
      "File \u001b[0;32m~/repos/pipeline-mhqa-dspy/.venv/lib/python3.11/site-packages/dspy/utils/callback.py:234\u001b[0m, in \u001b[0;36mwith_callbacks.<locals>.wrapper\u001b[0;34m(instance, *args, **kwargs)\u001b[0m\n\u001b[1;32m    232\u001b[0m \u001b[39m# If no callbacks are provided, just call the function\u001b[39;00m\n\u001b[1;32m    233\u001b[0m \u001b[39mif\u001b[39;00m \u001b[39mnot\u001b[39;00m callbacks:\n\u001b[0;32m--> 234\u001b[0m     \u001b[39mreturn\u001b[39;00m fn(instance, \u001b[39m*\u001b[39;49margs, \u001b[39m*\u001b[39;49m\u001b[39m*\u001b[39;49mkwargs)\n\u001b[1;32m    236\u001b[0m \u001b[39m# Generate call ID as the unique identifier for the call, this is useful for instrumentation.\u001b[39;00m\n\u001b[1;32m    237\u001b[0m call_id \u001b[39m=\u001b[39m uuid\u001b[39m.\u001b[39muuid4()\u001b[39m.\u001b[39mhex\n",
      "File \u001b[0;32m~/repos/pipeline-mhqa-dspy/.venv/lib/python3.11/site-packages/dspy/clients/lm.py:119\u001b[0m, in \u001b[0;36mLM.__call__\u001b[0;34m(self, prompt, messages, **kwargs)\u001b[0m\n\u001b[1;32m    116\u001b[0m \u001b[39melse\u001b[39;00m:\n\u001b[1;32m    117\u001b[0m     completion \u001b[39m=\u001b[39m litellm_completion \u001b[39mif\u001b[39;00m \u001b[39mself\u001b[39m\u001b[39m.\u001b[39mmodel_type \u001b[39m==\u001b[39m \u001b[39m\"\u001b[39m\u001b[39mchat\u001b[39m\u001b[39m\"\u001b[39m \u001b[39melse\u001b[39;00m litellm_text_completion\n\u001b[0;32m--> 119\u001b[0m     response \u001b[39m=\u001b[39m completion(\n\u001b[1;32m    120\u001b[0m         request\u001b[39m=\u001b[39;49m\u001b[39mdict\u001b[39;49m(model\u001b[39m=\u001b[39;49m\u001b[39mself\u001b[39;49m\u001b[39m.\u001b[39;49mmodel, messages\u001b[39m=\u001b[39;49mmessages, \u001b[39m*\u001b[39;49m\u001b[39m*\u001b[39;49mkwargs),\n\u001b[1;32m    121\u001b[0m         num_retries\u001b[39m=\u001b[39;49m\u001b[39mself\u001b[39;49m\u001b[39m.\u001b[39;49mnum_retries,\n\u001b[1;32m    122\u001b[0m         \u001b[39m# only leverage LiteLLM cache in this case\u001b[39;49;00m\n\u001b[1;32m    123\u001b[0m         cache\u001b[39m=\u001b[39;49m{\u001b[39m\"\u001b[39;49m\u001b[39mno-cache\u001b[39;49m\u001b[39m\"\u001b[39;49m: \u001b[39mnot\u001b[39;49;00m cache, \u001b[39m\"\u001b[39;49m\u001b[39mno-store\u001b[39;49m\u001b[39m\"\u001b[39;49m: \u001b[39mnot\u001b[39;49;00m cache},\n\u001b[1;32m    124\u001b[0m     )\n\u001b[1;32m    126\u001b[0m \u001b[39mif\u001b[39;00m kwargs\u001b[39m.\u001b[39mget(\u001b[39m\"\u001b[39m\u001b[39mlogprobs\u001b[39m\u001b[39m\"\u001b[39m):\n\u001b[1;32m    127\u001b[0m     outputs \u001b[39m=\u001b[39m [\n\u001b[1;32m    128\u001b[0m         {\n\u001b[1;32m    129\u001b[0m             \u001b[39m\"\u001b[39m\u001b[39mtext\u001b[39m\u001b[39m\"\u001b[39m: c\u001b[39m.\u001b[39mmessage\u001b[39m.\u001b[39mcontent \u001b[39mif\u001b[39;00m \u001b[39mhasattr\u001b[39m(c, \u001b[39m\"\u001b[39m\u001b[39mmessage\u001b[39m\u001b[39m\"\u001b[39m) \u001b[39melse\u001b[39;00m c[\u001b[39m\"\u001b[39m\u001b[39mtext\u001b[39m\u001b[39m\"\u001b[39m],\n\u001b[0;32m   (...)\u001b[0m\n\u001b[1;32m    132\u001b[0m         \u001b[39mfor\u001b[39;00m c \u001b[39min\u001b[39;00m response[\u001b[39m\"\u001b[39m\u001b[39mchoices\u001b[39m\u001b[39m\"\u001b[39m]\n\u001b[1;32m    133\u001b[0m     ]\n",
      "File \u001b[0;32m~/repos/pipeline-mhqa-dspy/.venv/lib/python3.11/site-packages/dspy/clients/lm.py:350\u001b[0m, in \u001b[0;36mlitellm_completion\u001b[0;34m(request, num_retries, cache)\u001b[0m\n\u001b[1;32m    348\u001b[0m stream \u001b[39m=\u001b[39m dspy\u001b[39m.\u001b[39msettings\u001b[39m.\u001b[39msend_stream\n\u001b[1;32m    349\u001b[0m \u001b[39mif\u001b[39;00m stream \u001b[39mis\u001b[39;00m \u001b[39mNone\u001b[39;00m:\n\u001b[0;32m--> 350\u001b[0m     \u001b[39mreturn\u001b[39;00m litellm\u001b[39m.\u001b[39;49mcompletion(\n\u001b[1;32m    351\u001b[0m         cache\u001b[39m=\u001b[39;49mcache,\n\u001b[1;32m    352\u001b[0m         \u001b[39m*\u001b[39;49m\u001b[39m*\u001b[39;49mretry_kwargs,\n\u001b[1;32m    353\u001b[0m         \u001b[39m*\u001b[39;49m\u001b[39m*\u001b[39;49mrequest,\n\u001b[1;32m    354\u001b[0m     )\n\u001b[1;32m    356\u001b[0m \u001b[39m# The stream is already opened, and will be closed by the caller.\u001b[39;00m\n\u001b[1;32m    357\u001b[0m stream \u001b[39m=\u001b[39m cast(MemoryObjectSendStream, stream)\n",
      "File \u001b[0;32m~/repos/pipeline-mhqa-dspy/.venv/lib/python3.11/site-packages/litellm/utils.py:1022\u001b[0m, in \u001b[0;36mclient.<locals>.wrapper\u001b[0;34m(*args, **kwargs)\u001b[0m\n\u001b[1;32m   1018\u001b[0m \u001b[39mif\u001b[39;00m logging_obj:\n\u001b[1;32m   1019\u001b[0m     logging_obj\u001b[39m.\u001b[39mfailure_handler(\n\u001b[1;32m   1020\u001b[0m         e, traceback_exception, start_time, end_time\n\u001b[1;32m   1021\u001b[0m     )  \u001b[39m# DO NOT MAKE THREADED - router retry fallback relies on this!\u001b[39;00m\n\u001b[0;32m-> 1022\u001b[0m \u001b[39mraise\u001b[39;00m e\n",
      "File \u001b[0;32m~/repos/pipeline-mhqa-dspy/.venv/lib/python3.11/site-packages/litellm/utils.py:900\u001b[0m, in \u001b[0;36mclient.<locals>.wrapper\u001b[0;34m(*args, **kwargs)\u001b[0m\n\u001b[1;32m    898\u001b[0m         print_verbose(\u001b[39mf\u001b[39m\u001b[39m\"\u001b[39m\u001b[39mError while checking max token limit: \u001b[39m\u001b[39m{\u001b[39;00m\u001b[39mstr\u001b[39m(e)\u001b[39m}\u001b[39;00m\u001b[39m\"\u001b[39m)\n\u001b[1;32m    899\u001b[0m \u001b[39m# MODEL CALL\u001b[39;00m\n\u001b[0;32m--> 900\u001b[0m result \u001b[39m=\u001b[39m original_function(\u001b[39m*\u001b[39;49margs, \u001b[39m*\u001b[39;49m\u001b[39m*\u001b[39;49mkwargs)\n\u001b[1;32m    901\u001b[0m end_time \u001b[39m=\u001b[39m datetime\u001b[39m.\u001b[39mdatetime\u001b[39m.\u001b[39mnow()\n\u001b[1;32m    902\u001b[0m \u001b[39mif\u001b[39;00m \u001b[39m\"\u001b[39m\u001b[39mstream\u001b[39m\u001b[39m\"\u001b[39m \u001b[39min\u001b[39;00m kwargs \u001b[39mand\u001b[39;00m kwargs[\u001b[39m\"\u001b[39m\u001b[39mstream\u001b[39m\u001b[39m\"\u001b[39m] \u001b[39mis\u001b[39;00m \u001b[39mTrue\u001b[39;00m:\n",
      "File \u001b[0;32m~/repos/pipeline-mhqa-dspy/.venv/lib/python3.11/site-packages/litellm/main.py:2955\u001b[0m, in \u001b[0;36mcompletion\u001b[0;34m(model, messages, timeout, temperature, top_p, n, stream, stream_options, stop, max_completion_tokens, max_tokens, modalities, prediction, audio, presence_penalty, frequency_penalty, logit_bias, user, response_format, seed, tools, tool_choice, logprobs, top_logprobs, parallel_tool_calls, deployment_id, extra_headers, functions, function_call, base_url, api_version, api_key, model_list, **kwargs)\u001b[0m\n\u001b[1;32m   2952\u001b[0m     \u001b[39mreturn\u001b[39;00m response\n\u001b[1;32m   2953\u001b[0m \u001b[39mexcept\u001b[39;00m \u001b[39mException\u001b[39;00m \u001b[39mas\u001b[39;00m e:\n\u001b[1;32m   2954\u001b[0m     \u001b[39m## Map to OpenAI Exception\u001b[39;00m\n\u001b[0;32m-> 2955\u001b[0m     \u001b[39mraise\u001b[39;00m exception_type(\n\u001b[1;32m   2956\u001b[0m         model\u001b[39m=\u001b[39;49mmodel,\n\u001b[1;32m   2957\u001b[0m         custom_llm_provider\u001b[39m=\u001b[39;49mcustom_llm_provider,\n\u001b[1;32m   2958\u001b[0m         original_exception\u001b[39m=\u001b[39;49me,\n\u001b[1;32m   2959\u001b[0m         completion_kwargs\u001b[39m=\u001b[39;49margs,\n\u001b[1;32m   2960\u001b[0m         extra_kwargs\u001b[39m=\u001b[39;49mkwargs,\n\u001b[1;32m   2961\u001b[0m     )\n",
      "File \u001b[0;32m~/repos/pipeline-mhqa-dspy/.venv/lib/python3.11/site-packages/litellm/litellm_core_utils/exception_mapping_utils.py:2189\u001b[0m, in \u001b[0;36mexception_type\u001b[0;34m(model, original_exception, custom_llm_provider, completion_kwargs, extra_kwargs)\u001b[0m\n\u001b[1;32m   2187\u001b[0m \u001b[39mif\u001b[39;00m exception_mapping_worked:\n\u001b[1;32m   2188\u001b[0m     \u001b[39msetattr\u001b[39m(e, \u001b[39m\"\u001b[39m\u001b[39mlitellm_response_headers\u001b[39m\u001b[39m\"\u001b[39m, litellm_response_headers)\n\u001b[0;32m-> 2189\u001b[0m     \u001b[39mraise\u001b[39;00m e\n\u001b[1;32m   2190\u001b[0m \u001b[39melse\u001b[39;00m:\n\u001b[1;32m   2191\u001b[0m     \u001b[39mfor\u001b[39;00m error_type \u001b[39min\u001b[39;00m litellm\u001b[39m.\u001b[39mLITELLM_EXCEPTION_TYPES:\n",
      "File \u001b[0;32m~/repos/pipeline-mhqa-dspy/.venv/lib/python3.11/site-packages/litellm/litellm_core_utils/exception_mapping_utils.py:379\u001b[0m, in \u001b[0;36mexception_type\u001b[0;34m(model, original_exception, custom_llm_provider, completion_kwargs, extra_kwargs)\u001b[0m\n\u001b[1;32m    377\u001b[0m \u001b[39mif\u001b[39;00m original_exception\u001b[39m.\u001b[39mstatus_code \u001b[39m==\u001b[39m \u001b[39m400\u001b[39m:\n\u001b[1;32m    378\u001b[0m     exception_mapping_worked \u001b[39m=\u001b[39m \u001b[39mTrue\u001b[39;00m\n\u001b[0;32m--> 379\u001b[0m     \u001b[39mraise\u001b[39;00m BadRequestError(\n\u001b[1;32m    380\u001b[0m         message\u001b[39m=\u001b[39m\u001b[39mf\u001b[39m\u001b[39m\"\u001b[39m\u001b[39m{\u001b[39;00mexception_provider\u001b[39m}\u001b[39;00m\u001b[39m - \u001b[39m\u001b[39m{\u001b[39;00mmessage\u001b[39m}\u001b[39;00m\u001b[39m\"\u001b[39m,\n\u001b[1;32m    381\u001b[0m         llm_provider\u001b[39m=\u001b[39mcustom_llm_provider,\n\u001b[1;32m    382\u001b[0m         model\u001b[39m=\u001b[39mmodel,\n\u001b[1;32m    383\u001b[0m         response\u001b[39m=\u001b[39m\u001b[39mgetattr\u001b[39m(original_exception, \u001b[39m\"\u001b[39m\u001b[39mresponse\u001b[39m\u001b[39m\"\u001b[39m, \u001b[39mNone\u001b[39;00m),\n\u001b[1;32m    384\u001b[0m         litellm_debug_info\u001b[39m=\u001b[39mextra_information,\n\u001b[1;32m    385\u001b[0m     )\n\u001b[1;32m    386\u001b[0m \u001b[39melif\u001b[39;00m original_exception\u001b[39m.\u001b[39mstatus_code \u001b[39m==\u001b[39m \u001b[39m401\u001b[39m:\n\u001b[1;32m    387\u001b[0m     exception_mapping_worked \u001b[39m=\u001b[39m \u001b[39mTrue\u001b[39;00m\n",
      "\u001b[0;31mBadRequestError\u001b[0m: litellm.BadRequestError: OpenAIException - Error code: 400 - {'error': {'message': \"litellm.BadRequestError: OpenAIException - Error code: 422 - {'error': 'Input validation error: `inputs` tokens + `max_new_tokens` must be <= 8192. Given: 12583 `inputs` tokens and 1000 `max_new_tokens`', 'error_type': 'validation'}\\nReceived Model Group=llama-3.3-70b-tgi\\nAvailable Model Group Fallbacks=None\", 'type': None, 'param': None, 'code': '400'}}"
     ]
    }
   ],
   "source": [
    "trained_program_filepath = Path('trained-program.json')\n",
    "\n",
    "trained_program = train_main(\n",
    "    dataset_path='bdsaglam/musique-mini',\n",
    "    dataset_name='answerable',\n",
    "    dataset_split='train[:50]',\n",
    "    model=model,\n",
    "    temperature=0.1,\n",
    "    load_from='UNSET',\n",
    "    optimizer_path='../data/raw/optimizer-configs/bfsrs-light.json',\n",
    "    out=trained_program_filepath,\n",
    ")"
   ]
  },
  {
   "cell_type": "code",
   "execution_count": null,
   "metadata": {},
   "outputs": [],
   "source": [
    "out = Path('out')\n",
    "\n",
    "evaluate_main(\n",
    "    dataset_path='bdsaglam/musique',\n",
    "    dataset_name='answerable',\n",
    "    dataset_split='train[100:200]',\n",
    "    model=model,\n",
    "    temperature=0.1,\n",
    "    load_from=trained_program_filepath,\n",
    "    out=out,\n",
    ")"
   ]
  }
 ],
 "metadata": {
  "kernelspec": {
   "display_name": "thesis",
   "language": "python",
   "name": "python3"
  },
  "language_info": {
   "codemirror_mode": {
    "name": "ipython",
    "version": 3
   },
   "file_extension": ".py",
   "mimetype": "text/x-python",
   "name": "python",
   "nbconvert_exporter": "python",
   "pygments_lexer": "ipython3",
   "version": "3.10.16"
  }
 },
 "nbformat": 4,
 "nbformat_minor": 2
}
