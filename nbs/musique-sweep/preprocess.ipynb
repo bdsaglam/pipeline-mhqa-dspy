{
 "cells": [
  {
   "cell_type": "code",
   "execution_count": 1,
   "metadata": {},
   "outputs": [],
   "source": [
    "import json\n",
    "from pathlib import Path\n",
    "\n",
    "import pandas as pd"
   ]
  },
  {
   "cell_type": "code",
   "execution_count": 2,
   "metadata": {},
   "outputs": [
    {
     "name": "stdout",
     "output_type": "stream",
     "text": [
      "2 experiments\n"
     ]
    },
    {
     "data": {
      "text/plain": [
       "{'commit': 'workspace',\n",
       " 'id': 'workspace',\n",
       " 'name': None,\n",
       " 'params': {'train': {'dataset': {'path': 'bdsaglam/musique-sweep',\n",
       "    'name': 'answerable',\n",
       "    'split': 'train'},\n",
       "   'optimizer': 'noop',\n",
       "   'ensemble': 'no'},\n",
       "  'evaluation': {'dataset': {'path': 'bdsaglam/musique-sweep',\n",
       "    'name': 'answerable',\n",
       "    'split': 'validation'}},\n",
       "  'retrieve': {'model_type': 't5', 'top_k': 3},\n",
       "  'qa': {'model': 'llama-3.3-70b-tgi',\n",
       "   'temperature': 0.1,\n",
       "   'technique': 'multihop-decompose'},\n",
       "  'run': 1},\n",
       " 'metrics': {}}"
      ]
     },
     "execution_count": 2,
     "metadata": {},
     "output_type": "execute_result"
    }
   ],
   "source": [
    "from mhqa.dvc import load_experiments\n",
    "\n",
    "filepaths = list(Path(\"../../tmp/musique-sweep/\").glob(\"*.json\"))\n",
    "experiments = [exp for fp in filepaths for exp in load_experiments(fp)]\n",
    "print(f\"{len(experiments)} experiments\")\n",
    "experiments[0]"
   ]
  },
  {
   "cell_type": "code",
   "execution_count": 3,
   "metadata": {},
   "outputs": [
    {
     "data": {
      "text/plain": [
       "{'commit': 'workspace',\n",
       " 'id': 'workspace',\n",
       " 'name': None,\n",
       " 'params': {'train': {'dataset': {'path': 'bdsaglam/musique-sweep',\n",
       "    'name': 'answerable',\n",
       "    'split': 'train'},\n",
       "   'optimizer': 'noop',\n",
       "   'ensemble': 'no'},\n",
       "  'evaluation': {'dataset': {'path': 'bdsaglam/musique-sweep',\n",
       "    'name': 'answerable',\n",
       "    'split': 'validation'}},\n",
       "  'retrieve': {'model_type': 't5', 'top_k': 3},\n",
       "  'qa': {'model': 'llama-3.3-70b-tgi',\n",
       "   'temperature': 0.1,\n",
       "   'technique': 'multihop-decompose'},\n",
       "  'run': 1},\n",
       " 'metrics': {}}"
      ]
     },
     "execution_count": 3,
     "metadata": {},
     "output_type": "execute_result"
    }
   ],
   "source": [
    "for exp in experiments:\n",
    "    train_params = exp[\"params\"][\"train\"]\n",
    "    if train_params.get(\"ensemble\") is None:\n",
    "        train_params[\"ensemble\"] = \"no\"\n",
    "\n",
    "experiments[0]"
   ]
  },
  {
   "cell_type": "code",
   "execution_count": 4,
   "metadata": {},
   "outputs": [
    {
     "name": "stdout",
     "output_type": "stream",
     "text": [
      "2 experiments before preprocessing\n"
     ]
    },
    {
     "data": {
      "text/html": [
       "<div>\n",
       "<style scoped>\n",
       "    .dataframe tbody tr th:only-of-type {\n",
       "        vertical-align: middle;\n",
       "    }\n",
       "\n",
       "    .dataframe tbody tr th {\n",
       "        vertical-align: top;\n",
       "    }\n",
       "\n",
       "    .dataframe thead th {\n",
       "        text-align: right;\n",
       "    }\n",
       "</style>\n",
       "<table border=\"1\" class=\"dataframe\">\n",
       "  <thead>\n",
       "    <tr style=\"text-align: right;\">\n",
       "      <th></th>\n",
       "      <th>id</th>\n",
       "      <th>name</th>\n",
       "      <th>params.train.dataset.path</th>\n",
       "      <th>params.train.dataset.name</th>\n",
       "      <th>params.train.dataset.split</th>\n",
       "      <th>params.train.optimizer</th>\n",
       "      <th>params.train.ensemble</th>\n",
       "      <th>params.evaluation.dataset.path</th>\n",
       "      <th>params.evaluation.dataset.name</th>\n",
       "      <th>params.evaluation.dataset.split</th>\n",
       "      <th>...</th>\n",
       "      <th>params.qa.technique</th>\n",
       "      <th>params.run</th>\n",
       "      <th>metrics.exact_match</th>\n",
       "      <th>metrics.f1</th>\n",
       "      <th>metrics.2hops.exact_match</th>\n",
       "      <th>metrics.2hops.f1</th>\n",
       "      <th>metrics.3hops.exact_match</th>\n",
       "      <th>metrics.3hops.f1</th>\n",
       "      <th>metrics.4hops.exact_match</th>\n",
       "      <th>metrics.4hops.f1</th>\n",
       "    </tr>\n",
       "  </thead>\n",
       "  <tbody>\n",
       "    <tr>\n",
       "      <th>0</th>\n",
       "      <td>workspace</td>\n",
       "      <td>None</td>\n",
       "      <td>bdsaglam/musique-sweep</td>\n",
       "      <td>answerable</td>\n",
       "      <td>train</td>\n",
       "      <td>noop</td>\n",
       "      <td>no</td>\n",
       "      <td>bdsaglam/musique-sweep</td>\n",
       "      <td>answerable</td>\n",
       "      <td>validation</td>\n",
       "      <td>...</td>\n",
       "      <td>multihop-decompose</td>\n",
       "      <td>1</td>\n",
       "      <td>NaN</td>\n",
       "      <td>NaN</td>\n",
       "      <td>NaN</td>\n",
       "      <td>NaN</td>\n",
       "      <td>NaN</td>\n",
       "      <td>NaN</td>\n",
       "      <td>NaN</td>\n",
       "      <td>NaN</td>\n",
       "    </tr>\n",
       "    <tr>\n",
       "      <th>1</th>\n",
       "      <td>6fedfa259d0fe1e4c284ff0889629c6015fb4dd1</td>\n",
       "      <td>filmy-mobs</td>\n",
       "      <td>bdsaglam/musique-sweep</td>\n",
       "      <td>answerable</td>\n",
       "      <td>train</td>\n",
       "      <td>noop</td>\n",
       "      <td>no</td>\n",
       "      <td>bdsaglam/musique-sweep</td>\n",
       "      <td>answerable</td>\n",
       "      <td>validation</td>\n",
       "      <td>...</td>\n",
       "      <td>agent-decompose</td>\n",
       "      <td>1</td>\n",
       "      <td>0.486667</td>\n",
       "      <td>0.580873</td>\n",
       "      <td>0.59</td>\n",
       "      <td>0.665</td>\n",
       "      <td>0.45</td>\n",
       "      <td>0.583429</td>\n",
       "      <td>0.42</td>\n",
       "      <td>0.49419</td>\n",
       "    </tr>\n",
       "  </tbody>\n",
       "</table>\n",
       "<p>2 rows × 24 columns</p>\n",
       "</div>"
      ],
      "text/plain": [
       "                                         id        name  \\\n",
       "0                                 workspace        None   \n",
       "1  6fedfa259d0fe1e4c284ff0889629c6015fb4dd1  filmy-mobs   \n",
       "\n",
       "  params.train.dataset.path params.train.dataset.name  \\\n",
       "0    bdsaglam/musique-sweep                answerable   \n",
       "1    bdsaglam/musique-sweep                answerable   \n",
       "\n",
       "  params.train.dataset.split params.train.optimizer params.train.ensemble  \\\n",
       "0                      train                   noop                    no   \n",
       "1                      train                   noop                    no   \n",
       "\n",
       "  params.evaluation.dataset.path params.evaluation.dataset.name  \\\n",
       "0         bdsaglam/musique-sweep                     answerable   \n",
       "1         bdsaglam/musique-sweep                     answerable   \n",
       "\n",
       "  params.evaluation.dataset.split  ... params.qa.technique  params.run  \\\n",
       "0                      validation  ...  multihop-decompose           1   \n",
       "1                      validation  ...     agent-decompose           1   \n",
       "\n",
       "  metrics.exact_match  metrics.f1 metrics.2hops.exact_match  metrics.2hops.f1  \\\n",
       "0                 NaN         NaN                       NaN               NaN   \n",
       "1            0.486667    0.580873                      0.59             0.665   \n",
       "\n",
       "   metrics.3hops.exact_match  metrics.3hops.f1  metrics.4hops.exact_match  \\\n",
       "0                        NaN               NaN                        NaN   \n",
       "1                       0.45          0.583429                       0.42   \n",
       "\n",
       "   metrics.4hops.f1  \n",
       "0               NaN  \n",
       "1           0.49419  \n",
       "\n",
       "[2 rows x 24 columns]"
      ]
     },
     "execution_count": 4,
     "metadata": {},
     "output_type": "execute_result"
    }
   ],
   "source": [
    "df = pd.json_normalize(experiments).drop(columns=[\"commit\"])\n",
    "df.drop(columns=[col for col in df.columns if \"fuzzy\" in col], inplace=True)\n",
    "print(f\"{len(df)} experiments before preprocessing\")\n",
    "df\n"
   ]
  },
  {
   "cell_type": "code",
   "execution_count": 5,
   "metadata": {},
   "outputs": [
    {
     "name": "stdout",
     "output_type": "stream",
     "text": [
      "1 experiments after preprocessing\n"
     ]
    },
    {
     "data": {
      "text/html": [
       "<div>\n",
       "<style scoped>\n",
       "    .dataframe tbody tr th:only-of-type {\n",
       "        vertical-align: middle;\n",
       "    }\n",
       "\n",
       "    .dataframe tbody tr th {\n",
       "        vertical-align: top;\n",
       "    }\n",
       "\n",
       "    .dataframe thead th {\n",
       "        text-align: right;\n",
       "    }\n",
       "</style>\n",
       "<table border=\"1\" class=\"dataframe\">\n",
       "  <thead>\n",
       "    <tr style=\"text-align: right;\">\n",
       "      <th></th>\n",
       "      <th>id</th>\n",
       "      <th>name</th>\n",
       "      <th>params.train.dataset.path</th>\n",
       "      <th>params.train.dataset.name</th>\n",
       "      <th>params.train.dataset.split</th>\n",
       "      <th>params.train.optimizer</th>\n",
       "      <th>params.train.ensemble</th>\n",
       "      <th>params.evaluation.dataset.path</th>\n",
       "      <th>params.evaluation.dataset.name</th>\n",
       "      <th>params.evaluation.dataset.split</th>\n",
       "      <th>...</th>\n",
       "      <th>params.qa.technique</th>\n",
       "      <th>params.run</th>\n",
       "      <th>metrics.exact_match</th>\n",
       "      <th>metrics.f1</th>\n",
       "      <th>metrics.2hops.exact_match</th>\n",
       "      <th>metrics.2hops.f1</th>\n",
       "      <th>metrics.3hops.exact_match</th>\n",
       "      <th>metrics.3hops.f1</th>\n",
       "      <th>metrics.4hops.exact_match</th>\n",
       "      <th>metrics.4hops.f1</th>\n",
       "    </tr>\n",
       "  </thead>\n",
       "  <tbody>\n",
       "    <tr>\n",
       "      <th>1</th>\n",
       "      <td>6fedfa259d0fe1e4c284ff0889629c6015fb4dd1</td>\n",
       "      <td>filmy-mobs</td>\n",
       "      <td>bdsaglam/musique-sweep</td>\n",
       "      <td>answerable</td>\n",
       "      <td>train</td>\n",
       "      <td>noop</td>\n",
       "      <td>no</td>\n",
       "      <td>bdsaglam/musique-sweep</td>\n",
       "      <td>answerable</td>\n",
       "      <td>validation</td>\n",
       "      <td>...</td>\n",
       "      <td>agent-decompose</td>\n",
       "      <td>1</td>\n",
       "      <td>0.486667</td>\n",
       "      <td>0.580873</td>\n",
       "      <td>0.59</td>\n",
       "      <td>0.665</td>\n",
       "      <td>0.45</td>\n",
       "      <td>0.583429</td>\n",
       "      <td>0.42</td>\n",
       "      <td>0.49419</td>\n",
       "    </tr>\n",
       "  </tbody>\n",
       "</table>\n",
       "<p>1 rows × 24 columns</p>\n",
       "</div>"
      ],
      "text/plain": [
       "                                         id        name  \\\n",
       "1  6fedfa259d0fe1e4c284ff0889629c6015fb4dd1  filmy-mobs   \n",
       "\n",
       "  params.train.dataset.path params.train.dataset.name  \\\n",
       "1    bdsaglam/musique-sweep                answerable   \n",
       "\n",
       "  params.train.dataset.split params.train.optimizer params.train.ensemble  \\\n",
       "1                      train                   noop                    no   \n",
       "\n",
       "  params.evaluation.dataset.path params.evaluation.dataset.name  \\\n",
       "1         bdsaglam/musique-sweep                     answerable   \n",
       "\n",
       "  params.evaluation.dataset.split  ... params.qa.technique  params.run  \\\n",
       "1                      validation  ...     agent-decompose           1   \n",
       "\n",
       "  metrics.exact_match  metrics.f1 metrics.2hops.exact_match  metrics.2hops.f1  \\\n",
       "1            0.486667    0.580873                      0.59             0.665   \n",
       "\n",
       "   metrics.3hops.exact_match  metrics.3hops.f1  metrics.4hops.exact_match  \\\n",
       "1                       0.45          0.583429                       0.42   \n",
       "\n",
       "   metrics.4hops.f1  \n",
       "1           0.49419  \n",
       "\n",
       "[1 rows x 24 columns]"
      ]
     },
     "execution_count": 5,
     "metadata": {},
     "output_type": "execute_result"
    }
   ],
   "source": [
    "mask = df[\"params.evaluation.dataset.path\"] == \"bdsaglam/musique-sweep\"\n",
    "\n",
    "df = df.loc[mask].copy()\n",
    "\n",
    "param_cols = [col for col in df.columns if col.startswith(\"params.\")]\n",
    "metric_cols = [col for col in df.columns if col.startswith(\"metrics.\")]\n",
    "df.dropna(subset=param_cols + metric_cols, inplace=True, how=\"any\")\n",
    "df.drop_duplicates(subset=param_cols, inplace=True)\n",
    "\n",
    "print(f\"{len(df)} experiments after preprocessing\")\n",
    "df"
   ]
  },
  {
   "cell_type": "code",
   "execution_count": 6,
   "metadata": {},
   "outputs": [],
   "source": [
    "def sorted_tuple(x):\n",
    "    return tuple(sorted(x))\n",
    "\n",
    "run_counts = (\n",
    "    df.groupby(param_cols[:-1])[\n",
    "        \"params.run\"\n",
    "    ]\n",
    "    .aggregate(sorted_tuple)\n",
    "    .reset_index()\n",
    ")"
   ]
  },
  {
   "cell_type": "code",
   "execution_count": 7,
   "metadata": {},
   "outputs": [
    {
     "name": "stdout",
     "output_type": "stream",
     "text": [
      "- params.train.dataset.path\n",
      "\tbdsaglam/musique-sweep\n",
      "- params.train.dataset.name\n",
      "\tanswerable\n",
      "- params.train.dataset.split\n",
      "\ttrain\n",
      "- params.train.optimizer\n",
      "\tnoop\n",
      "- params.train.ensemble\n",
      "\tno\n",
      "- params.evaluation.dataset.path\n",
      "\tbdsaglam/musique-sweep\n",
      "- params.evaluation.dataset.name\n",
      "\tanswerable\n",
      "- params.evaluation.dataset.split\n",
      "\tvalidation\n",
      "- params.retrieve.model_type\n",
      "\tgolden\n",
      "- params.retrieve.top_k\n",
      "\t3\n",
      "- params.qa.model\n",
      "\tllama-3.3-70b-tgi\n",
      "- params.qa.temperature\n",
      "\t0.1\n",
      "- params.qa.technique\n",
      "\tagent-decompose\n",
      "- params.run\n",
      "\t(1,)\n"
     ]
    }
   ],
   "source": [
    "for col in run_counts.columns:\n",
    "    print(f\"- {col}\")\n",
    "    for value in run_counts[col].unique():\n",
    "        print(f\"\\t{value}\")"
   ]
  },
  {
   "cell_type": "code",
   "execution_count": 8,
   "metadata": {},
   "outputs": [],
   "source": [
    "df.to_json('exps.jsonl', orient='records', lines=True)"
   ]
  },
  {
   "cell_type": "code",
   "execution_count": 9,
   "metadata": {},
   "outputs": [
    {
     "data": {
      "text/html": [
       "<div>\n",
       "<style scoped>\n",
       "    .dataframe tbody tr th:only-of-type {\n",
       "        vertical-align: middle;\n",
       "    }\n",
       "\n",
       "    .dataframe tbody tr th {\n",
       "        vertical-align: top;\n",
       "    }\n",
       "\n",
       "    .dataframe thead th {\n",
       "        text-align: right;\n",
       "    }\n",
       "</style>\n",
       "<table border=\"1\" class=\"dataframe\">\n",
       "  <thead>\n",
       "    <tr style=\"text-align: right;\">\n",
       "      <th></th>\n",
       "      <th>params.qa.technique</th>\n",
       "      <th>params.train.optimizer</th>\n",
       "      <th>metrics.exact_match</th>\n",
       "      <th>metrics.f1</th>\n",
       "    </tr>\n",
       "  </thead>\n",
       "  <tbody>\n",
       "    <tr>\n",
       "      <th>1</th>\n",
       "      <td>agent-decompose</td>\n",
       "      <td>noop</td>\n",
       "      <td>0.486667</td>\n",
       "      <td>0.580873</td>\n",
       "    </tr>\n",
       "  </tbody>\n",
       "</table>\n",
       "</div>"
      ],
      "text/plain": [
       "  params.qa.technique params.train.optimizer  metrics.exact_match  metrics.f1\n",
       "1     agent-decompose                   noop             0.486667    0.580873"
      ]
     },
     "execution_count": 9,
     "metadata": {},
     "output_type": "execute_result"
    }
   ],
   "source": [
    "df[[\"params.qa.technique\", \"params.train.optimizer\", \"metrics.exact_match\", \"metrics.f1\"]]"
   ]
  },
  {
   "cell_type": "code",
   "execution_count": null,
   "metadata": {},
   "outputs": [],
   "source": []
  }
 ],
 "metadata": {
  "kernelspec": {
   "display_name": "thesis",
   "language": "python",
   "name": "python3"
  },
  "language_info": {
   "codemirror_mode": {
    "name": "ipython",
    "version": 3
   },
   "file_extension": ".py",
   "mimetype": "text/x-python",
   "name": "python",
   "nbconvert_exporter": "python",
   "pygments_lexer": "ipython3",
   "version": "3.10.16"
  }
 },
 "nbformat": 4,
 "nbformat_minor": 2
}
