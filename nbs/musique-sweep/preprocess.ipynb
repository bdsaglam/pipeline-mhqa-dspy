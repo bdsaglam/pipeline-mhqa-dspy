{
 "cells": [
  {
   "cell_type": "code",
   "execution_count": 1,
   "metadata": {},
   "outputs": [],
   "source": [
    "import json\n",
    "from pathlib import Path\n",
    "\n",
    "import pandas as pd"
   ]
  },
  {
   "cell_type": "code",
   "execution_count": 2,
   "metadata": {},
   "outputs": [
    {
     "name": "stdout",
     "output_type": "stream",
     "text": [
      "2 experiments\n"
     ]
    },
    {
     "data": {
      "text/plain": [
       "{'commit': 'workspace',\n",
       " 'id': 'workspace',\n",
       " 'name': None,\n",
       " 'params': {'train': {'dataset': {'path': 'bdsaglam/musique-sweep',\n",
       "    'name': 'answerable',\n",
       "    'split': 'train'},\n",
       "   'optimizer': 'bfsrs-medium',\n",
       "   'ensemble': 'no'},\n",
       "  'evaluation': {'dataset': {'path': 'bdsaglam/musique-sweep',\n",
       "    'name': 'answerable',\n",
       "    'split': 'validation'}},\n",
       "  'qa': {'model': 'llama-3.3-70b-tgi',\n",
       "   'temperature': 0.1,\n",
       "   'technique': 'agent-simple'},\n",
       "  'run': 1},\n",
       " 'metrics': {'exact_match': 0.6123293338849813,\n",
       "  'f1': 0.7363328198642227,\n",
       "  'fuzzy_match': 0.6921803889118743,\n",
       "  '2hops': {'exact_match': 0.639776357827476,\n",
       "   'f1': 0.7612019783756603,\n",
       "   'fuzzy_match': 0.7044728434504792},\n",
       "  '3hops': {'exact_match': 0.6171052631578947,\n",
       "   'f1': 0.7644833546727637,\n",
       "   'fuzzy_match': 0.7394736842105263},\n",
       "  '4hops': {'exact_match': 0.5185185185185185,\n",
       "   'f1': 0.6066276521832077,\n",
       "   'fuzzy_match': 0.5654320987654321}}}"
      ]
     },
     "execution_count": 2,
     "metadata": {},
     "output_type": "execute_result"
    }
   ],
   "source": [
    "from bellem.dvc.experiment import load_experiments\n",
    "\n",
    "filepaths = list(Path(\"../../tmp/musique-sweep/\").glob(\"*.json\"))\n",
    "experiments = [exp for fp in filepaths for exp in load_experiments(fp)]\n",
    "print(f\"{len(experiments)} experiments\")\n",
    "experiments[0]"
   ]
  },
  {
   "cell_type": "code",
   "execution_count": 3,
   "metadata": {},
   "outputs": [
    {
     "data": {
      "text/plain": [
       "{'commit': 'workspace',\n",
       " 'id': 'workspace',\n",
       " 'name': None,\n",
       " 'params': {'train': {'dataset': {'path': 'bdsaglam/musique-sweep',\n",
       "    'name': 'answerable',\n",
       "    'split': 'train'},\n",
       "   'optimizer': 'bfsrs-medium',\n",
       "   'ensemble': 'no'},\n",
       "  'evaluation': {'dataset': {'path': 'bdsaglam/musique-sweep',\n",
       "    'name': 'answerable',\n",
       "    'split': 'validation'}},\n",
       "  'qa': {'model': 'llama-3.3-70b-tgi',\n",
       "   'temperature': 0.1,\n",
       "   'technique': 'agent-simple'},\n",
       "  'run': 1},\n",
       " 'metrics': {'exact_match': 0.6123293338849813,\n",
       "  'f1': 0.7363328198642227,\n",
       "  'fuzzy_match': 0.6921803889118743,\n",
       "  '2hops': {'exact_match': 0.639776357827476,\n",
       "   'f1': 0.7612019783756603,\n",
       "   'fuzzy_match': 0.7044728434504792},\n",
       "  '3hops': {'exact_match': 0.6171052631578947,\n",
       "   'f1': 0.7644833546727637,\n",
       "   'fuzzy_match': 0.7394736842105263},\n",
       "  '4hops': {'exact_match': 0.5185185185185185,\n",
       "   'f1': 0.6066276521832077,\n",
       "   'fuzzy_match': 0.5654320987654321}}}"
      ]
     },
     "execution_count": 3,
     "metadata": {},
     "output_type": "execute_result"
    }
   ],
   "source": [
    "for exp in experiments:\n",
    "    train_params = exp[\"params\"][\"train\"]\n",
    "    if train_params.get(\"ensemble\") is None:\n",
    "        train_params[\"ensemble\"] = \"no\"\n",
    "\n",
    "experiments[0]"
   ]
  },
  {
   "cell_type": "code",
   "execution_count": 4,
   "metadata": {},
   "outputs": [
    {
     "name": "stdout",
     "output_type": "stream",
     "text": [
      "2 experiments after preprocessing\n"
     ]
    }
   ],
   "source": [
    "df = pd.json_normalize(experiments).drop(columns=[\"commit\"])\n",
    "mask = df[\"params.evaluation.dataset.path\"] == \"bdsaglam/musique-sweep\"\n",
    "\n",
    "df = df.loc[mask].copy()\n",
    "df.drop(columns=[col for col in df.columns if \"fuzzy\" in col], inplace=True)\n",
    "\n",
    "param_cols = [col for col in df.columns if col.startswith(\"params.\")]\n",
    "metric_cols = [col for col in df.columns if col.startswith(\"metrics.\")]\n",
    "df.dropna(subset=param_cols + metric_cols, inplace=True, how=\"any\")\n",
    "df.drop_duplicates(subset=param_cols, inplace=True)\n",
    "\n",
    "print(f\"{len(df)} experiments after preprocessing\")"
   ]
  },
  {
   "cell_type": "code",
   "execution_count": 5,
   "metadata": {},
   "outputs": [
    {
     "data": {
      "text/html": [
       "<div>\n",
       "<style scoped>\n",
       "    .dataframe tbody tr th:only-of-type {\n",
       "        vertical-align: middle;\n",
       "    }\n",
       "\n",
       "    .dataframe tbody tr th {\n",
       "        vertical-align: top;\n",
       "    }\n",
       "\n",
       "    .dataframe thead th {\n",
       "        text-align: right;\n",
       "    }\n",
       "</style>\n",
       "<table border=\"1\" class=\"dataframe\">\n",
       "  <thead>\n",
       "    <tr style=\"text-align: right;\">\n",
       "      <th></th>\n",
       "      <th>params.train.dataset.path</th>\n",
       "      <th>params.train.dataset.name</th>\n",
       "      <th>params.train.dataset.split</th>\n",
       "      <th>params.train.optimizer</th>\n",
       "      <th>params.train.ensemble</th>\n",
       "      <th>params.evaluation.dataset.path</th>\n",
       "      <th>params.evaluation.dataset.name</th>\n",
       "      <th>params.evaluation.dataset.split</th>\n",
       "      <th>params.qa.model</th>\n",
       "      <th>params.qa.temperature</th>\n",
       "      <th>params.qa.technique</th>\n",
       "      <th>params.run</th>\n",
       "    </tr>\n",
       "  </thead>\n",
       "  <tbody>\n",
       "    <tr>\n",
       "      <th>0</th>\n",
       "      <td>bdsaglam/musique-sweep</td>\n",
       "      <td>answerable</td>\n",
       "      <td>train</td>\n",
       "      <td>bfsrs-medium</td>\n",
       "      <td>no</td>\n",
       "      <td>bdsaglam/musique-sweep</td>\n",
       "      <td>answerable</td>\n",
       "      <td>validation</td>\n",
       "      <td>llama-3.3-70b-tgi</td>\n",
       "      <td>0.1</td>\n",
       "      <td>agent-simple</td>\n",
       "      <td>(1,)</td>\n",
       "    </tr>\n",
       "    <tr>\n",
       "      <th>1</th>\n",
       "      <td>bdsaglam/musique-sweep</td>\n",
       "      <td>answerable</td>\n",
       "      <td>train</td>\n",
       "      <td>miprov2-light</td>\n",
       "      <td>no</td>\n",
       "      <td>bdsaglam/musique-sweep</td>\n",
       "      <td>answerable</td>\n",
       "      <td>validation</td>\n",
       "      <td>llama-3.3-70b-tgi</td>\n",
       "      <td>0.1</td>\n",
       "      <td>cot</td>\n",
       "      <td>(1,)</td>\n",
       "    </tr>\n",
       "  </tbody>\n",
       "</table>\n",
       "</div>"
      ],
      "text/plain": [
       "  params.train.dataset.path params.train.dataset.name  \\\n",
       "0    bdsaglam/musique-sweep                answerable   \n",
       "1    bdsaglam/musique-sweep                answerable   \n",
       "\n",
       "  params.train.dataset.split params.train.optimizer params.train.ensemble  \\\n",
       "0                      train           bfsrs-medium                    no   \n",
       "1                      train          miprov2-light                    no   \n",
       "\n",
       "  params.evaluation.dataset.path params.evaluation.dataset.name  \\\n",
       "0         bdsaglam/musique-sweep                     answerable   \n",
       "1         bdsaglam/musique-sweep                     answerable   \n",
       "\n",
       "  params.evaluation.dataset.split    params.qa.model  params.qa.temperature  \\\n",
       "0                      validation  llama-3.3-70b-tgi                    0.1   \n",
       "1                      validation  llama-3.3-70b-tgi                    0.1   \n",
       "\n",
       "  params.qa.technique params.run  \n",
       "0        agent-simple       (1,)  \n",
       "1                 cot       (1,)  "
      ]
     },
     "execution_count": 5,
     "metadata": {},
     "output_type": "execute_result"
    }
   ],
   "source": [
    "def sorted_tuple(x):\n",
    "    return tuple(sorted(x))\n",
    "\n",
    "run_counts = (\n",
    "    df.groupby(param_cols[:-1])[\n",
    "        \"params.run\"\n",
    "    ]\n",
    "    .aggregate(sorted_tuple)\n",
    "    .reset_index()\n",
    ")\n",
    "run_counts.loc[run_counts[\"params.run\"].map(len) != 6]"
   ]
  },
  {
   "cell_type": "code",
   "execution_count": 6,
   "metadata": {},
   "outputs": [
    {
     "name": "stdout",
     "output_type": "stream",
     "text": [
      "- params.train.dataset.path\n",
      "\tbdsaglam/musique-sweep\n",
      "- params.train.dataset.name\n",
      "\tanswerable\n",
      "- params.train.dataset.split\n",
      "\ttrain\n",
      "- params.train.optimizer\n",
      "\tbfsrs-medium\n",
      "\tmiprov2-light\n",
      "- params.train.ensemble\n",
      "\tno\n",
      "- params.evaluation.dataset.path\n",
      "\tbdsaglam/musique-sweep\n",
      "- params.evaluation.dataset.name\n",
      "\tanswerable\n",
      "- params.evaluation.dataset.split\n",
      "\tvalidation\n",
      "- params.qa.model\n",
      "\tllama-3.3-70b-tgi\n",
      "- params.qa.temperature\n",
      "\t0.1\n",
      "- params.qa.technique\n",
      "\tagent-simple\n",
      "\tcot\n",
      "- params.run\n",
      "\t(1,)\n"
     ]
    }
   ],
   "source": [
    "for col in run_counts.columns:\n",
    "    print(f\"- {col}\")\n",
    "    for value in run_counts[col].unique():\n",
    "        print(f\"\\t{value}\")"
   ]
  },
  {
   "cell_type": "code",
   "execution_count": 7,
   "metadata": {},
   "outputs": [],
   "source": [
    "df.to_json('results.jsonl', orient='records', lines=True)"
   ]
  },
  {
   "cell_type": "code",
   "execution_count": 9,
   "metadata": {},
   "outputs": [
    {
     "data": {
      "text/html": [
       "<div>\n",
       "<style scoped>\n",
       "    .dataframe tbody tr th:only-of-type {\n",
       "        vertical-align: middle;\n",
       "    }\n",
       "\n",
       "    .dataframe tbody tr th {\n",
       "        vertical-align: top;\n",
       "    }\n",
       "\n",
       "    .dataframe thead th {\n",
       "        text-align: right;\n",
       "    }\n",
       "</style>\n",
       "<table border=\"1\" class=\"dataframe\">\n",
       "  <thead>\n",
       "    <tr style=\"text-align: right;\">\n",
       "      <th></th>\n",
       "      <th>id</th>\n",
       "      <th>name</th>\n",
       "      <th>params.train.dataset.path</th>\n",
       "      <th>params.train.dataset.name</th>\n",
       "      <th>params.train.dataset.split</th>\n",
       "      <th>params.train.optimizer</th>\n",
       "      <th>params.train.ensemble</th>\n",
       "      <th>params.evaluation.dataset.path</th>\n",
       "      <th>params.evaluation.dataset.name</th>\n",
       "      <th>params.evaluation.dataset.split</th>\n",
       "      <th>...</th>\n",
       "      <th>params.qa.technique</th>\n",
       "      <th>params.run</th>\n",
       "      <th>metrics.exact_match</th>\n",
       "      <th>metrics.f1</th>\n",
       "      <th>metrics.2hops.exact_match</th>\n",
       "      <th>metrics.2hops.f1</th>\n",
       "      <th>metrics.3hops.exact_match</th>\n",
       "      <th>metrics.3hops.f1</th>\n",
       "      <th>metrics.4hops.exact_match</th>\n",
       "      <th>metrics.4hops.f1</th>\n",
       "    </tr>\n",
       "  </thead>\n",
       "  <tbody>\n",
       "    <tr>\n",
       "      <th>0</th>\n",
       "      <td>workspace</td>\n",
       "      <td>None</td>\n",
       "      <td>bdsaglam/musique-sweep</td>\n",
       "      <td>answerable</td>\n",
       "      <td>train</td>\n",
       "      <td>bfsrs-medium</td>\n",
       "      <td>no</td>\n",
       "      <td>bdsaglam/musique-sweep</td>\n",
       "      <td>answerable</td>\n",
       "      <td>validation</td>\n",
       "      <td>...</td>\n",
       "      <td>agent-simple</td>\n",
       "      <td>1</td>\n",
       "      <td>0.612329</td>\n",
       "      <td>0.736333</td>\n",
       "      <td>0.639776</td>\n",
       "      <td>0.761202</td>\n",
       "      <td>0.617105</td>\n",
       "      <td>0.764483</td>\n",
       "      <td>0.518519</td>\n",
       "      <td>0.606628</td>\n",
       "    </tr>\n",
       "    <tr>\n",
       "      <th>1</th>\n",
       "      <td>8710704865d32d83a64d7c1aff7adcf2e32dc877</td>\n",
       "      <td>terse-play</td>\n",
       "      <td>bdsaglam/musique-sweep</td>\n",
       "      <td>answerable</td>\n",
       "      <td>train</td>\n",
       "      <td>miprov2-light</td>\n",
       "      <td>no</td>\n",
       "      <td>bdsaglam/musique-sweep</td>\n",
       "      <td>answerable</td>\n",
       "      <td>validation</td>\n",
       "      <td>...</td>\n",
       "      <td>cot</td>\n",
       "      <td>1</td>\n",
       "      <td>0.606667</td>\n",
       "      <td>0.723042</td>\n",
       "      <td>0.630000</td>\n",
       "      <td>0.729976</td>\n",
       "      <td>0.630000</td>\n",
       "      <td>0.793833</td>\n",
       "      <td>0.560000</td>\n",
       "      <td>0.645315</td>\n",
       "    </tr>\n",
       "  </tbody>\n",
       "</table>\n",
       "<p>2 rows × 22 columns</p>\n",
       "</div>"
      ],
      "text/plain": [
       "                                         id        name  \\\n",
       "0                                 workspace        None   \n",
       "1  8710704865d32d83a64d7c1aff7adcf2e32dc877  terse-play   \n",
       "\n",
       "  params.train.dataset.path params.train.dataset.name  \\\n",
       "0    bdsaglam/musique-sweep                answerable   \n",
       "1    bdsaglam/musique-sweep                answerable   \n",
       "\n",
       "  params.train.dataset.split params.train.optimizer params.train.ensemble  \\\n",
       "0                      train           bfsrs-medium                    no   \n",
       "1                      train          miprov2-light                    no   \n",
       "\n",
       "  params.evaluation.dataset.path params.evaluation.dataset.name  \\\n",
       "0         bdsaglam/musique-sweep                     answerable   \n",
       "1         bdsaglam/musique-sweep                     answerable   \n",
       "\n",
       "  params.evaluation.dataset.split  ... params.qa.technique  params.run  \\\n",
       "0                      validation  ...        agent-simple           1   \n",
       "1                      validation  ...                 cot           1   \n",
       "\n",
       "  metrics.exact_match  metrics.f1  metrics.2hops.exact_match  \\\n",
       "0            0.612329    0.736333                   0.639776   \n",
       "1            0.606667    0.723042                   0.630000   \n",
       "\n",
       "   metrics.2hops.f1  metrics.3hops.exact_match  metrics.3hops.f1  \\\n",
       "0          0.761202                   0.617105          0.764483   \n",
       "1          0.729976                   0.630000          0.793833   \n",
       "\n",
       "   metrics.4hops.exact_match  metrics.4hops.f1  \n",
       "0                   0.518519          0.606628  \n",
       "1                   0.560000          0.645315  \n",
       "\n",
       "[2 rows x 22 columns]"
      ]
     },
     "execution_count": 9,
     "metadata": {},
     "output_type": "execute_result"
    }
   ],
   "source": [
    "df"
   ]
  },
  {
   "cell_type": "code",
   "execution_count": null,
   "metadata": {},
   "outputs": [],
   "source": []
  }
 ],
 "metadata": {
  "kernelspec": {
   "display_name": "thesis",
   "language": "python",
   "name": "python3"
  },
  "language_info": {
   "codemirror_mode": {
    "name": "ipython",
    "version": 3
   },
   "file_extension": ".py",
   "mimetype": "text/x-python",
   "name": "python",
   "nbconvert_exporter": "python",
   "pygments_lexer": "ipython3",
   "version": "3.10.16"
  }
 },
 "nbformat": 4,
 "nbformat_minor": 2
}
